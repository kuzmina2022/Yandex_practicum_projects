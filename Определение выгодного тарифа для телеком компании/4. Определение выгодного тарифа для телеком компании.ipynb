{
 "cells": [
  {
   "cell_type": "markdown",
   "id": "cc7e4a95",
   "metadata": {},
   "source": [
    "# Определение выгодного тарифа для телеком компании"
   ]
  },
  {
   "cell_type": "markdown",
   "id": "fdcb0833",
   "metadata": {
    "toc": true
   },
   "source": [
    "<h1>Содержание<span class=\"tocSkip\"></span></h1>\n",
    "<div class=\"toc\"><ul class=\"toc-item\"><li><span><a href=\"#Общая-информация\" data-toc-modified-id=\"Общая-информация-1\"><span class=\"toc-item-num\">1&nbsp;&nbsp;</span>Общая информация</a></span><ul class=\"toc-item\"><li><span><a href=\"#Описание-проекта\" data-toc-modified-id=\"Описание-проекта-1.1\"><span class=\"toc-item-num\">1.1&nbsp;&nbsp;</span>Описание проекта</a></span></li><li><span><a href=\"#Описание-тарифов\" data-toc-modified-id=\"Описание-тарифов-1.2\"><span class=\"toc-item-num\">1.2&nbsp;&nbsp;</span>Описание тарифов</a></span></li><li><span><a href=\"#Данные\" data-toc-modified-id=\"Данные-1.3\"><span class=\"toc-item-num\">1.3&nbsp;&nbsp;</span>Данные</a></span></li><li><span><a href=\"#Загрузка-и-просмотр-данных\" data-toc-modified-id=\"Загрузка-и-просмотр-данных-1.4\"><span class=\"toc-item-num\">1.4&nbsp;&nbsp;</span>Загрузка и просмотр данных</a></span><ul class=\"toc-item\"><li><span><a href=\"#Информация-о-пользователях\" data-toc-modified-id=\"Информация-о-пользователях-1.4.1\"><span class=\"toc-item-num\">1.4.1&nbsp;&nbsp;</span>Информация о пользователях</a></span></li><li><span><a href=\"#Информация-о-звонках\" data-toc-modified-id=\"Информация-о-звонках-1.4.2\"><span class=\"toc-item-num\">1.4.2&nbsp;&nbsp;</span>Информация о звонках</a></span></li><li><span><a href=\"#Информация-о-сообщениях\" data-toc-modified-id=\"Информация-о-сообщениях-1.4.3\"><span class=\"toc-item-num\">1.4.3&nbsp;&nbsp;</span>Информация о сообщениях</a></span></li><li><span><a href=\"#Информация-об-интернет-сессиях\" data-toc-modified-id=\"Информация-об-интернет-сессиях-1.4.4\"><span class=\"toc-item-num\">1.4.4&nbsp;&nbsp;</span>Информация об интернет-сессиях</a></span></li><li><span><a href=\"#Информация-о-тарифах\" data-toc-modified-id=\"Информация-о-тарифах-1.4.5\"><span class=\"toc-item-num\">1.4.5&nbsp;&nbsp;</span>Информация о тарифах</a></span></li></ul></li></ul></li><li><span><a href=\"#Подготовка-данных\" data-toc-modified-id=\"Подготовка-данных-2\"><span class=\"toc-item-num\">2&nbsp;&nbsp;</span>Подготовка данных</a></span><ul class=\"toc-item\"><li><span><a href=\"#Приведение-столбцов-к-нужному-типу\" data-toc-modified-id=\"Приведение-столбцов-к-нужному-типу-2.1\"><span class=\"toc-item-num\">2.1&nbsp;&nbsp;</span>Приведение столбцов к нужному типу</a></span></li><li><span><a href=\"#Поиск-ошибок\" data-toc-modified-id=\"Поиск-ошибок-2.2\"><span class=\"toc-item-num\">2.2&nbsp;&nbsp;</span>Поиск ошибок</a></span><ul class=\"toc-item\"><li><span><a href=\"#Вывод\" data-toc-modified-id=\"Вывод-2.2.1\"><span class=\"toc-item-num\">2.2.1&nbsp;&nbsp;</span>Вывод</a></span></li></ul></li><li><span><a href=\"#Расчеты-и-добавление-в-таблицу\" data-toc-modified-id=\"Расчеты-и-добавление-в-таблицу-2.3\"><span class=\"toc-item-num\">2.3&nbsp;&nbsp;</span>Расчеты и добавление в таблицу</a></span><ul class=\"toc-item\"><li><span><a href=\"#Расчет-сделанных-звонков-и-израсходованных-минут-разговора,-сообщений,-израсходованных-Мегабайт-по-месяцам\" data-toc-modified-id=\"Расчет-сделанных-звонков-и-израсходованных-минут-разговора,-сообщений,-израсходованных-Мегабайт-по-месяцам-2.3.1\"><span class=\"toc-item-num\">2.3.1&nbsp;&nbsp;</span>Расчет сделанных звонков и израсходованных минут разговора, сообщений, израсходованных Мегабайт по месяцам</a></span></li><li><span><a href=\"#Выручка-в-месяц-с-каждого-клиента\" data-toc-modified-id=\"Выручка-в-месяц-с-каждого-клиента-2.3.2\"><span class=\"toc-item-num\">2.3.2&nbsp;&nbsp;</span>Выручка в месяц с каждого клиента</a></span></li></ul></li><li><span><a href=\"#Вывод\" data-toc-modified-id=\"Вывод-2.4\"><span class=\"toc-item-num\">2.4&nbsp;&nbsp;</span>Вывод</a></span></li></ul></li><li><span><a href=\"#Анализ-данных\" data-toc-modified-id=\"Анализ-данных-3\"><span class=\"toc-item-num\">3&nbsp;&nbsp;</span>Анализ данных</a></span><ul class=\"toc-item\"><li><span><a href=\"#Вывод\" data-toc-modified-id=\"Вывод-3.1\"><span class=\"toc-item-num\">3.1&nbsp;&nbsp;</span>Вывод</a></span></li></ul></li><li><span><a href=\"#Проверка-гипотез\" data-toc-modified-id=\"Проверка-гипотез-4\"><span class=\"toc-item-num\">4&nbsp;&nbsp;</span>Проверка гипотез</a></span><ul class=\"toc-item\"><li><span><a href=\"#Проверка-гипотез-равенства-средней-выручки-по-тарифам\" data-toc-modified-id=\"Проверка-гипотез-равенства-средней-выручки-по-тарифам-4.1\"><span class=\"toc-item-num\">4.1&nbsp;&nbsp;</span>Проверка гипотез равенства средней выручки по тарифам</a></span><ul class=\"toc-item\"><li><span><a href=\"#Вывод\" data-toc-modified-id=\"Вывод-4.1.1\"><span class=\"toc-item-num\">4.1.1&nbsp;&nbsp;</span>Вывод</a></span></li></ul></li><li><span><a href=\"#Проверка-гипотез-равенства-выручки-по-Москве-и-другим-городам\" data-toc-modified-id=\"Проверка-гипотез-равенства-выручки-по-Москве-и-другим-городам-4.2\"><span class=\"toc-item-num\">4.2&nbsp;&nbsp;</span>Проверка гипотез равенства выручки по Москве и другим городам</a></span><ul class=\"toc-item\"><li><span><a href=\"#Вывод\" data-toc-modified-id=\"Вывод-4.2.1\"><span class=\"toc-item-num\">4.2.1&nbsp;&nbsp;</span>Вывод</a></span></li></ul></li><li><span><a href=\"#Проверка-значений-абсолютной-прибыли\" data-toc-modified-id=\"Проверка-значений-абсолютной-прибыли-4.3\"><span class=\"toc-item-num\">4.3&nbsp;&nbsp;</span>Проверка значений абсолютной прибыли</a></span></li></ul></li><li><span><a href=\"#Общий-вывод\" data-toc-modified-id=\"Общий-вывод-5\"><span class=\"toc-item-num\">5&nbsp;&nbsp;</span>Общий вывод</a></span></li></ul></div>"
   ]
  },
  {
   "cell_type": "markdown",
   "id": "73b65579",
   "metadata": {},
   "source": [
    "## Общая информация"
   ]
  },
  {
   "cell_type": "markdown",
   "id": "154b2358",
   "metadata": {},
   "source": [
    "### Описание проекта"
   ]
  },
  {
   "cell_type": "markdown",
   "id": "0c3acace",
   "metadata": {},
   "source": [
    "Вы аналитик компании «Мегалайн» — федерального оператора сотовой связи. Клиентам предлагают два тарифных плана: **«Смарт»** и **«Ультра»**. \n",
    "\n",
    "Чтобы скорректировать рекламный бюджет, коммерческий департамент хочет понять, какой тариф приносит больше денег.\n",
    "\n",
    "\n",
    "Вам предстоит сделать предварительный анализ тарифов на небольшой выборке клиентов. \n",
    "\n",
    "В вашем распоряжении данные 500 пользователей «Мегалайна»: кто они, откуда, каким тарифом пользуются, сколько звонков и сообщений каждый отправил за 2018 год. \n",
    "\n",
    "Нужно проанализировать поведение клиентов и сделать вывод — какой тариф лучше."
   ]
  },
  {
   "cell_type": "markdown",
   "id": "4014882a",
   "metadata": {},
   "source": [
    "### Описание тарифов"
   ]
  },
  {
   "cell_type": "markdown",
   "id": "bccf488e",
   "metadata": {},
   "source": [
    "**Тариф «Смарт»**:\n",
    "\n",
    "    1) Ежемесячная плата: 550 рублей\n",
    "    2) Включено 500 минут разговора, 50 сообщений и 15 Гб интернет-трафика\n",
    "    3) Стоимость услуг сверх тарифного пакета:\n",
    "    \n",
    "        * минута разговора: 3 рубля\n",
    "        * сообщение: 3 рубля\n",
    "        * 1 Гб интернет-трафика: 200 рублей\n",
    "\n",
    "**Тариф «Ультра»** \n",
    "\n",
    "    1) Ежемесячная плата: 1950 рублей\n",
    "    2) Включено 3000 минут разговора, 1000 сообщений и 30 Гб интернет-трафика\n",
    "    3) Стоимость услуг сверх тарифного пакета:\n",
    "        * минута разговора: 1 рубль\n",
    "        * сообщение: 1 рубль\n",
    "        * 1 Гб интернет-трафика: 150 рублей\n",
    "\n",
    "\n",
    "*Примечание:\n",
    "«Мегалайн» всегда округляет секунды до минут, а мегабайты — до гигабайт. Каждый звонок округляется отдельно: даже если он длился всего 1 секунду, будет засчитан как 1 минута.\n",
    "Для веб-трафика отдельные сессии не считаются. Вместо этого общая сумма за месяц округляется в бо́льшую сторону. Если абонент использует 1025 мегабайт в этом месяце, с него возьмут плату за 2 гигабайта.*"
   ]
  },
  {
   "cell_type": "markdown",
   "id": "4b7e79f9",
   "metadata": {},
   "source": [
    "### Данные "
   ]
  },
  {
   "cell_type": "markdown",
   "id": "cf40fa9c",
   "metadata": {},
   "source": [
    "Данные собираются из следующих файлов:\n",
    "* `users.csv` — информация о пользователях\n",
    "* `calls.csv`  — информация о звонках\n",
    "* `messages.csv` — информация о сообщениях\n",
    "* `internet.csv` — информация об интернет-сессиях\n",
    "* `tariffs.csv` — информация о тарифах\n"
   ]
  },
  {
   "cell_type": "code",
   "execution_count": 21,
   "id": "4d9e0b13",
   "metadata": {},
   "outputs": [],
   "source": [
    "import pandas as pd\n",
    "import numpy as np\n",
    "import seaborn as sns\n",
    "import matplotlib.pyplot as plt\n",
    "from scipy import stats as st"
   ]
  },
  {
   "cell_type": "code",
   "execution_count": 22,
   "id": "e03fca04",
   "metadata": {},
   "outputs": [],
   "source": [
    "import warnings\n",
    "warnings.filterwarnings(\"ignore\")\n",
    "pd.set_option('float_format', '{:,.2f}'.format)\n",
    "pd.set_option('display.max_columns', None)"
   ]
  },
  {
   "cell_type": "markdown",
   "id": "ec5dcb41",
   "metadata": {},
   "source": [
    "### Загрузка и просмотр данных"
   ]
  },
  {
   "cell_type": "code",
   "execution_count": 23,
   "id": "d55b617a",
   "metadata": {},
   "outputs": [],
   "source": [
    "data_users = pd.read_csv('datasets/users.csv')\n",
    "data_calls = pd.read_csv('datasets/calls.csv')\n",
    "data_messages = pd.read_csv('datasets/messages.csv')\n",
    "data_internet = pd.read_csv('datasets/internet.csv', index_col=0)\n",
    "data_tariffs = pd.read_csv('datasets/tariffs.csv')"
   ]
  },
  {
   "cell_type": "markdown",
   "id": "bca5aba5",
   "metadata": {},
   "source": [
    "#### Информация о пользователях\n",
    "\n",
    "* `user_id` — уникальный идентификатор пользователя\n",
    "* `first_name` — имя пользователя\n",
    "* `last_name` — фамилия пользователя\n",
    "* `age` — возраст пользователя (годы)\n",
    "* `reg_date` — дата подключения тарифа (день, месяц, год)\n",
    "* `churn_date` — дата прекращения пользования тарифом (если значение пропущено, то тариф ещё действовал на момент выгрузки данных)\n",
    "* `city` — город проживания пользователя\n",
    "* `tarif` — название тарифного плана"
   ]
  },
  {
   "cell_type": "code",
   "execution_count": 24,
   "id": "2a01857c",
   "metadata": {},
   "outputs": [
    {
     "data": {
      "text/html": [
       "<div>\n",
       "<style scoped>\n",
       "    .dataframe tbody tr th:only-of-type {\n",
       "        vertical-align: middle;\n",
       "    }\n",
       "\n",
       "    .dataframe tbody tr th {\n",
       "        vertical-align: top;\n",
       "    }\n",
       "\n",
       "    .dataframe thead th {\n",
       "        text-align: right;\n",
       "    }\n",
       "</style>\n",
       "<table border=\"1\" class=\"dataframe\">\n",
       "  <thead>\n",
       "    <tr style=\"text-align: right;\">\n",
       "      <th></th>\n",
       "      <th>user_id</th>\n",
       "      <th>age</th>\n",
       "      <th>churn_date</th>\n",
       "      <th>city</th>\n",
       "      <th>first_name</th>\n",
       "      <th>last_name</th>\n",
       "      <th>reg_date</th>\n",
       "      <th>tariff</th>\n",
       "    </tr>\n",
       "  </thead>\n",
       "  <tbody>\n",
       "    <tr>\n",
       "      <th>0</th>\n",
       "      <td>1000</td>\n",
       "      <td>52</td>\n",
       "      <td>NaN</td>\n",
       "      <td>Краснодар</td>\n",
       "      <td>Рафаил</td>\n",
       "      <td>Верещагин</td>\n",
       "      <td>2018-05-25</td>\n",
       "      <td>ultra</td>\n",
       "    </tr>\n",
       "    <tr>\n",
       "      <th>1</th>\n",
       "      <td>1001</td>\n",
       "      <td>41</td>\n",
       "      <td>NaN</td>\n",
       "      <td>Москва</td>\n",
       "      <td>Иван</td>\n",
       "      <td>Ежов</td>\n",
       "      <td>2018-11-01</td>\n",
       "      <td>smart</td>\n",
       "    </tr>\n",
       "    <tr>\n",
       "      <th>2</th>\n",
       "      <td>1002</td>\n",
       "      <td>59</td>\n",
       "      <td>NaN</td>\n",
       "      <td>Стерлитамак</td>\n",
       "      <td>Евгений</td>\n",
       "      <td>Абрамович</td>\n",
       "      <td>2018-06-17</td>\n",
       "      <td>smart</td>\n",
       "    </tr>\n",
       "    <tr>\n",
       "      <th>3</th>\n",
       "      <td>1003</td>\n",
       "      <td>23</td>\n",
       "      <td>NaN</td>\n",
       "      <td>Москва</td>\n",
       "      <td>Белла</td>\n",
       "      <td>Белякова</td>\n",
       "      <td>2018-08-17</td>\n",
       "      <td>ultra</td>\n",
       "    </tr>\n",
       "    <tr>\n",
       "      <th>4</th>\n",
       "      <td>1004</td>\n",
       "      <td>68</td>\n",
       "      <td>NaN</td>\n",
       "      <td>Новокузнецк</td>\n",
       "      <td>Татьяна</td>\n",
       "      <td>Авдеенко</td>\n",
       "      <td>2018-05-14</td>\n",
       "      <td>ultra</td>\n",
       "    </tr>\n",
       "  </tbody>\n",
       "</table>\n",
       "</div>"
      ],
      "text/plain": [
       "   user_id  age churn_date         city first_name  last_name    reg_date  \\\n",
       "0     1000   52        NaN    Краснодар     Рафаил  Верещагин  2018-05-25   \n",
       "1     1001   41        NaN       Москва       Иван       Ежов  2018-11-01   \n",
       "2     1002   59        NaN  Стерлитамак    Евгений  Абрамович  2018-06-17   \n",
       "3     1003   23        NaN       Москва      Белла   Белякова  2018-08-17   \n",
       "4     1004   68        NaN  Новокузнецк    Татьяна   Авдеенко  2018-05-14   \n",
       "\n",
       "  tariff  \n",
       "0  ultra  \n",
       "1  smart  \n",
       "2  smart  \n",
       "3  ultra  \n",
       "4  ultra  "
      ]
     },
     "execution_count": 24,
     "metadata": {},
     "output_type": "execute_result"
    }
   ],
   "source": [
    "data_users.head()"
   ]
  },
  {
   "cell_type": "markdown",
   "id": "bd0224a1",
   "metadata": {},
   "source": [
    "#### Информация о звонках\n",
    "* `id` — уникальный номер звонка\n",
    "* `call_date` — дата звонка\n",
    "* `duration` — длительность звонка в минутах\n",
    "* `user_id` — идентификатор пользователя, сделавшего звонок"
   ]
  },
  {
   "cell_type": "code",
   "execution_count": 25,
   "id": "81def599",
   "metadata": {},
   "outputs": [
    {
     "data": {
      "text/html": [
       "<div>\n",
       "<style scoped>\n",
       "    .dataframe tbody tr th:only-of-type {\n",
       "        vertical-align: middle;\n",
       "    }\n",
       "\n",
       "    .dataframe tbody tr th {\n",
       "        vertical-align: top;\n",
       "    }\n",
       "\n",
       "    .dataframe thead th {\n",
       "        text-align: right;\n",
       "    }\n",
       "</style>\n",
       "<table border=\"1\" class=\"dataframe\">\n",
       "  <thead>\n",
       "    <tr style=\"text-align: right;\">\n",
       "      <th></th>\n",
       "      <th>id</th>\n",
       "      <th>call_date</th>\n",
       "      <th>duration</th>\n",
       "      <th>user_id</th>\n",
       "    </tr>\n",
       "  </thead>\n",
       "  <tbody>\n",
       "    <tr>\n",
       "      <th>0</th>\n",
       "      <td>1000_0</td>\n",
       "      <td>2018-07-25</td>\n",
       "      <td>0.00</td>\n",
       "      <td>1000</td>\n",
       "    </tr>\n",
       "    <tr>\n",
       "      <th>1</th>\n",
       "      <td>1000_1</td>\n",
       "      <td>2018-08-17</td>\n",
       "      <td>0.00</td>\n",
       "      <td>1000</td>\n",
       "    </tr>\n",
       "    <tr>\n",
       "      <th>2</th>\n",
       "      <td>1000_2</td>\n",
       "      <td>2018-06-11</td>\n",
       "      <td>2.85</td>\n",
       "      <td>1000</td>\n",
       "    </tr>\n",
       "    <tr>\n",
       "      <th>3</th>\n",
       "      <td>1000_3</td>\n",
       "      <td>2018-09-21</td>\n",
       "      <td>13.80</td>\n",
       "      <td>1000</td>\n",
       "    </tr>\n",
       "    <tr>\n",
       "      <th>4</th>\n",
       "      <td>1000_4</td>\n",
       "      <td>2018-12-15</td>\n",
       "      <td>5.18</td>\n",
       "      <td>1000</td>\n",
       "    </tr>\n",
       "  </tbody>\n",
       "</table>\n",
       "</div>"
      ],
      "text/plain": [
       "       id   call_date  duration  user_id\n",
       "0  1000_0  2018-07-25      0.00     1000\n",
       "1  1000_1  2018-08-17      0.00     1000\n",
       "2  1000_2  2018-06-11      2.85     1000\n",
       "3  1000_3  2018-09-21     13.80     1000\n",
       "4  1000_4  2018-12-15      5.18     1000"
      ]
     },
     "execution_count": 25,
     "metadata": {},
     "output_type": "execute_result"
    }
   ],
   "source": [
    "data_calls.head()"
   ]
  },
  {
   "cell_type": "markdown",
   "id": "557adb87",
   "metadata": {},
   "source": [
    "#### Информация о сообщениях\n",
    "* `id` — уникальный номер сообщения\n",
    "* `message_date` — дата сообщения\n",
    "* `user_id` — идентификатор пользователя, отправившего сообщение"
   ]
  },
  {
   "cell_type": "code",
   "execution_count": 26,
   "id": "6a179f85",
   "metadata": {},
   "outputs": [
    {
     "data": {
      "text/html": [
       "<div>\n",
       "<style scoped>\n",
       "    .dataframe tbody tr th:only-of-type {\n",
       "        vertical-align: middle;\n",
       "    }\n",
       "\n",
       "    .dataframe tbody tr th {\n",
       "        vertical-align: top;\n",
       "    }\n",
       "\n",
       "    .dataframe thead th {\n",
       "        text-align: right;\n",
       "    }\n",
       "</style>\n",
       "<table border=\"1\" class=\"dataframe\">\n",
       "  <thead>\n",
       "    <tr style=\"text-align: right;\">\n",
       "      <th></th>\n",
       "      <th>id</th>\n",
       "      <th>message_date</th>\n",
       "      <th>user_id</th>\n",
       "    </tr>\n",
       "  </thead>\n",
       "  <tbody>\n",
       "    <tr>\n",
       "      <th>0</th>\n",
       "      <td>1000_0</td>\n",
       "      <td>2018-06-27</td>\n",
       "      <td>1000</td>\n",
       "    </tr>\n",
       "    <tr>\n",
       "      <th>1</th>\n",
       "      <td>1000_1</td>\n",
       "      <td>2018-10-08</td>\n",
       "      <td>1000</td>\n",
       "    </tr>\n",
       "    <tr>\n",
       "      <th>2</th>\n",
       "      <td>1000_2</td>\n",
       "      <td>2018-08-04</td>\n",
       "      <td>1000</td>\n",
       "    </tr>\n",
       "    <tr>\n",
       "      <th>3</th>\n",
       "      <td>1000_3</td>\n",
       "      <td>2018-06-16</td>\n",
       "      <td>1000</td>\n",
       "    </tr>\n",
       "    <tr>\n",
       "      <th>4</th>\n",
       "      <td>1000_4</td>\n",
       "      <td>2018-12-05</td>\n",
       "      <td>1000</td>\n",
       "    </tr>\n",
       "  </tbody>\n",
       "</table>\n",
       "</div>"
      ],
      "text/plain": [
       "       id message_date  user_id\n",
       "0  1000_0   2018-06-27     1000\n",
       "1  1000_1   2018-10-08     1000\n",
       "2  1000_2   2018-08-04     1000\n",
       "3  1000_3   2018-06-16     1000\n",
       "4  1000_4   2018-12-05     1000"
      ]
     },
     "execution_count": 26,
     "metadata": {},
     "output_type": "execute_result"
    }
   ],
   "source": [
    "data_messages.head()"
   ]
  },
  {
   "cell_type": "markdown",
   "id": "a60c3409",
   "metadata": {},
   "source": [
    "#### Информация об интернет-сессиях\n",
    "* `id` — уникальный номер сессии\n",
    "* `mb_used` — объём потраченного за сессию интернет-трафика (в мегабайтах)\n",
    "* `session_date` — дата интернет-сессии\n",
    "* `user_id` — идентификатор пользователя\n",
    " "
   ]
  },
  {
   "cell_type": "code",
   "execution_count": 27,
   "id": "c7ec6b65",
   "metadata": {},
   "outputs": [
    {
     "data": {
      "text/html": [
       "<div>\n",
       "<style scoped>\n",
       "    .dataframe tbody tr th:only-of-type {\n",
       "        vertical-align: middle;\n",
       "    }\n",
       "\n",
       "    .dataframe tbody tr th {\n",
       "        vertical-align: top;\n",
       "    }\n",
       "\n",
       "    .dataframe thead th {\n",
       "        text-align: right;\n",
       "    }\n",
       "</style>\n",
       "<table border=\"1\" class=\"dataframe\">\n",
       "  <thead>\n",
       "    <tr style=\"text-align: right;\">\n",
       "      <th></th>\n",
       "      <th>id</th>\n",
       "      <th>mb_used</th>\n",
       "      <th>session_date</th>\n",
       "      <th>user_id</th>\n",
       "    </tr>\n",
       "  </thead>\n",
       "  <tbody>\n",
       "    <tr>\n",
       "      <th>0</th>\n",
       "      <td>1000_0</td>\n",
       "      <td>112.95</td>\n",
       "      <td>2018-11-25</td>\n",
       "      <td>1000</td>\n",
       "    </tr>\n",
       "    <tr>\n",
       "      <th>1</th>\n",
       "      <td>1000_1</td>\n",
       "      <td>1,052.81</td>\n",
       "      <td>2018-09-07</td>\n",
       "      <td>1000</td>\n",
       "    </tr>\n",
       "    <tr>\n",
       "      <th>2</th>\n",
       "      <td>1000_2</td>\n",
       "      <td>1,197.26</td>\n",
       "      <td>2018-06-25</td>\n",
       "      <td>1000</td>\n",
       "    </tr>\n",
       "    <tr>\n",
       "      <th>3</th>\n",
       "      <td>1000_3</td>\n",
       "      <td>550.27</td>\n",
       "      <td>2018-08-22</td>\n",
       "      <td>1000</td>\n",
       "    </tr>\n",
       "    <tr>\n",
       "      <th>4</th>\n",
       "      <td>1000_4</td>\n",
       "      <td>302.56</td>\n",
       "      <td>2018-09-24</td>\n",
       "      <td>1000</td>\n",
       "    </tr>\n",
       "  </tbody>\n",
       "</table>\n",
       "</div>"
      ],
      "text/plain": [
       "       id  mb_used session_date  user_id\n",
       "0  1000_0   112.95   2018-11-25     1000\n",
       "1  1000_1 1,052.81   2018-09-07     1000\n",
       "2  1000_2 1,197.26   2018-06-25     1000\n",
       "3  1000_3   550.27   2018-08-22     1000\n",
       "4  1000_4   302.56   2018-09-24     1000"
      ]
     },
     "execution_count": 27,
     "metadata": {},
     "output_type": "execute_result"
    }
   ],
   "source": [
    "data_internet.head()"
   ]
  },
  {
   "cell_type": "markdown",
   "id": "cd819c33",
   "metadata": {},
   "source": [
    "#### Информация о тарифах\n",
    "\n",
    "* `tariff_name` — название тарифа\n",
    "* `rub_monthly_fee` — ежемесячная абонентская плата в рублях\n",
    "* `minutes_included` — количество минут разговора в месяц, включённых в абонентскую плату\n",
    "* `messages_included` — количество сообщений в месяц, включённых в абонентскую плату\n",
    "* `mb_per_month_included` — объём интернет-трафика, включённого в абонентскую плату (в мегабайтах)\n",
    "* `rub_per_minute` — стоимость минуты разговора сверх тарифного пакета (например, если в тарифе 100 минут разговора в месяц, то со 101 минуты будет взиматься плата)\n",
    "* `rub_per_message` — стоимость отправки сообщения сверх тарифного пакета\n",
    "* `rub_per_gb` — стоимость дополнительного гигабайта интернет-трафика сверх тарифного пакета (1 гигабайт = 1024 мегабайта)"
   ]
  },
  {
   "cell_type": "code",
   "execution_count": 28,
   "id": "8a3d827a",
   "metadata": {},
   "outputs": [
    {
     "data": {
      "text/html": [
       "<div>\n",
       "<style scoped>\n",
       "    .dataframe tbody tr th:only-of-type {\n",
       "        vertical-align: middle;\n",
       "    }\n",
       "\n",
       "    .dataframe tbody tr th {\n",
       "        vertical-align: top;\n",
       "    }\n",
       "\n",
       "    .dataframe thead th {\n",
       "        text-align: right;\n",
       "    }\n",
       "</style>\n",
       "<table border=\"1\" class=\"dataframe\">\n",
       "  <thead>\n",
       "    <tr style=\"text-align: right;\">\n",
       "      <th></th>\n",
       "      <th>messages_included</th>\n",
       "      <th>mb_per_month_included</th>\n",
       "      <th>minutes_included</th>\n",
       "      <th>rub_monthly_fee</th>\n",
       "      <th>rub_per_gb</th>\n",
       "      <th>rub_per_message</th>\n",
       "      <th>rub_per_minute</th>\n",
       "      <th>tariff_name</th>\n",
       "    </tr>\n",
       "  </thead>\n",
       "  <tbody>\n",
       "    <tr>\n",
       "      <th>0</th>\n",
       "      <td>50</td>\n",
       "      <td>15360</td>\n",
       "      <td>500</td>\n",
       "      <td>550</td>\n",
       "      <td>200</td>\n",
       "      <td>3</td>\n",
       "      <td>3</td>\n",
       "      <td>smart</td>\n",
       "    </tr>\n",
       "    <tr>\n",
       "      <th>1</th>\n",
       "      <td>1000</td>\n",
       "      <td>30720</td>\n",
       "      <td>3000</td>\n",
       "      <td>1950</td>\n",
       "      <td>150</td>\n",
       "      <td>1</td>\n",
       "      <td>1</td>\n",
       "      <td>ultra</td>\n",
       "    </tr>\n",
       "  </tbody>\n",
       "</table>\n",
       "</div>"
      ],
      "text/plain": [
       "   messages_included  mb_per_month_included  minutes_included  \\\n",
       "0                 50                  15360               500   \n",
       "1               1000                  30720              3000   \n",
       "\n",
       "   rub_monthly_fee  rub_per_gb  rub_per_message  rub_per_minute tariff_name  \n",
       "0              550         200                3               3       smart  \n",
       "1             1950         150                1               1       ultra  "
      ]
     },
     "execution_count": 28,
     "metadata": {},
     "output_type": "execute_result"
    }
   ],
   "source": [
    "data_tariffs.head()"
   ]
  },
  {
   "cell_type": "markdown",
   "id": "7be5e8ea",
   "metadata": {},
   "source": [
    "Все названия столбцов в змеином регистре, корректировка не требуется."
   ]
  },
  {
   "cell_type": "markdown",
   "id": "5e7ac1bc",
   "metadata": {},
   "source": [
    "## Подготовка данных"
   ]
  },
  {
   "cell_type": "markdown",
   "id": "aa21a8b4",
   "metadata": {},
   "source": [
    "### Приведение столбцов к нужному типу"
   ]
  },
  {
   "cell_type": "markdown",
   "id": "a9c01900",
   "metadata": {},
   "source": [
    "Посмотрим информацию о таблицах, приведем столбцы к нужному типу, проверим наличие пропусков"
   ]
  },
  {
   "cell_type": "code",
   "execution_count": 29,
   "id": "fc8f13de",
   "metadata": {},
   "outputs": [
    {
     "name": "stdout",
     "output_type": "stream",
     "text": [
      "<class 'pandas.core.frame.DataFrame'>\n",
      "RangeIndex: 500 entries, 0 to 499\n",
      "Data columns (total 8 columns):\n",
      " #   Column      Non-Null Count  Dtype \n",
      "---  ------      --------------  ----- \n",
      " 0   user_id     500 non-null    int64 \n",
      " 1   age         500 non-null    int64 \n",
      " 2   churn_date  38 non-null     object\n",
      " 3   city        500 non-null    object\n",
      " 4   first_name  500 non-null    object\n",
      " 5   last_name   500 non-null    object\n",
      " 6   reg_date    500 non-null    object\n",
      " 7   tariff      500 non-null    object\n",
      "dtypes: int64(2), object(6)\n",
      "memory usage: 31.4+ KB\n"
     ]
    }
   ],
   "source": [
    "# данные о пользователях\n",
    "data_users.info()"
   ]
  },
  {
   "cell_type": "markdown",
   "id": "cda0a251",
   "metadata": {},
   "source": [
    "Пропусков нет, в `churn_date` (дата прекращения пользования тарифом) пропуски означают, что тариф ещё действовал на момент выгрузки данных. \n",
    "Изменим тип `user_id` (в этой таблице и всех последующих) на строковый, т.к. с ним не предпологается никаких вычислительных операций, это просто индектификатор пользователей. Колонки с датами (`'churn_date'`, `'reg_date'`) приведем к типу `datetime`."
   ]
  },
  {
   "cell_type": "code",
   "execution_count": 30,
   "id": "fafb2fdd",
   "metadata": {},
   "outputs": [],
   "source": [
    "data_users['user_id'] = data_users['user_id'].astype(str)"
   ]
  },
  {
   "cell_type": "code",
   "execution_count": 31,
   "id": "6d515c73",
   "metadata": {},
   "outputs": [],
   "source": [
    "for date_column_name in ['churn_date', 'reg_date']:\n",
    "    data_users[date_column_name] = pd.to_datetime(data_users[date_column_name])"
   ]
  },
  {
   "cell_type": "code",
   "execution_count": 32,
   "id": "db859c19",
   "metadata": {},
   "outputs": [],
   "source": [
    "data_users = data_users.rename(columns={'tariff' : 'tariff_name'})"
   ]
  },
  {
   "cell_type": "code",
   "execution_count": 33,
   "id": "99830a62",
   "metadata": {},
   "outputs": [
    {
     "name": "stdout",
     "output_type": "stream",
     "text": [
      "<class 'pandas.core.frame.DataFrame'>\n",
      "RangeIndex: 500 entries, 0 to 499\n",
      "Data columns (total 8 columns):\n",
      " #   Column       Non-Null Count  Dtype         \n",
      "---  ------       --------------  -----         \n",
      " 0   user_id      500 non-null    object        \n",
      " 1   age          500 non-null    int64         \n",
      " 2   churn_date   38 non-null     datetime64[ns]\n",
      " 3   city         500 non-null    object        \n",
      " 4   first_name   500 non-null    object        \n",
      " 5   last_name    500 non-null    object        \n",
      " 6   reg_date     500 non-null    datetime64[ns]\n",
      " 7   tariff_name  500 non-null    object        \n",
      "dtypes: datetime64[ns](2), int64(1), object(5)\n",
      "memory usage: 31.4+ KB\n"
     ]
    }
   ],
   "source": [
    "data_users.info()"
   ]
  },
  {
   "cell_type": "code",
   "execution_count": 34,
   "id": "32e2826f",
   "metadata": {},
   "outputs": [
    {
     "name": "stdout",
     "output_type": "stream",
     "text": [
      "<class 'pandas.core.frame.DataFrame'>\n",
      "RangeIndex: 202607 entries, 0 to 202606\n",
      "Data columns (total 4 columns):\n",
      " #   Column     Non-Null Count   Dtype  \n",
      "---  ------     --------------   -----  \n",
      " 0   id         202607 non-null  object \n",
      " 1   call_date  202607 non-null  object \n",
      " 2   duration   202607 non-null  float64\n",
      " 3   user_id    202607 non-null  int64  \n",
      "dtypes: float64(1), int64(1), object(2)\n",
      "memory usage: 6.2+ MB\n"
     ]
    }
   ],
   "source": [
    "# данные о звонках\n",
    "data_calls.info()"
   ]
  },
  {
   "cell_type": "markdown",
   "id": "dfc7f6d7",
   "metadata": {},
   "source": [
    "Пропусков нет, типы данных меняем по аналогии с предыдущей таблицей."
   ]
  },
  {
   "cell_type": "code",
   "execution_count": 35,
   "id": "6f7fd117",
   "metadata": {},
   "outputs": [],
   "source": [
    "data_calls['user_id'] = data_calls['user_id'].astype(str)\n",
    "data_calls['call_date'] = pd.to_datetime(data_calls['call_date'])"
   ]
  },
  {
   "cell_type": "code",
   "execution_count": 36,
   "id": "6d92e3e9",
   "metadata": {},
   "outputs": [],
   "source": [
    "data_calls.rename(columns={'id': 'call_id'}, inplace=True)"
   ]
  },
  {
   "cell_type": "code",
   "execution_count": 37,
   "id": "afc2386c",
   "metadata": {},
   "outputs": [
    {
     "name": "stdout",
     "output_type": "stream",
     "text": [
      "<class 'pandas.core.frame.DataFrame'>\n",
      "RangeIndex: 202607 entries, 0 to 202606\n",
      "Data columns (total 4 columns):\n",
      " #   Column     Non-Null Count   Dtype         \n",
      "---  ------     --------------   -----         \n",
      " 0   call_id    202607 non-null  object        \n",
      " 1   call_date  202607 non-null  datetime64[ns]\n",
      " 2   duration   202607 non-null  float64       \n",
      " 3   user_id    202607 non-null  object        \n",
      "dtypes: datetime64[ns](1), float64(1), object(2)\n",
      "memory usage: 6.2+ MB\n"
     ]
    }
   ],
   "source": [
    "data_calls.info()"
   ]
  },
  {
   "cell_type": "code",
   "execution_count": 38,
   "id": "8acc41e8",
   "metadata": {},
   "outputs": [
    {
     "name": "stdout",
     "output_type": "stream",
     "text": [
      "<class 'pandas.core.frame.DataFrame'>\n",
      "RangeIndex: 123036 entries, 0 to 123035\n",
      "Data columns (total 3 columns):\n",
      " #   Column        Non-Null Count   Dtype \n",
      "---  ------        --------------   ----- \n",
      " 0   id            123036 non-null  object\n",
      " 1   message_date  123036 non-null  object\n",
      " 2   user_id       123036 non-null  int64 \n",
      "dtypes: int64(1), object(2)\n",
      "memory usage: 2.8+ MB\n"
     ]
    }
   ],
   "source": [
    "# данные о сообщениях\n",
    "data_messages.info()"
   ]
  },
  {
   "cell_type": "code",
   "execution_count": 39,
   "id": "64097927",
   "metadata": {},
   "outputs": [],
   "source": [
    "data_messages['user_id'] = data_messages['user_id'].astype(str)\n",
    "data_messages['message_date'] = pd.to_datetime(data_messages['message_date'])"
   ]
  },
  {
   "cell_type": "code",
   "execution_count": 40,
   "id": "a4834dd5",
   "metadata": {},
   "outputs": [],
   "source": [
    "data_messages.rename(columns={'id': 'message_id'}, inplace=True)"
   ]
  },
  {
   "cell_type": "code",
   "execution_count": 41,
   "id": "3a876ef5",
   "metadata": {},
   "outputs": [
    {
     "name": "stdout",
     "output_type": "stream",
     "text": [
      "<class 'pandas.core.frame.DataFrame'>\n",
      "RangeIndex: 123036 entries, 0 to 123035\n",
      "Data columns (total 3 columns):\n",
      " #   Column        Non-Null Count   Dtype         \n",
      "---  ------        --------------   -----         \n",
      " 0   message_id    123036 non-null  object        \n",
      " 1   message_date  123036 non-null  datetime64[ns]\n",
      " 2   user_id       123036 non-null  object        \n",
      "dtypes: datetime64[ns](1), object(2)\n",
      "memory usage: 2.8+ MB\n"
     ]
    }
   ],
   "source": [
    "data_messages.info()"
   ]
  },
  {
   "cell_type": "code",
   "execution_count": 42,
   "id": "d1490239",
   "metadata": {},
   "outputs": [
    {
     "name": "stdout",
     "output_type": "stream",
     "text": [
      "<class 'pandas.core.frame.DataFrame'>\n",
      "Int64Index: 149396 entries, 0 to 149395\n",
      "Data columns (total 4 columns):\n",
      " #   Column        Non-Null Count   Dtype  \n",
      "---  ------        --------------   -----  \n",
      " 0   id            149396 non-null  object \n",
      " 1   mb_used       149396 non-null  float64\n",
      " 2   session_date  149396 non-null  object \n",
      " 3   user_id       149396 non-null  int64  \n",
      "dtypes: float64(1), int64(1), object(2)\n",
      "memory usage: 5.7+ MB\n"
     ]
    }
   ],
   "source": [
    "# данные об интернет-сессиях\n",
    "data_internet.info()"
   ]
  },
  {
   "cell_type": "code",
   "execution_count": 43,
   "id": "188b3321",
   "metadata": {},
   "outputs": [],
   "source": [
    "data_internet['user_id'] = data_internet['user_id'].astype(str)\n",
    "data_internet['session_date'] = pd.to_datetime(data_internet['session_date'])"
   ]
  },
  {
   "cell_type": "code",
   "execution_count": 44,
   "id": "f8540ebd",
   "metadata": {},
   "outputs": [],
   "source": [
    "data_internet.rename(columns={'id': 'session_id'}, inplace=True)"
   ]
  },
  {
   "cell_type": "code",
   "execution_count": 45,
   "id": "3045f72f",
   "metadata": {},
   "outputs": [
    {
     "name": "stdout",
     "output_type": "stream",
     "text": [
      "<class 'pandas.core.frame.DataFrame'>\n",
      "Int64Index: 149396 entries, 0 to 149395\n",
      "Data columns (total 4 columns):\n",
      " #   Column        Non-Null Count   Dtype         \n",
      "---  ------        --------------   -----         \n",
      " 0   session_id    149396 non-null  object        \n",
      " 1   mb_used       149396 non-null  float64       \n",
      " 2   session_date  149396 non-null  datetime64[ns]\n",
      " 3   user_id       149396 non-null  object        \n",
      "dtypes: datetime64[ns](1), float64(1), object(2)\n",
      "memory usage: 5.7+ MB\n"
     ]
    }
   ],
   "source": [
    "data_internet.info()"
   ]
  },
  {
   "cell_type": "code",
   "execution_count": 46,
   "id": "b5b76e08",
   "metadata": {},
   "outputs": [
    {
     "name": "stdout",
     "output_type": "stream",
     "text": [
      "<class 'pandas.core.frame.DataFrame'>\n",
      "RangeIndex: 2 entries, 0 to 1\n",
      "Data columns (total 8 columns):\n",
      " #   Column                 Non-Null Count  Dtype \n",
      "---  ------                 --------------  ----- \n",
      " 0   messages_included      2 non-null      int64 \n",
      " 1   mb_per_month_included  2 non-null      int64 \n",
      " 2   minutes_included       2 non-null      int64 \n",
      " 3   rub_monthly_fee        2 non-null      int64 \n",
      " 4   rub_per_gb             2 non-null      int64 \n",
      " 5   rub_per_message        2 non-null      int64 \n",
      " 6   rub_per_minute         2 non-null      int64 \n",
      " 7   tariff_name            2 non-null      object\n",
      "dtypes: int64(7), object(1)\n",
      "memory usage: 256.0+ bytes\n"
     ]
    }
   ],
   "source": [
    "# данные о тарифах\n",
    "data_tariffs.info()"
   ]
  },
  {
   "cell_type": "markdown",
   "id": "0346df2b",
   "metadata": {},
   "source": [
    "### Поиск ошибок"
   ]
  },
  {
   "cell_type": "code",
   "execution_count": 47,
   "id": "1dfa52c0",
   "metadata": {},
   "outputs": [
    {
     "data": {
      "text/plain": [
       "(500, 8)"
      ]
     },
     "execution_count": 47,
     "metadata": {},
     "output_type": "execute_result"
    }
   ],
   "source": [
    "data_users.shape"
   ]
  },
  {
   "cell_type": "code",
   "execution_count": 48,
   "id": "8e6b44d4",
   "metadata": {},
   "outputs": [
    {
     "data": {
      "text/html": [
       "<div>\n",
       "<style scoped>\n",
       "    .dataframe tbody tr th:only-of-type {\n",
       "        vertical-align: middle;\n",
       "    }\n",
       "\n",
       "    .dataframe tbody tr th {\n",
       "        vertical-align: top;\n",
       "    }\n",
       "\n",
       "    .dataframe thead th {\n",
       "        text-align: right;\n",
       "    }\n",
       "</style>\n",
       "<table border=\"1\" class=\"dataframe\">\n",
       "  <thead>\n",
       "    <tr style=\"text-align: right;\">\n",
       "      <th></th>\n",
       "      <th>age</th>\n",
       "    </tr>\n",
       "  </thead>\n",
       "  <tbody>\n",
       "    <tr>\n",
       "      <th>count</th>\n",
       "      <td>500.00</td>\n",
       "    </tr>\n",
       "    <tr>\n",
       "      <th>mean</th>\n",
       "      <td>46.59</td>\n",
       "    </tr>\n",
       "    <tr>\n",
       "      <th>std</th>\n",
       "      <td>16.67</td>\n",
       "    </tr>\n",
       "    <tr>\n",
       "      <th>min</th>\n",
       "      <td>18.00</td>\n",
       "    </tr>\n",
       "    <tr>\n",
       "      <th>25%</th>\n",
       "      <td>32.00</td>\n",
       "    </tr>\n",
       "    <tr>\n",
       "      <th>50%</th>\n",
       "      <td>46.00</td>\n",
       "    </tr>\n",
       "    <tr>\n",
       "      <th>75%</th>\n",
       "      <td>62.00</td>\n",
       "    </tr>\n",
       "    <tr>\n",
       "      <th>max</th>\n",
       "      <td>75.00</td>\n",
       "    </tr>\n",
       "  </tbody>\n",
       "</table>\n",
       "</div>"
      ],
      "text/plain": [
       "         age\n",
       "count 500.00\n",
       "mean   46.59\n",
       "std    16.67\n",
       "min    18.00\n",
       "25%    32.00\n",
       "50%    46.00\n",
       "75%    62.00\n",
       "max    75.00"
      ]
     },
     "execution_count": 48,
     "metadata": {},
     "output_type": "execute_result"
    }
   ],
   "source": [
    "data_users.describe()"
   ]
  },
  {
   "cell_type": "markdown",
   "id": "17614367",
   "metadata": {},
   "source": [
    "С возрастом все в порядке, необычных данных нет."
   ]
  },
  {
   "cell_type": "code",
   "execution_count": 49,
   "id": "912a6de4",
   "metadata": {},
   "outputs": [
    {
     "data": {
      "text/html": [
       "<div>\n",
       "<style scoped>\n",
       "    .dataframe tbody tr th:only-of-type {\n",
       "        vertical-align: middle;\n",
       "    }\n",
       "\n",
       "    .dataframe tbody tr th {\n",
       "        vertical-align: top;\n",
       "    }\n",
       "\n",
       "    .dataframe thead th {\n",
       "        text-align: right;\n",
       "    }\n",
       "</style>\n",
       "<table border=\"1\" class=\"dataframe\">\n",
       "  <thead>\n",
       "    <tr style=\"text-align: right;\">\n",
       "      <th></th>\n",
       "      <th>user_id</th>\n",
       "      <th>churn_date</th>\n",
       "      <th>city</th>\n",
       "      <th>first_name</th>\n",
       "      <th>last_name</th>\n",
       "      <th>reg_date</th>\n",
       "      <th>tariff_name</th>\n",
       "    </tr>\n",
       "  </thead>\n",
       "  <tbody>\n",
       "    <tr>\n",
       "      <th>count</th>\n",
       "      <td>500</td>\n",
       "      <td>38</td>\n",
       "      <td>500</td>\n",
       "      <td>500</td>\n",
       "      <td>500</td>\n",
       "      <td>500</td>\n",
       "      <td>500</td>\n",
       "    </tr>\n",
       "    <tr>\n",
       "      <th>unique</th>\n",
       "      <td>500</td>\n",
       "      <td>33</td>\n",
       "      <td>76</td>\n",
       "      <td>246</td>\n",
       "      <td>419</td>\n",
       "      <td>270</td>\n",
       "      <td>2</td>\n",
       "    </tr>\n",
       "    <tr>\n",
       "      <th>top</th>\n",
       "      <td>1000</td>\n",
       "      <td>2018-12-03 00:00:00</td>\n",
       "      <td>Москва</td>\n",
       "      <td>Радим</td>\n",
       "      <td>Андреенко</td>\n",
       "      <td>2018-05-28 00:00:00</td>\n",
       "      <td>smart</td>\n",
       "    </tr>\n",
       "    <tr>\n",
       "      <th>freq</th>\n",
       "      <td>1</td>\n",
       "      <td>2</td>\n",
       "      <td>99</td>\n",
       "      <td>6</td>\n",
       "      <td>5</td>\n",
       "      <td>8</td>\n",
       "      <td>351</td>\n",
       "    </tr>\n",
       "    <tr>\n",
       "      <th>first</th>\n",
       "      <td>NaN</td>\n",
       "      <td>2018-08-17 00:00:00</td>\n",
       "      <td>NaN</td>\n",
       "      <td>NaN</td>\n",
       "      <td>NaN</td>\n",
       "      <td>2018-01-01 00:00:00</td>\n",
       "      <td>NaN</td>\n",
       "    </tr>\n",
       "    <tr>\n",
       "      <th>last</th>\n",
       "      <td>NaN</td>\n",
       "      <td>2018-12-30 00:00:00</td>\n",
       "      <td>NaN</td>\n",
       "      <td>NaN</td>\n",
       "      <td>NaN</td>\n",
       "      <td>2018-12-31 00:00:00</td>\n",
       "      <td>NaN</td>\n",
       "    </tr>\n",
       "  </tbody>\n",
       "</table>\n",
       "</div>"
      ],
      "text/plain": [
       "       user_id           churn_date    city first_name  last_name  \\\n",
       "count      500                   38     500        500        500   \n",
       "unique     500                   33      76        246        419   \n",
       "top       1000  2018-12-03 00:00:00  Москва      Радим  Андреенко   \n",
       "freq         1                    2      99          6          5   \n",
       "first      NaN  2018-08-17 00:00:00     NaN        NaN        NaN   \n",
       "last       NaN  2018-12-30 00:00:00     NaN        NaN        NaN   \n",
       "\n",
       "                   reg_date tariff_name  \n",
       "count                   500         500  \n",
       "unique                  270           2  \n",
       "top     2018-05-28 00:00:00       smart  \n",
       "freq                      8         351  \n",
       "first   2018-01-01 00:00:00         NaN  \n",
       "last    2018-12-31 00:00:00         NaN  "
      ]
     },
     "execution_count": 49,
     "metadata": {},
     "output_type": "execute_result"
    }
   ],
   "source": [
    "data_users.select_dtypes(include=['datetime', 'object']).describe()"
   ]
  },
  {
   "cell_type": "code",
   "execution_count": 50,
   "id": "b07d2dc6",
   "metadata": {},
   "outputs": [
    {
     "data": {
      "text/plain": [
       "Москва             99\n",
       "Санкт-Петербург    39\n",
       "Новосибирск        16\n",
       "Омск               14\n",
       "Казань             14\n",
       "                   ..\n",
       "Архангельск         1\n",
       "Иваново             1\n",
       "Нижневартовск       1\n",
       "Химки               1\n",
       "Подольск            1\n",
       "Name: city, Length: 76, dtype: int64"
      ]
     },
     "execution_count": 50,
     "metadata": {},
     "output_type": "execute_result"
    }
   ],
   "source": [
    "data_users['city'].value_counts()"
   ]
  },
  {
   "cell_type": "code",
   "execution_count": 51,
   "id": "cbc8eed9",
   "metadata": {},
   "outputs": [
    {
     "data": {
      "text/plain": [
       "array(['Архангельск', 'Астрахань', 'Балашиха', 'Барнаул', 'Белгород',\n",
       "       'Брянск', 'Владивосток', 'Владикавказ', 'Владимир', 'Волгоград',\n",
       "       'Волжский', 'Вологда', 'Воронеж', 'Грозный', 'Екатеринбург',\n",
       "       'Иваново', 'Ижевск', 'Иркутск', 'Казань', 'Калининград', 'Калуга',\n",
       "       'Кемерово', 'Киров', 'Кострома', 'Краснодар', 'Красноярск',\n",
       "       'Курган', 'Курск', 'Липецк', 'Магнитогорск', 'Махачкала', 'Москва',\n",
       "       'Мурманск', 'Набережные Челны', 'Нижневартовск', 'Нижний Новгород',\n",
       "       'Нижний Тагил', 'Новокузнецк', 'Новороссийск', 'Новосибирск',\n",
       "       'Омск', 'Оренбург', 'Орёл', 'Пенза', 'Пермь', 'Петрозаводск',\n",
       "       'Подольск', 'Ростов-на-Дону', 'Рязань', 'Самара',\n",
       "       'Санкт-Петербург', 'Саранск', 'Саратов', 'Севастополь', 'Смоленск',\n",
       "       'Сочи', 'Ставрополь', 'Стерлитамак', 'Сургут', 'Тамбов', 'Тверь',\n",
       "       'Тольятти', 'Томск', 'Тула', 'Тюмень', 'Улан-Удэ', 'Ульяновск',\n",
       "       'Уфа', 'Хабаровск', 'Химки', 'Чебоксары', 'Челябинск', 'Череповец',\n",
       "       'Чита', 'Якутск', 'Ярославль'], dtype=object)"
      ]
     },
     "execution_count": 51,
     "metadata": {},
     "output_type": "execute_result"
    }
   ],
   "source": [
    "data_users['city'].sort_values().unique()"
   ]
  },
  {
   "cell_type": "markdown",
   "id": "de5318a0",
   "metadata": {},
   "source": [
    "Все значения id пользователей уникальны, дубликатов нет. Чаще всего встречаются абоненты из Москвы, Санкт-Петербурга и Новосибирска. Даты исследования с 01.01.2018 по 31.12.2018 - необычных значений нет."
   ]
  },
  {
   "cell_type": "code",
   "execution_count": 52,
   "id": "8ad4344f",
   "metadata": {},
   "outputs": [
    {
     "data": {
      "text/html": [
       "<div>\n",
       "<style scoped>\n",
       "    .dataframe tbody tr th:only-of-type {\n",
       "        vertical-align: middle;\n",
       "    }\n",
       "\n",
       "    .dataframe tbody tr th {\n",
       "        vertical-align: top;\n",
       "    }\n",
       "\n",
       "    .dataframe thead th {\n",
       "        text-align: right;\n",
       "    }\n",
       "</style>\n",
       "<table border=\"1\" class=\"dataframe\">\n",
       "  <thead>\n",
       "    <tr style=\"text-align: right;\">\n",
       "      <th></th>\n",
       "      <th>duration</th>\n",
       "    </tr>\n",
       "  </thead>\n",
       "  <tbody>\n",
       "    <tr>\n",
       "      <th>count</th>\n",
       "      <td>202,607.00</td>\n",
       "    </tr>\n",
       "    <tr>\n",
       "      <th>mean</th>\n",
       "      <td>6.76</td>\n",
       "    </tr>\n",
       "    <tr>\n",
       "      <th>std</th>\n",
       "      <td>5.84</td>\n",
       "    </tr>\n",
       "    <tr>\n",
       "      <th>min</th>\n",
       "      <td>0.00</td>\n",
       "    </tr>\n",
       "    <tr>\n",
       "      <th>25%</th>\n",
       "      <td>1.30</td>\n",
       "    </tr>\n",
       "    <tr>\n",
       "      <th>50%</th>\n",
       "      <td>6.00</td>\n",
       "    </tr>\n",
       "    <tr>\n",
       "      <th>75%</th>\n",
       "      <td>10.70</td>\n",
       "    </tr>\n",
       "    <tr>\n",
       "      <th>max</th>\n",
       "      <td>38.00</td>\n",
       "    </tr>\n",
       "  </tbody>\n",
       "</table>\n",
       "</div>"
      ],
      "text/plain": [
       "        duration\n",
       "count 202,607.00\n",
       "mean        6.76\n",
       "std         5.84\n",
       "min         0.00\n",
       "25%         1.30\n",
       "50%         6.00\n",
       "75%        10.70\n",
       "max        38.00"
      ]
     },
     "execution_count": 52,
     "metadata": {},
     "output_type": "execute_result"
    }
   ],
   "source": [
    "data_calls.describe()"
   ]
  },
  {
   "cell_type": "markdown",
   "id": "5369d11b",
   "metadata": {},
   "source": [
    "В данных имеются  звонки с нулевой продолжительностью. Это не ошибка: нулями обозначены пропущенные звонки, поэтому их не нужно удалять."
   ]
  },
  {
   "cell_type": "code",
   "execution_count": 53,
   "id": "0ba41252",
   "metadata": {},
   "outputs": [
    {
     "data": {
      "text/html": [
       "<div>\n",
       "<style scoped>\n",
       "    .dataframe tbody tr th:only-of-type {\n",
       "        vertical-align: middle;\n",
       "    }\n",
       "\n",
       "    .dataframe tbody tr th {\n",
       "        vertical-align: top;\n",
       "    }\n",
       "\n",
       "    .dataframe thead th {\n",
       "        text-align: right;\n",
       "    }\n",
       "</style>\n",
       "<table border=\"1\" class=\"dataframe\">\n",
       "  <thead>\n",
       "    <tr style=\"text-align: right;\">\n",
       "      <th></th>\n",
       "      <th>call_id</th>\n",
       "      <th>call_date</th>\n",
       "      <th>user_id</th>\n",
       "    </tr>\n",
       "  </thead>\n",
       "  <tbody>\n",
       "    <tr>\n",
       "      <th>count</th>\n",
       "      <td>202607</td>\n",
       "      <td>202607</td>\n",
       "      <td>202607</td>\n",
       "    </tr>\n",
       "    <tr>\n",
       "      <th>unique</th>\n",
       "      <td>202607</td>\n",
       "      <td>365</td>\n",
       "      <td>492</td>\n",
       "    </tr>\n",
       "    <tr>\n",
       "      <th>top</th>\n",
       "      <td>1000_0</td>\n",
       "      <td>2018-12-31 00:00:00</td>\n",
       "      <td>1377</td>\n",
       "    </tr>\n",
       "    <tr>\n",
       "      <th>freq</th>\n",
       "      <td>1</td>\n",
       "      <td>1435</td>\n",
       "      <td>1760</td>\n",
       "    </tr>\n",
       "    <tr>\n",
       "      <th>first</th>\n",
       "      <td>NaN</td>\n",
       "      <td>2018-01-01 00:00:00</td>\n",
       "      <td>NaN</td>\n",
       "    </tr>\n",
       "    <tr>\n",
       "      <th>last</th>\n",
       "      <td>NaN</td>\n",
       "      <td>2018-12-31 00:00:00</td>\n",
       "      <td>NaN</td>\n",
       "    </tr>\n",
       "  </tbody>\n",
       "</table>\n",
       "</div>"
      ],
      "text/plain": [
       "       call_id            call_date user_id\n",
       "count   202607               202607  202607\n",
       "unique  202607                  365     492\n",
       "top     1000_0  2018-12-31 00:00:00    1377\n",
       "freq         1                 1435    1760\n",
       "first      NaN  2018-01-01 00:00:00     NaN\n",
       "last       NaN  2018-12-31 00:00:00     NaN"
      ]
     },
     "execution_count": 53,
     "metadata": {},
     "output_type": "execute_result"
    }
   ],
   "source": [
    "data_calls.select_dtypes(include=['datetime', 'object']).describe()"
   ]
  },
  {
   "cell_type": "markdown",
   "id": "08959817",
   "metadata": {},
   "source": [
    "Id звонков уникальны, дубликатов нет."
   ]
  },
  {
   "cell_type": "code",
   "execution_count": 54,
   "id": "6f42fba5",
   "metadata": {},
   "outputs": [
    {
     "data": {
      "text/html": [
       "<div>\n",
       "<style scoped>\n",
       "    .dataframe tbody tr th:only-of-type {\n",
       "        vertical-align: middle;\n",
       "    }\n",
       "\n",
       "    .dataframe tbody tr th {\n",
       "        vertical-align: top;\n",
       "    }\n",
       "\n",
       "    .dataframe thead th {\n",
       "        text-align: right;\n",
       "    }\n",
       "</style>\n",
       "<table border=\"1\" class=\"dataframe\">\n",
       "  <thead>\n",
       "    <tr style=\"text-align: right;\">\n",
       "      <th></th>\n",
       "      <th>message_id</th>\n",
       "      <th>message_date</th>\n",
       "      <th>user_id</th>\n",
       "    </tr>\n",
       "  </thead>\n",
       "  <tbody>\n",
       "    <tr>\n",
       "      <th>count</th>\n",
       "      <td>123036</td>\n",
       "      <td>123036</td>\n",
       "      <td>123036</td>\n",
       "    </tr>\n",
       "    <tr>\n",
       "      <th>unique</th>\n",
       "      <td>123036</td>\n",
       "      <td>364</td>\n",
       "      <td>426</td>\n",
       "    </tr>\n",
       "    <tr>\n",
       "      <th>top</th>\n",
       "      <td>1000_0</td>\n",
       "      <td>2018-12-31 00:00:00</td>\n",
       "      <td>1277</td>\n",
       "    </tr>\n",
       "    <tr>\n",
       "      <th>freq</th>\n",
       "      <td>1</td>\n",
       "      <td>859</td>\n",
       "      <td>1463</td>\n",
       "    </tr>\n",
       "    <tr>\n",
       "      <th>first</th>\n",
       "      <td>NaN</td>\n",
       "      <td>2018-01-02 00:00:00</td>\n",
       "      <td>NaN</td>\n",
       "    </tr>\n",
       "    <tr>\n",
       "      <th>last</th>\n",
       "      <td>NaN</td>\n",
       "      <td>2018-12-31 00:00:00</td>\n",
       "      <td>NaN</td>\n",
       "    </tr>\n",
       "  </tbody>\n",
       "</table>\n",
       "</div>"
      ],
      "text/plain": [
       "       message_id         message_date user_id\n",
       "count      123036               123036  123036\n",
       "unique     123036                  364     426\n",
       "top        1000_0  2018-12-31 00:00:00    1277\n",
       "freq            1                  859    1463\n",
       "first         NaN  2018-01-02 00:00:00     NaN\n",
       "last          NaN  2018-12-31 00:00:00     NaN"
      ]
     },
     "execution_count": 54,
     "metadata": {},
     "output_type": "execute_result"
    }
   ],
   "source": [
    "data_messages.describe()"
   ]
  },
  {
   "cell_type": "code",
   "execution_count": 55,
   "id": "b89db484",
   "metadata": {},
   "outputs": [
    {
     "data": {
      "text/html": [
       "<div>\n",
       "<style scoped>\n",
       "    .dataframe tbody tr th:only-of-type {\n",
       "        vertical-align: middle;\n",
       "    }\n",
       "\n",
       "    .dataframe tbody tr th {\n",
       "        vertical-align: top;\n",
       "    }\n",
       "\n",
       "    .dataframe thead th {\n",
       "        text-align: right;\n",
       "    }\n",
       "</style>\n",
       "<table border=\"1\" class=\"dataframe\">\n",
       "  <thead>\n",
       "    <tr style=\"text-align: right;\">\n",
       "      <th></th>\n",
       "      <th>mb_used</th>\n",
       "    </tr>\n",
       "  </thead>\n",
       "  <tbody>\n",
       "    <tr>\n",
       "      <th>count</th>\n",
       "      <td>149,396.00</td>\n",
       "    </tr>\n",
       "    <tr>\n",
       "      <th>mean</th>\n",
       "      <td>370.19</td>\n",
       "    </tr>\n",
       "    <tr>\n",
       "      <th>std</th>\n",
       "      <td>278.30</td>\n",
       "    </tr>\n",
       "    <tr>\n",
       "      <th>min</th>\n",
       "      <td>0.00</td>\n",
       "    </tr>\n",
       "    <tr>\n",
       "      <th>25%</th>\n",
       "      <td>138.19</td>\n",
       "    </tr>\n",
       "    <tr>\n",
       "      <th>50%</th>\n",
       "      <td>348.01</td>\n",
       "    </tr>\n",
       "    <tr>\n",
       "      <th>75%</th>\n",
       "      <td>559.55</td>\n",
       "    </tr>\n",
       "    <tr>\n",
       "      <th>max</th>\n",
       "      <td>1,724.83</td>\n",
       "    </tr>\n",
       "  </tbody>\n",
       "</table>\n",
       "</div>"
      ],
      "text/plain": [
       "         mb_used\n",
       "count 149,396.00\n",
       "mean      370.19\n",
       "std       278.30\n",
       "min         0.00\n",
       "25%       138.19\n",
       "50%       348.01\n",
       "75%       559.55\n",
       "max     1,724.83"
      ]
     },
     "execution_count": 55,
     "metadata": {},
     "output_type": "execute_result"
    }
   ],
   "source": [
    "data_internet.describe()"
   ]
  },
  {
   "cell_type": "code",
   "execution_count": 56,
   "id": "7ec7a837",
   "metadata": {},
   "outputs": [
    {
     "data": {
      "text/html": [
       "<div>\n",
       "<style scoped>\n",
       "    .dataframe tbody tr th:only-of-type {\n",
       "        vertical-align: middle;\n",
       "    }\n",
       "\n",
       "    .dataframe tbody tr th {\n",
       "        vertical-align: top;\n",
       "    }\n",
       "\n",
       "    .dataframe thead th {\n",
       "        text-align: right;\n",
       "    }\n",
       "</style>\n",
       "<table border=\"1\" class=\"dataframe\">\n",
       "  <thead>\n",
       "    <tr style=\"text-align: right;\">\n",
       "      <th></th>\n",
       "      <th>session_id</th>\n",
       "      <th>mb_used</th>\n",
       "      <th>session_date</th>\n",
       "      <th>user_id</th>\n",
       "    </tr>\n",
       "  </thead>\n",
       "  <tbody>\n",
       "    <tr>\n",
       "      <th>11</th>\n",
       "      <td>1000_11</td>\n",
       "      <td>0.00</td>\n",
       "      <td>2018-08-28</td>\n",
       "      <td>1000</td>\n",
       "    </tr>\n",
       "    <tr>\n",
       "      <th>38</th>\n",
       "      <td>1000_38</td>\n",
       "      <td>0.00</td>\n",
       "      <td>2018-11-27</td>\n",
       "      <td>1000</td>\n",
       "    </tr>\n",
       "    <tr>\n",
       "      <th>46</th>\n",
       "      <td>1000_46</td>\n",
       "      <td>0.00</td>\n",
       "      <td>2018-06-30</td>\n",
       "      <td>1000</td>\n",
       "    </tr>\n",
       "    <tr>\n",
       "      <th>67</th>\n",
       "      <td>1000_67</td>\n",
       "      <td>0.00</td>\n",
       "      <td>2018-06-16</td>\n",
       "      <td>1000</td>\n",
       "    </tr>\n",
       "    <tr>\n",
       "      <th>72</th>\n",
       "      <td>1000_72</td>\n",
       "      <td>0.00</td>\n",
       "      <td>2018-06-15</td>\n",
       "      <td>1000</td>\n",
       "    </tr>\n",
       "    <tr>\n",
       "      <th>...</th>\n",
       "      <td>...</td>\n",
       "      <td>...</td>\n",
       "      <td>...</td>\n",
       "      <td>...</td>\n",
       "    </tr>\n",
       "    <tr>\n",
       "      <th>149380</th>\n",
       "      <td>1499_141</td>\n",
       "      <td>0.00</td>\n",
       "      <td>2018-12-11</td>\n",
       "      <td>1499</td>\n",
       "    </tr>\n",
       "    <tr>\n",
       "      <th>149381</th>\n",
       "      <td>1499_142</td>\n",
       "      <td>0.00</td>\n",
       "      <td>2018-11-01</td>\n",
       "      <td>1499</td>\n",
       "    </tr>\n",
       "    <tr>\n",
       "      <th>149383</th>\n",
       "      <td>1499_144</td>\n",
       "      <td>0.00</td>\n",
       "      <td>2018-11-27</td>\n",
       "      <td>1499</td>\n",
       "    </tr>\n",
       "    <tr>\n",
       "      <th>149386</th>\n",
       "      <td>1499_147</td>\n",
       "      <td>0.00</td>\n",
       "      <td>2018-10-21</td>\n",
       "      <td>1499</td>\n",
       "    </tr>\n",
       "    <tr>\n",
       "      <th>149393</th>\n",
       "      <td>1499_154</td>\n",
       "      <td>0.00</td>\n",
       "      <td>2018-10-27</td>\n",
       "      <td>1499</td>\n",
       "    </tr>\n",
       "  </tbody>\n",
       "</table>\n",
       "<p>19598 rows × 4 columns</p>\n",
       "</div>"
      ],
      "text/plain": [
       "       session_id  mb_used session_date user_id\n",
       "11        1000_11     0.00   2018-08-28    1000\n",
       "38        1000_38     0.00   2018-11-27    1000\n",
       "46        1000_46     0.00   2018-06-30    1000\n",
       "67        1000_67     0.00   2018-06-16    1000\n",
       "72        1000_72     0.00   2018-06-15    1000\n",
       "...           ...      ...          ...     ...\n",
       "149380   1499_141     0.00   2018-12-11    1499\n",
       "149381   1499_142     0.00   2018-11-01    1499\n",
       "149383   1499_144     0.00   2018-11-27    1499\n",
       "149386   1499_147     0.00   2018-10-21    1499\n",
       "149393   1499_154     0.00   2018-10-27    1499\n",
       "\n",
       "[19598 rows x 4 columns]"
      ]
     },
     "execution_count": 56,
     "metadata": {},
     "output_type": "execute_result"
    }
   ],
   "source": [
    "data_internet[data_internet['mb_used'] == 0]"
   ]
  },
  {
   "cell_type": "code",
   "execution_count": 57,
   "id": "629a1e15",
   "metadata": {},
   "outputs": [
    {
     "data": {
      "text/html": [
       "<div>\n",
       "<style scoped>\n",
       "    .dataframe tbody tr th:only-of-type {\n",
       "        vertical-align: middle;\n",
       "    }\n",
       "\n",
       "    .dataframe tbody tr th {\n",
       "        vertical-align: top;\n",
       "    }\n",
       "\n",
       "    .dataframe thead th {\n",
       "        text-align: right;\n",
       "    }\n",
       "</style>\n",
       "<table border=\"1\" class=\"dataframe\">\n",
       "  <thead>\n",
       "    <tr style=\"text-align: right;\">\n",
       "      <th></th>\n",
       "      <th>session_id</th>\n",
       "      <th>mb_used</th>\n",
       "      <th>session_date</th>\n",
       "      <th>user_id</th>\n",
       "    </tr>\n",
       "  </thead>\n",
       "  <tbody>\n",
       "    <tr>\n",
       "      <th>0</th>\n",
       "      <td>1000_0</td>\n",
       "      <td>112.95</td>\n",
       "      <td>2018-11-25</td>\n",
       "      <td>1000</td>\n",
       "    </tr>\n",
       "    <tr>\n",
       "      <th>1</th>\n",
       "      <td>1000_1</td>\n",
       "      <td>1,052.81</td>\n",
       "      <td>2018-09-07</td>\n",
       "      <td>1000</td>\n",
       "    </tr>\n",
       "    <tr>\n",
       "      <th>2</th>\n",
       "      <td>1000_2</td>\n",
       "      <td>1,197.26</td>\n",
       "      <td>2018-06-25</td>\n",
       "      <td>1000</td>\n",
       "    </tr>\n",
       "    <tr>\n",
       "      <th>3</th>\n",
       "      <td>1000_3</td>\n",
       "      <td>550.27</td>\n",
       "      <td>2018-08-22</td>\n",
       "      <td>1000</td>\n",
       "    </tr>\n",
       "    <tr>\n",
       "      <th>4</th>\n",
       "      <td>1000_4</td>\n",
       "      <td>302.56</td>\n",
       "      <td>2018-09-24</td>\n",
       "      <td>1000</td>\n",
       "    </tr>\n",
       "    <tr>\n",
       "      <th>...</th>\n",
       "      <td>...</td>\n",
       "      <td>...</td>\n",
       "      <td>...</td>\n",
       "      <td>...</td>\n",
       "    </tr>\n",
       "    <tr>\n",
       "      <th>206</th>\n",
       "      <td>1000_206</td>\n",
       "      <td>1,028.22</td>\n",
       "      <td>2018-06-06</td>\n",
       "      <td>1000</td>\n",
       "    </tr>\n",
       "    <tr>\n",
       "      <th>207</th>\n",
       "      <td>1000_207</td>\n",
       "      <td>543.68</td>\n",
       "      <td>2018-06-23</td>\n",
       "      <td>1000</td>\n",
       "    </tr>\n",
       "    <tr>\n",
       "      <th>208</th>\n",
       "      <td>1000_208</td>\n",
       "      <td>716.08</td>\n",
       "      <td>2018-08-14</td>\n",
       "      <td>1000</td>\n",
       "    </tr>\n",
       "    <tr>\n",
       "      <th>209</th>\n",
       "      <td>1000_209</td>\n",
       "      <td>49.78</td>\n",
       "      <td>2018-07-17</td>\n",
       "      <td>1000</td>\n",
       "    </tr>\n",
       "    <tr>\n",
       "      <th>210</th>\n",
       "      <td>1000_210</td>\n",
       "      <td>1,000.16</td>\n",
       "      <td>2018-10-07</td>\n",
       "      <td>1000</td>\n",
       "    </tr>\n",
       "  </tbody>\n",
       "</table>\n",
       "<p>211 rows × 4 columns</p>\n",
       "</div>"
      ],
      "text/plain": [
       "    session_id  mb_used session_date user_id\n",
       "0       1000_0   112.95   2018-11-25    1000\n",
       "1       1000_1 1,052.81   2018-09-07    1000\n",
       "2       1000_2 1,197.26   2018-06-25    1000\n",
       "3       1000_3   550.27   2018-08-22    1000\n",
       "4       1000_4   302.56   2018-09-24    1000\n",
       "..         ...      ...          ...     ...\n",
       "206   1000_206 1,028.22   2018-06-06    1000\n",
       "207   1000_207   543.68   2018-06-23    1000\n",
       "208   1000_208   716.08   2018-08-14    1000\n",
       "209   1000_209    49.78   2018-07-17    1000\n",
       "210   1000_210 1,000.16   2018-10-07    1000\n",
       "\n",
       "[211 rows x 4 columns]"
      ]
     },
     "execution_count": 57,
     "metadata": {},
     "output_type": "execute_result"
    }
   ],
   "source": [
    "data_internet[data_internet['user_id'] == '1000']"
   ]
  },
  {
   "cell_type": "markdown",
   "id": "af9387ea",
   "metadata": {},
   "source": [
    "Имеются интернет-сессии с траффиком 0 Мб у пользователей, которые пользуются интернетом. Возможно, это какие-то фоновые отправки данных из приложений. Не будем удалять или заменять эти данные."
   ]
  },
  {
   "cell_type": "code",
   "execution_count": 58,
   "id": "823bca1a",
   "metadata": {},
   "outputs": [
    {
     "data": {
      "text/html": [
       "<div>\n",
       "<style scoped>\n",
       "    .dataframe tbody tr th:only-of-type {\n",
       "        vertical-align: middle;\n",
       "    }\n",
       "\n",
       "    .dataframe tbody tr th {\n",
       "        vertical-align: top;\n",
       "    }\n",
       "\n",
       "    .dataframe thead th {\n",
       "        text-align: right;\n",
       "    }\n",
       "</style>\n",
       "<table border=\"1\" class=\"dataframe\">\n",
       "  <thead>\n",
       "    <tr style=\"text-align: right;\">\n",
       "      <th></th>\n",
       "      <th>session_id</th>\n",
       "      <th>session_date</th>\n",
       "      <th>user_id</th>\n",
       "    </tr>\n",
       "  </thead>\n",
       "  <tbody>\n",
       "    <tr>\n",
       "      <th>count</th>\n",
       "      <td>149396</td>\n",
       "      <td>149396</td>\n",
       "      <td>149396</td>\n",
       "    </tr>\n",
       "    <tr>\n",
       "      <th>unique</th>\n",
       "      <td>149396</td>\n",
       "      <td>365</td>\n",
       "      <td>497</td>\n",
       "    </tr>\n",
       "    <tr>\n",
       "      <th>top</th>\n",
       "      <td>1000_0</td>\n",
       "      <td>2018-12-31 00:00:00</td>\n",
       "      <td>1496</td>\n",
       "    </tr>\n",
       "    <tr>\n",
       "      <th>freq</th>\n",
       "      <td>1</td>\n",
       "      <td>1057</td>\n",
       "      <td>834</td>\n",
       "    </tr>\n",
       "    <tr>\n",
       "      <th>first</th>\n",
       "      <td>NaN</td>\n",
       "      <td>2018-01-01 00:00:00</td>\n",
       "      <td>NaN</td>\n",
       "    </tr>\n",
       "    <tr>\n",
       "      <th>last</th>\n",
       "      <td>NaN</td>\n",
       "      <td>2018-12-31 00:00:00</td>\n",
       "      <td>NaN</td>\n",
       "    </tr>\n",
       "  </tbody>\n",
       "</table>\n",
       "</div>"
      ],
      "text/plain": [
       "       session_id         session_date user_id\n",
       "count      149396               149396  149396\n",
       "unique     149396                  365     497\n",
       "top        1000_0  2018-12-31 00:00:00    1496\n",
       "freq            1                 1057     834\n",
       "first         NaN  2018-01-01 00:00:00     NaN\n",
       "last          NaN  2018-12-31 00:00:00     NaN"
      ]
     },
     "execution_count": 58,
     "metadata": {},
     "output_type": "execute_result"
    }
   ],
   "source": [
    "data_internet.select_dtypes(include=['datetime', 'object']).describe()"
   ]
  },
  {
   "cell_type": "markdown",
   "id": "a78bac48",
   "metadata": {},
   "source": [
    "Данные пригодны для дальнейшей работы: пропусков нет, все id уникальны, выбросов нет, данные приведены к нужному типу."
   ]
  },
  {
   "cell_type": "markdown",
   "id": "cc2cef4e",
   "metadata": {},
   "source": [
    "#### Вывод"
   ]
  },
  {
   "cell_type": "markdown",
   "id": "c8408d2c",
   "metadata": {},
   "source": [
    "Мы провели проверку данных: оценили данные на аномалии, пропуски и дубликаты - их не обнаружено. \n",
    "Привели данные к правильному типу, переименовали столбцы  - данные пригодны для дальнейшего анализа."
   ]
  },
  {
   "cell_type": "markdown",
   "id": "41466b01",
   "metadata": {},
   "source": [
    "### Расчеты и добавление в таблицу"
   ]
  },
  {
   "cell_type": "markdown",
   "id": "7dd6794a",
   "metadata": {},
   "source": [
    "Посчитаем для каждого пользователя:\n",
    "\n",
    "* количество сделанных звонков и израсходованных минут разговора по месяцам;\n",
    "* количество отправленных сообщений по месяцам;\n",
    "* объем израсходованного интернет-трафика по месяцам;\n",
    "* помесячную выручку с каждого пользователя (вычтите бесплатный лимит из суммарного количества звонков, сообщений и интернет-трафика; остаток умножьте на значение из тарифного плана; прибавьте абонентскую плату, соответствующую тарифному плану)."
   ]
  },
  {
   "cell_type": "code",
   "execution_count": 59,
   "id": "c8a2d263",
   "metadata": {},
   "outputs": [
    {
     "data": {
      "text/plain": [
       "(500, 8)"
      ]
     },
     "execution_count": 59,
     "metadata": {},
     "output_type": "execute_result"
    }
   ],
   "source": [
    "data_users.shape"
   ]
  },
  {
   "cell_type": "code",
   "execution_count": 60,
   "id": "ee468347",
   "metadata": {},
   "outputs": [
    {
     "data": {
      "text/plain": [
       "(202607, 4)"
      ]
     },
     "execution_count": 60,
     "metadata": {},
     "output_type": "execute_result"
    }
   ],
   "source": [
    "data_calls.shape"
   ]
  },
  {
   "cell_type": "code",
   "execution_count": 61,
   "id": "6a2d2278",
   "metadata": {},
   "outputs": [
    {
     "data": {
      "text/plain": [
       "(123036, 3)"
      ]
     },
     "execution_count": 61,
     "metadata": {},
     "output_type": "execute_result"
    }
   ],
   "source": [
    "data_messages.shape"
   ]
  },
  {
   "cell_type": "code",
   "execution_count": 62,
   "id": "3120f0c4",
   "metadata": {},
   "outputs": [
    {
     "data": {
      "text/plain": [
       "(149396, 4)"
      ]
     },
     "execution_count": 62,
     "metadata": {},
     "output_type": "execute_result"
    }
   ],
   "source": [
    "data_internet.shape"
   ]
  },
  {
   "cell_type": "code",
   "execution_count": 63,
   "id": "bf8bafd2",
   "metadata": {},
   "outputs": [
    {
     "data": {
      "text/plain": [
       "(2, 8)"
      ]
     },
     "execution_count": 63,
     "metadata": {},
     "output_type": "execute_result"
    }
   ],
   "source": [
    "data_tariffs.shape"
   ]
  },
  {
   "cell_type": "markdown",
   "id": "b29bdeb8",
   "metadata": {},
   "source": [
    "Создадим датафрейм без лишней информации, который впоследствии объединим со всеми расчетами. "
   ]
  },
  {
   "cell_type": "code",
   "execution_count": 64,
   "id": "6f1a75f1",
   "metadata": {},
   "outputs": [],
   "source": [
    "users = data_users[['user_id', 'city', 'tariff_name']].copy()"
   ]
  },
  {
   "cell_type": "code",
   "execution_count": 65,
   "id": "bab636cc",
   "metadata": {},
   "outputs": [
    {
     "data": {
      "text/html": [
       "<div>\n",
       "<style scoped>\n",
       "    .dataframe tbody tr th:only-of-type {\n",
       "        vertical-align: middle;\n",
       "    }\n",
       "\n",
       "    .dataframe tbody tr th {\n",
       "        vertical-align: top;\n",
       "    }\n",
       "\n",
       "    .dataframe thead th {\n",
       "        text-align: right;\n",
       "    }\n",
       "</style>\n",
       "<table border=\"1\" class=\"dataframe\">\n",
       "  <thead>\n",
       "    <tr style=\"text-align: right;\">\n",
       "      <th></th>\n",
       "      <th>user_id</th>\n",
       "      <th>city</th>\n",
       "      <th>tariff_name</th>\n",
       "    </tr>\n",
       "  </thead>\n",
       "  <tbody>\n",
       "    <tr>\n",
       "      <th>0</th>\n",
       "      <td>1000</td>\n",
       "      <td>Краснодар</td>\n",
       "      <td>ultra</td>\n",
       "    </tr>\n",
       "    <tr>\n",
       "      <th>1</th>\n",
       "      <td>1001</td>\n",
       "      <td>Москва</td>\n",
       "      <td>smart</td>\n",
       "    </tr>\n",
       "    <tr>\n",
       "      <th>2</th>\n",
       "      <td>1002</td>\n",
       "      <td>Стерлитамак</td>\n",
       "      <td>smart</td>\n",
       "    </tr>\n",
       "    <tr>\n",
       "      <th>3</th>\n",
       "      <td>1003</td>\n",
       "      <td>Москва</td>\n",
       "      <td>ultra</td>\n",
       "    </tr>\n",
       "    <tr>\n",
       "      <th>4</th>\n",
       "      <td>1004</td>\n",
       "      <td>Новокузнецк</td>\n",
       "      <td>ultra</td>\n",
       "    </tr>\n",
       "    <tr>\n",
       "      <th>...</th>\n",
       "      <td>...</td>\n",
       "      <td>...</td>\n",
       "      <td>...</td>\n",
       "    </tr>\n",
       "    <tr>\n",
       "      <th>495</th>\n",
       "      <td>1495</td>\n",
       "      <td>Иркутск</td>\n",
       "      <td>ultra</td>\n",
       "    </tr>\n",
       "    <tr>\n",
       "      <th>496</th>\n",
       "      <td>1496</td>\n",
       "      <td>Вологда</td>\n",
       "      <td>smart</td>\n",
       "    </tr>\n",
       "    <tr>\n",
       "      <th>497</th>\n",
       "      <td>1497</td>\n",
       "      <td>Челябинск</td>\n",
       "      <td>smart</td>\n",
       "    </tr>\n",
       "    <tr>\n",
       "      <th>498</th>\n",
       "      <td>1498</td>\n",
       "      <td>Владикавказ</td>\n",
       "      <td>smart</td>\n",
       "    </tr>\n",
       "    <tr>\n",
       "      <th>499</th>\n",
       "      <td>1499</td>\n",
       "      <td>Пермь</td>\n",
       "      <td>smart</td>\n",
       "    </tr>\n",
       "  </tbody>\n",
       "</table>\n",
       "<p>500 rows × 3 columns</p>\n",
       "</div>"
      ],
      "text/plain": [
       "    user_id         city tariff_name\n",
       "0      1000    Краснодар       ultra\n",
       "1      1001       Москва       smart\n",
       "2      1002  Стерлитамак       smart\n",
       "3      1003       Москва       ultra\n",
       "4      1004  Новокузнецк       ultra\n",
       "..      ...          ...         ...\n",
       "495    1495      Иркутск       ultra\n",
       "496    1496      Вологда       smart\n",
       "497    1497    Челябинск       smart\n",
       "498    1498  Владикавказ       smart\n",
       "499    1499        Пермь       smart\n",
       "\n",
       "[500 rows x 3 columns]"
      ]
     },
     "execution_count": 65,
     "metadata": {},
     "output_type": "execute_result"
    }
   ],
   "source": [
    "users"
   ]
  },
  {
   "cell_type": "markdown",
   "id": "fc6e867d",
   "metadata": {},
   "source": [
    "#### Расчет сделанных звонков и израсходованных минут разговора, сообщений, израсходованных Мегабайт по месяцам"
   ]
  },
  {
   "cell_type": "code",
   "execution_count": 66,
   "id": "2eb37e99",
   "metadata": {},
   "outputs": [],
   "source": [
    "#Расчет звонков\n",
    "data_calls['month'] = data_calls['call_date'].dt.month\n",
    "# Каждый звонок округляется до минут в большую сторону.\n",
    "data_calls['duration'] = np.ceil(data_calls.duration).astype(int)\n",
    "\n",
    "calls = data_calls.groupby(['user_id', 'month']).agg({'call_id':'count', 'duration':'sum'})\n",
    "calls.columns = [\"n_calls\", \"minutes\"]\n",
    "calls = calls.reset_index()\n",
    "\n",
    "# Расчет сообщений\n",
    "data_messages['month'] = data_messages['message_date'].dt.month\n",
    "messages = data_messages.groupby(['user_id', 'month']).agg({'message_id':'count'})\n",
    "messages.columns = [\"n_messages\"]\n",
    "messages = messages.reset_index()\n",
    "\n",
    "# Расчет интернет-траффика\n",
    "data_internet['month'] = data_internet['session_date'].dt.month\n",
    "internet = data_internet.groupby(['user_id', 'month']).agg({'mb_used':'sum'})\n",
    "internet.columns = [\"megabytes\"]\n",
    "internet = internet.reset_index()\n",
    "# Полученные значения Мб переводим в Гб и округляем в большую сторону, записывая в отдельный столбец.\n",
    "internet['gigabytes'] = np.ceil(internet.megabytes / 1024).astype(int)\n"
   ]
  },
  {
   "cell_type": "code",
   "execution_count": 67,
   "id": "22193df2",
   "metadata": {},
   "outputs": [
    {
     "data": {
      "text/html": [
       "<div>\n",
       "<style scoped>\n",
       "    .dataframe tbody tr th:only-of-type {\n",
       "        vertical-align: middle;\n",
       "    }\n",
       "\n",
       "    .dataframe tbody tr th {\n",
       "        vertical-align: top;\n",
       "    }\n",
       "\n",
       "    .dataframe thead th {\n",
       "        text-align: right;\n",
       "    }\n",
       "</style>\n",
       "<table border=\"1\" class=\"dataframe\">\n",
       "  <thead>\n",
       "    <tr style=\"text-align: right;\">\n",
       "      <th></th>\n",
       "      <th>user_id</th>\n",
       "      <th>month</th>\n",
       "      <th>n_calls</th>\n",
       "      <th>minutes</th>\n",
       "    </tr>\n",
       "  </thead>\n",
       "  <tbody>\n",
       "    <tr>\n",
       "      <th>0</th>\n",
       "      <td>1000</td>\n",
       "      <td>5</td>\n",
       "      <td>22</td>\n",
       "      <td>159</td>\n",
       "    </tr>\n",
       "    <tr>\n",
       "      <th>1</th>\n",
       "      <td>1000</td>\n",
       "      <td>6</td>\n",
       "      <td>43</td>\n",
       "      <td>172</td>\n",
       "    </tr>\n",
       "    <tr>\n",
       "      <th>2</th>\n",
       "      <td>1000</td>\n",
       "      <td>7</td>\n",
       "      <td>47</td>\n",
       "      <td>340</td>\n",
       "    </tr>\n",
       "    <tr>\n",
       "      <th>3</th>\n",
       "      <td>1000</td>\n",
       "      <td>8</td>\n",
       "      <td>52</td>\n",
       "      <td>408</td>\n",
       "    </tr>\n",
       "    <tr>\n",
       "      <th>4</th>\n",
       "      <td>1000</td>\n",
       "      <td>9</td>\n",
       "      <td>58</td>\n",
       "      <td>466</td>\n",
       "    </tr>\n",
       "    <tr>\n",
       "      <th>...</th>\n",
       "      <td>...</td>\n",
       "      <td>...</td>\n",
       "      <td>...</td>\n",
       "      <td>...</td>\n",
       "    </tr>\n",
       "    <tr>\n",
       "      <th>3169</th>\n",
       "      <td>1498</td>\n",
       "      <td>10</td>\n",
       "      <td>41</td>\n",
       "      <td>247</td>\n",
       "    </tr>\n",
       "    <tr>\n",
       "      <th>3170</th>\n",
       "      <td>1499</td>\n",
       "      <td>9</td>\n",
       "      <td>9</td>\n",
       "      <td>70</td>\n",
       "    </tr>\n",
       "    <tr>\n",
       "      <th>3171</th>\n",
       "      <td>1499</td>\n",
       "      <td>10</td>\n",
       "      <td>68</td>\n",
       "      <td>449</td>\n",
       "    </tr>\n",
       "    <tr>\n",
       "      <th>3172</th>\n",
       "      <td>1499</td>\n",
       "      <td>11</td>\n",
       "      <td>74</td>\n",
       "      <td>612</td>\n",
       "    </tr>\n",
       "    <tr>\n",
       "      <th>3173</th>\n",
       "      <td>1499</td>\n",
       "      <td>12</td>\n",
       "      <td>69</td>\n",
       "      <td>492</td>\n",
       "    </tr>\n",
       "  </tbody>\n",
       "</table>\n",
       "<p>3174 rows × 4 columns</p>\n",
       "</div>"
      ],
      "text/plain": [
       "     user_id  month  n_calls  minutes\n",
       "0       1000      5       22      159\n",
       "1       1000      6       43      172\n",
       "2       1000      7       47      340\n",
       "3       1000      8       52      408\n",
       "4       1000      9       58      466\n",
       "...      ...    ...      ...      ...\n",
       "3169    1498     10       41      247\n",
       "3170    1499      9        9       70\n",
       "3171    1499     10       68      449\n",
       "3172    1499     11       74      612\n",
       "3173    1499     12       69      492\n",
       "\n",
       "[3174 rows x 4 columns]"
      ]
     },
     "execution_count": 67,
     "metadata": {},
     "output_type": "execute_result"
    }
   ],
   "source": [
    "calls"
   ]
  },
  {
   "cell_type": "code",
   "execution_count": 68,
   "id": "3f8896d3",
   "metadata": {},
   "outputs": [
    {
     "data": {
      "text/html": [
       "<div>\n",
       "<style scoped>\n",
       "    .dataframe tbody tr th:only-of-type {\n",
       "        vertical-align: middle;\n",
       "    }\n",
       "\n",
       "    .dataframe tbody tr th {\n",
       "        vertical-align: top;\n",
       "    }\n",
       "\n",
       "    .dataframe thead th {\n",
       "        text-align: right;\n",
       "    }\n",
       "</style>\n",
       "<table border=\"1\" class=\"dataframe\">\n",
       "  <thead>\n",
       "    <tr style=\"text-align: right;\">\n",
       "      <th></th>\n",
       "      <th>user_id</th>\n",
       "      <th>month</th>\n",
       "      <th>n_messages</th>\n",
       "    </tr>\n",
       "  </thead>\n",
       "  <tbody>\n",
       "    <tr>\n",
       "      <th>0</th>\n",
       "      <td>1000</td>\n",
       "      <td>5</td>\n",
       "      <td>22</td>\n",
       "    </tr>\n",
       "    <tr>\n",
       "      <th>1</th>\n",
       "      <td>1000</td>\n",
       "      <td>6</td>\n",
       "      <td>60</td>\n",
       "    </tr>\n",
       "    <tr>\n",
       "      <th>2</th>\n",
       "      <td>1000</td>\n",
       "      <td>7</td>\n",
       "      <td>75</td>\n",
       "    </tr>\n",
       "    <tr>\n",
       "      <th>3</th>\n",
       "      <td>1000</td>\n",
       "      <td>8</td>\n",
       "      <td>81</td>\n",
       "    </tr>\n",
       "    <tr>\n",
       "      <th>4</th>\n",
       "      <td>1000</td>\n",
       "      <td>9</td>\n",
       "      <td>57</td>\n",
       "    </tr>\n",
       "    <tr>\n",
       "      <th>...</th>\n",
       "      <td>...</td>\n",
       "      <td>...</td>\n",
       "      <td>...</td>\n",
       "    </tr>\n",
       "    <tr>\n",
       "      <th>2712</th>\n",
       "      <td>1498</td>\n",
       "      <td>10</td>\n",
       "      <td>42</td>\n",
       "    </tr>\n",
       "    <tr>\n",
       "      <th>2713</th>\n",
       "      <td>1499</td>\n",
       "      <td>9</td>\n",
       "      <td>11</td>\n",
       "    </tr>\n",
       "    <tr>\n",
       "      <th>2714</th>\n",
       "      <td>1499</td>\n",
       "      <td>10</td>\n",
       "      <td>48</td>\n",
       "    </tr>\n",
       "    <tr>\n",
       "      <th>2715</th>\n",
       "      <td>1499</td>\n",
       "      <td>11</td>\n",
       "      <td>59</td>\n",
       "    </tr>\n",
       "    <tr>\n",
       "      <th>2716</th>\n",
       "      <td>1499</td>\n",
       "      <td>12</td>\n",
       "      <td>66</td>\n",
       "    </tr>\n",
       "  </tbody>\n",
       "</table>\n",
       "<p>2717 rows × 3 columns</p>\n",
       "</div>"
      ],
      "text/plain": [
       "     user_id  month  n_messages\n",
       "0       1000      5          22\n",
       "1       1000      6          60\n",
       "2       1000      7          75\n",
       "3       1000      8          81\n",
       "4       1000      9          57\n",
       "...      ...    ...         ...\n",
       "2712    1498     10          42\n",
       "2713    1499      9          11\n",
       "2714    1499     10          48\n",
       "2715    1499     11          59\n",
       "2716    1499     12          66\n",
       "\n",
       "[2717 rows x 3 columns]"
      ]
     },
     "execution_count": 68,
     "metadata": {},
     "output_type": "execute_result"
    }
   ],
   "source": [
    "messages"
   ]
  },
  {
   "cell_type": "code",
   "execution_count": 69,
   "id": "3e49c53f",
   "metadata": {},
   "outputs": [
    {
     "data": {
      "text/html": [
       "<div>\n",
       "<style scoped>\n",
       "    .dataframe tbody tr th:only-of-type {\n",
       "        vertical-align: middle;\n",
       "    }\n",
       "\n",
       "    .dataframe tbody tr th {\n",
       "        vertical-align: top;\n",
       "    }\n",
       "\n",
       "    .dataframe thead th {\n",
       "        text-align: right;\n",
       "    }\n",
       "</style>\n",
       "<table border=\"1\" class=\"dataframe\">\n",
       "  <thead>\n",
       "    <tr style=\"text-align: right;\">\n",
       "      <th></th>\n",
       "      <th>user_id</th>\n",
       "      <th>month</th>\n",
       "      <th>megabytes</th>\n",
       "      <th>gigabytes</th>\n",
       "    </tr>\n",
       "  </thead>\n",
       "  <tbody>\n",
       "    <tr>\n",
       "      <th>0</th>\n",
       "      <td>1000</td>\n",
       "      <td>5</td>\n",
       "      <td>2,253.49</td>\n",
       "      <td>3</td>\n",
       "    </tr>\n",
       "    <tr>\n",
       "      <th>1</th>\n",
       "      <td>1000</td>\n",
       "      <td>6</td>\n",
       "      <td>23,233.77</td>\n",
       "      <td>23</td>\n",
       "    </tr>\n",
       "    <tr>\n",
       "      <th>2</th>\n",
       "      <td>1000</td>\n",
       "      <td>7</td>\n",
       "      <td>14,003.64</td>\n",
       "      <td>14</td>\n",
       "    </tr>\n",
       "    <tr>\n",
       "      <th>3</th>\n",
       "      <td>1000</td>\n",
       "      <td>8</td>\n",
       "      <td>14,055.93</td>\n",
       "      <td>14</td>\n",
       "    </tr>\n",
       "    <tr>\n",
       "      <th>4</th>\n",
       "      <td>1000</td>\n",
       "      <td>9</td>\n",
       "      <td>14,568.91</td>\n",
       "      <td>15</td>\n",
       "    </tr>\n",
       "    <tr>\n",
       "      <th>...</th>\n",
       "      <td>...</td>\n",
       "      <td>...</td>\n",
       "      <td>...</td>\n",
       "      <td>...</td>\n",
       "    </tr>\n",
       "    <tr>\n",
       "      <th>3198</th>\n",
       "      <td>1498</td>\n",
       "      <td>10</td>\n",
       "      <td>20,579.36</td>\n",
       "      <td>21</td>\n",
       "    </tr>\n",
       "    <tr>\n",
       "      <th>3199</th>\n",
       "      <td>1499</td>\n",
       "      <td>9</td>\n",
       "      <td>1,845.75</td>\n",
       "      <td>2</td>\n",
       "    </tr>\n",
       "    <tr>\n",
       "      <th>3200</th>\n",
       "      <td>1499</td>\n",
       "      <td>10</td>\n",
       "      <td>17,788.51</td>\n",
       "      <td>18</td>\n",
       "    </tr>\n",
       "    <tr>\n",
       "      <th>3201</th>\n",
       "      <td>1499</td>\n",
       "      <td>11</td>\n",
       "      <td>17,963.31</td>\n",
       "      <td>18</td>\n",
       "    </tr>\n",
       "    <tr>\n",
       "      <th>3202</th>\n",
       "      <td>1499</td>\n",
       "      <td>12</td>\n",
       "      <td>13,055.58</td>\n",
       "      <td>13</td>\n",
       "    </tr>\n",
       "  </tbody>\n",
       "</table>\n",
       "<p>3203 rows × 4 columns</p>\n",
       "</div>"
      ],
      "text/plain": [
       "     user_id  month  megabytes  gigabytes\n",
       "0       1000      5   2,253.49          3\n",
       "1       1000      6  23,233.77         23\n",
       "2       1000      7  14,003.64         14\n",
       "3       1000      8  14,055.93         14\n",
       "4       1000      9  14,568.91         15\n",
       "...      ...    ...        ...        ...\n",
       "3198    1498     10  20,579.36         21\n",
       "3199    1499      9   1,845.75          2\n",
       "3200    1499     10  17,788.51         18\n",
       "3201    1499     11  17,963.31         18\n",
       "3202    1499     12  13,055.58         13\n",
       "\n",
       "[3203 rows x 4 columns]"
      ]
     },
     "execution_count": 69,
     "metadata": {},
     "output_type": "execute_result"
    }
   ],
   "source": [
    "internet"
   ]
  },
  {
   "cell_type": "code",
   "execution_count": 70,
   "id": "02177a13",
   "metadata": {},
   "outputs": [
    {
     "data": {
      "text/html": [
       "<div>\n",
       "<style scoped>\n",
       "    .dataframe tbody tr th:only-of-type {\n",
       "        vertical-align: middle;\n",
       "    }\n",
       "\n",
       "    .dataframe tbody tr th {\n",
       "        vertical-align: top;\n",
       "    }\n",
       "\n",
       "    .dataframe thead th {\n",
       "        text-align: right;\n",
       "    }\n",
       "</style>\n",
       "<table border=\"1\" class=\"dataframe\">\n",
       "  <thead>\n",
       "    <tr style=\"text-align: right;\">\n",
       "      <th></th>\n",
       "      <th>user_id</th>\n",
       "      <th>city</th>\n",
       "      <th>tariff_name</th>\n",
       "    </tr>\n",
       "  </thead>\n",
       "  <tbody>\n",
       "    <tr>\n",
       "      <th>0</th>\n",
       "      <td>1000</td>\n",
       "      <td>Краснодар</td>\n",
       "      <td>ultra</td>\n",
       "    </tr>\n",
       "    <tr>\n",
       "      <th>1</th>\n",
       "      <td>1001</td>\n",
       "      <td>Москва</td>\n",
       "      <td>smart</td>\n",
       "    </tr>\n",
       "    <tr>\n",
       "      <th>2</th>\n",
       "      <td>1002</td>\n",
       "      <td>Стерлитамак</td>\n",
       "      <td>smart</td>\n",
       "    </tr>\n",
       "    <tr>\n",
       "      <th>3</th>\n",
       "      <td>1003</td>\n",
       "      <td>Москва</td>\n",
       "      <td>ultra</td>\n",
       "    </tr>\n",
       "    <tr>\n",
       "      <th>4</th>\n",
       "      <td>1004</td>\n",
       "      <td>Новокузнецк</td>\n",
       "      <td>ultra</td>\n",
       "    </tr>\n",
       "    <tr>\n",
       "      <th>...</th>\n",
       "      <td>...</td>\n",
       "      <td>...</td>\n",
       "      <td>...</td>\n",
       "    </tr>\n",
       "    <tr>\n",
       "      <th>495</th>\n",
       "      <td>1495</td>\n",
       "      <td>Иркутск</td>\n",
       "      <td>ultra</td>\n",
       "    </tr>\n",
       "    <tr>\n",
       "      <th>496</th>\n",
       "      <td>1496</td>\n",
       "      <td>Вологда</td>\n",
       "      <td>smart</td>\n",
       "    </tr>\n",
       "    <tr>\n",
       "      <th>497</th>\n",
       "      <td>1497</td>\n",
       "      <td>Челябинск</td>\n",
       "      <td>smart</td>\n",
       "    </tr>\n",
       "    <tr>\n",
       "      <th>498</th>\n",
       "      <td>1498</td>\n",
       "      <td>Владикавказ</td>\n",
       "      <td>smart</td>\n",
       "    </tr>\n",
       "    <tr>\n",
       "      <th>499</th>\n",
       "      <td>1499</td>\n",
       "      <td>Пермь</td>\n",
       "      <td>smart</td>\n",
       "    </tr>\n",
       "  </tbody>\n",
       "</table>\n",
       "<p>500 rows × 3 columns</p>\n",
       "</div>"
      ],
      "text/plain": [
       "    user_id         city tariff_name\n",
       "0      1000    Краснодар       ultra\n",
       "1      1001       Москва       smart\n",
       "2      1002  Стерлитамак       smart\n",
       "3      1003       Москва       ultra\n",
       "4      1004  Новокузнецк       ultra\n",
       "..      ...          ...         ...\n",
       "495    1495      Иркутск       ultra\n",
       "496    1496      Вологда       smart\n",
       "497    1497    Челябинск       smart\n",
       "498    1498  Владикавказ       smart\n",
       "499    1499        Пермь       smart\n",
       "\n",
       "[500 rows x 3 columns]"
      ]
     },
     "execution_count": 70,
     "metadata": {},
     "output_type": "execute_result"
    }
   ],
   "source": [
    "users"
   ]
  },
  {
   "cell_type": "code",
   "execution_count": 71,
   "id": "68a18419",
   "metadata": {},
   "outputs": [],
   "source": [
    "# Объединяю таблицы\n",
    "data = (calls.merge(internet, on=['user_id','month'], how='outer')\n",
    "        .merge(messages, on=['user_id','month'], how='outer')\n",
    "        .merge(users, on=['user_id'], how='outer')\n",
    "        .merge(data_tariffs, on=['tariff_name'], how='left'))"
   ]
  },
  {
   "cell_type": "code",
   "execution_count": 72,
   "id": "c4f51b08",
   "metadata": {},
   "outputs": [
    {
     "data": {
      "text/html": [
       "<div>\n",
       "<style scoped>\n",
       "    .dataframe tbody tr th:only-of-type {\n",
       "        vertical-align: middle;\n",
       "    }\n",
       "\n",
       "    .dataframe tbody tr th {\n",
       "        vertical-align: top;\n",
       "    }\n",
       "\n",
       "    .dataframe thead th {\n",
       "        text-align: right;\n",
       "    }\n",
       "</style>\n",
       "<table border=\"1\" class=\"dataframe\">\n",
       "  <thead>\n",
       "    <tr style=\"text-align: right;\">\n",
       "      <th></th>\n",
       "      <th>0</th>\n",
       "      <th>1</th>\n",
       "      <th>2</th>\n",
       "      <th>3</th>\n",
       "      <th>4</th>\n",
       "      <th>5</th>\n",
       "      <th>6</th>\n",
       "      <th>7</th>\n",
       "      <th>8</th>\n",
       "      <th>9</th>\n",
       "      <th>10</th>\n",
       "      <th>11</th>\n",
       "      <th>12</th>\n",
       "      <th>13</th>\n",
       "      <th>14</th>\n",
       "    </tr>\n",
       "  </thead>\n",
       "  <tbody>\n",
       "    <tr>\n",
       "      <th>user_id</th>\n",
       "      <td>1000</td>\n",
       "      <td>1000</td>\n",
       "      <td>1000</td>\n",
       "      <td>1000</td>\n",
       "      <td>1000</td>\n",
       "      <td>1000</td>\n",
       "      <td>1000</td>\n",
       "      <td>1000</td>\n",
       "      <td>1001</td>\n",
       "      <td>1001</td>\n",
       "      <td>1002</td>\n",
       "      <td>1002</td>\n",
       "      <td>1002</td>\n",
       "      <td>1002</td>\n",
       "      <td>1002</td>\n",
       "    </tr>\n",
       "    <tr>\n",
       "      <th>month</th>\n",
       "      <td>5.00</td>\n",
       "      <td>6.00</td>\n",
       "      <td>7.00</td>\n",
       "      <td>8.00</td>\n",
       "      <td>9.00</td>\n",
       "      <td>10.00</td>\n",
       "      <td>11.00</td>\n",
       "      <td>12.00</td>\n",
       "      <td>11.00</td>\n",
       "      <td>12.00</td>\n",
       "      <td>6.00</td>\n",
       "      <td>7.00</td>\n",
       "      <td>8.00</td>\n",
       "      <td>9.00</td>\n",
       "      <td>10.00</td>\n",
       "    </tr>\n",
       "    <tr>\n",
       "      <th>n_calls</th>\n",
       "      <td>22.00</td>\n",
       "      <td>43.00</td>\n",
       "      <td>47.00</td>\n",
       "      <td>52.00</td>\n",
       "      <td>58.00</td>\n",
       "      <td>57.00</td>\n",
       "      <td>43.00</td>\n",
       "      <td>46.00</td>\n",
       "      <td>59.00</td>\n",
       "      <td>63.00</td>\n",
       "      <td>15.00</td>\n",
       "      <td>26.00</td>\n",
       "      <td>42.00</td>\n",
       "      <td>36.00</td>\n",
       "      <td>33.00</td>\n",
       "    </tr>\n",
       "    <tr>\n",
       "      <th>minutes</th>\n",
       "      <td>159.00</td>\n",
       "      <td>172.00</td>\n",
       "      <td>340.00</td>\n",
       "      <td>408.00</td>\n",
       "      <td>466.00</td>\n",
       "      <td>350.00</td>\n",
       "      <td>338.00</td>\n",
       "      <td>333.00</td>\n",
       "      <td>430.00</td>\n",
       "      <td>414.00</td>\n",
       "      <td>117.00</td>\n",
       "      <td>214.00</td>\n",
       "      <td>289.00</td>\n",
       "      <td>206.00</td>\n",
       "      <td>212.00</td>\n",
       "    </tr>\n",
       "    <tr>\n",
       "      <th>megabytes</th>\n",
       "      <td>2,253.49</td>\n",
       "      <td>23,233.77</td>\n",
       "      <td>14,003.64</td>\n",
       "      <td>14,055.93</td>\n",
       "      <td>14,568.91</td>\n",
       "      <td>14,702.49</td>\n",
       "      <td>14,756.47</td>\n",
       "      <td>9,817.61</td>\n",
       "      <td>18,429.34</td>\n",
       "      <td>14,036.66</td>\n",
       "      <td>10,856.82</td>\n",
       "      <td>17,580.10</td>\n",
       "      <td>20,319.26</td>\n",
       "      <td>16,691.08</td>\n",
       "      <td>13,888.25</td>\n",
       "    </tr>\n",
       "    <tr>\n",
       "      <th>gigabytes</th>\n",
       "      <td>3.00</td>\n",
       "      <td>23.00</td>\n",
       "      <td>14.00</td>\n",
       "      <td>14.00</td>\n",
       "      <td>15.00</td>\n",
       "      <td>15.00</td>\n",
       "      <td>15.00</td>\n",
       "      <td>10.00</td>\n",
       "      <td>18.00</td>\n",
       "      <td>14.00</td>\n",
       "      <td>11.00</td>\n",
       "      <td>18.00</td>\n",
       "      <td>20.00</td>\n",
       "      <td>17.00</td>\n",
       "      <td>14.00</td>\n",
       "    </tr>\n",
       "    <tr>\n",
       "      <th>n_messages</th>\n",
       "      <td>22.00</td>\n",
       "      <td>60.00</td>\n",
       "      <td>75.00</td>\n",
       "      <td>81.00</td>\n",
       "      <td>57.00</td>\n",
       "      <td>73.00</td>\n",
       "      <td>58.00</td>\n",
       "      <td>70.00</td>\n",
       "      <td>NaN</td>\n",
       "      <td>NaN</td>\n",
       "      <td>4.00</td>\n",
       "      <td>11.00</td>\n",
       "      <td>13.00</td>\n",
       "      <td>4.00</td>\n",
       "      <td>10.00</td>\n",
       "    </tr>\n",
       "    <tr>\n",
       "      <th>city</th>\n",
       "      <td>Краснодар</td>\n",
       "      <td>Краснодар</td>\n",
       "      <td>Краснодар</td>\n",
       "      <td>Краснодар</td>\n",
       "      <td>Краснодар</td>\n",
       "      <td>Краснодар</td>\n",
       "      <td>Краснодар</td>\n",
       "      <td>Краснодар</td>\n",
       "      <td>Москва</td>\n",
       "      <td>Москва</td>\n",
       "      <td>Стерлитамак</td>\n",
       "      <td>Стерлитамак</td>\n",
       "      <td>Стерлитамак</td>\n",
       "      <td>Стерлитамак</td>\n",
       "      <td>Стерлитамак</td>\n",
       "    </tr>\n",
       "    <tr>\n",
       "      <th>tariff_name</th>\n",
       "      <td>ultra</td>\n",
       "      <td>ultra</td>\n",
       "      <td>ultra</td>\n",
       "      <td>ultra</td>\n",
       "      <td>ultra</td>\n",
       "      <td>ultra</td>\n",
       "      <td>ultra</td>\n",
       "      <td>ultra</td>\n",
       "      <td>smart</td>\n",
       "      <td>smart</td>\n",
       "      <td>smart</td>\n",
       "      <td>smart</td>\n",
       "      <td>smart</td>\n",
       "      <td>smart</td>\n",
       "      <td>smart</td>\n",
       "    </tr>\n",
       "    <tr>\n",
       "      <th>messages_included</th>\n",
       "      <td>1000</td>\n",
       "      <td>1000</td>\n",
       "      <td>1000</td>\n",
       "      <td>1000</td>\n",
       "      <td>1000</td>\n",
       "      <td>1000</td>\n",
       "      <td>1000</td>\n",
       "      <td>1000</td>\n",
       "      <td>50</td>\n",
       "      <td>50</td>\n",
       "      <td>50</td>\n",
       "      <td>50</td>\n",
       "      <td>50</td>\n",
       "      <td>50</td>\n",
       "      <td>50</td>\n",
       "    </tr>\n",
       "    <tr>\n",
       "      <th>mb_per_month_included</th>\n",
       "      <td>30720</td>\n",
       "      <td>30720</td>\n",
       "      <td>30720</td>\n",
       "      <td>30720</td>\n",
       "      <td>30720</td>\n",
       "      <td>30720</td>\n",
       "      <td>30720</td>\n",
       "      <td>30720</td>\n",
       "      <td>15360</td>\n",
       "      <td>15360</td>\n",
       "      <td>15360</td>\n",
       "      <td>15360</td>\n",
       "      <td>15360</td>\n",
       "      <td>15360</td>\n",
       "      <td>15360</td>\n",
       "    </tr>\n",
       "    <tr>\n",
       "      <th>minutes_included</th>\n",
       "      <td>3000</td>\n",
       "      <td>3000</td>\n",
       "      <td>3000</td>\n",
       "      <td>3000</td>\n",
       "      <td>3000</td>\n",
       "      <td>3000</td>\n",
       "      <td>3000</td>\n",
       "      <td>3000</td>\n",
       "      <td>500</td>\n",
       "      <td>500</td>\n",
       "      <td>500</td>\n",
       "      <td>500</td>\n",
       "      <td>500</td>\n",
       "      <td>500</td>\n",
       "      <td>500</td>\n",
       "    </tr>\n",
       "    <tr>\n",
       "      <th>rub_monthly_fee</th>\n",
       "      <td>1950</td>\n",
       "      <td>1950</td>\n",
       "      <td>1950</td>\n",
       "      <td>1950</td>\n",
       "      <td>1950</td>\n",
       "      <td>1950</td>\n",
       "      <td>1950</td>\n",
       "      <td>1950</td>\n",
       "      <td>550</td>\n",
       "      <td>550</td>\n",
       "      <td>550</td>\n",
       "      <td>550</td>\n",
       "      <td>550</td>\n",
       "      <td>550</td>\n",
       "      <td>550</td>\n",
       "    </tr>\n",
       "    <tr>\n",
       "      <th>rub_per_gb</th>\n",
       "      <td>150</td>\n",
       "      <td>150</td>\n",
       "      <td>150</td>\n",
       "      <td>150</td>\n",
       "      <td>150</td>\n",
       "      <td>150</td>\n",
       "      <td>150</td>\n",
       "      <td>150</td>\n",
       "      <td>200</td>\n",
       "      <td>200</td>\n",
       "      <td>200</td>\n",
       "      <td>200</td>\n",
       "      <td>200</td>\n",
       "      <td>200</td>\n",
       "      <td>200</td>\n",
       "    </tr>\n",
       "    <tr>\n",
       "      <th>rub_per_message</th>\n",
       "      <td>1</td>\n",
       "      <td>1</td>\n",
       "      <td>1</td>\n",
       "      <td>1</td>\n",
       "      <td>1</td>\n",
       "      <td>1</td>\n",
       "      <td>1</td>\n",
       "      <td>1</td>\n",
       "      <td>3</td>\n",
       "      <td>3</td>\n",
       "      <td>3</td>\n",
       "      <td>3</td>\n",
       "      <td>3</td>\n",
       "      <td>3</td>\n",
       "      <td>3</td>\n",
       "    </tr>\n",
       "    <tr>\n",
       "      <th>rub_per_minute</th>\n",
       "      <td>1</td>\n",
       "      <td>1</td>\n",
       "      <td>1</td>\n",
       "      <td>1</td>\n",
       "      <td>1</td>\n",
       "      <td>1</td>\n",
       "      <td>1</td>\n",
       "      <td>1</td>\n",
       "      <td>3</td>\n",
       "      <td>3</td>\n",
       "      <td>3</td>\n",
       "      <td>3</td>\n",
       "      <td>3</td>\n",
       "      <td>3</td>\n",
       "      <td>3</td>\n",
       "    </tr>\n",
       "  </tbody>\n",
       "</table>\n",
       "</div>"
      ],
      "text/plain": [
       "                              0          1          2          3          4   \\\n",
       "user_id                     1000       1000       1000       1000       1000   \n",
       "month                       5.00       6.00       7.00       8.00       9.00   \n",
       "n_calls                    22.00      43.00      47.00      52.00      58.00   \n",
       "minutes                   159.00     172.00     340.00     408.00     466.00   \n",
       "megabytes               2,253.49  23,233.77  14,003.64  14,055.93  14,568.91   \n",
       "gigabytes                   3.00      23.00      14.00      14.00      15.00   \n",
       "n_messages                 22.00      60.00      75.00      81.00      57.00   \n",
       "city                   Краснодар  Краснодар  Краснодар  Краснодар  Краснодар   \n",
       "tariff_name                ultra      ultra      ultra      ultra      ultra   \n",
       "messages_included           1000       1000       1000       1000       1000   \n",
       "mb_per_month_included      30720      30720      30720      30720      30720   \n",
       "minutes_included            3000       3000       3000       3000       3000   \n",
       "rub_monthly_fee             1950       1950       1950       1950       1950   \n",
       "rub_per_gb                   150        150        150        150        150   \n",
       "rub_per_message                1          1          1          1          1   \n",
       "rub_per_minute                 1          1          1          1          1   \n",
       "\n",
       "                              5          6          7         8         9   \\\n",
       "user_id                     1000       1000       1000      1001      1001   \n",
       "month                      10.00      11.00      12.00     11.00     12.00   \n",
       "n_calls                    57.00      43.00      46.00     59.00     63.00   \n",
       "minutes                   350.00     338.00     333.00    430.00    414.00   \n",
       "megabytes              14,702.49  14,756.47   9,817.61 18,429.34 14,036.66   \n",
       "gigabytes                  15.00      15.00      10.00     18.00     14.00   \n",
       "n_messages                 73.00      58.00      70.00       NaN       NaN   \n",
       "city                   Краснодар  Краснодар  Краснодар    Москва    Москва   \n",
       "tariff_name                ultra      ultra      ultra     smart     smart   \n",
       "messages_included           1000       1000       1000        50        50   \n",
       "mb_per_month_included      30720      30720      30720     15360     15360   \n",
       "minutes_included            3000       3000       3000       500       500   \n",
       "rub_monthly_fee             1950       1950       1950       550       550   \n",
       "rub_per_gb                   150        150        150       200       200   \n",
       "rub_per_message                1          1          1         3         3   \n",
       "rub_per_minute                 1          1          1         3         3   \n",
       "\n",
       "                                10           11           12           13  \\\n",
       "user_id                       1002         1002         1002         1002   \n",
       "month                         6.00         7.00         8.00         9.00   \n",
       "n_calls                      15.00        26.00        42.00        36.00   \n",
       "minutes                     117.00       214.00       289.00       206.00   \n",
       "megabytes                10,856.82    17,580.10    20,319.26    16,691.08   \n",
       "gigabytes                    11.00        18.00        20.00        17.00   \n",
       "n_messages                    4.00        11.00        13.00         4.00   \n",
       "city                   Стерлитамак  Стерлитамак  Стерлитамак  Стерлитамак   \n",
       "tariff_name                  smart        smart        smart        smart   \n",
       "messages_included               50           50           50           50   \n",
       "mb_per_month_included        15360        15360        15360        15360   \n",
       "minutes_included               500          500          500          500   \n",
       "rub_monthly_fee                550          550          550          550   \n",
       "rub_per_gb                     200          200          200          200   \n",
       "rub_per_message                  3            3            3            3   \n",
       "rub_per_minute                   3            3            3            3   \n",
       "\n",
       "                                14  \n",
       "user_id                       1002  \n",
       "month                        10.00  \n",
       "n_calls                      33.00  \n",
       "minutes                     212.00  \n",
       "megabytes                13,888.25  \n",
       "gigabytes                    14.00  \n",
       "n_messages                   10.00  \n",
       "city                   Стерлитамак  \n",
       "tariff_name                  smart  \n",
       "messages_included               50  \n",
       "mb_per_month_included        15360  \n",
       "minutes_included               500  \n",
       "rub_monthly_fee                550  \n",
       "rub_per_gb                     200  \n",
       "rub_per_message                  3  \n",
       "rub_per_minute                   3  "
      ]
     },
     "execution_count": 72,
     "metadata": {},
     "output_type": "execute_result"
    }
   ],
   "source": [
    "data.head(15).T"
   ]
  },
  {
   "cell_type": "code",
   "execution_count": 73,
   "id": "06929e96",
   "metadata": {},
   "outputs": [
    {
     "data": {
      "text/plain": [
       "user_id                    0\n",
       "month                      2\n",
       "n_calls                   42\n",
       "minutes                   42\n",
       "megabytes                 13\n",
       "gigabytes                 13\n",
       "n_messages               499\n",
       "city                       0\n",
       "tariff_name                0\n",
       "messages_included          0\n",
       "mb_per_month_included      0\n",
       "minutes_included           0\n",
       "rub_monthly_fee            0\n",
       "rub_per_gb                 0\n",
       "rub_per_message            0\n",
       "rub_per_minute             0\n",
       "dtype: int64"
      ]
     },
     "execution_count": 73,
     "metadata": {},
     "output_type": "execute_result"
    }
   ],
   "source": [
    "data.isna().sum()"
   ]
  },
  {
   "cell_type": "code",
   "execution_count": 74,
   "id": "927ba18d",
   "metadata": {},
   "outputs": [
    {
     "data": {
      "text/html": [
       "<div>\n",
       "<style scoped>\n",
       "    .dataframe tbody tr th:only-of-type {\n",
       "        vertical-align: middle;\n",
       "    }\n",
       "\n",
       "    .dataframe tbody tr th {\n",
       "        vertical-align: top;\n",
       "    }\n",
       "\n",
       "    .dataframe thead th {\n",
       "        text-align: right;\n",
       "    }\n",
       "</style>\n",
       "<table border=\"1\" class=\"dataframe\">\n",
       "  <thead>\n",
       "    <tr style=\"text-align: right;\">\n",
       "      <th></th>\n",
       "      <th>user_id</th>\n",
       "      <th>month</th>\n",
       "      <th>n_calls</th>\n",
       "      <th>minutes</th>\n",
       "      <th>megabytes</th>\n",
       "      <th>gigabytes</th>\n",
       "      <th>n_messages</th>\n",
       "      <th>city</th>\n",
       "      <th>tariff_name</th>\n",
       "      <th>messages_included</th>\n",
       "      <th>mb_per_month_included</th>\n",
       "      <th>minutes_included</th>\n",
       "      <th>rub_monthly_fee</th>\n",
       "      <th>rub_per_gb</th>\n",
       "      <th>rub_per_message</th>\n",
       "      <th>rub_per_minute</th>\n",
       "    </tr>\n",
       "  </thead>\n",
       "  <tbody>\n",
       "    <tr>\n",
       "      <th>3211</th>\n",
       "      <td>1489</td>\n",
       "      <td>10.00</td>\n",
       "      <td>NaN</td>\n",
       "      <td>NaN</td>\n",
       "      <td>19,559.44</td>\n",
       "      <td>20.00</td>\n",
       "      <td>21.00</td>\n",
       "      <td>Санкт-Петербург</td>\n",
       "      <td>smart</td>\n",
       "      <td>50</td>\n",
       "      <td>15360</td>\n",
       "      <td>500</td>\n",
       "      <td>550</td>\n",
       "      <td>200</td>\n",
       "      <td>3</td>\n",
       "      <td>3</td>\n",
       "    </tr>\n",
       "    <tr>\n",
       "      <th>3212</th>\n",
       "      <td>1489</td>\n",
       "      <td>11.00</td>\n",
       "      <td>NaN</td>\n",
       "      <td>NaN</td>\n",
       "      <td>17,491.56</td>\n",
       "      <td>18.00</td>\n",
       "      <td>20.00</td>\n",
       "      <td>Санкт-Петербург</td>\n",
       "      <td>smart</td>\n",
       "      <td>50</td>\n",
       "      <td>15360</td>\n",
       "      <td>500</td>\n",
       "      <td>550</td>\n",
       "      <td>200</td>\n",
       "      <td>3</td>\n",
       "      <td>3</td>\n",
       "    </tr>\n",
       "    <tr>\n",
       "      <th>3213</th>\n",
       "      <td>1489</td>\n",
       "      <td>12.00</td>\n",
       "      <td>NaN</td>\n",
       "      <td>NaN</td>\n",
       "      <td>17,322.51</td>\n",
       "      <td>17.00</td>\n",
       "      <td>35.00</td>\n",
       "      <td>Санкт-Петербург</td>\n",
       "      <td>smart</td>\n",
       "      <td>50</td>\n",
       "      <td>15360</td>\n",
       "      <td>500</td>\n",
       "      <td>550</td>\n",
       "      <td>200</td>\n",
       "      <td>3</td>\n",
       "      <td>3</td>\n",
       "    </tr>\n",
       "    <tr>\n",
       "      <th>3214</th>\n",
       "      <td>1128</td>\n",
       "      <td>NaN</td>\n",
       "      <td>NaN</td>\n",
       "      <td>NaN</td>\n",
       "      <td>NaN</td>\n",
       "      <td>NaN</td>\n",
       "      <td>NaN</td>\n",
       "      <td>Волжский</td>\n",
       "      <td>ultra</td>\n",
       "      <td>1000</td>\n",
       "      <td>30720</td>\n",
       "      <td>3000</td>\n",
       "      <td>1950</td>\n",
       "      <td>150</td>\n",
       "      <td>1</td>\n",
       "      <td>1</td>\n",
       "    </tr>\n",
       "    <tr>\n",
       "      <th>3215</th>\n",
       "      <td>1371</td>\n",
       "      <td>NaN</td>\n",
       "      <td>NaN</td>\n",
       "      <td>NaN</td>\n",
       "      <td>NaN</td>\n",
       "      <td>NaN</td>\n",
       "      <td>NaN</td>\n",
       "      <td>Омск</td>\n",
       "      <td>smart</td>\n",
       "      <td>50</td>\n",
       "      <td>15360</td>\n",
       "      <td>500</td>\n",
       "      <td>550</td>\n",
       "      <td>200</td>\n",
       "      <td>3</td>\n",
       "      <td>3</td>\n",
       "    </tr>\n",
       "  </tbody>\n",
       "</table>\n",
       "</div>"
      ],
      "text/plain": [
       "     user_id  month  n_calls  minutes  megabytes  gigabytes  n_messages  \\\n",
       "3211    1489  10.00      NaN      NaN  19,559.44      20.00       21.00   \n",
       "3212    1489  11.00      NaN      NaN  17,491.56      18.00       20.00   \n",
       "3213    1489  12.00      NaN      NaN  17,322.51      17.00       35.00   \n",
       "3214    1128    NaN      NaN      NaN        NaN        NaN         NaN   \n",
       "3215    1371    NaN      NaN      NaN        NaN        NaN         NaN   \n",
       "\n",
       "                 city tariff_name  messages_included  mb_per_month_included  \\\n",
       "3211  Санкт-Петербург       smart                 50                  15360   \n",
       "3212  Санкт-Петербург       smart                 50                  15360   \n",
       "3213  Санкт-Петербург       smart                 50                  15360   \n",
       "3214         Волжский       ultra               1000                  30720   \n",
       "3215             Омск       smart                 50                  15360   \n",
       "\n",
       "      minutes_included  rub_monthly_fee  rub_per_gb  rub_per_message  \\\n",
       "3211               500              550         200                3   \n",
       "3212               500              550         200                3   \n",
       "3213               500              550         200                3   \n",
       "3214              3000             1950         150                1   \n",
       "3215               500              550         200                3   \n",
       "\n",
       "      rub_per_minute  \n",
       "3211               3  \n",
       "3212               3  \n",
       "3213               3  \n",
       "3214               1  \n",
       "3215               3  "
      ]
     },
     "execution_count": 74,
     "metadata": {},
     "output_type": "execute_result"
    }
   ],
   "source": [
    "data.tail()"
   ]
  },
  {
   "cell_type": "code",
   "execution_count": 75,
   "id": "55aa6109",
   "metadata": {},
   "outputs": [
    {
     "data": {
      "text/html": [
       "<div>\n",
       "<style scoped>\n",
       "    .dataframe tbody tr th:only-of-type {\n",
       "        vertical-align: middle;\n",
       "    }\n",
       "\n",
       "    .dataframe tbody tr th {\n",
       "        vertical-align: top;\n",
       "    }\n",
       "\n",
       "    .dataframe thead th {\n",
       "        text-align: right;\n",
       "    }\n",
       "</style>\n",
       "<table border=\"1\" class=\"dataframe\">\n",
       "  <thead>\n",
       "    <tr style=\"text-align: right;\">\n",
       "      <th></th>\n",
       "      <th>user_id</th>\n",
       "      <th>age</th>\n",
       "      <th>churn_date</th>\n",
       "      <th>city</th>\n",
       "      <th>first_name</th>\n",
       "      <th>last_name</th>\n",
       "      <th>reg_date</th>\n",
       "      <th>tariff_name</th>\n",
       "    </tr>\n",
       "  </thead>\n",
       "  <tbody>\n",
       "    <tr>\n",
       "      <th>128</th>\n",
       "      <td>1128</td>\n",
       "      <td>51</td>\n",
       "      <td>2018-12-23</td>\n",
       "      <td>Волжский</td>\n",
       "      <td>Ксения</td>\n",
       "      <td>Агаева</td>\n",
       "      <td>2018-12-15</td>\n",
       "      <td>ultra</td>\n",
       "    </tr>\n",
       "  </tbody>\n",
       "</table>\n",
       "</div>"
      ],
      "text/plain": [
       "    user_id  age churn_date      city first_name last_name   reg_date  \\\n",
       "128    1128   51 2018-12-23  Волжский     Ксения    Агаева 2018-12-15   \n",
       "\n",
       "    tariff_name  \n",
       "128       ultra  "
      ]
     },
     "execution_count": 75,
     "metadata": {},
     "output_type": "execute_result"
    }
   ],
   "source": [
    "data_users[data_users['user_id'] == '1128']"
   ]
  },
  {
   "cell_type": "code",
   "execution_count": 76,
   "id": "7e69a8e3",
   "metadata": {},
   "outputs": [
    {
     "data": {
      "text/html": [
       "<div>\n",
       "<style scoped>\n",
       "    .dataframe tbody tr th:only-of-type {\n",
       "        vertical-align: middle;\n",
       "    }\n",
       "\n",
       "    .dataframe tbody tr th {\n",
       "        vertical-align: top;\n",
       "    }\n",
       "\n",
       "    .dataframe thead th {\n",
       "        text-align: right;\n",
       "    }\n",
       "</style>\n",
       "<table border=\"1\" class=\"dataframe\">\n",
       "  <thead>\n",
       "    <tr style=\"text-align: right;\">\n",
       "      <th></th>\n",
       "      <th>user_id</th>\n",
       "      <th>age</th>\n",
       "      <th>churn_date</th>\n",
       "      <th>city</th>\n",
       "      <th>first_name</th>\n",
       "      <th>last_name</th>\n",
       "      <th>reg_date</th>\n",
       "      <th>tariff_name</th>\n",
       "    </tr>\n",
       "  </thead>\n",
       "  <tbody>\n",
       "    <tr>\n",
       "      <th>371</th>\n",
       "      <td>1371</td>\n",
       "      <td>50</td>\n",
       "      <td>2018-12-30</td>\n",
       "      <td>Омск</td>\n",
       "      <td>Ириней</td>\n",
       "      <td>Трофимов</td>\n",
       "      <td>2018-12-25</td>\n",
       "      <td>smart</td>\n",
       "    </tr>\n",
       "  </tbody>\n",
       "</table>\n",
       "</div>"
      ],
      "text/plain": [
       "    user_id  age churn_date  city first_name last_name   reg_date tariff_name\n",
       "371    1371   50 2018-12-30  Омск     Ириней  Трофимов 2018-12-25       smart"
      ]
     },
     "execution_count": 76,
     "metadata": {},
     "output_type": "execute_result"
    }
   ],
   "source": [
    "data_users[data_users['user_id'] == '1371']"
   ]
  },
  {
   "cell_type": "markdown",
   "id": "4d09c700",
   "metadata": {},
   "source": [
    "Обнаружены 2 пользователя, которые не пользовались никакими услугами, т.к. подключились в конце года. Но т.к. тариф оплачен, удалять их не будем. Пропуски в month заменим на 12 (декабрь). Все остальные пропуски заменяем на 0 (не было звонокв, смс и Мб). "
   ]
  },
  {
   "cell_type": "code",
   "execution_count": 77,
   "id": "3452ebf0",
   "metadata": {},
   "outputs": [],
   "source": [
    "data['month'].fillna(12, inplace=True)"
   ]
  },
  {
   "cell_type": "code",
   "execution_count": 78,
   "id": "8de89ad8",
   "metadata": {},
   "outputs": [
    {
     "data": {
      "text/html": [
       "<div>\n",
       "<style scoped>\n",
       "    .dataframe tbody tr th:only-of-type {\n",
       "        vertical-align: middle;\n",
       "    }\n",
       "\n",
       "    .dataframe tbody tr th {\n",
       "        vertical-align: top;\n",
       "    }\n",
       "\n",
       "    .dataframe thead th {\n",
       "        text-align: right;\n",
       "    }\n",
       "</style>\n",
       "<table border=\"1\" class=\"dataframe\">\n",
       "  <thead>\n",
       "    <tr style=\"text-align: right;\">\n",
       "      <th></th>\n",
       "      <th>user_id</th>\n",
       "      <th>month</th>\n",
       "      <th>n_calls</th>\n",
       "      <th>minutes</th>\n",
       "      <th>megabytes</th>\n",
       "      <th>gigabytes</th>\n",
       "      <th>n_messages</th>\n",
       "      <th>city</th>\n",
       "      <th>tariff_name</th>\n",
       "      <th>messages_included</th>\n",
       "      <th>mb_per_month_included</th>\n",
       "      <th>minutes_included</th>\n",
       "      <th>rub_monthly_fee</th>\n",
       "      <th>rub_per_gb</th>\n",
       "      <th>rub_per_message</th>\n",
       "      <th>rub_per_minute</th>\n",
       "    </tr>\n",
       "  </thead>\n",
       "  <tbody>\n",
       "    <tr>\n",
       "      <th>3214</th>\n",
       "      <td>1128</td>\n",
       "      <td>12.00</td>\n",
       "      <td>NaN</td>\n",
       "      <td>NaN</td>\n",
       "      <td>NaN</td>\n",
       "      <td>NaN</td>\n",
       "      <td>NaN</td>\n",
       "      <td>Волжский</td>\n",
       "      <td>ultra</td>\n",
       "      <td>1000</td>\n",
       "      <td>30720</td>\n",
       "      <td>3000</td>\n",
       "      <td>1950</td>\n",
       "      <td>150</td>\n",
       "      <td>1</td>\n",
       "      <td>1</td>\n",
       "    </tr>\n",
       "  </tbody>\n",
       "</table>\n",
       "</div>"
      ],
      "text/plain": [
       "     user_id  month  n_calls  minutes  megabytes  gigabytes  n_messages  \\\n",
       "3214    1128  12.00      NaN      NaN        NaN        NaN         NaN   \n",
       "\n",
       "          city tariff_name  messages_included  mb_per_month_included  \\\n",
       "3214  Волжский       ultra               1000                  30720   \n",
       "\n",
       "      minutes_included  rub_monthly_fee  rub_per_gb  rub_per_message  \\\n",
       "3214              3000             1950         150                1   \n",
       "\n",
       "      rub_per_minute  \n",
       "3214               1  "
      ]
     },
     "execution_count": 78,
     "metadata": {},
     "output_type": "execute_result"
    }
   ],
   "source": [
    "data[data['user_id'] == '1128']"
   ]
  },
  {
   "cell_type": "code",
   "execution_count": 79,
   "id": "81e5523c",
   "metadata": {},
   "outputs": [],
   "source": [
    "data.fillna(0, inplace=True)"
   ]
  },
  {
   "cell_type": "code",
   "execution_count": 80,
   "id": "e3e77d29",
   "metadata": {},
   "outputs": [
    {
     "data": {
      "text/plain": [
       "user_id                  0\n",
       "month                    0\n",
       "n_calls                  0\n",
       "minutes                  0\n",
       "megabytes                0\n",
       "gigabytes                0\n",
       "n_messages               0\n",
       "city                     0\n",
       "tariff_name              0\n",
       "messages_included        0\n",
       "mb_per_month_included    0\n",
       "minutes_included         0\n",
       "rub_monthly_fee          0\n",
       "rub_per_gb               0\n",
       "rub_per_message          0\n",
       "rub_per_minute           0\n",
       "dtype: int64"
      ]
     },
     "execution_count": 80,
     "metadata": {},
     "output_type": "execute_result"
    }
   ],
   "source": [
    "data.isna().sum()"
   ]
  },
  {
   "cell_type": "markdown",
   "id": "31ddcddb",
   "metadata": {},
   "source": [
    "#### Выручка в месяц с каждого клиента"
   ]
  },
  {
   "cell_type": "markdown",
   "id": "6443ee81",
   "metadata": {},
   "source": [
    "Рассчитаем помесячную выручку с каждого пользователя:\n",
    "(вычтите бесплатный лимит из суммарного количества звонков, сообщений и интернет-трафика; остаток умножьте на значение из тарифного плана; прибавьте абонентскую плату, соответствующую тарифному плану)."
   ]
  },
  {
   "cell_type": "markdown",
   "id": "8e6defbd",
   "metadata": {},
   "source": [
    "Создадим столбцы с подсчетом разности потраченного времени/смс/траффика и значением из тарифа. "
   ]
  },
  {
   "cell_type": "code",
   "execution_count": 81,
   "id": "84deffc3",
   "metadata": {},
   "outputs": [],
   "source": [
    "data['calls_overrun'] = data['minutes'] - data['minutes_included']\n",
    "data['sms_overrun'] = data['n_messages'] - data['messages_included']\n",
    "data['gigabytes_overrun'] = data['gigabytes'] - (data['mb_per_month_included']/1024)"
   ]
  },
  {
   "cell_type": "markdown",
   "id": "356ce9c9",
   "metadata": {},
   "source": [
    "Создадим функцию для подсчета выручки, затем применим ее для записи в выручки в новый столбец."
   ]
  },
  {
   "cell_type": "code",
   "execution_count": 82,
   "id": "92408656",
   "metadata": {},
   "outputs": [],
   "source": [
    "def calc_revenue(row):\n",
    "    \"\"\"функция проверяет, есть ли перерасход по лимиту тарифа, \n",
    "    умножает его на стоимость перерасхода и суммирует с базовой\n",
    "    стоимостью тарифа, возвращая расходы клиента за месяц\"\"\"\n",
    "    \n",
    "    minutes_cost = 0\n",
    "    sms_cost = 0\n",
    "    gb_cost = 0\n",
    "    \n",
    "    if row['calls_overrun'] > 0:\n",
    "        minutes_cost = row['calls_overrun'] * row['rub_per_minute']\n",
    "    if row['sms_overrun'] > 0:\n",
    "        sms_cost = row['sms_overrun'] * row['rub_per_message']\n",
    "    if row['gigabytes_overrun'] > 0:\n",
    "        gb_cost = row['gigabytes_overrun'] * row['rub_per_gb']\n",
    "        \n",
    "    return minutes_cost + sms_cost + gb_cost + row['rub_monthly_fee']"
   ]
  },
  {
   "cell_type": "code",
   "execution_count": 83,
   "id": "f8c98730",
   "metadata": {},
   "outputs": [],
   "source": [
    "data['revenue'] = data.apply(calc_revenue, axis=1)"
   ]
  },
  {
   "cell_type": "code",
   "execution_count": 84,
   "id": "92de913f",
   "metadata": {},
   "outputs": [],
   "source": [
    "data.loc[:, ['month', 'n_calls','minutes', 'n_messages','megabytes', 'gigabytes', 'revenue']] = \\\n",
    "data.loc[:, ['month', 'n_calls','minutes', 'n_messages','megabytes', 'gigabytes', 'revenue']].astype(int)"
   ]
  },
  {
   "cell_type": "code",
   "execution_count": 85,
   "id": "2041c3d4",
   "metadata": {},
   "outputs": [
    {
     "data": {
      "text/html": [
       "<div>\n",
       "<style scoped>\n",
       "    .dataframe tbody tr th:only-of-type {\n",
       "        vertical-align: middle;\n",
       "    }\n",
       "\n",
       "    .dataframe tbody tr th {\n",
       "        vertical-align: top;\n",
       "    }\n",
       "\n",
       "    .dataframe thead th {\n",
       "        text-align: right;\n",
       "    }\n",
       "</style>\n",
       "<table border=\"1\" class=\"dataframe\">\n",
       "  <thead>\n",
       "    <tr style=\"text-align: right;\">\n",
       "      <th></th>\n",
       "      <th>user_id</th>\n",
       "      <th>month</th>\n",
       "      <th>n_calls</th>\n",
       "      <th>minutes</th>\n",
       "      <th>megabytes</th>\n",
       "      <th>gigabytes</th>\n",
       "      <th>n_messages</th>\n",
       "      <th>city</th>\n",
       "      <th>tariff_name</th>\n",
       "      <th>messages_included</th>\n",
       "      <th>mb_per_month_included</th>\n",
       "      <th>minutes_included</th>\n",
       "      <th>rub_monthly_fee</th>\n",
       "      <th>rub_per_gb</th>\n",
       "      <th>rub_per_message</th>\n",
       "      <th>rub_per_minute</th>\n",
       "      <th>calls_overrun</th>\n",
       "      <th>sms_overrun</th>\n",
       "      <th>gigabytes_overrun</th>\n",
       "      <th>revenue</th>\n",
       "    </tr>\n",
       "  </thead>\n",
       "  <tbody>\n",
       "    <tr>\n",
       "      <th>0</th>\n",
       "      <td>1000</td>\n",
       "      <td>5</td>\n",
       "      <td>22</td>\n",
       "      <td>159</td>\n",
       "      <td>2253</td>\n",
       "      <td>3</td>\n",
       "      <td>22</td>\n",
       "      <td>Краснодар</td>\n",
       "      <td>ultra</td>\n",
       "      <td>1000</td>\n",
       "      <td>30720</td>\n",
       "      <td>3000</td>\n",
       "      <td>1950</td>\n",
       "      <td>150</td>\n",
       "      <td>1</td>\n",
       "      <td>1</td>\n",
       "      <td>-2,841.00</td>\n",
       "      <td>-978.00</td>\n",
       "      <td>-27.00</td>\n",
       "      <td>1950</td>\n",
       "    </tr>\n",
       "    <tr>\n",
       "      <th>1</th>\n",
       "      <td>1000</td>\n",
       "      <td>6</td>\n",
       "      <td>43</td>\n",
       "      <td>172</td>\n",
       "      <td>23233</td>\n",
       "      <td>23</td>\n",
       "      <td>60</td>\n",
       "      <td>Краснодар</td>\n",
       "      <td>ultra</td>\n",
       "      <td>1000</td>\n",
       "      <td>30720</td>\n",
       "      <td>3000</td>\n",
       "      <td>1950</td>\n",
       "      <td>150</td>\n",
       "      <td>1</td>\n",
       "      <td>1</td>\n",
       "      <td>-2,828.00</td>\n",
       "      <td>-940.00</td>\n",
       "      <td>-7.00</td>\n",
       "      <td>1950</td>\n",
       "    </tr>\n",
       "    <tr>\n",
       "      <th>2</th>\n",
       "      <td>1000</td>\n",
       "      <td>7</td>\n",
       "      <td>47</td>\n",
       "      <td>340</td>\n",
       "      <td>14003</td>\n",
       "      <td>14</td>\n",
       "      <td>75</td>\n",
       "      <td>Краснодар</td>\n",
       "      <td>ultra</td>\n",
       "      <td>1000</td>\n",
       "      <td>30720</td>\n",
       "      <td>3000</td>\n",
       "      <td>1950</td>\n",
       "      <td>150</td>\n",
       "      <td>1</td>\n",
       "      <td>1</td>\n",
       "      <td>-2,660.00</td>\n",
       "      <td>-925.00</td>\n",
       "      <td>-16.00</td>\n",
       "      <td>1950</td>\n",
       "    </tr>\n",
       "    <tr>\n",
       "      <th>3</th>\n",
       "      <td>1000</td>\n",
       "      <td>8</td>\n",
       "      <td>52</td>\n",
       "      <td>408</td>\n",
       "      <td>14055</td>\n",
       "      <td>14</td>\n",
       "      <td>81</td>\n",
       "      <td>Краснодар</td>\n",
       "      <td>ultra</td>\n",
       "      <td>1000</td>\n",
       "      <td>30720</td>\n",
       "      <td>3000</td>\n",
       "      <td>1950</td>\n",
       "      <td>150</td>\n",
       "      <td>1</td>\n",
       "      <td>1</td>\n",
       "      <td>-2,592.00</td>\n",
       "      <td>-919.00</td>\n",
       "      <td>-16.00</td>\n",
       "      <td>1950</td>\n",
       "    </tr>\n",
       "    <tr>\n",
       "      <th>4</th>\n",
       "      <td>1000</td>\n",
       "      <td>9</td>\n",
       "      <td>58</td>\n",
       "      <td>466</td>\n",
       "      <td>14568</td>\n",
       "      <td>15</td>\n",
       "      <td>57</td>\n",
       "      <td>Краснодар</td>\n",
       "      <td>ultra</td>\n",
       "      <td>1000</td>\n",
       "      <td>30720</td>\n",
       "      <td>3000</td>\n",
       "      <td>1950</td>\n",
       "      <td>150</td>\n",
       "      <td>1</td>\n",
       "      <td>1</td>\n",
       "      <td>-2,534.00</td>\n",
       "      <td>-943.00</td>\n",
       "      <td>-15.00</td>\n",
       "      <td>1950</td>\n",
       "    </tr>\n",
       "    <tr>\n",
       "      <th>...</th>\n",
       "      <td>...</td>\n",
       "      <td>...</td>\n",
       "      <td>...</td>\n",
       "      <td>...</td>\n",
       "      <td>...</td>\n",
       "      <td>...</td>\n",
       "      <td>...</td>\n",
       "      <td>...</td>\n",
       "      <td>...</td>\n",
       "      <td>...</td>\n",
       "      <td>...</td>\n",
       "      <td>...</td>\n",
       "      <td>...</td>\n",
       "      <td>...</td>\n",
       "      <td>...</td>\n",
       "      <td>...</td>\n",
       "      <td>...</td>\n",
       "      <td>...</td>\n",
       "      <td>...</td>\n",
       "      <td>...</td>\n",
       "    </tr>\n",
       "    <tr>\n",
       "      <th>3211</th>\n",
       "      <td>1489</td>\n",
       "      <td>10</td>\n",
       "      <td>0</td>\n",
       "      <td>0</td>\n",
       "      <td>19559</td>\n",
       "      <td>20</td>\n",
       "      <td>21</td>\n",
       "      <td>Санкт-Петербург</td>\n",
       "      <td>smart</td>\n",
       "      <td>50</td>\n",
       "      <td>15360</td>\n",
       "      <td>500</td>\n",
       "      <td>550</td>\n",
       "      <td>200</td>\n",
       "      <td>3</td>\n",
       "      <td>3</td>\n",
       "      <td>-500.00</td>\n",
       "      <td>-29.00</td>\n",
       "      <td>5.00</td>\n",
       "      <td>1550</td>\n",
       "    </tr>\n",
       "    <tr>\n",
       "      <th>3212</th>\n",
       "      <td>1489</td>\n",
       "      <td>11</td>\n",
       "      <td>0</td>\n",
       "      <td>0</td>\n",
       "      <td>17491</td>\n",
       "      <td>18</td>\n",
       "      <td>20</td>\n",
       "      <td>Санкт-Петербург</td>\n",
       "      <td>smart</td>\n",
       "      <td>50</td>\n",
       "      <td>15360</td>\n",
       "      <td>500</td>\n",
       "      <td>550</td>\n",
       "      <td>200</td>\n",
       "      <td>3</td>\n",
       "      <td>3</td>\n",
       "      <td>-500.00</td>\n",
       "      <td>-30.00</td>\n",
       "      <td>3.00</td>\n",
       "      <td>1150</td>\n",
       "    </tr>\n",
       "    <tr>\n",
       "      <th>3213</th>\n",
       "      <td>1489</td>\n",
       "      <td>12</td>\n",
       "      <td>0</td>\n",
       "      <td>0</td>\n",
       "      <td>17322</td>\n",
       "      <td>17</td>\n",
       "      <td>35</td>\n",
       "      <td>Санкт-Петербург</td>\n",
       "      <td>smart</td>\n",
       "      <td>50</td>\n",
       "      <td>15360</td>\n",
       "      <td>500</td>\n",
       "      <td>550</td>\n",
       "      <td>200</td>\n",
       "      <td>3</td>\n",
       "      <td>3</td>\n",
       "      <td>-500.00</td>\n",
       "      <td>-15.00</td>\n",
       "      <td>2.00</td>\n",
       "      <td>950</td>\n",
       "    </tr>\n",
       "    <tr>\n",
       "      <th>3214</th>\n",
       "      <td>1128</td>\n",
       "      <td>12</td>\n",
       "      <td>0</td>\n",
       "      <td>0</td>\n",
       "      <td>0</td>\n",
       "      <td>0</td>\n",
       "      <td>0</td>\n",
       "      <td>Волжский</td>\n",
       "      <td>ultra</td>\n",
       "      <td>1000</td>\n",
       "      <td>30720</td>\n",
       "      <td>3000</td>\n",
       "      <td>1950</td>\n",
       "      <td>150</td>\n",
       "      <td>1</td>\n",
       "      <td>1</td>\n",
       "      <td>-3,000.00</td>\n",
       "      <td>-1,000.00</td>\n",
       "      <td>-30.00</td>\n",
       "      <td>1950</td>\n",
       "    </tr>\n",
       "    <tr>\n",
       "      <th>3215</th>\n",
       "      <td>1371</td>\n",
       "      <td>12</td>\n",
       "      <td>0</td>\n",
       "      <td>0</td>\n",
       "      <td>0</td>\n",
       "      <td>0</td>\n",
       "      <td>0</td>\n",
       "      <td>Омск</td>\n",
       "      <td>smart</td>\n",
       "      <td>50</td>\n",
       "      <td>15360</td>\n",
       "      <td>500</td>\n",
       "      <td>550</td>\n",
       "      <td>200</td>\n",
       "      <td>3</td>\n",
       "      <td>3</td>\n",
       "      <td>-500.00</td>\n",
       "      <td>-50.00</td>\n",
       "      <td>-15.00</td>\n",
       "      <td>550</td>\n",
       "    </tr>\n",
       "  </tbody>\n",
       "</table>\n",
       "<p>3216 rows × 20 columns</p>\n",
       "</div>"
      ],
      "text/plain": [
       "     user_id  month  n_calls  minutes  megabytes  gigabytes  n_messages  \\\n",
       "0       1000      5       22      159       2253          3          22   \n",
       "1       1000      6       43      172      23233         23          60   \n",
       "2       1000      7       47      340      14003         14          75   \n",
       "3       1000      8       52      408      14055         14          81   \n",
       "4       1000      9       58      466      14568         15          57   \n",
       "...      ...    ...      ...      ...        ...        ...         ...   \n",
       "3211    1489     10        0        0      19559         20          21   \n",
       "3212    1489     11        0        0      17491         18          20   \n",
       "3213    1489     12        0        0      17322         17          35   \n",
       "3214    1128     12        0        0          0          0           0   \n",
       "3215    1371     12        0        0          0          0           0   \n",
       "\n",
       "                 city tariff_name  messages_included  mb_per_month_included  \\\n",
       "0           Краснодар       ultra               1000                  30720   \n",
       "1           Краснодар       ultra               1000                  30720   \n",
       "2           Краснодар       ultra               1000                  30720   \n",
       "3           Краснодар       ultra               1000                  30720   \n",
       "4           Краснодар       ultra               1000                  30720   \n",
       "...               ...         ...                ...                    ...   \n",
       "3211  Санкт-Петербург       smart                 50                  15360   \n",
       "3212  Санкт-Петербург       smart                 50                  15360   \n",
       "3213  Санкт-Петербург       smart                 50                  15360   \n",
       "3214         Волжский       ultra               1000                  30720   \n",
       "3215             Омск       smart                 50                  15360   \n",
       "\n",
       "      minutes_included  rub_monthly_fee  rub_per_gb  rub_per_message  \\\n",
       "0                 3000             1950         150                1   \n",
       "1                 3000             1950         150                1   \n",
       "2                 3000             1950         150                1   \n",
       "3                 3000             1950         150                1   \n",
       "4                 3000             1950         150                1   \n",
       "...                ...              ...         ...              ...   \n",
       "3211               500              550         200                3   \n",
       "3212               500              550         200                3   \n",
       "3213               500              550         200                3   \n",
       "3214              3000             1950         150                1   \n",
       "3215               500              550         200                3   \n",
       "\n",
       "      rub_per_minute  calls_overrun  sms_overrun  gigabytes_overrun  revenue  \n",
       "0                  1      -2,841.00      -978.00             -27.00     1950  \n",
       "1                  1      -2,828.00      -940.00              -7.00     1950  \n",
       "2                  1      -2,660.00      -925.00             -16.00     1950  \n",
       "3                  1      -2,592.00      -919.00             -16.00     1950  \n",
       "4                  1      -2,534.00      -943.00             -15.00     1950  \n",
       "...              ...            ...          ...                ...      ...  \n",
       "3211               3        -500.00       -29.00               5.00     1550  \n",
       "3212               3        -500.00       -30.00               3.00     1150  \n",
       "3213               3        -500.00       -15.00               2.00      950  \n",
       "3214               1      -3,000.00    -1,000.00             -30.00     1950  \n",
       "3215               3        -500.00       -50.00             -15.00      550  \n",
       "\n",
       "[3216 rows x 20 columns]"
      ]
     },
     "execution_count": 85,
     "metadata": {},
     "output_type": "execute_result"
    }
   ],
   "source": [
    "data"
   ]
  },
  {
   "cell_type": "code",
   "execution_count": 86,
   "id": "7cf7661f",
   "metadata": {},
   "outputs": [],
   "source": [
    "data_final = data[['user_id', 'city', 'tariff_name', 'month', 'minutes', 'n_messages', 'gigabytes', 'revenue']].copy()"
   ]
  },
  {
   "cell_type": "code",
   "execution_count": 87,
   "id": "b36f5b7a",
   "metadata": {},
   "outputs": [
    {
     "data": {
      "text/html": [
       "<div>\n",
       "<style scoped>\n",
       "    .dataframe tbody tr th:only-of-type {\n",
       "        vertical-align: middle;\n",
       "    }\n",
       "\n",
       "    .dataframe tbody tr th {\n",
       "        vertical-align: top;\n",
       "    }\n",
       "\n",
       "    .dataframe thead th {\n",
       "        text-align: right;\n",
       "    }\n",
       "</style>\n",
       "<table border=\"1\" class=\"dataframe\">\n",
       "  <thead>\n",
       "    <tr style=\"text-align: right;\">\n",
       "      <th></th>\n",
       "      <th>user_id</th>\n",
       "      <th>city</th>\n",
       "      <th>tariff_name</th>\n",
       "      <th>month</th>\n",
       "      <th>minutes</th>\n",
       "      <th>n_messages</th>\n",
       "      <th>gigabytes</th>\n",
       "      <th>revenue</th>\n",
       "    </tr>\n",
       "  </thead>\n",
       "  <tbody>\n",
       "    <tr>\n",
       "      <th>0</th>\n",
       "      <td>1000</td>\n",
       "      <td>Краснодар</td>\n",
       "      <td>ultra</td>\n",
       "      <td>5</td>\n",
       "      <td>159</td>\n",
       "      <td>22</td>\n",
       "      <td>3</td>\n",
       "      <td>1950</td>\n",
       "    </tr>\n",
       "    <tr>\n",
       "      <th>1</th>\n",
       "      <td>1000</td>\n",
       "      <td>Краснодар</td>\n",
       "      <td>ultra</td>\n",
       "      <td>6</td>\n",
       "      <td>172</td>\n",
       "      <td>60</td>\n",
       "      <td>23</td>\n",
       "      <td>1950</td>\n",
       "    </tr>\n",
       "    <tr>\n",
       "      <th>2</th>\n",
       "      <td>1000</td>\n",
       "      <td>Краснодар</td>\n",
       "      <td>ultra</td>\n",
       "      <td>7</td>\n",
       "      <td>340</td>\n",
       "      <td>75</td>\n",
       "      <td>14</td>\n",
       "      <td>1950</td>\n",
       "    </tr>\n",
       "    <tr>\n",
       "      <th>3</th>\n",
       "      <td>1000</td>\n",
       "      <td>Краснодар</td>\n",
       "      <td>ultra</td>\n",
       "      <td>8</td>\n",
       "      <td>408</td>\n",
       "      <td>81</td>\n",
       "      <td>14</td>\n",
       "      <td>1950</td>\n",
       "    </tr>\n",
       "    <tr>\n",
       "      <th>4</th>\n",
       "      <td>1000</td>\n",
       "      <td>Краснодар</td>\n",
       "      <td>ultra</td>\n",
       "      <td>9</td>\n",
       "      <td>466</td>\n",
       "      <td>57</td>\n",
       "      <td>15</td>\n",
       "      <td>1950</td>\n",
       "    </tr>\n",
       "    <tr>\n",
       "      <th>...</th>\n",
       "      <td>...</td>\n",
       "      <td>...</td>\n",
       "      <td>...</td>\n",
       "      <td>...</td>\n",
       "      <td>...</td>\n",
       "      <td>...</td>\n",
       "      <td>...</td>\n",
       "      <td>...</td>\n",
       "    </tr>\n",
       "    <tr>\n",
       "      <th>3211</th>\n",
       "      <td>1489</td>\n",
       "      <td>Санкт-Петербург</td>\n",
       "      <td>smart</td>\n",
       "      <td>10</td>\n",
       "      <td>0</td>\n",
       "      <td>21</td>\n",
       "      <td>20</td>\n",
       "      <td>1550</td>\n",
       "    </tr>\n",
       "    <tr>\n",
       "      <th>3212</th>\n",
       "      <td>1489</td>\n",
       "      <td>Санкт-Петербург</td>\n",
       "      <td>smart</td>\n",
       "      <td>11</td>\n",
       "      <td>0</td>\n",
       "      <td>20</td>\n",
       "      <td>18</td>\n",
       "      <td>1150</td>\n",
       "    </tr>\n",
       "    <tr>\n",
       "      <th>3213</th>\n",
       "      <td>1489</td>\n",
       "      <td>Санкт-Петербург</td>\n",
       "      <td>smart</td>\n",
       "      <td>12</td>\n",
       "      <td>0</td>\n",
       "      <td>35</td>\n",
       "      <td>17</td>\n",
       "      <td>950</td>\n",
       "    </tr>\n",
       "    <tr>\n",
       "      <th>3214</th>\n",
       "      <td>1128</td>\n",
       "      <td>Волжский</td>\n",
       "      <td>ultra</td>\n",
       "      <td>12</td>\n",
       "      <td>0</td>\n",
       "      <td>0</td>\n",
       "      <td>0</td>\n",
       "      <td>1950</td>\n",
       "    </tr>\n",
       "    <tr>\n",
       "      <th>3215</th>\n",
       "      <td>1371</td>\n",
       "      <td>Омск</td>\n",
       "      <td>smart</td>\n",
       "      <td>12</td>\n",
       "      <td>0</td>\n",
       "      <td>0</td>\n",
       "      <td>0</td>\n",
       "      <td>550</td>\n",
       "    </tr>\n",
       "  </tbody>\n",
       "</table>\n",
       "<p>3216 rows × 8 columns</p>\n",
       "</div>"
      ],
      "text/plain": [
       "     user_id             city tariff_name  month  minutes  n_messages  \\\n",
       "0       1000        Краснодар       ultra      5      159          22   \n",
       "1       1000        Краснодар       ultra      6      172          60   \n",
       "2       1000        Краснодар       ultra      7      340          75   \n",
       "3       1000        Краснодар       ultra      8      408          81   \n",
       "4       1000        Краснодар       ultra      9      466          57   \n",
       "...      ...              ...         ...    ...      ...         ...   \n",
       "3211    1489  Санкт-Петербург       smart     10        0          21   \n",
       "3212    1489  Санкт-Петербург       smart     11        0          20   \n",
       "3213    1489  Санкт-Петербург       smart     12        0          35   \n",
       "3214    1128         Волжский       ultra     12        0           0   \n",
       "3215    1371             Омск       smart     12        0           0   \n",
       "\n",
       "      gigabytes  revenue  \n",
       "0             3     1950  \n",
       "1            23     1950  \n",
       "2            14     1950  \n",
       "3            14     1950  \n",
       "4            15     1950  \n",
       "...         ...      ...  \n",
       "3211         20     1550  \n",
       "3212         18     1150  \n",
       "3213         17      950  \n",
       "3214          0     1950  \n",
       "3215          0      550  \n",
       "\n",
       "[3216 rows x 8 columns]"
      ]
     },
     "execution_count": 87,
     "metadata": {},
     "output_type": "execute_result"
    }
   ],
   "source": [
    "data_final"
   ]
  },
  {
   "cell_type": "code",
   "execution_count": 88,
   "id": "316ca2b9",
   "metadata": {},
   "outputs": [
    {
     "ename": "SyntaxError",
     "evalue": "invalid syntax (Temp/ipykernel_10336/1258605541.py, line 1)",
     "output_type": "error",
     "traceback": [
      "\u001b[1;36m  File \u001b[1;32m\"C:\\Users\\ANASTA~1\\AppData\\Local\\Temp/ipykernel_10336/1258605541.py\"\u001b[1;36m, line \u001b[1;32m1\u001b[0m\n\u001b[1;33m    Выполним проверку после объединения таблиц.\u001b[0m\n\u001b[1;37m             ^\u001b[0m\n\u001b[1;31mSyntaxError\u001b[0m\u001b[1;31m:\u001b[0m invalid syntax\n"
     ]
    }
   ],
   "source": [
    "Выполним проверку после объединения таблиц."
   ]
  },
  {
   "cell_type": "code",
   "execution_count": null,
   "id": "c45e7f3d",
   "metadata": {},
   "outputs": [],
   "source": [
    "calls['minutes'].sum()"
   ]
  },
  {
   "cell_type": "code",
   "execution_count": null,
   "id": "4c7e4c43",
   "metadata": {},
   "outputs": [],
   "source": [
    "data_final['minutes'].sum()"
   ]
  },
  {
   "cell_type": "code",
   "execution_count": null,
   "id": "58485082",
   "metadata": {},
   "outputs": [],
   "source": [
    "messages['n_messages'].sum()"
   ]
  },
  {
   "cell_type": "code",
   "execution_count": null,
   "id": "71e3b8f0",
   "metadata": {},
   "outputs": [],
   "source": [
    "data_final['n_messages'].sum()"
   ]
  },
  {
   "cell_type": "code",
   "execution_count": null,
   "id": "f8ff50fe",
   "metadata": {},
   "outputs": [],
   "source": [
    "internet['gigabytes'].sum()"
   ]
  },
  {
   "cell_type": "code",
   "execution_count": null,
   "id": "1050e4b9",
   "metadata": {},
   "outputs": [],
   "source": [
    "data_final['gigabytes'].sum()"
   ]
  },
  {
   "cell_type": "code",
   "execution_count": null,
   "id": "bae0e1c4",
   "metadata": {},
   "outputs": [],
   "source": [
    "Суммы значений совпадают, все данные объединились верно."
   ]
  },
  {
   "cell_type": "code",
   "execution_count": null,
   "id": "6b527726",
   "metadata": {},
   "outputs": [],
   "source": [
    "data_final[data_final['tariff_name'] == 'ultra']['revenue'].value_counts()"
   ]
  },
  {
   "cell_type": "code",
   "execution_count": null,
   "id": "1dbc92e2",
   "metadata": {},
   "outputs": [],
   "source": [
    "# Процент пользователей, выходящих за лимит в тарифе Ультра\n",
    "100 - ((len(data_final.query('revenue == 1950 and tariff_name == \"ultra\"')['revenue']) /\n",
    "    (len(data_final[data_final['tariff_name'] == 'ultra'])))) * 100"
   ]
  },
  {
   "cell_type": "code",
   "execution_count": null,
   "id": "9c2aa933",
   "metadata": {
    "scrolled": false
   },
   "outputs": [],
   "source": [
    "data_final[data_final['tariff_name'] == 'smart']['revenue'].value_counts()"
   ]
  },
  {
   "cell_type": "code",
   "execution_count": null,
   "id": "bcc38b86",
   "metadata": {},
   "outputs": [],
   "source": [
    "# Процент пользователей, выходящих за лимит в тарифе Смарт\n",
    "100 - ((len(data_final.query('revenue == 550 and tariff_name == \"smart\"')['revenue'])\n",
    "        / (len(data_final[data_final['tariff_name'] == 'smart'])))) * 100"
   ]
  },
  {
   "cell_type": "code",
   "execution_count": null,
   "id": "9c4b7393",
   "metadata": {},
   "outputs": [],
   "source": [
    "# Средняя переплата по тарифу Ультра\n",
    "data_final[data_final['tariff_name'] == 'ultra']['revenue'].mean() / 1950 * 100 - 100"
   ]
  },
  {
   "cell_type": "code",
   "execution_count": null,
   "id": "4a0c9213",
   "metadata": {},
   "outputs": [],
   "source": [
    "# Средняя переплата по тарифу Смарт\n",
    "data_final[data_final['tariff_name'] == 'smart']['revenue'].mean() / 550 * 100 - 100"
   ]
  },
  {
   "cell_type": "markdown",
   "id": "bdd873ce",
   "metadata": {},
   "source": [
    "Можно сделать вывод, что пользователи тарифа Ультра значительно реже превышают тариф и 87% платят только абонентскую плату, а среди пользователей тарифа Смарт 3/4 пользователей превышают лимиты тарифа и переплачивают 134% стоимости. "
   ]
  },
  {
   "cell_type": "markdown",
   "id": "2eb3d021",
   "metadata": {},
   "source": [
    "### Вывод"
   ]
  },
  {
   "cell_type": "markdown",
   "id": "45b7efd8",
   "metadata": {},
   "source": [
    "Мы провели подготовку данных для дальнейшего анализа: привели данные к нужному типу, провели расчеты средних значений звонков, сообщений и использованного количества гигабайт трафика по месяцам для каждого пользователя, а так же среднюю выручку в месяц по каждому абоненту. Все данные внесены в таблицу `data_final` для последующего анализа. "
   ]
  },
  {
   "cell_type": "markdown",
   "id": "059c749a",
   "metadata": {},
   "source": [
    "## Анализ данных"
   ]
  },
  {
   "cell_type": "markdown",
   "id": "4eabaf55",
   "metadata": {},
   "source": [
    "Требуется описать поведение клиентов оператора, исходя из выборки. \n",
    "\n",
    "Сколько минут разговора, сколько сообщений и какой объём интернет-трафика требуется пользователям каждого тарифа в месяц?\n",
    "\n",
    "Посчитайте среднее количество, дисперсию и стандартное отклонение. Постройте гистограммы. Опишите распределения."
   ]
  },
  {
   "cell_type": "code",
   "execution_count": null,
   "id": "77b892f4",
   "metadata": {},
   "outputs": [],
   "source": [
    "# Считаем среднее количество, дисперсию и стандартное отклонение с помощью группировки и соотвествсующих функций\n",
    "tariff_mean = data_final.groupby(['tariff_name']).agg({'minutes':['mean', 'var', 'std'], \n",
    "                                                       'n_messages': ['mean', 'var', 'std'], \n",
    "                                                      'gigabytes': ['mean', 'var', 'std']})"
   ]
  },
  {
   "cell_type": "code",
   "execution_count": null,
   "id": "ca32265b",
   "metadata": {},
   "outputs": [],
   "source": [
    "tariff_mean"
   ]
  },
  {
   "cell_type": "markdown",
   "id": "fa5a915f",
   "metadata": {},
   "source": [
    "Здесь вы мы видим, как отличаются в среднем поведение пользователей по тарифам: \n",
    "\n",
    "* Пользователи тарифа Смарт в среднем используют на 100 минут меньше, чем пользователи тарифа Ультра. \n",
    "\n",
    "* 33 СМС-сообщения у пользователей тарифа Смарт - 49 у пользователей тарифа Ультра. \n",
    "\n",
    "* По интернет расходу: 16 Гб у пользователей тарифа Смарт, 19 Гб у пользователей тарифа Ультра."
   ]
  },
  {
   "cell_type": "markdown",
   "id": "51e5a239",
   "metadata": {},
   "source": [
    "Далее строим гистограммы распределения по значениям минут, сообщений и использованных гигабайт по двум тарифам. Вертикальными линиями обозначены значения лимитов по каждому тарифу."
   ]
  },
  {
   "cell_type": "code",
   "execution_count": 89,
   "id": "c8ba8a3e",
   "metadata": {},
   "outputs": [
    {
     "data": {
      "image/png": "[encoded data removed]",
      "text/plain": [
       "<Figure size 1008x360 with 1 Axes>"
      ]
     },
     "metadata": {},
     "output_type": "display_data"
    }
   ],
   "source": [
    "plt.figure(figsize=(14, 5))\n",
    "sns.set(context='talk', style='whitegrid', palette='muted')\n",
    "for tariff in ['ultra', 'smart']:\n",
    "    (\n",
    "        sns.distplot(data_final.query('tariff_name == @tariff')['minutes']\n",
    "                     , kde = False,label = tariff).set_title('Длительность звонков')\n",
    "    )\n",
    "_ = plt.legend(['ultra', 'smart'])\n",
    "plt.axvline(500, color='orange')\n",
    "plt.axvline(3000, color='blue')\n",
    "plt.xlabel('Длительность разговора')\n",
    "plt.ylabel('Частота');"
   ]
  },
  {
   "cell_type": "markdown",
   "id": "ed2ff118",
   "metadata": {},
   "source": [
    "По графикам видно, что чуть менее половины пользователей тарифа **Смарт** превышают лимиты по длительности разговоров, а пользователи  тарифа **Ультра**  по длительности разговоров не превышают даже половины лимита. "
   ]
  },
  {
   "cell_type": "code",
   "execution_count": 90,
   "id": "547fd882",
   "metadata": {},
   "outputs": [
    {
     "data": {
      "image/png": "[encoded data removed]",
      "text/plain": [
       "<Figure size 1008x360 with 1 Axes>"
      ]
     },
     "metadata": {},
     "output_type": "display_data"
    }
   ],
   "source": [
    "plt.figure(figsize=(14, 5))\n",
    "for tariff in ['ultra', 'smart']:\n",
    "    (\n",
    "        sns.distplot(data_final.query('tariff_name == @tariff')['n_messages']\n",
    "                     , kde = False, label = tariff).set_title('Количество сообщений')\n",
    "    )\n",
    "_ = plt.legend(['ultra', 'smart'])\n",
    "plt.axvline(50, color='orange')\n",
    "plt.axvline(1000, color='blue')\n",
    "plt.xlabel('Количество сообщений')\n",
    "plt.ylabel('Частота');"
   ]
  },
  {
   "cell_type": "markdown",
   "id": "6a888427",
   "metadata": {},
   "source": [
    "Смс-сообщения не очень популярны у пользователей обоих тарифов, максимальная высота гистограм по обоим тарифам в нуле. Однако, часть пользователей тарифа **Смарт** все же превышает лимит сообщений, а пользователи тарифа **Ультра** укладываются в 1/5 лимита. "
   ]
  },
  {
   "cell_type": "code",
   "execution_count": 91,
   "id": "8252bd19",
   "metadata": {
    "scrolled": false
   },
   "outputs": [
    {
     "data": {
      "image/png": "[encoded data removed]",
      "text/plain": [
       "<Figure size 1008x360 with 1 Axes>"
      ]
     },
     "metadata": {},
     "output_type": "display_data"
    }
   ],
   "source": [
    "plt.figure(figsize=(14, 5))\n",
    "for tariff in ['ultra', 'smart']:\n",
    "    (\n",
    "        sns.distplot(data_final.query('tariff_name == @tariff')['gigabytes']\n",
    "                     , kde = False, label = tariff).set_title('Потрачено гигабайт')\n",
    "    )\n",
    "_ = plt.legend(['ultra', 'smart'])\n",
    "plt.axvline(15, color='orange')\n",
    "plt.axvline(30, color='blue')\n",
    "plt.xlabel('Количество Гб')\n",
    "plt.ylabel('Частота');"
   ]
  },
  {
   "cell_type": "markdown",
   "id": "31e6af97",
   "metadata": {},
   "source": [
    "По количеству использованных Гб большая часть пользователей тирифа **Смарт** превышает лимит, пользователи трафиа **Ультра** превышают лимиты по интернет-трафику значительно реже."
   ]
  },
  {
   "cell_type": "markdown",
   "id": "f7e72bff",
   "metadata": {},
   "source": [
    "### Вывод"
   ]
  },
  {
   "cell_type": "markdown",
   "id": "56719eee",
   "metadata": {},
   "source": [
    "Мы проанализировали данные из выборки.\n",
    "\n",
    "Средние значения для тарифа **Смарт**: \n",
    "\n",
    "*  Минуты - *418* при лимите *500*;\n",
    "*  Сообщения - *33* при лимите *50*;\n",
    "*  Количество Гб - *16* при лимите *15*.\n",
    "\n",
    "\n",
    "Средние значения для тарфиа **Ультра**:\n",
    "\n",
    "* Минуты - *542* при лимите *3000*;\n",
    "* Сообщения - *48* при лимите *1000*;\n",
    "* Количество Гб - *19* при лимите *30*.\n",
    "\n",
    "Среди пользователей тарифа **Смарт** даже среднее количество Гб превышает лимит. \n",
    "\n",
    "По графикам видно, что чуть менее половины пользователей тарифа **Смарт** превышают лимиты по длительности разговоров, а пользователи  тарифа **Ультра**  по длительности разговоров не превышают даже половины лимита. \n",
    "\n",
    "\n",
    "Смс-сообщения не очень популярны у пользователей обоих тарифов, максимальная высота гистограм по обоим тарифам в нуле. Однако, часть пользователей тарифа **Смарт** все же превышает лимит сообщений, а пользователи тарифа **Ультра** укладываются в 1/5 лимита. \n",
    "\n",
    "По количеству использованных Гб большая часть пользователей тирифа **Смарт** превышает лимит, пользователи трафиа **Ультра** превышают лимиты по интернет-трафику значительно реже.\n"
   ]
  },
  {
   "cell_type": "markdown",
   "id": "93942cf6",
   "metadata": {},
   "source": [
    "## Проверка гипотез"
   ]
  },
  {
   "cell_type": "markdown",
   "id": "0539f56f",
   "metadata": {},
   "source": [
    "Требуется проверить следующие гипотезы:\n",
    "\n",
    "* средняя выручка пользователей тарифов **«Ультра»** и **«Смарт»** различаются;\n",
    "* средняя выручка пользователей из Москвы отличается от выручки пользователей из других регионов.\n",
    "\n",
    "Пороговое значение *alpha* задайте самостоятельно.\n",
    "\n",
    "Поясните:\n",
    "* как вы формулировали нулевую и альтернативную гипотезы;\n",
    "* какой критерий использовали для проверки гипотез и почему."
   ]
  },
  {
   "cell_type": "markdown",
   "id": "f4504220",
   "metadata": {},
   "source": [
    "### Проверка гипотез равенства средней выручки по тарифам"
   ]
  },
  {
   "cell_type": "markdown",
   "id": "36f9b105",
   "metadata": {},
   "source": [
    "Проверяем первую гипотезу: `средняя выручка пользователей тарифов «Ультра» и «Смарт» различаются`. \n",
    "\n",
    "**Нулевая гипотеза H₀** : \"Средние выручки пользователей тарифов **«Ультра»** и **«Смарт»** равны\".\n",
    "\n",
    "**Альтернативная гипотеза H₁** : \"Средние выручки пользователей тарифов **«Ультра»** и **«Смарт»** не равны\".\n",
    "\n",
    "**Пороговое значение alpha** 5%\n",
    "\n",
    "Нулевая гипотеза всегда формимулируется так, чтобы использовать знака равенства, в нашем случае это равенство средних выручек. \n",
    "Исходя из H₀ формулируется альтернативная гипотеза H₁. Это утверждение, которое принимается верным, если отбрасывается H₀, т.е. в альтернативной гипотезе предполагаем, что средние выручки по тарифам не равны. \n",
    "Критерием для проверки гипотез является сравнение p-value (вероятности получить наблюдаемый или еще более далекий от предполагаемого результат при условии, что нулевая гипотеза верна) и выбранным уровнем значимости. \n",
    "\n",
    "В Python есть специальный метод для проверки гипотезы о равенстве среднего двух генеральных совокупностей по взятым из них выборкам: `scipy.stats.ttest_ind (array1, array2, equal_var)`, его мы и используем.\n",
    "Параметр `equal_var` принимаем `False`, т.к. у нас разные размеры выборок.\n"
   ]
  },
  {
   "cell_type": "code",
   "execution_count": 92,
   "id": "21b42310",
   "metadata": {},
   "outputs": [
    {
     "name": "stdout",
     "output_type": "stream",
     "text": [
      "p-значение:  1.927011394420941e-250\n",
      "Отвергаем нулевую гипотезу\n"
     ]
    }
   ],
   "source": [
    "ultra = data_final.query('tariff_name == \"ultra\"')['revenue']\n",
    "smart = data_final.query('tariff_name == \"smart\"')['revenue']\n",
    "\n",
    "alpha = 0.05\n",
    "\n",
    "results = st.ttest_ind(\n",
    "    ultra,\n",
    "    smart,\n",
    "    equal_var=False)   \n",
    "\n",
    "print('p-значение: ', results.pvalue)\n",
    "\n",
    "if results.pvalue < alpha:\n",
    "    print(\"Отвергаем нулевую гипотезу\")\n",
    "else:\n",
    "    print(\"Не получилось отвергнуть нулевую гипотезу\") "
   ]
  },
  {
   "cell_type": "markdown",
   "id": "0a77f28e",
   "metadata": {},
   "source": [
    "Нулевая гипотеза не подтвердилась, значит, средние выручки по тарифам не равны. Посчитаем средние выручки."
   ]
  },
  {
   "cell_type": "code",
   "execution_count": 93,
   "id": "73a91fa8",
   "metadata": {
    "scrolled": true
   },
   "outputs": [
    {
     "name": "stdout",
     "output_type": "stream",
     "text": [
      "Среднее значение выручки по тарифу \"Ультра\": 2070 \n",
      "Среднее значение выручки по по тарифу \"Смарт\": 1289\n"
     ]
    }
   ],
   "source": [
    "print('Среднее значение выручки по тарифу \"Ультра\":', int(ultra.mean()), '\\n'\n",
    "      'Среднее значение выручки по по тарифу \"Смарт\":', int(smart.mean()))"
   ]
  },
  {
   "cell_type": "markdown",
   "id": "10a3ec7c",
   "metadata": {},
   "source": [
    "#### Вывод"
   ]
  },
  {
   "cell_type": "markdown",
   "id": "ed3c0314",
   "metadata": {},
   "source": [
    "Вероятность, что средние выручки по тарифам **Ультра** и **Смарт** равны  - менее 5%. Мы проверили средние выручки по тарифам и они отличаются приблизительно вдвое. "
   ]
  },
  {
   "cell_type": "markdown",
   "id": "1c1e7fd6",
   "metadata": {},
   "source": [
    "### Проверка гипотез равенства выручки по Москве и другим городам"
   ]
  },
  {
   "cell_type": "markdown",
   "id": "574c7428",
   "metadata": {},
   "source": [
    "Проверяем гипотезу `средняя выручка пользователей из Москвы отличается от выручки пользователей из других регионов`\n",
    "\n",
    "**Нулевая гипотеза H₀** : \"Средние выручки пользователей из Москвы и пользователей из других регионов равны\".\n",
    "\n",
    "**Альтернативная гипотеза H₁** : \"Средние выручки пользователей из Москвы и пользователей из других регионов не равны\".\n",
    "\n",
    "**Пороговое значение alpha** 5%"
   ]
  },
  {
   "cell_type": "code",
   "execution_count": 94,
   "id": "f7c597e5",
   "metadata": {},
   "outputs": [
    {
     "name": "stdout",
     "output_type": "stream",
     "text": [
      "p-значение:  0.5216952110000279\n",
      "Не получилось отвергнуть нулевую гипотезу\n"
     ]
    }
   ],
   "source": [
    "moscow = data_final.query('city == \"Москва\"')['revenue']\n",
    "not_moscow = data_final.query('city != \"Москва\"')['revenue']\n",
    "\n",
    "alpha = 0.05\n",
    "\n",
    "results = st.ttest_ind(\n",
    "    moscow,\n",
    "    not_moscow,\n",
    "    equal_var=False\n",
    "    )   \n",
    "\n",
    "print('p-значение: ', results.pvalue)\n",
    "\n",
    "if results.pvalue < alpha:\n",
    "    print(\"Отвергаем нулевую гипотезу\")\n",
    "else:\n",
    "    print(\"Не получилось отвергнуть нулевую гипотезу\") "
   ]
  },
  {
   "cell_type": "markdown",
   "id": "3a77c5ae",
   "metadata": {},
   "source": [
    "Полученное значение p-value говорит о том, что вероятность получить такое или большее различие случайно почти 45%. Это явно слишком большая вероятность, чтобы делать вывод о значимом различии между средники выручками."
   ]
  },
  {
   "cell_type": "code",
   "execution_count": 95,
   "id": "48b0dd4d",
   "metadata": {},
   "outputs": [
    {
     "name": "stdout",
     "output_type": "stream",
     "text": [
      "Среднее значение выручки по Москве: 1546 \n",
      "Среднее значение выручки по другим городам: 1524\n"
     ]
    }
   ],
   "source": [
    "print('Среднее значение выручки по Москве:', int(moscow.mean()), '\\n'\n",
    "      'Среднее значение выручки по другим городам:', int(not_moscow.mean()))"
   ]
  },
  {
   "cell_type": "markdown",
   "id": "cfdeb7a9",
   "metadata": {},
   "source": [
    "#### Вывод"
   ]
  },
  {
   "cell_type": "markdown",
   "id": "f9314e3c",
   "metadata": {},
   "source": [
    "Гипотеза о равенстве средней выручки по Москве и средней выручки по другим городам подтвердилась, с высокой вероятностью средние значения будут равны. "
   ]
  },
  {
   "cell_type": "markdown",
   "id": "2b6fed7d",
   "metadata": {},
   "source": [
    "### Проверка значений абсолютной прибыли"
   ]
  },
  {
   "cell_type": "markdown",
   "id": "ddf7e130",
   "metadata": {},
   "source": [
    "Средняя выручка по тарифу **Ультра** значительно выше, чем по тарифу **Смарт**, но количество пользователей по тарифу **Смарт** выше. Посчитаем выручку от клиентов по двум тарифам в зависимости от количества. "
   ]
  },
  {
   "cell_type": "code",
   "execution_count": 96,
   "id": "a1e99ca8",
   "metadata": {},
   "outputs": [
    {
     "data": {
      "text/plain": [
       "ultra    986\n",
       "Name: tariff_name, dtype: int64"
      ]
     },
     "execution_count": 96,
     "metadata": {},
     "output_type": "execute_result"
    }
   ],
   "source": [
    "data_final.query('tariff_name == \"ultra\"')['tariff_name'].value_counts()"
   ]
  },
  {
   "cell_type": "code",
   "execution_count": 97,
   "id": "2826f661",
   "metadata": {},
   "outputs": [
    {
     "data": {
      "text/plain": [
       "3216"
      ]
     },
     "execution_count": 97,
     "metadata": {},
     "output_type": "execute_result"
    }
   ],
   "source": [
    "len(data_final['tariff_name'])"
   ]
  },
  {
   "cell_type": "code",
   "execution_count": 98,
   "id": "aa982fa8",
   "metadata": {},
   "outputs": [
    {
     "data": {
      "text/plain": [
       "smart    2230\n",
       "Name: tariff_name, dtype: int64"
      ]
     },
     "execution_count": 98,
     "metadata": {},
     "output_type": "execute_result"
    }
   ],
   "source": [
    "data_final.query('tariff_name == \"smart\"')['tariff_name'].value_counts()"
   ]
  },
  {
   "cell_type": "code",
   "execution_count": 99,
   "id": "51942ca7",
   "metadata": {},
   "outputs": [
    {
     "data": {
      "text/plain": [
       "ultra   634.65\n",
       "Name: tariff_name, dtype: float64"
      ]
     },
     "execution_count": 99,
     "metadata": {},
     "output_type": "execute_result"
    }
   ],
   "source": [
    "# Отношение количества пользователей тарифа Ультра к общему количеству пользователей,\n",
    "# умноженное на среднюю выручку по тарифу Ультра\n",
    "(data_final.query('tariff_name == \"ultra\"')['tariff_name'].value_counts()/\n",
    " len(data_final['tariff_name']) * int(ultra.mean()))"
   ]
  },
  {
   "cell_type": "code",
   "execution_count": 100,
   "id": "9431ae9d",
   "metadata": {},
   "outputs": [
    {
     "data": {
      "text/plain": [
       "smart   893.80\n",
       "Name: tariff_name, dtype: float64"
      ]
     },
     "execution_count": 100,
     "metadata": {},
     "output_type": "execute_result"
    }
   ],
   "source": [
    "# Отношение количества пользователей тарифа Смарт к общему количеству пользователей,\n",
    "# умноженное на среднюю выручку по тарифу Смарт\n",
    "(data_final.query('tariff_name == \"smart\"')['tariff_name'].value_counts()/\n",
    " len(data_final['tariff_name'])* int(smart.mean()))"
   ]
  },
  {
   "cell_type": "code",
   "execution_count": 101,
   "id": "1e119de0",
   "metadata": {},
   "outputs": [
    {
     "data": {
      "text/plain": [
       "834851"
      ]
     },
     "execution_count": 101,
     "metadata": {},
     "output_type": "execute_result"
    }
   ],
   "source": [
    "# разница абсолютной прибыли тарифа Смарт и Ультра\n",
    "data_final.query('tariff_name == \"smart\"')['revenue'].sum() - data_final.query('tariff_name == \"ultra\"')['revenue'].sum()"
   ]
  },
  {
   "cell_type": "markdown",
   "id": "680bff66",
   "metadata": {},
   "source": [
    "На данный момент пользователи тарифа **Смарт** приносят больше прибыли, т.к. их количество больше. "
   ]
  },
  {
   "cell_type": "markdown",
   "id": "125b518f",
   "metadata": {},
   "source": [
    "## Общий вывод"
   ]
  },
  {
   "cell_type": "markdown",
   "id": "2b884b30",
   "metadata": {},
   "source": [
    "Основной задачей проекта был запрос от коммерческого департамента федерального оператора сотовой связи компании «Мегалайн».\n",
    "Клиентам предлагаются два тарифных плана: «Смарт» и «Ультра». Нужно было понять, какой тариф приносит больше денег, чтобы скорректировать рекламный бюджет. \n",
    "\n",
    "В нашем распоряжении данные 500 пользователей «Мегалайна»: кто они, откуда, каким тарифом пользуются, сколько звонков и сообщений каждый отправил за 2018 год. Мы проанализировали поведение клиентов, чтобы сделать вывод — какой тариф лучше.\n",
    " \n",
    "Для выполнения задачи мы сначала провели проверку данных: оценили данные на аномалии, пропуски и дубликаты - их не обнаружено. Привели данные к правильному типу, переименовали столбцы и приступили к расчетам. \n",
    "\n",
    "Затем мы провели расчеты средних значений по количеству и длительности звонков, сообщений и использованного количества гигабайт трафика по месяцам для каждого пользователя, а так же среднюю выручку в месяц по каждому абоненту. \n",
    "\n",
    "Затем мы построили гистограммы со средними значениями длительности разговоров, сообщений и израсходованных Гб трафика для каждого пользователя по двум тарифам. \n",
    "\n",
    "В результате получились следующие выводы: \n",
    "\n",
    "\n",
    "1) **sms-сообщения** не популярны у абонентов **двух тарифов** - за рамки предоставленных сообщений пользователи практически не выходят;\n",
    "\n",
    "2) Пользователям тарифа **Смарт** чаще не хватает лимитов по кол-ву минут и интернет-траффику и плата за пользование тарифом превышает абонентскую ежемесячную плату, в отличие от пользователей тарифа **Ультра**;\n",
    "\n",
    "3) Средняя выручка по пользователям тарифа **Ультра** превышает среднюю выручку по тарифу **Смарт**;\n",
    "\n",
    "4) Средняя выручка по абонентам из **Москвы** практически не отличается от средней выручки по абонентам из **других городов**.\n",
    "\n",
    " \n",
    "Тариф **Ультра** принесет больше прибыли, средняя выручка по тарифу 2070 р., а по тарифу **Смарт** - 1290 р. На данный момент абсолютная прибыль по тарифу **Смарт** выше, т.к. пользователей этого тарифа больше. \n",
    "Поэтому рекламный блюджет следует направить на привлечения клиентов к тарифу **Ультра**. \n",
    "\n"
   ]
  }
 ],
 "metadata": {
  "ExecuteTimeLog": [
   {
    "duration": 1242,
    "start_time": "2022-04-02T22:24:46.711Z"
   },
   {
    "duration": 3,
    "start_time": "2022-04-02T22:24:47.955Z"
   },
   {
    "duration": 369,
    "start_time": "2022-04-02T22:24:47.960Z"
   },
   {
    "duration": 14,
    "start_time": "2022-04-02T22:24:48.331Z"
   },
   {
    "duration": 8,
    "start_time": "2022-04-02T22:24:48.347Z"
   },
   {
    "duration": 7,
    "start_time": "2022-04-02T22:24:48.363Z"
   },
   {
    "duration": 9,
    "start_time": "2022-04-02T22:24:48.371Z"
   },
   {
    "duration": 9,
    "start_time": "2022-04-02T22:24:48.381Z"
   },
   {
    "duration": 15,
    "start_time": "2022-04-02T22:24:48.391Z"
   },
   {
    "duration": 5,
    "start_time": "2022-04-02T22:24:48.408Z"
   },
   {
    "duration": 7,
    "start_time": "2022-04-02T22:24:48.414Z"
   },
   {
    "duration": 5,
    "start_time": "2022-04-02T22:24:48.423Z"
   },
   {
    "duration": 41,
    "start_time": "2022-04-02T22:24:48.429Z"
   },
   {
    "duration": 23,
    "start_time": "2022-04-02T22:24:48.473Z"
   },
   {
    "duration": 135,
    "start_time": "2022-04-02T22:24:48.498Z"
   },
   {
    "duration": 3,
    "start_time": "2022-04-02T22:24:48.635Z"
   },
   {
    "duration": 38,
    "start_time": "2022-04-02T22:24:48.639Z"
   },
   {
    "duration": 17,
    "start_time": "2022-04-02T22:24:48.678Z"
   },
   {
    "duration": 90,
    "start_time": "2022-04-02T22:24:48.696Z"
   },
   {
    "duration": 3,
    "start_time": "2022-04-02T22:24:48.788Z"
   },
   {
    "duration": 24,
    "start_time": "2022-04-02T22:24:48.792Z"
   },
   {
    "duration": 46,
    "start_time": "2022-04-02T22:24:48.817Z"
   },
   {
    "duration": 8,
    "start_time": "2022-04-02T22:24:48.865Z"
   },
   {
    "duration": 106,
    "start_time": "2022-04-02T22:24:48.875Z"
   },
   {
    "duration": 3,
    "start_time": "2022-04-02T22:24:48.983Z"
   },
   {
    "duration": 22,
    "start_time": "2022-04-02T22:24:48.987Z"
   },
   {
    "duration": 9,
    "start_time": "2022-04-02T22:24:49.011Z"
   },
   {
    "duration": 8,
    "start_time": "2022-04-02T22:24:49.021Z"
   },
   {
    "duration": 12,
    "start_time": "2022-04-02T22:24:49.030Z"
   },
   {
    "duration": 24,
    "start_time": "2022-04-02T22:24:49.063Z"
   },
   {
    "duration": 4,
    "start_time": "2022-04-02T22:24:49.089Z"
   },
   {
    "duration": 8,
    "start_time": "2022-04-02T22:24:49.095Z"
   },
   {
    "duration": 41,
    "start_time": "2022-04-02T22:24:49.104Z"
   },
   {
    "duration": 262,
    "start_time": "2022-04-02T22:24:49.147Z"
   },
   {
    "duration": 123,
    "start_time": "2022-04-02T22:24:49.411Z"
   },
   {
    "duration": 29,
    "start_time": "2022-04-02T22:24:49.536Z"
   },
   {
    "duration": 14,
    "start_time": "2022-04-02T22:24:49.567Z"
   },
   {
    "duration": 18,
    "start_time": "2022-04-02T22:24:49.582Z"
   },
   {
    "duration": 153,
    "start_time": "2022-04-02T22:24:49.602Z"
   },
   {
    "duration": 7,
    "start_time": "2022-04-02T22:24:49.757Z"
   },
   {
    "duration": 4,
    "start_time": "2022-04-02T22:24:49.770Z"
   },
   {
    "duration": 7,
    "start_time": "2022-04-02T22:24:49.775Z"
   },
   {
    "duration": 7,
    "start_time": "2022-04-02T22:24:49.783Z"
   },
   {
    "duration": 9,
    "start_time": "2022-04-02T22:24:49.792Z"
   },
   {
    "duration": 4,
    "start_time": "2022-04-02T22:24:49.803Z"
   },
   {
    "duration": 12,
    "start_time": "2022-04-02T22:24:49.808Z"
   },
   {
    "duration": 23,
    "start_time": "2022-04-02T22:24:49.822Z"
   },
   {
    "duration": 12,
    "start_time": "2022-04-02T22:24:49.864Z"
   },
   {
    "duration": 9,
    "start_time": "2022-04-02T22:24:49.877Z"
   },
   {
    "duration": 12,
    "start_time": "2022-04-02T22:24:49.887Z"
   },
   {
    "duration": 36,
    "start_time": "2022-04-02T22:24:49.901Z"
   },
   {
    "duration": 32,
    "start_time": "2022-04-02T22:24:49.939Z"
   },
   {
    "duration": 6,
    "start_time": "2022-04-02T22:24:49.972Z"
   },
   {
    "duration": 11,
    "start_time": "2022-04-02T22:24:49.979Z"
   },
   {
    "duration": 8,
    "start_time": "2022-04-02T22:24:49.991Z"
   },
   {
    "duration": 11,
    "start_time": "2022-04-02T22:24:50.001Z"
   },
   {
    "duration": 9,
    "start_time": "2022-04-02T22:24:50.013Z"
   },
   {
    "duration": 4,
    "start_time": "2022-04-02T22:24:50.023Z"
   },
   {
    "duration": 38,
    "start_time": "2022-04-02T22:24:50.029Z"
   },
   {
    "duration": 10,
    "start_time": "2022-04-02T22:24:50.069Z"
   },
   {
    "duration": 16,
    "start_time": "2022-04-02T22:24:50.080Z"
   },
   {
    "duration": 13,
    "start_time": "2022-04-02T22:24:50.097Z"
   },
   {
    "duration": 32,
    "start_time": "2022-04-02T22:24:50.111Z"
   },
   {
    "duration": 27,
    "start_time": "2022-04-02T22:24:50.144Z"
   },
   {
    "duration": 6,
    "start_time": "2022-04-02T22:24:50.172Z"
   },
   {
    "duration": 10,
    "start_time": "2022-04-02T22:24:50.179Z"
   },
   {
    "duration": 7,
    "start_time": "2022-04-02T22:24:50.190Z"
   },
   {
    "duration": 9,
    "start_time": "2022-04-02T22:24:50.199Z"
   },
   {
    "duration": 6,
    "start_time": "2022-04-02T22:24:50.209Z"
   },
   {
    "duration": 3,
    "start_time": "2022-04-02T22:24:50.216Z"
   },
   {
    "duration": 8,
    "start_time": "2022-04-02T22:24:50.220Z"
   },
   {
    "duration": 17,
    "start_time": "2022-04-02T22:24:50.262Z"
   },
   {
    "duration": 12,
    "start_time": "2022-04-02T22:24:50.281Z"
   },
   {
    "duration": 24,
    "start_time": "2022-04-02T22:24:50.295Z"
   },
   {
    "duration": 9,
    "start_time": "2022-04-02T22:24:50.321Z"
   },
   {
    "duration": 32,
    "start_time": "2022-04-02T22:24:50.332Z"
   },
   {
    "duration": 20,
    "start_time": "2022-04-02T22:24:50.366Z"
   },
   {
    "duration": 10,
    "start_time": "2022-04-02T22:24:50.387Z"
   },
   {
    "duration": 12,
    "start_time": "2022-04-02T22:24:50.399Z"
   },
   {
    "duration": 7,
    "start_time": "2022-04-02T22:24:50.412Z"
   },
   {
    "duration": 3,
    "start_time": "2022-04-02T22:24:50.421Z"
   },
   {
    "duration": 79,
    "start_time": "2022-04-02T22:24:50.425Z"
   },
   {
    "duration": 6,
    "start_time": "2022-04-02T22:24:50.506Z"
   },
   {
    "duration": 17,
    "start_time": "2022-04-02T22:24:50.514Z"
   },
   {
    "duration": 10,
    "start_time": "2022-04-02T22:24:50.533Z"
   },
   {
    "duration": 4,
    "start_time": "2022-04-02T22:24:50.545Z"
   },
   {
    "duration": 64,
    "start_time": "2022-04-02T22:24:50.550Z"
   },
   {
    "duration": 7,
    "start_time": "2022-04-02T22:24:50.616Z"
   },
   {
    "duration": 19,
    "start_time": "2022-04-02T22:24:50.625Z"
   },
   {
    "duration": 17,
    "start_time": "2022-04-02T22:24:50.646Z"
   },
   {
    "duration": 12,
    "start_time": "2022-04-02T22:24:50.664Z"
   },
   {
    "duration": 15,
    "start_time": "2022-04-02T22:24:50.677Z"
   },
   {
    "duration": 7,
    "start_time": "2022-04-02T22:24:50.693Z"
   },
   {
    "duration": 7,
    "start_time": "2022-04-02T22:24:50.702Z"
   },
   {
    "duration": 5,
    "start_time": "2022-04-02T22:24:50.711Z"
   },
   {
    "duration": 6,
    "start_time": "2022-04-02T22:24:50.718Z"
   },
   {
    "duration": 8,
    "start_time": "2022-04-02T22:24:50.725Z"
   },
   {
    "duration": 37,
    "start_time": "2022-04-02T22:24:50.734Z"
   },
   {
    "duration": 11,
    "start_time": "2022-04-02T22:24:50.772Z"
   },
   {
    "duration": 22,
    "start_time": "2022-04-02T22:24:50.785Z"
   },
   {
    "duration": 21,
    "start_time": "2022-04-02T22:24:50.809Z"
   },
   {
    "duration": 41,
    "start_time": "2022-04-02T22:24:50.831Z"
   },
   {
    "duration": 9,
    "start_time": "2022-04-02T22:24:50.874Z"
   },
   {
    "duration": 7,
    "start_time": "2022-04-02T22:24:50.885Z"
   },
   {
    "duration": 12,
    "start_time": "2022-04-02T22:24:50.893Z"
   },
   {
    "duration": 437,
    "start_time": "2022-04-02T22:24:50.907Z"
   },
   {
    "duration": 341,
    "start_time": "2022-04-02T22:24:51.346Z"
   },
   {
    "duration": 334,
    "start_time": "2022-04-02T22:24:51.688Z"
   },
   {
    "duration": 10,
    "start_time": "2022-04-02T22:24:52.024Z"
   },
   {
    "duration": 12,
    "start_time": "2022-04-02T22:24:52.035Z"
   },
   {
    "duration": 17,
    "start_time": "2022-04-02T22:24:52.049Z"
   },
   {
    "duration": 4,
    "start_time": "2022-04-02T22:24:52.067Z"
   },
   {
    "duration": 10,
    "start_time": "2022-04-02T22:24:52.072Z"
   },
   {
    "duration": 4,
    "start_time": "2022-04-02T22:24:52.083Z"
   },
   {
    "duration": 9,
    "start_time": "2022-04-02T22:24:52.088Z"
   },
   {
    "duration": 5,
    "start_time": "2022-04-02T22:24:52.098Z"
   },
   {
    "duration": 6,
    "start_time": "2022-04-02T22:24:52.104Z"
   },
   {
    "duration": 11,
    "start_time": "2022-04-02T22:24:52.111Z"
   },
   {
    "duration": 125,
    "start_time": "2022-04-02T22:44:59.584Z"
   },
   {
    "duration": 13,
    "start_time": "2022-04-02T22:45:26.753Z"
   },
   {
    "duration": 57,
    "start_time": "2022-04-02T22:53:17.409Z"
   },
   {
    "duration": 19,
    "start_time": "2022-04-02T22:54:37.889Z"
   },
   {
    "duration": 15,
    "start_time": "2022-04-02T22:58:14.329Z"
   },
   {
    "duration": 15,
    "start_time": "2022-04-02T22:58:19.016Z"
   },
   {
    "duration": 16,
    "start_time": "2022-04-02T22:58:23.293Z"
   },
   {
    "duration": 17,
    "start_time": "2022-04-02T22:59:00.325Z"
   },
   {
    "duration": 17,
    "start_time": "2022-04-02T22:59:05.362Z"
   },
   {
    "duration": 16,
    "start_time": "2022-04-02T22:59:14.713Z"
   },
   {
    "duration": 14,
    "start_time": "2022-04-02T22:59:25.261Z"
   },
   {
    "duration": 3,
    "start_time": "2022-04-02T23:09:18.141Z"
   },
   {
    "duration": 4,
    "start_time": "2022-04-02T23:09:20.190Z"
   },
   {
    "duration": 5,
    "start_time": "2022-04-02T23:15:17.198Z"
   }
  ],
  "kernelspec": {
   "display_name": "Python 3 (ipykernel)",
   "language": "python",
   "name": "python3"
  },
  "language_info": {
   "codemirror_mode": {
    "name": "ipython",
    "version": 3
   },
   "file_extension": ".py",
   "mimetype": "text/x-python",
   "name": "python",
   "nbconvert_exporter": "python",
   "pygments_lexer": "ipython3",
   "version": "3.9.7"
  },
  "toc": {
   "base_numbering": 1,
   "nav_menu": {},
   "number_sections": true,
   "sideBar": true,
   "skip_h1_title": true,
   "title_cell": "Содержание",
   "title_sidebar": "Contents",
   "toc_cell": true,
   "toc_position": {
    "height": "calc(100% - 180px)",
    "left": "10px",
    "top": "150px",
    "width": "356px"
   },
   "toc_section_display": true,
   "toc_window_display": true
  }
 },
 "nbformat": 4,
 "nbformat_minor": 5
}
