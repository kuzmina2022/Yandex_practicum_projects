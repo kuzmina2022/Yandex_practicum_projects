{
 "cells": [
  {
   "cell_type": "markdown",
   "metadata": {},
   "source": [
    "# Прогнозирование оттока клиентов Банка"
   ]
  },
  {
   "cell_type": "markdown",
   "metadata": {
    "toc": true
   },
   "source": [
    "<h1>Содержание<span class=\"tocSkip\"></span></h1>\n",
    "<div class=\"toc\"><ul class=\"toc-item\"><li><span><a href=\"#Описание-проекта\" data-toc-modified-id=\"Описание-проекта-1\"><span class=\"toc-item-num\">1&nbsp;&nbsp;</span>Описание проекта</a></span></li><li><span><a href=\"#Подготовка-данных\" data-toc-modified-id=\"Подготовка-данных-2\"><span class=\"toc-item-num\">2&nbsp;&nbsp;</span>Подготовка данных</a></span></li><li><span><a href=\"#Исследование-задачи\" data-toc-modified-id=\"Исследование-задачи-3\"><span class=\"toc-item-num\">3&nbsp;&nbsp;</span>Исследование задачи</a></span></li><li><span><a href=\"#Борьба-с-дисбалансом\" data-toc-modified-id=\"Борьба-с-дисбалансом-4\"><span class=\"toc-item-num\">4&nbsp;&nbsp;</span>Борьба с дисбалансом</a></span><ul class=\"toc-item\"><li><span><a href=\"#Борьба-с-дисбалансом-другим-способом\" data-toc-modified-id=\"Борьба-с-дисбалансом-другим-способом-4.1\"><span class=\"toc-item-num\">4.1&nbsp;&nbsp;</span>Борьба с дисбалансом другим способом</a></span></li></ul></li><li><span><a href=\"#Тестирование-модели\" data-toc-modified-id=\"Тестирование-модели-5\"><span class=\"toc-item-num\">5&nbsp;&nbsp;</span>Тестирование модели</a></span></li><li><span><a href=\"#Вывод\" data-toc-modified-id=\"Вывод-6\"><span class=\"toc-item-num\">6&nbsp;&nbsp;</span>Вывод</a></span></li></ul></div>"
   ]
  },
  {
   "cell_type": "markdown",
   "metadata": {},
   "source": [
    "## Описание проекта"
   ]
  },
  {
   "cell_type": "markdown",
   "metadata": {},
   "source": [
    "Из «Бета-Банка» стали уходить клиенты. Каждый месяц. Немного, но заметно. Банковские маркетологи посчитали: сохранять текущих клиентов дешевле, чем привлекать новых.\n",
    "\n",
    "Нужно спрогнозировать, уйдёт клиент из банка в ближайшее время или нет. Предоставлены исторические данные о поведении клиентов и расторжении договоров с банком. \n",
    "\n",
    "Нужно построить модель со значением *F1*-меры не менее 0.59. \n",
    "\n",
    "Дополнительно нужно измерить *AUC-ROC*, сравнивая её значение с *F1*-мерой."
   ]
  },
  {
   "cell_type": "markdown",
   "metadata": {},
   "source": [
    "## Подготовка данных"
   ]
  },
  {
   "cell_type": "code",
   "execution_count": 1,
   "metadata": {},
   "outputs": [],
   "source": [
    "import pandas as pd\n",
    "import numpy as np\n",
    "import matplotlib.pyplot as plt\n",
    "import seaborn as sns\n",
    "\n",
    "from sklearn.model_selection import train_test_split\n",
    "from sklearn.utils import shuffle\n",
    "from sklearn.tree import DecisionTreeClassifier\n",
    "from sklearn.ensemble import RandomForestClassifier\n",
    "from sklearn.linear_model import LogisticRegression \n",
    "\n",
    "from sklearn.metrics import f1_score\n",
    "from sklearn.metrics import confusion_matrix\n",
    "from sklearn.preprocessing import StandardScaler\n",
    "from sklearn.metrics import roc_auc_score\n",
    "pd.options.mode.chained_assignment = None"
   ]
  },
  {
   "cell_type": "code",
   "execution_count": 2,
   "metadata": {},
   "outputs": [],
   "source": [
    "try: \n",
    "    data = pd.read_csv('/datasets/Churn.csv')\n",
    "except: \n",
    "    data = pd.read_csv('datasets/Churn.csv')"
   ]
  },
  {
   "cell_type": "code",
   "execution_count": 3,
   "metadata": {},
   "outputs": [
    {
     "data": {
      "text/html": [
       "<div>\n",
       "<style scoped>\n",
       "    .dataframe tbody tr th:only-of-type {\n",
       "        vertical-align: middle;\n",
       "    }\n",
       "\n",
       "    .dataframe tbody tr th {\n",
       "        vertical-align: top;\n",
       "    }\n",
       "\n",
       "    .dataframe thead th {\n",
       "        text-align: right;\n",
       "    }\n",
       "</style>\n",
       "<table border=\"1\" class=\"dataframe\">\n",
       "  <thead>\n",
       "    <tr style=\"text-align: right;\">\n",
       "      <th></th>\n",
       "      <th>RowNumber</th>\n",
       "      <th>CustomerId</th>\n",
       "      <th>Surname</th>\n",
       "      <th>CreditScore</th>\n",
       "      <th>Geography</th>\n",
       "      <th>Gender</th>\n",
       "      <th>Age</th>\n",
       "      <th>Tenure</th>\n",
       "      <th>Balance</th>\n",
       "      <th>NumOfProducts</th>\n",
       "      <th>HasCrCard</th>\n",
       "      <th>IsActiveMember</th>\n",
       "      <th>EstimatedSalary</th>\n",
       "      <th>Exited</th>\n",
       "    </tr>\n",
       "  </thead>\n",
       "  <tbody>\n",
       "    <tr>\n",
       "      <th>0</th>\n",
       "      <td>1</td>\n",
       "      <td>15634602</td>\n",
       "      <td>Hargrave</td>\n",
       "      <td>619</td>\n",
       "      <td>France</td>\n",
       "      <td>Female</td>\n",
       "      <td>42</td>\n",
       "      <td>2.0</td>\n",
       "      <td>0.00</td>\n",
       "      <td>1</td>\n",
       "      <td>1</td>\n",
       "      <td>1</td>\n",
       "      <td>101348.88</td>\n",
       "      <td>1</td>\n",
       "    </tr>\n",
       "    <tr>\n",
       "      <th>1</th>\n",
       "      <td>2</td>\n",
       "      <td>15647311</td>\n",
       "      <td>Hill</td>\n",
       "      <td>608</td>\n",
       "      <td>Spain</td>\n",
       "      <td>Female</td>\n",
       "      <td>41</td>\n",
       "      <td>1.0</td>\n",
       "      <td>83807.86</td>\n",
       "      <td>1</td>\n",
       "      <td>0</td>\n",
       "      <td>1</td>\n",
       "      <td>112542.58</td>\n",
       "      <td>0</td>\n",
       "    </tr>\n",
       "    <tr>\n",
       "      <th>2</th>\n",
       "      <td>3</td>\n",
       "      <td>15619304</td>\n",
       "      <td>Onio</td>\n",
       "      <td>502</td>\n",
       "      <td>France</td>\n",
       "      <td>Female</td>\n",
       "      <td>42</td>\n",
       "      <td>8.0</td>\n",
       "      <td>159660.80</td>\n",
       "      <td>3</td>\n",
       "      <td>1</td>\n",
       "      <td>0</td>\n",
       "      <td>113931.57</td>\n",
       "      <td>1</td>\n",
       "    </tr>\n",
       "    <tr>\n",
       "      <th>3</th>\n",
       "      <td>4</td>\n",
       "      <td>15701354</td>\n",
       "      <td>Boni</td>\n",
       "      <td>699</td>\n",
       "      <td>France</td>\n",
       "      <td>Female</td>\n",
       "      <td>39</td>\n",
       "      <td>1.0</td>\n",
       "      <td>0.00</td>\n",
       "      <td>2</td>\n",
       "      <td>0</td>\n",
       "      <td>0</td>\n",
       "      <td>93826.63</td>\n",
       "      <td>0</td>\n",
       "    </tr>\n",
       "    <tr>\n",
       "      <th>4</th>\n",
       "      <td>5</td>\n",
       "      <td>15737888</td>\n",
       "      <td>Mitchell</td>\n",
       "      <td>850</td>\n",
       "      <td>Spain</td>\n",
       "      <td>Female</td>\n",
       "      <td>43</td>\n",
       "      <td>2.0</td>\n",
       "      <td>125510.82</td>\n",
       "      <td>1</td>\n",
       "      <td>1</td>\n",
       "      <td>1</td>\n",
       "      <td>79084.10</td>\n",
       "      <td>0</td>\n",
       "    </tr>\n",
       "    <tr>\n",
       "      <th>...</th>\n",
       "      <td>...</td>\n",
       "      <td>...</td>\n",
       "      <td>...</td>\n",
       "      <td>...</td>\n",
       "      <td>...</td>\n",
       "      <td>...</td>\n",
       "      <td>...</td>\n",
       "      <td>...</td>\n",
       "      <td>...</td>\n",
       "      <td>...</td>\n",
       "      <td>...</td>\n",
       "      <td>...</td>\n",
       "      <td>...</td>\n",
       "      <td>...</td>\n",
       "    </tr>\n",
       "    <tr>\n",
       "      <th>9995</th>\n",
       "      <td>9996</td>\n",
       "      <td>15606229</td>\n",
       "      <td>Obijiaku</td>\n",
       "      <td>771</td>\n",
       "      <td>France</td>\n",
       "      <td>Male</td>\n",
       "      <td>39</td>\n",
       "      <td>5.0</td>\n",
       "      <td>0.00</td>\n",
       "      <td>2</td>\n",
       "      <td>1</td>\n",
       "      <td>0</td>\n",
       "      <td>96270.64</td>\n",
       "      <td>0</td>\n",
       "    </tr>\n",
       "    <tr>\n",
       "      <th>9996</th>\n",
       "      <td>9997</td>\n",
       "      <td>15569892</td>\n",
       "      <td>Johnstone</td>\n",
       "      <td>516</td>\n",
       "      <td>France</td>\n",
       "      <td>Male</td>\n",
       "      <td>35</td>\n",
       "      <td>10.0</td>\n",
       "      <td>57369.61</td>\n",
       "      <td>1</td>\n",
       "      <td>1</td>\n",
       "      <td>1</td>\n",
       "      <td>101699.77</td>\n",
       "      <td>0</td>\n",
       "    </tr>\n",
       "    <tr>\n",
       "      <th>9997</th>\n",
       "      <td>9998</td>\n",
       "      <td>15584532</td>\n",
       "      <td>Liu</td>\n",
       "      <td>709</td>\n",
       "      <td>France</td>\n",
       "      <td>Female</td>\n",
       "      <td>36</td>\n",
       "      <td>7.0</td>\n",
       "      <td>0.00</td>\n",
       "      <td>1</td>\n",
       "      <td>0</td>\n",
       "      <td>1</td>\n",
       "      <td>42085.58</td>\n",
       "      <td>1</td>\n",
       "    </tr>\n",
       "    <tr>\n",
       "      <th>9998</th>\n",
       "      <td>9999</td>\n",
       "      <td>15682355</td>\n",
       "      <td>Sabbatini</td>\n",
       "      <td>772</td>\n",
       "      <td>Germany</td>\n",
       "      <td>Male</td>\n",
       "      <td>42</td>\n",
       "      <td>3.0</td>\n",
       "      <td>75075.31</td>\n",
       "      <td>2</td>\n",
       "      <td>1</td>\n",
       "      <td>0</td>\n",
       "      <td>92888.52</td>\n",
       "      <td>1</td>\n",
       "    </tr>\n",
       "    <tr>\n",
       "      <th>9999</th>\n",
       "      <td>10000</td>\n",
       "      <td>15628319</td>\n",
       "      <td>Walker</td>\n",
       "      <td>792</td>\n",
       "      <td>France</td>\n",
       "      <td>Female</td>\n",
       "      <td>28</td>\n",
       "      <td>NaN</td>\n",
       "      <td>130142.79</td>\n",
       "      <td>1</td>\n",
       "      <td>1</td>\n",
       "      <td>0</td>\n",
       "      <td>38190.78</td>\n",
       "      <td>0</td>\n",
       "    </tr>\n",
       "  </tbody>\n",
       "</table>\n",
       "<p>10000 rows × 14 columns</p>\n",
       "</div>"
      ],
      "text/plain": [
       "      RowNumber  CustomerId    Surname  CreditScore Geography  Gender  Age  \\\n",
       "0             1    15634602   Hargrave          619    France  Female   42   \n",
       "1             2    15647311       Hill          608     Spain  Female   41   \n",
       "2             3    15619304       Onio          502    France  Female   42   \n",
       "3             4    15701354       Boni          699    France  Female   39   \n",
       "4             5    15737888   Mitchell          850     Spain  Female   43   \n",
       "...         ...         ...        ...          ...       ...     ...  ...   \n",
       "9995       9996    15606229   Obijiaku          771    France    Male   39   \n",
       "9996       9997    15569892  Johnstone          516    France    Male   35   \n",
       "9997       9998    15584532        Liu          709    France  Female   36   \n",
       "9998       9999    15682355  Sabbatini          772   Germany    Male   42   \n",
       "9999      10000    15628319     Walker          792    France  Female   28   \n",
       "\n",
       "      Tenure    Balance  NumOfProducts  HasCrCard  IsActiveMember  \\\n",
       "0        2.0       0.00              1          1               1   \n",
       "1        1.0   83807.86              1          0               1   \n",
       "2        8.0  159660.80              3          1               0   \n",
       "3        1.0       0.00              2          0               0   \n",
       "4        2.0  125510.82              1          1               1   \n",
       "...      ...        ...            ...        ...             ...   \n",
       "9995     5.0       0.00              2          1               0   \n",
       "9996    10.0   57369.61              1          1               1   \n",
       "9997     7.0       0.00              1          0               1   \n",
       "9998     3.0   75075.31              2          1               0   \n",
       "9999     NaN  130142.79              1          1               0   \n",
       "\n",
       "      EstimatedSalary  Exited  \n",
       "0           101348.88       1  \n",
       "1           112542.58       0  \n",
       "2           113931.57       1  \n",
       "3            93826.63       0  \n",
       "4            79084.10       0  \n",
       "...               ...     ...  \n",
       "9995         96270.64       0  \n",
       "9996        101699.77       0  \n",
       "9997         42085.58       1  \n",
       "9998         92888.52       1  \n",
       "9999         38190.78       0  \n",
       "\n",
       "[10000 rows x 14 columns]"
      ]
     },
     "execution_count": 3,
     "metadata": {},
     "output_type": "execute_result"
    }
   ],
   "source": [
    "data"
   ]
  },
  {
   "cell_type": "markdown",
   "metadata": {},
   "source": [
    "**Признаки**\n",
    "\n",
    "* `RowNumber` — индекс строки в данных\n",
    "* `CustomerId` — уникальный идентификатор клиента\n",
    "* `Surname` — фамилия\n",
    "* `CreditScore` — кредитный рейтинг\n",
    "* `Geography` — страна проживания\n",
    "* `Gender` — пол\n",
    "* `Age` — возраст\n",
    "* `Tenure` — сколько лет человек является клиентом банка\n",
    "* `Balance` — баланс на счёте\n",
    "* `NumOfProducts` — количество продуктов банка, используемых клиентом\n",
    "* `HasCrCard` — наличие кредитной карты\n",
    "* `IsActiveMember` — активность клиента\n",
    "* `EstimatedSalary` — предполагаемая зарплата\n",
    "\n",
    "**Целевой признак**\n",
    "\n",
    "* `Exited` — факт ухода клиента"
   ]
  },
  {
   "cell_type": "code",
   "execution_count": 4,
   "metadata": {},
   "outputs": [
    {
     "name": "stdout",
     "output_type": "stream",
     "text": [
      "<class 'pandas.core.frame.DataFrame'>\n",
      "RangeIndex: 10000 entries, 0 to 9999\n",
      "Data columns (total 14 columns):\n",
      " #   Column           Non-Null Count  Dtype  \n",
      "---  ------           --------------  -----  \n",
      " 0   RowNumber        10000 non-null  int64  \n",
      " 1   CustomerId       10000 non-null  int64  \n",
      " 2   Surname          10000 non-null  object \n",
      " 3   CreditScore      10000 non-null  int64  \n",
      " 4   Geography        10000 non-null  object \n",
      " 5   Gender           10000 non-null  object \n",
      " 6   Age              10000 non-null  int64  \n",
      " 7   Tenure           9091 non-null   float64\n",
      " 8   Balance          10000 non-null  float64\n",
      " 9   NumOfProducts    10000 non-null  int64  \n",
      " 10  HasCrCard        10000 non-null  int64  \n",
      " 11  IsActiveMember   10000 non-null  int64  \n",
      " 12  EstimatedSalary  10000 non-null  float64\n",
      " 13  Exited           10000 non-null  int64  \n",
      "dtypes: float64(3), int64(8), object(3)\n",
      "memory usage: 1.1+ MB\n"
     ]
    }
   ],
   "source": [
    "data.info()"
   ]
  },
  {
   "cell_type": "markdown",
   "metadata": {},
   "source": [
    "Есть данные типа `object`, которые нужно будет преобразовать, а так же есть пропуски в `['Tenure']`"
   ]
  },
  {
   "cell_type": "markdown",
   "metadata": {},
   "source": [
    "Обработаем пропуски."
   ]
  },
  {
   "cell_type": "code",
   "execution_count": 5,
   "metadata": {},
   "outputs": [
    {
     "data": {
      "text/html": [
       "<div>\n",
       "<style scoped>\n",
       "    .dataframe tbody tr th:only-of-type {\n",
       "        vertical-align: middle;\n",
       "    }\n",
       "\n",
       "    .dataframe tbody tr th {\n",
       "        vertical-align: top;\n",
       "    }\n",
       "\n",
       "    .dataframe thead th {\n",
       "        text-align: right;\n",
       "    }\n",
       "</style>\n",
       "<table border=\"1\" class=\"dataframe\">\n",
       "  <thead>\n",
       "    <tr style=\"text-align: right;\">\n",
       "      <th></th>\n",
       "      <th>RowNumber</th>\n",
       "      <th>CustomerId</th>\n",
       "      <th>Surname</th>\n",
       "      <th>CreditScore</th>\n",
       "      <th>Geography</th>\n",
       "      <th>Gender</th>\n",
       "      <th>Age</th>\n",
       "      <th>Tenure</th>\n",
       "      <th>Balance</th>\n",
       "      <th>NumOfProducts</th>\n",
       "      <th>HasCrCard</th>\n",
       "      <th>IsActiveMember</th>\n",
       "      <th>EstimatedSalary</th>\n",
       "      <th>Exited</th>\n",
       "    </tr>\n",
       "  </thead>\n",
       "  <tbody>\n",
       "    <tr>\n",
       "      <th>30</th>\n",
       "      <td>31</td>\n",
       "      <td>15589475</td>\n",
       "      <td>Azikiwe</td>\n",
       "      <td>591</td>\n",
       "      <td>Spain</td>\n",
       "      <td>Female</td>\n",
       "      <td>39</td>\n",
       "      <td>NaN</td>\n",
       "      <td>0.00</td>\n",
       "      <td>3</td>\n",
       "      <td>1</td>\n",
       "      <td>0</td>\n",
       "      <td>140469.38</td>\n",
       "      <td>1</td>\n",
       "    </tr>\n",
       "    <tr>\n",
       "      <th>48</th>\n",
       "      <td>49</td>\n",
       "      <td>15766205</td>\n",
       "      <td>Yin</td>\n",
       "      <td>550</td>\n",
       "      <td>Germany</td>\n",
       "      <td>Male</td>\n",
       "      <td>38</td>\n",
       "      <td>NaN</td>\n",
       "      <td>103391.38</td>\n",
       "      <td>1</td>\n",
       "      <td>0</td>\n",
       "      <td>1</td>\n",
       "      <td>90878.13</td>\n",
       "      <td>0</td>\n",
       "    </tr>\n",
       "    <tr>\n",
       "      <th>51</th>\n",
       "      <td>52</td>\n",
       "      <td>15768193</td>\n",
       "      <td>Trevisani</td>\n",
       "      <td>585</td>\n",
       "      <td>Germany</td>\n",
       "      <td>Male</td>\n",
       "      <td>36</td>\n",
       "      <td>NaN</td>\n",
       "      <td>146050.97</td>\n",
       "      <td>2</td>\n",
       "      <td>0</td>\n",
       "      <td>0</td>\n",
       "      <td>86424.57</td>\n",
       "      <td>0</td>\n",
       "    </tr>\n",
       "    <tr>\n",
       "      <th>53</th>\n",
       "      <td>54</td>\n",
       "      <td>15702298</td>\n",
       "      <td>Parkhill</td>\n",
       "      <td>655</td>\n",
       "      <td>Germany</td>\n",
       "      <td>Male</td>\n",
       "      <td>41</td>\n",
       "      <td>NaN</td>\n",
       "      <td>125561.97</td>\n",
       "      <td>1</td>\n",
       "      <td>0</td>\n",
       "      <td>0</td>\n",
       "      <td>164040.94</td>\n",
       "      <td>1</td>\n",
       "    </tr>\n",
       "    <tr>\n",
       "      <th>60</th>\n",
       "      <td>61</td>\n",
       "      <td>15651280</td>\n",
       "      <td>Hunter</td>\n",
       "      <td>742</td>\n",
       "      <td>Germany</td>\n",
       "      <td>Male</td>\n",
       "      <td>35</td>\n",
       "      <td>NaN</td>\n",
       "      <td>136857.00</td>\n",
       "      <td>1</td>\n",
       "      <td>0</td>\n",
       "      <td>0</td>\n",
       "      <td>84509.57</td>\n",
       "      <td>0</td>\n",
       "    </tr>\n",
       "    <tr>\n",
       "      <th>...</th>\n",
       "      <td>...</td>\n",
       "      <td>...</td>\n",
       "      <td>...</td>\n",
       "      <td>...</td>\n",
       "      <td>...</td>\n",
       "      <td>...</td>\n",
       "      <td>...</td>\n",
       "      <td>...</td>\n",
       "      <td>...</td>\n",
       "      <td>...</td>\n",
       "      <td>...</td>\n",
       "      <td>...</td>\n",
       "      <td>...</td>\n",
       "      <td>...</td>\n",
       "    </tr>\n",
       "    <tr>\n",
       "      <th>9944</th>\n",
       "      <td>9945</td>\n",
       "      <td>15703923</td>\n",
       "      <td>Cameron</td>\n",
       "      <td>744</td>\n",
       "      <td>Germany</td>\n",
       "      <td>Male</td>\n",
       "      <td>41</td>\n",
       "      <td>NaN</td>\n",
       "      <td>190409.34</td>\n",
       "      <td>2</td>\n",
       "      <td>1</td>\n",
       "      <td>1</td>\n",
       "      <td>138361.48</td>\n",
       "      <td>0</td>\n",
       "    </tr>\n",
       "    <tr>\n",
       "      <th>9956</th>\n",
       "      <td>9957</td>\n",
       "      <td>15707861</td>\n",
       "      <td>Nucci</td>\n",
       "      <td>520</td>\n",
       "      <td>France</td>\n",
       "      <td>Female</td>\n",
       "      <td>46</td>\n",
       "      <td>NaN</td>\n",
       "      <td>85216.61</td>\n",
       "      <td>1</td>\n",
       "      <td>1</td>\n",
       "      <td>0</td>\n",
       "      <td>117369.52</td>\n",
       "      <td>1</td>\n",
       "    </tr>\n",
       "    <tr>\n",
       "      <th>9964</th>\n",
       "      <td>9965</td>\n",
       "      <td>15642785</td>\n",
       "      <td>Douglas</td>\n",
       "      <td>479</td>\n",
       "      <td>France</td>\n",
       "      <td>Male</td>\n",
       "      <td>34</td>\n",
       "      <td>NaN</td>\n",
       "      <td>117593.48</td>\n",
       "      <td>2</td>\n",
       "      <td>0</td>\n",
       "      <td>0</td>\n",
       "      <td>113308.29</td>\n",
       "      <td>0</td>\n",
       "    </tr>\n",
       "    <tr>\n",
       "      <th>9985</th>\n",
       "      <td>9986</td>\n",
       "      <td>15586914</td>\n",
       "      <td>Nepean</td>\n",
       "      <td>659</td>\n",
       "      <td>France</td>\n",
       "      <td>Male</td>\n",
       "      <td>36</td>\n",
       "      <td>NaN</td>\n",
       "      <td>123841.49</td>\n",
       "      <td>2</td>\n",
       "      <td>1</td>\n",
       "      <td>0</td>\n",
       "      <td>96833.00</td>\n",
       "      <td>0</td>\n",
       "    </tr>\n",
       "    <tr>\n",
       "      <th>9999</th>\n",
       "      <td>10000</td>\n",
       "      <td>15628319</td>\n",
       "      <td>Walker</td>\n",
       "      <td>792</td>\n",
       "      <td>France</td>\n",
       "      <td>Female</td>\n",
       "      <td>28</td>\n",
       "      <td>NaN</td>\n",
       "      <td>130142.79</td>\n",
       "      <td>1</td>\n",
       "      <td>1</td>\n",
       "      <td>0</td>\n",
       "      <td>38190.78</td>\n",
       "      <td>0</td>\n",
       "    </tr>\n",
       "  </tbody>\n",
       "</table>\n",
       "<p>909 rows × 14 columns</p>\n",
       "</div>"
      ],
      "text/plain": [
       "      RowNumber  CustomerId    Surname  CreditScore Geography  Gender  Age  \\\n",
       "30           31    15589475    Azikiwe          591     Spain  Female   39   \n",
       "48           49    15766205        Yin          550   Germany    Male   38   \n",
       "51           52    15768193  Trevisani          585   Germany    Male   36   \n",
       "53           54    15702298   Parkhill          655   Germany    Male   41   \n",
       "60           61    15651280     Hunter          742   Germany    Male   35   \n",
       "...         ...         ...        ...          ...       ...     ...  ...   \n",
       "9944       9945    15703923    Cameron          744   Germany    Male   41   \n",
       "9956       9957    15707861      Nucci          520    France  Female   46   \n",
       "9964       9965    15642785    Douglas          479    France    Male   34   \n",
       "9985       9986    15586914     Nepean          659    France    Male   36   \n",
       "9999      10000    15628319     Walker          792    France  Female   28   \n",
       "\n",
       "      Tenure    Balance  NumOfProducts  HasCrCard  IsActiveMember  \\\n",
       "30       NaN       0.00              3          1               0   \n",
       "48       NaN  103391.38              1          0               1   \n",
       "51       NaN  146050.97              2          0               0   \n",
       "53       NaN  125561.97              1          0               0   \n",
       "60       NaN  136857.00              1          0               0   \n",
       "...      ...        ...            ...        ...             ...   \n",
       "9944     NaN  190409.34              2          1               1   \n",
       "9956     NaN   85216.61              1          1               0   \n",
       "9964     NaN  117593.48              2          0               0   \n",
       "9985     NaN  123841.49              2          1               0   \n",
       "9999     NaN  130142.79              1          1               0   \n",
       "\n",
       "      EstimatedSalary  Exited  \n",
       "30          140469.38       1  \n",
       "48           90878.13       0  \n",
       "51           86424.57       0  \n",
       "53          164040.94       1  \n",
       "60           84509.57       0  \n",
       "...               ...     ...  \n",
       "9944        138361.48       0  \n",
       "9956        117369.52       1  \n",
       "9964        113308.29       0  \n",
       "9985         96833.00       0  \n",
       "9999         38190.78       0  \n",
       "\n",
       "[909 rows x 14 columns]"
      ]
     },
     "execution_count": 5,
     "metadata": {},
     "output_type": "execute_result"
    }
   ],
   "source": [
    "data[data.Tenure.isna()]"
   ]
  },
  {
   "cell_type": "code",
   "execution_count": 6,
   "metadata": {},
   "outputs": [
    {
     "data": {
      "text/plain": [
       "1.0     952\n",
       "2.0     950\n",
       "8.0     933\n",
       "3.0     928\n",
       "5.0     927\n",
       "7.0     925\n",
       "4.0     885\n",
       "9.0     882\n",
       "6.0     881\n",
       "10.0    446\n",
       "0.0     382\n",
       "Name: Tenure, dtype: int64"
      ]
     },
     "execution_count": 6,
     "metadata": {},
     "output_type": "execute_result"
    }
   ],
   "source": [
    "data.Tenure.value_counts()"
   ]
  },
  {
   "cell_type": "code",
   "execution_count": 8,
   "metadata": {},
   "outputs": [
    {
     "data": {
      "text/plain": [
       "9.09"
      ]
     },
     "execution_count": 8,
     "metadata": {},
     "output_type": "execute_result"
    }
   ],
   "source": [
    "# процент пропусков в Tenure\n",
    "data.Tenure.isna().mean()*100"
   ]
  },
  {
   "cell_type": "markdown",
   "metadata": {},
   "source": [
    "Пропущенных значений менее 10%, нет очевидного способа, чем можно их заменить, поэтому удалим их. "
   ]
  },
  {
   "cell_type": "code",
   "execution_count": 7,
   "metadata": {},
   "outputs": [],
   "source": [
    "data.dropna(inplace=True)"
   ]
  },
  {
   "cell_type": "markdown",
   "metadata": {},
   "source": [
    "Удалим столбцы с нумерацией срок, Id и фамилиями клиентов, они не нужны для обучения модели."
   ]
  },
  {
   "cell_type": "code",
   "execution_count": 8,
   "metadata": {},
   "outputs": [],
   "source": [
    "data = data.drop(columns=['RowNumber', 'CustomerId', 'Surname'])"
   ]
  },
  {
   "cell_type": "code",
   "execution_count": 9,
   "metadata": {},
   "outputs": [
    {
     "data": {
      "text/html": [
       "<div>\n",
       "<style scoped>\n",
       "    .dataframe tbody tr th:only-of-type {\n",
       "        vertical-align: middle;\n",
       "    }\n",
       "\n",
       "    .dataframe tbody tr th {\n",
       "        vertical-align: top;\n",
       "    }\n",
       "\n",
       "    .dataframe thead th {\n",
       "        text-align: right;\n",
       "    }\n",
       "</style>\n",
       "<table border=\"1\" class=\"dataframe\">\n",
       "  <thead>\n",
       "    <tr style=\"text-align: right;\">\n",
       "      <th></th>\n",
       "      <th>CreditScore</th>\n",
       "      <th>Geography</th>\n",
       "      <th>Gender</th>\n",
       "      <th>Age</th>\n",
       "      <th>Tenure</th>\n",
       "      <th>Balance</th>\n",
       "      <th>NumOfProducts</th>\n",
       "      <th>HasCrCard</th>\n",
       "      <th>IsActiveMember</th>\n",
       "      <th>EstimatedSalary</th>\n",
       "      <th>Exited</th>\n",
       "    </tr>\n",
       "  </thead>\n",
       "  <tbody>\n",
       "    <tr>\n",
       "      <th>0</th>\n",
       "      <td>619</td>\n",
       "      <td>France</td>\n",
       "      <td>Female</td>\n",
       "      <td>42</td>\n",
       "      <td>2.0</td>\n",
       "      <td>0.00</td>\n",
       "      <td>1</td>\n",
       "      <td>1</td>\n",
       "      <td>1</td>\n",
       "      <td>101348.88</td>\n",
       "      <td>1</td>\n",
       "    </tr>\n",
       "    <tr>\n",
       "      <th>1</th>\n",
       "      <td>608</td>\n",
       "      <td>Spain</td>\n",
       "      <td>Female</td>\n",
       "      <td>41</td>\n",
       "      <td>1.0</td>\n",
       "      <td>83807.86</td>\n",
       "      <td>1</td>\n",
       "      <td>0</td>\n",
       "      <td>1</td>\n",
       "      <td>112542.58</td>\n",
       "      <td>0</td>\n",
       "    </tr>\n",
       "    <tr>\n",
       "      <th>2</th>\n",
       "      <td>502</td>\n",
       "      <td>France</td>\n",
       "      <td>Female</td>\n",
       "      <td>42</td>\n",
       "      <td>8.0</td>\n",
       "      <td>159660.80</td>\n",
       "      <td>3</td>\n",
       "      <td>1</td>\n",
       "      <td>0</td>\n",
       "      <td>113931.57</td>\n",
       "      <td>1</td>\n",
       "    </tr>\n",
       "    <tr>\n",
       "      <th>3</th>\n",
       "      <td>699</td>\n",
       "      <td>France</td>\n",
       "      <td>Female</td>\n",
       "      <td>39</td>\n",
       "      <td>1.0</td>\n",
       "      <td>0.00</td>\n",
       "      <td>2</td>\n",
       "      <td>0</td>\n",
       "      <td>0</td>\n",
       "      <td>93826.63</td>\n",
       "      <td>0</td>\n",
       "    </tr>\n",
       "    <tr>\n",
       "      <th>4</th>\n",
       "      <td>850</td>\n",
       "      <td>Spain</td>\n",
       "      <td>Female</td>\n",
       "      <td>43</td>\n",
       "      <td>2.0</td>\n",
       "      <td>125510.82</td>\n",
       "      <td>1</td>\n",
       "      <td>1</td>\n",
       "      <td>1</td>\n",
       "      <td>79084.10</td>\n",
       "      <td>0</td>\n",
       "    </tr>\n",
       "    <tr>\n",
       "      <th>...</th>\n",
       "      <td>...</td>\n",
       "      <td>...</td>\n",
       "      <td>...</td>\n",
       "      <td>...</td>\n",
       "      <td>...</td>\n",
       "      <td>...</td>\n",
       "      <td>...</td>\n",
       "      <td>...</td>\n",
       "      <td>...</td>\n",
       "      <td>...</td>\n",
       "      <td>...</td>\n",
       "    </tr>\n",
       "    <tr>\n",
       "      <th>9994</th>\n",
       "      <td>800</td>\n",
       "      <td>France</td>\n",
       "      <td>Female</td>\n",
       "      <td>29</td>\n",
       "      <td>2.0</td>\n",
       "      <td>0.00</td>\n",
       "      <td>2</td>\n",
       "      <td>0</td>\n",
       "      <td>0</td>\n",
       "      <td>167773.55</td>\n",
       "      <td>0</td>\n",
       "    </tr>\n",
       "    <tr>\n",
       "      <th>9995</th>\n",
       "      <td>771</td>\n",
       "      <td>France</td>\n",
       "      <td>Male</td>\n",
       "      <td>39</td>\n",
       "      <td>5.0</td>\n",
       "      <td>0.00</td>\n",
       "      <td>2</td>\n",
       "      <td>1</td>\n",
       "      <td>0</td>\n",
       "      <td>96270.64</td>\n",
       "      <td>0</td>\n",
       "    </tr>\n",
       "    <tr>\n",
       "      <th>9996</th>\n",
       "      <td>516</td>\n",
       "      <td>France</td>\n",
       "      <td>Male</td>\n",
       "      <td>35</td>\n",
       "      <td>10.0</td>\n",
       "      <td>57369.61</td>\n",
       "      <td>1</td>\n",
       "      <td>1</td>\n",
       "      <td>1</td>\n",
       "      <td>101699.77</td>\n",
       "      <td>0</td>\n",
       "    </tr>\n",
       "    <tr>\n",
       "      <th>9997</th>\n",
       "      <td>709</td>\n",
       "      <td>France</td>\n",
       "      <td>Female</td>\n",
       "      <td>36</td>\n",
       "      <td>7.0</td>\n",
       "      <td>0.00</td>\n",
       "      <td>1</td>\n",
       "      <td>0</td>\n",
       "      <td>1</td>\n",
       "      <td>42085.58</td>\n",
       "      <td>1</td>\n",
       "    </tr>\n",
       "    <tr>\n",
       "      <th>9998</th>\n",
       "      <td>772</td>\n",
       "      <td>Germany</td>\n",
       "      <td>Male</td>\n",
       "      <td>42</td>\n",
       "      <td>3.0</td>\n",
       "      <td>75075.31</td>\n",
       "      <td>2</td>\n",
       "      <td>1</td>\n",
       "      <td>0</td>\n",
       "      <td>92888.52</td>\n",
       "      <td>1</td>\n",
       "    </tr>\n",
       "  </tbody>\n",
       "</table>\n",
       "<p>9091 rows × 11 columns</p>\n",
       "</div>"
      ],
      "text/plain": [
       "      CreditScore Geography  Gender  Age  Tenure    Balance  NumOfProducts  \\\n",
       "0             619    France  Female   42     2.0       0.00              1   \n",
       "1             608     Spain  Female   41     1.0   83807.86              1   \n",
       "2             502    France  Female   42     8.0  159660.80              3   \n",
       "3             699    France  Female   39     1.0       0.00              2   \n",
       "4             850     Spain  Female   43     2.0  125510.82              1   \n",
       "...           ...       ...     ...  ...     ...        ...            ...   \n",
       "9994          800    France  Female   29     2.0       0.00              2   \n",
       "9995          771    France    Male   39     5.0       0.00              2   \n",
       "9996          516    France    Male   35    10.0   57369.61              1   \n",
       "9997          709    France  Female   36     7.0       0.00              1   \n",
       "9998          772   Germany    Male   42     3.0   75075.31              2   \n",
       "\n",
       "      HasCrCard  IsActiveMember  EstimatedSalary  Exited  \n",
       "0             1               1        101348.88       1  \n",
       "1             0               1        112542.58       0  \n",
       "2             1               0        113931.57       1  \n",
       "3             0               0         93826.63       0  \n",
       "4             1               1         79084.10       0  \n",
       "...         ...             ...              ...     ...  \n",
       "9994          0               0        167773.55       0  \n",
       "9995          1               0         96270.64       0  \n",
       "9996          1               1        101699.77       0  \n",
       "9997          0               1         42085.58       1  \n",
       "9998          1               0         92888.52       1  \n",
       "\n",
       "[9091 rows x 11 columns]"
      ]
     },
     "execution_count": 9,
     "metadata": {},
     "output_type": "execute_result"
    }
   ],
   "source": [
    "data"
   ]
  },
  {
   "cell_type": "markdown",
   "metadata": {},
   "source": [
    "Данные подготовлены для дальнейшей работы, удалены пропуски (менее 10%) и лишние столбцы."
   ]
  },
  {
   "cell_type": "markdown",
   "metadata": {},
   "source": [
    "## Исследование задачи"
   ]
  },
  {
   "cell_type": "markdown",
   "metadata": {},
   "source": [
    "Посмотрим распределение величин баланса, зарплаты, числа продкутов и кредитного рейтинга, чтобы исключить выбросы. "
   ]
  },
  {
   "cell_type": "code",
   "execution_count": 10,
   "metadata": {},
   "outputs": [
    {
     "data": {
      "image/png": "[encoded data removed]",
      "text/plain": [
       "<Figure size 720x360 with 1 Axes>"
      ]
     },
     "metadata": {
      "needs_background": "light"
     },
     "output_type": "display_data"
    }
   ],
   "source": [
    "plt.figure(figsize=(10, 5))\n",
    "data['Balance'].hist()\n",
    "plt.xlabel('Баланс на счете', fontsize=15)\n",
    "plt.ylabel('Количество клиентов', fontsize=15)\n",
    "plt.title('Распределение баланса', fontsize=20);"
   ]
  },
  {
   "cell_type": "code",
   "execution_count": 11,
   "metadata": {},
   "outputs": [
    {
     "data": {
      "image/png": "[encoded data removed]",
      "text/plain": [
       "<Figure size 720x360 with 1 Axes>"
      ]
     },
     "metadata": {
      "needs_background": "light"
     },
     "output_type": "display_data"
    }
   ],
   "source": [
    "plt.figure(figsize=(10, 5))\n",
    "data['EstimatedSalary'].hist()\n",
    "plt.xlabel('Предполагаемая зарплата', fontsize=15)\n",
    "plt.ylabel('Количество клиентов', fontsize=15)\n",
    "plt.title('Распределение зарплат', fontsize=20);"
   ]
  },
  {
   "cell_type": "code",
   "execution_count": 12,
   "metadata": {},
   "outputs": [
    {
     "data": {
      "image/png": "[encoded data removed]",
      "text/plain": [
       "<Figure size 720x360 with 1 Axes>"
      ]
     },
     "metadata": {
      "needs_background": "light"
     },
     "output_type": "display_data"
    }
   ],
   "source": [
    "plt.figure(figsize=(10, 5))\n",
    "data['NumOfProducts'].hist()\n",
    "plt.xlabel('Количество продуктов банка у клиента', fontsize=15)\n",
    "plt.ylabel('Количество клиентов', fontsize=15)\n",
    "plt.title('Распределение продуктов банка', fontsize=20);"
   ]
  },
  {
   "cell_type": "code",
   "execution_count": 13,
   "metadata": {},
   "outputs": [
    {
     "data": {
      "image/png": "[encoded data removed]",
      "text/plain": [
       "<Figure size 720x360 with 1 Axes>"
      ]
     },
     "metadata": {
      "needs_background": "light"
     },
     "output_type": "display_data"
    }
   ],
   "source": [
    "plt.figure(figsize=(10, 5))\n",
    "data['CreditScore'].hist()\n",
    "plt.xlabel('Кредитный рейтинг', fontsize=15)\n",
    "plt.ylabel('Количество клиентов', fontsize=15)\n",
    "plt.title('Распределение кредитного рейтинга', fontsize=20);"
   ]
  },
  {
   "cell_type": "markdown",
   "metadata": {},
   "source": [
    "Среди данных нет резко выбивающихся значений."
   ]
  },
  {
   "cell_type": "code",
   "execution_count": 14,
   "metadata": {},
   "outputs": [
    {
     "data": {
      "text/plain": [
       "0.2039379606203938"
      ]
     },
     "execution_count": 14,
     "metadata": {},
     "output_type": "execute_result"
    }
   ],
   "source": [
    "data.Exited.mean()"
   ]
  },
  {
   "cell_type": "markdown",
   "metadata": {},
   "source": [
    "В целевом признаке значения распределены неравномерно, 20% значений равны 1, 80% - 0. "
   ]
  },
  {
   "cell_type": "code",
   "execution_count": 15,
   "metadata": {},
   "outputs": [
    {
     "data": {
      "image/png": "[encoded data removed]",
      "text/plain": [
       "<Figure size 360x360 with 1 Axes>"
      ]
     },
     "metadata": {
      "needs_background": "light"
     },
     "output_type": "display_data"
    }
   ],
   "source": [
    "plt.figure(figsize=(5, 5))\n",
    "sns.countplot(y=\"Exited\", data=data)\n",
    "plt.xlabel('Количество клиентов', fontsize=15)\n",
    "plt.ylabel('Факт ухода клиента', fontsize=15)\n",
    "plt.title('Распределение целевого признака', fontsize=20);"
   ]
  },
  {
   "cell_type": "markdown",
   "metadata": {},
   "source": [
    "Преобразуем  категориальные признаки в численные, используя технику прямого кодирования, или отображения (англ. One-Hot Encoding, OHE)."
   ]
  },
  {
   "cell_type": "code",
   "execution_count": 17,
   "metadata": {},
   "outputs": [],
   "source": [
    "# Кодируем столбцы с object данными: [Geography] и [Gender]\n",
    "data_ohe = pd.get_dummies(data, drop_first=True)"
   ]
  },
  {
   "cell_type": "code",
   "execution_count": 18,
   "metadata": {},
   "outputs": [
    {
     "data": {
      "text/html": [
       "<div>\n",
       "<style scoped>\n",
       "    .dataframe tbody tr th:only-of-type {\n",
       "        vertical-align: middle;\n",
       "    }\n",
       "\n",
       "    .dataframe tbody tr th {\n",
       "        vertical-align: top;\n",
       "    }\n",
       "\n",
       "    .dataframe thead th {\n",
       "        text-align: right;\n",
       "    }\n",
       "</style>\n",
       "<table border=\"1\" class=\"dataframe\">\n",
       "  <thead>\n",
       "    <tr style=\"text-align: right;\">\n",
       "      <th></th>\n",
       "      <th>CreditScore</th>\n",
       "      <th>Age</th>\n",
       "      <th>Tenure</th>\n",
       "      <th>Balance</th>\n",
       "      <th>NumOfProducts</th>\n",
       "      <th>HasCrCard</th>\n",
       "      <th>IsActiveMember</th>\n",
       "      <th>EstimatedSalary</th>\n",
       "      <th>Exited</th>\n",
       "      <th>Geography_Germany</th>\n",
       "      <th>Geography_Spain</th>\n",
       "      <th>Gender_Male</th>\n",
       "    </tr>\n",
       "  </thead>\n",
       "  <tbody>\n",
       "    <tr>\n",
       "      <th>0</th>\n",
       "      <td>619</td>\n",
       "      <td>42</td>\n",
       "      <td>2.0</td>\n",
       "      <td>0.00</td>\n",
       "      <td>1</td>\n",
       "      <td>1</td>\n",
       "      <td>1</td>\n",
       "      <td>101348.88</td>\n",
       "      <td>1</td>\n",
       "      <td>0</td>\n",
       "      <td>0</td>\n",
       "      <td>0</td>\n",
       "    </tr>\n",
       "    <tr>\n",
       "      <th>1</th>\n",
       "      <td>608</td>\n",
       "      <td>41</td>\n",
       "      <td>1.0</td>\n",
       "      <td>83807.86</td>\n",
       "      <td>1</td>\n",
       "      <td>0</td>\n",
       "      <td>1</td>\n",
       "      <td>112542.58</td>\n",
       "      <td>0</td>\n",
       "      <td>0</td>\n",
       "      <td>1</td>\n",
       "      <td>0</td>\n",
       "    </tr>\n",
       "    <tr>\n",
       "      <th>2</th>\n",
       "      <td>502</td>\n",
       "      <td>42</td>\n",
       "      <td>8.0</td>\n",
       "      <td>159660.80</td>\n",
       "      <td>3</td>\n",
       "      <td>1</td>\n",
       "      <td>0</td>\n",
       "      <td>113931.57</td>\n",
       "      <td>1</td>\n",
       "      <td>0</td>\n",
       "      <td>0</td>\n",
       "      <td>0</td>\n",
       "    </tr>\n",
       "    <tr>\n",
       "      <th>3</th>\n",
       "      <td>699</td>\n",
       "      <td>39</td>\n",
       "      <td>1.0</td>\n",
       "      <td>0.00</td>\n",
       "      <td>2</td>\n",
       "      <td>0</td>\n",
       "      <td>0</td>\n",
       "      <td>93826.63</td>\n",
       "      <td>0</td>\n",
       "      <td>0</td>\n",
       "      <td>0</td>\n",
       "      <td>0</td>\n",
       "    </tr>\n",
       "    <tr>\n",
       "      <th>4</th>\n",
       "      <td>850</td>\n",
       "      <td>43</td>\n",
       "      <td>2.0</td>\n",
       "      <td>125510.82</td>\n",
       "      <td>1</td>\n",
       "      <td>1</td>\n",
       "      <td>1</td>\n",
       "      <td>79084.10</td>\n",
       "      <td>0</td>\n",
       "      <td>0</td>\n",
       "      <td>1</td>\n",
       "      <td>0</td>\n",
       "    </tr>\n",
       "    <tr>\n",
       "      <th>...</th>\n",
       "      <td>...</td>\n",
       "      <td>...</td>\n",
       "      <td>...</td>\n",
       "      <td>...</td>\n",
       "      <td>...</td>\n",
       "      <td>...</td>\n",
       "      <td>...</td>\n",
       "      <td>...</td>\n",
       "      <td>...</td>\n",
       "      <td>...</td>\n",
       "      <td>...</td>\n",
       "      <td>...</td>\n",
       "    </tr>\n",
       "    <tr>\n",
       "      <th>9994</th>\n",
       "      <td>800</td>\n",
       "      <td>29</td>\n",
       "      <td>2.0</td>\n",
       "      <td>0.00</td>\n",
       "      <td>2</td>\n",
       "      <td>0</td>\n",
       "      <td>0</td>\n",
       "      <td>167773.55</td>\n",
       "      <td>0</td>\n",
       "      <td>0</td>\n",
       "      <td>0</td>\n",
       "      <td>0</td>\n",
       "    </tr>\n",
       "    <tr>\n",
       "      <th>9995</th>\n",
       "      <td>771</td>\n",
       "      <td>39</td>\n",
       "      <td>5.0</td>\n",
       "      <td>0.00</td>\n",
       "      <td>2</td>\n",
       "      <td>1</td>\n",
       "      <td>0</td>\n",
       "      <td>96270.64</td>\n",
       "      <td>0</td>\n",
       "      <td>0</td>\n",
       "      <td>0</td>\n",
       "      <td>1</td>\n",
       "    </tr>\n",
       "    <tr>\n",
       "      <th>9996</th>\n",
       "      <td>516</td>\n",
       "      <td>35</td>\n",
       "      <td>10.0</td>\n",
       "      <td>57369.61</td>\n",
       "      <td>1</td>\n",
       "      <td>1</td>\n",
       "      <td>1</td>\n",
       "      <td>101699.77</td>\n",
       "      <td>0</td>\n",
       "      <td>0</td>\n",
       "      <td>0</td>\n",
       "      <td>1</td>\n",
       "    </tr>\n",
       "    <tr>\n",
       "      <th>9997</th>\n",
       "      <td>709</td>\n",
       "      <td>36</td>\n",
       "      <td>7.0</td>\n",
       "      <td>0.00</td>\n",
       "      <td>1</td>\n",
       "      <td>0</td>\n",
       "      <td>1</td>\n",
       "      <td>42085.58</td>\n",
       "      <td>1</td>\n",
       "      <td>0</td>\n",
       "      <td>0</td>\n",
       "      <td>0</td>\n",
       "    </tr>\n",
       "    <tr>\n",
       "      <th>9998</th>\n",
       "      <td>772</td>\n",
       "      <td>42</td>\n",
       "      <td>3.0</td>\n",
       "      <td>75075.31</td>\n",
       "      <td>2</td>\n",
       "      <td>1</td>\n",
       "      <td>0</td>\n",
       "      <td>92888.52</td>\n",
       "      <td>1</td>\n",
       "      <td>1</td>\n",
       "      <td>0</td>\n",
       "      <td>1</td>\n",
       "    </tr>\n",
       "  </tbody>\n",
       "</table>\n",
       "<p>9091 rows × 12 columns</p>\n",
       "</div>"
      ],
      "text/plain": [
       "      CreditScore  Age  Tenure    Balance  NumOfProducts  HasCrCard  \\\n",
       "0             619   42     2.0       0.00              1          1   \n",
       "1             608   41     1.0   83807.86              1          0   \n",
       "2             502   42     8.0  159660.80              3          1   \n",
       "3             699   39     1.0       0.00              2          0   \n",
       "4             850   43     2.0  125510.82              1          1   \n",
       "...           ...  ...     ...        ...            ...        ...   \n",
       "9994          800   29     2.0       0.00              2          0   \n",
       "9995          771   39     5.0       0.00              2          1   \n",
       "9996          516   35    10.0   57369.61              1          1   \n",
       "9997          709   36     7.0       0.00              1          0   \n",
       "9998          772   42     3.0   75075.31              2          1   \n",
       "\n",
       "      IsActiveMember  EstimatedSalary  Exited  Geography_Germany  \\\n",
       "0                  1        101348.88       1                  0   \n",
       "1                  1        112542.58       0                  0   \n",
       "2                  0        113931.57       1                  0   \n",
       "3                  0         93826.63       0                  0   \n",
       "4                  1         79084.10       0                  0   \n",
       "...              ...              ...     ...                ...   \n",
       "9994               0        167773.55       0                  0   \n",
       "9995               0         96270.64       0                  0   \n",
       "9996               1        101699.77       0                  0   \n",
       "9997               1         42085.58       1                  0   \n",
       "9998               0         92888.52       1                  1   \n",
       "\n",
       "      Geography_Spain  Gender_Male  \n",
       "0                   0            0  \n",
       "1                   1            0  \n",
       "2                   0            0  \n",
       "3                   0            0  \n",
       "4                   1            0  \n",
       "...               ...          ...  \n",
       "9994                0            0  \n",
       "9995                0            1  \n",
       "9996                0            1  \n",
       "9997                0            0  \n",
       "9998                0            1  \n",
       "\n",
       "[9091 rows x 12 columns]"
      ]
     },
     "execution_count": 18,
     "metadata": {},
     "output_type": "execute_result"
    }
   ],
   "source": [
    "data_ohe"
   ]
  },
  {
   "cell_type": "markdown",
   "metadata": {},
   "source": [
    "Выделяем признаки и целевой признак, делим данные на 3 выборки: обучающую, валидационную и тестовую. "
   ]
  },
  {
   "cell_type": "code",
   "execution_count": 19,
   "metadata": {},
   "outputs": [],
   "source": [
    "features = data_ohe.drop('Exited', axis=1)\n",
    "target = data_ohe['Exited']"
   ]
  },
  {
   "cell_type": "code",
   "execution_count": 20,
   "metadata": {},
   "outputs": [
    {
     "name": "stdout",
     "output_type": "stream",
     "text": [
      "Размеры обучающей выборки: (5454, 11) (5454,)\n",
      "Размеры валидационной выборки: (1818, 11) (1818,)\n",
      "Размеры тестовой выборки: (1819, 11) (1819,)\n"
     ]
    }
   ],
   "source": [
    "features_train, features_rest, target_train, target_rest = train_test_split(\n",
    "    features, target, test_size=0.4, random_state=12345)\n",
    "features_valid, features_test, target_valid, target_test = train_test_split(\n",
    "    features_rest, target_rest, test_size=0.5, random_state=12345)\n",
    "print('Размеры обучающей выборки:', features_train.shape, target_train.shape)\n",
    "print('Размеры валидационной выборки:', features_valid.shape, target_valid.shape)\n",
    "print('Размеры тестовой выборки:', features_test.shape, target_test.shape)"
   ]
  },
  {
   "cell_type": "markdown",
   "metadata": {},
   "source": [
    "Ищем лучшую модель без учета дисбаланса.\n",
    "\n",
    "Тестируем **дерево решений**."
   ]
  },
  {
   "cell_type": "code",
   "execution_count": 21,
   "metadata": {},
   "outputs": [
    {
     "name": "stdout",
     "output_type": "stream",
     "text": [
      "Максимальная глубина: 1 _f1 метрика 0.0 _AUC ROC: 0.7027189709474522 _f1 обучающей модели: 0.0\n",
      "Максимальная глубина: 2 _f1 метрика 0.5304878048780488 _AUC ROC: 0.7550846100464421 _f1 обучающей модели: 0.505664263645726\n",
      "Максимальная глубина: 3 _f1 метрика 0.3726708074534161 _AUC ROC: 0.7994383873562604 _f1 обучающей модели: 0.42105263157894735\n",
      "Максимальная глубина: 4 _f1 метрика 0.5414551607445008 _AUC ROC: 0.8213322607900129 _f1 обучающей модели: 0.5284738041002278\n",
      "Максимальная глубина: 5 _f1 метрика 0.5140712945590994 _AUC ROC: 0.8471027524725867 _f1 обучающей модели: 0.5108493490390577\n",
      "Максимальная глубина: 6 _f1 метрика 0.5606837606837607 _AUC ROC: 0.8495399046859958 _f1 обучающей модели: 0.5873104997192587\n",
      "Максимальная глубина: 7 _f1 метрика 0.5764331210191083 _AUC ROC: 0.8346049843812412 _f1 обучающей модели: 0.6487325400931194\n",
      "Максимальная глубина: 8 _f1 метрика 0.5422077922077922 _AUC ROC: 0.807290103947119 _f1 обучающей модели: 0.6780748663101605\n",
      "Максимальная глубина: 9 _f1 метрика 0.5454545454545454 _AUC ROC: 0.7946533592756282 _f1 обучающей модели: 0.7318803852002027\n",
      "Максимальная глубина: 10 _f1 метрика 0.5130568356374808 _AUC ROC: 0.7572631369683226 _f1 обучающей модели: 0.7721774193548386\n",
      "Максимальная глубина: 11 _f1 метрика 0.5135951661631419 _AUC ROC: 0.7143156922046103 _f1 обучающей модели: 0.8130241736556488\n",
      "Максимальная глубина: 12 _f1 метрика 0.48090523338048097 _AUC ROC: 0.7018077999915326 _f1 обучающей модели: 0.8587731811697575\n",
      "Максимальная глубина: 13 _f1 метрика 0.48535564853556484 _AUC ROC: 0.6826005003156885 _f1 обучающей модели: 0.8982653539615565\n",
      "Максимальная глубина: 14 _f1 метрика 0.48846675712347354 _AUC ROC: 0.6770423574845792 _f1 обучающей модели: 0.9281464530892448\n",
      "Максимальная глубина: 15 _f1 метрика 0.47411444141689374 _AUC ROC: 0.6718339570405903 _f1 обучающей модели: 0.9521203830369358\n",
      "Максимальная глубина: 16 _f1 метрика 0.4808454425363276 _AUC ROC: 0.6761118586598975 _f1 обучающей модели: 0.9657039711191336\n",
      "Максимальная глубина: 17 _f1 метрика 0.4866310160427808 _AUC ROC: 0.6810689968099812 _f1 обучающей модели: 0.9833558254610886\n",
      "Максимальная глубина: 18 _f1 метрика 0.4798927613941019 _AUC ROC: 0.6714906572763902 _f1 обучающей модели: 0.9887842081650965\n",
      "Максимальная глубина: 19 _f1 метрика 0.4862023653088042 _AUC ROC: 0.6787478118091437 _f1 обучающей модели: 0.9951176209498447\n",
      "\n",
      "F1 наилучшей модели на валидационной выборке: 0.5764331210191083\n",
      "Максимальная глубина: 7\n"
     ]
    }
   ],
   "source": [
    "best_model = None\n",
    "best_result = 0\n",
    "max_depth = 0\n",
    "for depth in range (1, 20):\n",
    "    model =  DecisionTreeClassifier(random_state=12345, max_depth=depth)\n",
    "    model.fit(features_train, target_train)\n",
    "    result = f1_score(target_valid, model.predict(features_valid))\n",
    "    result_train = f1_score(target_train, model.predict(features_train))\n",
    "    probabilities_valid = model.predict_proba(features_valid)\n",
    "    probabilities_one_valid = probabilities_valid[:, 1]\n",
    "    auc_roc = roc_auc_score(target_valid, probabilities_one_valid)\n",
    "    print('Максимальная глубина:', depth, '_f1 метрика', result, '_AUC ROC:', auc_roc, '_f1 обучающей модели:', result_train)\n",
    "    if result > best_result:\n",
    "        best_model = model \n",
    "        best_result = result \n",
    "        max_depth = depth\n",
    "print()\n",
    "print(\"F1 наилучшей модели на валидационной выборке:\", best_result)\n",
    "print(\"Максимальная глубина:\", max_depth)"
   ]
  },
  {
   "cell_type": "markdown",
   "metadata": {},
   "source": [
    "Метрика f1 не достаточна для требуемого значения 0.59."
   ]
  },
  {
   "cell_type": "markdown",
   "metadata": {},
   "source": [
    "**Логистическая регрессия**. "
   ]
  },
  {
   "cell_type": "code",
   "execution_count": 22,
   "metadata": {},
   "outputs": [
    {
     "name": "stdout",
     "output_type": "stream",
     "text": [
      "F1 метрика для логистической регрессии: 0.07246376811594203\n"
     ]
    }
   ],
   "source": [
    "model = LogisticRegression(random_state=12345, solver='liblinear') \n",
    "model.fit(features_train, target_train) \n",
    "print('F1 метрика для логистической регрессии:', f1_score(target_valid, model.predict(features_valid)))"
   ]
  },
  {
   "cell_type": "markdown",
   "metadata": {},
   "source": [
    "Недостаточное значение метрики."
   ]
  },
  {
   "cell_type": "markdown",
   "metadata": {},
   "source": [
    "**Случайный лес**."
   ]
  },
  {
   "cell_type": "code",
   "execution_count": 23,
   "metadata": {},
   "outputs": [
    {
     "name": "stdout",
     "output_type": "stream",
     "text": [
      "Max_depth: 1 __f1 метрика 0.0 __AUC ROC: 0.807323237436425 __f1 на обучающей выборке 0.0\n",
      "Max_depth: 2 __f1 метрика 0.1918465227817746 __AUC ROC: 0.8116361132944444 __f1 на обучающей выборке 0.14320987654320988\n",
      "Max_depth: 3 __f1 метрика 0.2377622377622378 __AUC ROC: 0.8331627572217202 __f1 на обучающей выборке 0.19024780175859313\n",
      "Max_depth: 4 __f1 метрика 0.4219066937119675 __AUC ROC: 0.8438538297711765 __f1 на обучающей выборке 0.3860627177700348\n",
      "Max_depth: 5 __f1 метрика 0.5156537753222836 __AUC ROC: 0.8554036119184842 __f1 на обучающей выборке 0.5186567164179104\n",
      "Max_depth: 6 __f1 метрика 0.5490196078431373 __AUC ROC: 0.8601343378916424 __f1 на обучающей выборке 0.5819672131147542\n",
      "Max_depth: 7 __f1 метрика 0.5650684931506849 __AUC ROC: 0.8612562746545372 __f1 на обучающей выборке 0.6005830903790088\n",
      "Max_depth: 8 __f1 метрика 0.5758620689655172 __AUC ROC: 0.8661296587066526 __f1 на обучающей выборке 0.6420873511060692\n",
      "Max_depth: 9 __f1 метрика 0.5501730103806228 __AUC ROC: 0.8698755837476553 __f1 на обучающей выборке 0.6723452583759228\n",
      "Max_depth: 10 __f1 метрика 0.575809199318569 __AUC ROC: 0.8596796727883855 __f1 на обучающей выборке 0.724400871459695\n",
      "Max_depth: 11 __f1 метрика 0.5704467353951891 __AUC ROC: 0.8670748835265814 __f1 на обучающей выборке 0.759914255091104\n",
      "Max_depth: 12 __f1 метрика 0.5743243243243243 __AUC ROC: 0.8623542816751557 __f1 на обучающей выборке 0.8136645962732919\n",
      "Max_depth: 13 __f1 метрика 0.5637583892617449 __AUC ROC: 0.8635157945502773 __f1 на обучающей выборке 0.8794884407279882\n",
      "Max_depth: 14 __f1 метрика 0.5795644891122278 __AUC ROC: 0.8509904152178436 __f1 на обучающей выборке 0.9188931297709925\n",
      "Max_depth: 15 __f1 метрика 0.5855263157894737 __AUC ROC: 0.855516818006947 __f1 на обучающей выборке 0.9503019043195541\n",
      "Max_depth: 16 __f1 метрика 0.5889967637540453 __AUC ROC: 0.8586506938704885 __f1 на обучающей выборке 0.9689497716894977\n",
      "Max_depth: 17 __f1 метрика 0.58128078817734 __AUC ROC: 0.8517911412094091 __f1 на обучающей выборке 0.9805693628558518\n",
      "Max_depth: 18 __f1 метрика 0.5611745513866232 __AUC ROC: 0.8459670100891474 __f1 на обучающей выборке 0.9847122302158273\n",
      "Max_depth: 19 __f1 метрика 0.5878489326765188 __AUC ROC: 0.8533797079466992 __f1 на обучающей выборке 0.983295711060948\n",
      "\n",
      "F1 наилучшей модели на валидационной выборке: 0.5889967637540453\n",
      "Максимальная глубина: 16\n"
     ]
    }
   ],
   "source": [
    "best_model = None\n",
    "best_result = 0\n",
    "max_depth = 0\n",
    "for depth in range(1, 20):\n",
    "    model = RandomForestClassifier(n_estimators=20, max_depth=depth, random_state=12345)\n",
    "    model.fit(features_train, target_train)\n",
    "    result = f1_score(target_valid, model.predict(features_valid))\n",
    "    result_train = f1_score(target_train, model.predict(features_train))\n",
    "    probabilities_valid = model.predict_proba(features_valid)\n",
    "    probabilities_one_valid = probabilities_valid[:, 1]\n",
    "    auc_roc = roc_auc_score(target_valid, probabilities_one_valid)\n",
    "    print('Max_depth:', depth, '__f1 метрика', result, '__AUC ROC:', auc_roc, '__f1 на обучающей выборке', result_train)\n",
    "    if result > best_result:\n",
    "        best_model = model \n",
    "        best_result = result \n",
    "        max_depth = depth\n",
    "print()\n",
    "print(\"F1 наилучшей модели на валидационной выборке:\", best_result)\n",
    "print(\"Максимальная глубина:\", max_depth)\n"
   ]
  },
  {
   "cell_type": "markdown",
   "metadata": {},
   "source": [
    "Для выявленной наилучшей максимальной глубины тестируем разное количество числа деревьев."
   ]
  },
  {
   "cell_type": "code",
   "execution_count": 24,
   "metadata": {},
   "outputs": [
    {
     "name": "stdout",
     "output_type": "stream",
     "text": [
      "Число деревьев: 20 f1 метрика 0.5889967637540453 __AUC ROC: 0.8586506938704885 __f1 на обучающей выборке 0.9689497716894977\n",
      "Число деревьев: 40 f1 метрика 0.5821138211382113 __AUC ROC: 0.8630003847166259 __f1 на обучающей выборке 0.9874213836477987\n",
      "Число деревьев: 60 f1 метрика 0.5789473684210527 __AUC ROC: 0.8647730263945057 __f1 на обучающей выборке 0.9883198562443846\n",
      "Число деревьев: 80 f1 метрика 0.5911330049261084 __AUC ROC: 0.8633381622326082 __f1 на обучающей выборке 0.9901345291479821\n",
      "Число деревьев: 100 f1 метрика 0.5813953488372093 __AUC ROC: 0.8639327242907132 __f1 на обучающей выборке 0.9896814715118887\n",
      "Число деревьев: 120 f1 метрика 0.5837479270315092 __AUC ROC: 0.8637670568441824 __f1 на обучающей выборке 0.9892280071813285\n",
      "Число деревьев: 140 f1 метрика 0.5823627287853578 __AUC ROC: 0.8647987968861882 __f1 на обучающей выборке 0.9896814715118887\n",
      "Число деревьев: 160 f1 метрика 0.5766666666666667 __AUC ROC: 0.8637284011066585 __f1 на обучающей выборке 0.9901345291479821\n",
      "Число деревьев: 180 f1 метрика 0.58 __AUC ROC: 0.8641306048518473 __f1 на обучающей выборке 0.9910394265232976\n",
      "Число деревьев: 200 f1 метрика 0.5776293823038396 __AUC ROC: 0.8645328085970361 __f1 на обучающей выборке 0.9914912673533363\n",
      "Число деревьев: 220 f1 метрика 0.5785953177257526 __AUC ROC: 0.8656556657346339 __f1 на обучающей выборке 0.9896814715118887\n",
      "Число деревьев: 240 f1 метрика 0.5766666666666667 __AUC ROC: 0.8657789959448291 __f1 на обучающей выборке 0.9901345291479821\n",
      "Число деревьев: 260 f1 метрика 0.5723793677204659 __AUC ROC: 0.8658286961787883 __f1 на обучающей выборке 0.9905871806364859\n",
      "Число деревьев: 280 f1 метрика 0.574750830564784 __AUC ROC: 0.8664269397357052 __f1 на обучающей выборке 0.9901345291479821\n",
      "\n",
      "F1 наилучшей модели на валидационной выборке: 0.5911330049261084\n",
      "Число деревьев 80 Глубина: 16\n"
     ]
    }
   ],
   "source": [
    "best_model = None\n",
    "best_result = 0\n",
    "n_estimators = 0\n",
    "for n_est in range(20, 300, 20):\n",
    "    model = RandomForestClassifier(n_estimators=n_est, max_depth=16, random_state=12345)\n",
    "    model.fit(features_train, target_train)\n",
    "    result = f1_score(target_valid, model.predict(features_valid))\n",
    "    result_train = f1_score(target_train, model.predict(features_train))\n",
    "    probabilities_valid = model.predict_proba(features_valid)\n",
    "    probabilities_one_valid = probabilities_valid[:, 1]\n",
    "    auc_roc = roc_auc_score(target_valid, probabilities_one_valid)\n",
    "    print('Число деревьев:', n_est, 'f1 метрика', result, '__AUC ROC:', auc_roc,'__f1 на обучающей выборке', result_train)\n",
    "    if result > best_result:\n",
    "        best_model_tree = model \n",
    "        best_result = result \n",
    "        n_estimators=n_est\n",
    "print()\n",
    "print(\"F1 наилучшей модели на валидационной выборке:\", best_result)\n",
    "print(\"Число деревьев\", n_estimators, 'Глубина:', max_depth)\n"
   ]
  },
  {
   "cell_type": "code",
   "execution_count": 26,
   "metadata": {},
   "outputs": [
    {
     "name": "stdout",
     "output_type": "stream",
     "text": [
      "Число деревьев: 75 __f1 метрика 0.5851239669421487 __AUC ROC: 0.8649764292038574 __f1 на обучающей выборке 0.9905871806364859\n",
      "Число деревьев: 76 __f1 метрика 0.5864909390444811 __AUC ROC: 0.864169260589371 __f1 на обучающей выборке 0.9905871806364859\n",
      "Число деревьев: 77 __f1 метрика 0.5911330049261084 __AUC ROC: 0.8640707804961555 __f1 на обучающей выборке 0.9896814715118887\n",
      "Число деревьев: 78 __f1 метрика 0.5864909390444811 __AUC ROC: 0.8638922278037835 __f1 на обучающей выборке 0.9901345291479821\n",
      "Число деревьев: 79 __f1 метрика 0.5921052631578947 __AUC ROC: 0.8635130334261684 __f1 на обучающей выборке 0.9896814715118887\n",
      "Число деревьев: 80 __f1 метрика 0.5911330049261084 __AUC ROC: 0.8633381622326082 __f1 на обучающей выборке 0.9901345291479821\n",
      "Число деревьев: 81 __f1 метрика 0.5907590759075908 __AUC ROC: 0.8631025463086531 __f1 на обучающей выборке 0.9905871806364859\n",
      "Число деревьев: 82 __f1 метрика 0.5874587458745875 __AUC ROC: 0.8632516470105309 __f1 на обучающей выборке 0.9905871806364859\n",
      "Число деревьев: 83 __f1 метрика 0.5874587458745875 __AUC ROC: 0.8631632910390477 __f1 на обучающей выборке 0.9901345291479821\n",
      "Число деревьев: 84 __f1 метрика 0.5851239669421487 __AUC ROC: 0.8634117922088441 __f1 на обучающей выборке 0.9910394265232976\n",
      "\n",
      "F1 наилучшей модели на валидационной выборке: 0.5921052631578947\n",
      "Число деревьев 79 Глубина: 16\n"
     ]
    }
   ],
   "source": [
    "best_model = None\n",
    "best_result = 0\n",
    "n_estimators = 0\n",
    "for n_est in range(75, 85, 1):\n",
    "    model = RandomForestClassifier(n_estimators=n_est, max_depth=16, random_state=12345)\n",
    "    model.fit(features_train, target_train)\n",
    "    result = f1_score(target_valid, model.predict(features_valid))\n",
    "    result_train = f1_score(target_train, model.predict(features_train))\n",
    "    probabilities_valid = model.predict_proba(features_valid)\n",
    "    probabilities_one_valid = probabilities_valid[:, 1]\n",
    "    auc_roc = roc_auc_score(target_valid, probabilities_one_valid)\n",
    "    print('Число деревьев:', n_est, '__f1 метрика', result,  '__AUC ROC:', auc_roc,'__f1 на обучающей выборке', result_train)\n",
    "    \n",
    "    if result > best_result:\n",
    "        best_model = model \n",
    "        best_result = result \n",
    "        n_estimators=n_est\n",
    "print()\n",
    "print(\"F1 наилучшей модели на валидационной выборке:\", best_result)\n",
    "print(\"Число деревьев\", n_estimators, 'Глубина:', max_depth)"
   ]
  },
  {
   "cell_type": "code",
   "execution_count": 27,
   "metadata": {},
   "outputs": [
    {
     "name": "stdout",
     "output_type": "stream",
     "text": [
      "[[1390   51]\n",
      " [ 197  180]]\n"
     ]
    }
   ],
   "source": [
    "model = best_model\n",
    "model.fit(features_train, target_train)\n",
    "print(confusion_matrix(target_valid, model.predict(features_valid)))"
   ]
  },
  {
   "cell_type": "markdown",
   "metadata": {},
   "source": [
    "Наилучшее значение  f1 = 0.59 получилось в модели случайный лес с глубиной 16 и 79 деревьями. Теперь проведем аналогичные тестирования с учетом дисбаланса."
   ]
  },
  {
   "cell_type": "markdown",
   "metadata": {},
   "source": [
    "## Борьба с дисбалансом"
   ]
  },
  {
   "cell_type": "markdown",
   "metadata": {},
   "source": [
    "Для борьбы с дисбалансом будем использовать аргумент class_weight."
   ]
  },
  {
   "cell_type": "markdown",
   "metadata": {},
   "source": [
    "**Дерево решений**"
   ]
  },
  {
   "cell_type": "code",
   "execution_count": 28,
   "metadata": {},
   "outputs": [
    {
     "name": "stdout",
     "output_type": "stream",
     "text": [
      "Max_depth: 1 ___f1 метрика 0.5065856129685917 __AUC ROC: 0.7066517320531535 __f1 обучающей модели: 0.48602002071108047\n",
      "Max_depth: 2 ___f1 метрика 0.5297619047619048 __AUC ROC: 0.7580721463322148 __f1 обучающей модели: 0.5129064699966477\n",
      "Max_depth: 3 ___f1 метрика 0.548936170212766 __AUC ROC: 0.7949267105624042 __f1 обучающей модели: 0.5387962291515591\n",
      "Max_depth: 4 ___f1 метрика 0.5461187214611872 __AUC ROC: 0.8178983427733099 __f1 обучающей модели: 0.5344827586206896\n",
      "Max_depth: 5 ___f1 метрика 0.5735449735449736 __AUC ROC: 0.8396523192522141 __f1 обучающей модели: 0.5921100253347811\n",
      "Max_depth: 6 ___f1 метрика 0.5630885122410546 __AUC ROC: 0.8320960429410021 __f1 обучающей модели: 0.5920000000000001\n",
      "Max_depth: 7 ___f1 метрика 0.5413533834586466 __AUC ROC: 0.8106043732524385 __f1 обучающей модели: 0.6076585059635907\n",
      "Max_depth: 8 ___f1 метрика 0.5581896551724138 __AUC ROC: 0.7869498230119446 __f1 обучающей модели: 0.6572537945640664\n",
      "Max_depth: 9 ___f1 метрика 0.5059978189749182 __AUC ROC: 0.7565295983300722 __f1 обучающей модели: 0.7\n",
      "Max_depth: 10 ___f1 метрика 0.5164113785557987 __AUC ROC: 0.7338893010122282 __f1 обучающей модели: 0.733044733044733\n",
      "Max_depth: 11 ___f1 метрика 0.5135135135135134 __AUC ROC: 0.7141932823691182 __f1 обучающей модели: 0.7715438210487715\n",
      "Max_depth: 12 ___f1 метрика 0.5103785103785103 __AUC ROC: 0.6998179498837567 __f1 обучающей модели: 0.8412256267409471\n",
      "Max_depth: 13 ___f1 метрика 0.4882280049566295 __AUC ROC: 0.6767864933171592 __f1 обучающей модели: 0.8742949234488316\n",
      "Max_depth: 14 ___f1 метрика 0.4757033248081841 __AUC ROC: 0.6685914769621008 __f1 обучающей модели: 0.9049180327868852\n",
      "Max_depth: 15 ___f1 метрика 0.4771838331160365 __AUC ROC: 0.6692348188794622 __f1 обучающей модели: 0.9408284023668639\n",
      "Max_depth: 16 ___f1 метрика 0.46442953020134226 __AUC ROC: 0.6574696690516643 __f1 обучающей модели: 0.9592449592449593\n",
      "Max_depth: 17 ___f1 метрика 0.4746666666666667 __AUC ROC: 0.6708887322206617 __f1 обучающей модели: 0.9747826086956523\n",
      "Max_depth: 18 ___f1 метрика 0.461744966442953 __AUC ROC: 0.661830404394237 __f1 обучающей модели: 0.9846827133479211\n",
      "Max_depth: 19 ___f1 метрика 0.4656796769851952 __AUC ROC: 0.6630342545056944 __f1 обучающей модели: 0.9916336415675914\n",
      "Max_depth: 20 ___f1 метрика 0.46767537826685 __AUC ROC: 0.6632974816707378 __f1 обучающей модели: 0.9964601769911504\n",
      "Max_depth: 21 ___f1 метрика 0.46070460704607047 __AUC ROC: 0.6588391866096526 __f1 обучающей модели: 0.998669623059867\n",
      "Max_depth: 22 ___f1 метрика 0.4709066305818674 __AUC ROC: 0.6655367533230129 __f1 обучающей модели: 0.998669623059867\n",
      "Max_depth: 23 ___f1 метрика 0.46630727762803237 __AUC ROC: 0.6628225683240161 __f1 обучающей модели: 1.0\n",
      "Max_depth: 24 ___f1 метрика 0.47860962566844917 __AUC ROC: 0.6707801280057137 __f1 обучающей модели: 1.0\n",
      "\n",
      "F1 наилучшей модели на валидационной выборке: 0.5735449735449736\n",
      "Максимальная глубина: 5\n"
     ]
    }
   ],
   "source": [
    "best_model = None\n",
    "best_result = 0\n",
    "max_depth = 0\n",
    "for depth in range (1, 25):\n",
    "    model =  DecisionTreeClassifier(random_state=12345, max_depth=depth, class_weight='balanced')\n",
    "    model.fit(features_train, target_train)\n",
    "    result = f1_score(target_valid, model.predict(features_valid))\n",
    "    result_train = f1_score(target_train, model.predict(features_train))\n",
    "    probabilities_valid = model.predict_proba(features_valid)\n",
    "    probabilities_one_valid = probabilities_valid[:, 1]\n",
    "    auc_roc = roc_auc_score(target_valid, probabilities_one_valid)\n",
    "    print('Max_depth:', depth, '___f1 метрика', result,  '__AUC ROC:', auc_roc,'__f1 обучающей модели:', result_train)\n",
    "    if result > best_result:\n",
    "        best_model = model \n",
    "        best_result = result \n",
    "        max_depth = depth\n",
    "print()\n",
    "print(\"F1 наилучшей модели на валидационной выборке:\", best_result)\n",
    "print(\"Максимальная глубина:\", max_depth)"
   ]
  },
  {
   "cell_type": "markdown",
   "metadata": {},
   "source": [
    "У дерева решений метрика все еще не достигла требуемого значения 0.59."
   ]
  },
  {
   "cell_type": "markdown",
   "metadata": {},
   "source": [
    "**Логистическая регрессия**."
   ]
  },
  {
   "cell_type": "code",
   "execution_count": 29,
   "metadata": {},
   "outputs": [
    {
     "name": "stdout",
     "output_type": "stream",
     "text": [
      "0.4888888888888889\n"
     ]
    }
   ],
   "source": [
    "model = LogisticRegression(random_state=12345, solver='liblinear',  class_weight='balanced') \n",
    "model.fit(features_train, target_train) \n",
    "print(f1_score(target_valid, model.predict(features_valid)))"
   ]
  },
  {
   "cell_type": "markdown",
   "metadata": {},
   "source": [
    "У логистической регрессии метрика значительно улучшилась по сравнению с предыдущим испытанием без учета дисбаланса, но все равно не достигла требуемого значния. "
   ]
  },
  {
   "cell_type": "markdown",
   "metadata": {},
   "source": [
    "**Случайный лес**."
   ]
  },
  {
   "cell_type": "code",
   "execution_count": 30,
   "metadata": {},
   "outputs": [
    {
     "name": "stdout",
     "output_type": "stream",
     "text": [
      "Max_depth: 1 ___f1 метрика 0.5513928914505284 __AUC ROC: 0.8222922116051887 __f1 на обучающей выборке 0.535443455324761\n",
      "Max_depth: 2 ___f1 метрика 0.5731225296442689 __AUC ROC: 0.83473567758906 __f1 на обучающей выборке 0.5542248835662009\n",
      "Max_depth: 3 ___f1 метрика 0.5821782178217823 __AUC ROC: 0.8470585744868451 __f1 на обучающей выборке 0.5679839249832551\n",
      "Max_depth: 4 ___f1 метрика 0.5824847250509165 __AUC ROC: 0.8525412465923127 __f1 на обучающей выборке 0.5871238628411477\n",
      "Max_depth: 5 ___f1 метрика 0.5976008724100327 __AUC ROC: 0.8587859889518221 __f1 на обучающей выборке 0.6143547787281517\n",
      "Max_depth: 6 ___f1 метрика 0.6133625410733844 __AUC ROC: 0.8639842652740785 __f1 на обучающей выборке 0.6311475409836065\n",
      "Max_depth: 7 ___f1 метрика 0.6087912087912088 __AUC ROC: 0.862580693852081 __f1 на обучающей выборке 0.6659056316590564\n",
      "Max_depth: 8 ___f1 метрика 0.6305882352941177 __AUC ROC: 0.8652203285001391 __f1 на обучающей выборке 0.7099327265532251\n",
      "Max_depth: 9 ___f1 метрика 0.6321112515802781 __AUC ROC: 0.8715994455662789 __f1 на обучающей выборке 0.7618651124063279\n",
      "Max_depth: 10 ___f1 метрика 0.6143958868894602 __AUC ROC: 0.8588973542908789 __f1 на обучающей выборке 0.8135021097046413\n",
      "Max_depth: 11 ___f1 метрика 0.6115007012622722 __AUC ROC: 0.8618204643474452 __f1 на обучающей выборке 0.869105332745703\n",
      "Max_depth: 12 ___f1 метрика 0.6311239193083574 __AUC ROC: 0.8580312816954038 __f1 на обучающей выборке 0.8972209969122188\n",
      "Max_depth: 13 ___f1 метрика 0.6036585365853658 __AUC ROC: 0.857341000668192 __f1 на обучающей выборке 0.9452115812917595\n",
      "Max_depth: 14 ___f1 метрика 0.5902668759811617 __AUC ROC: 0.8523203566636048 __f1 на обучающей выборке 0.9636934110264457\n",
      "Max_depth: 15 ___f1 метрика 0.5791139240506329 __AUC ROC: 0.8572922208089359 __f1 на обучающей выборке 0.9759358288770055\n",
      "Max_depth: 16 ___f1 метрика 0.5714285714285714 __AUC ROC: 0.8507925346567095 __f1 на обучающей выборке 0.978036754818467\n",
      "Max_depth: 17 ___f1 метрика 0.56 __AUC ROC: 0.8526038320721131 __f1 на обучающей выборке 0.9838709677419355\n",
      "Max_depth: 18 ___f1 метрика 0.5676567656765676 __AUC ROC: 0.8511385955450183 __f1 на обучающей выборке 0.9842696629213482\n",
      "Max_depth: 19 ___f1 метрика 0.5647058823529412 __AUC ROC: 0.8533520967056107 __f1 на обучающей выборке 0.9846846846846847\n",
      "Max_depth: 20 ___f1 метрика 0.5737976782752903 __AUC ROC: 0.8458188297619726 __f1 на обучающей выборке 0.9851818590031433\n",
      "Max_depth: 21 ___f1 метрика 0.5317324185248713 __AUC ROC: 0.8434948836370263 __f1 на обучающей выборке 0.9846846846846847\n",
      "Max_depth: 22 ___f1 метрика 0.5408163265306123 __AUC ROC: 0.8475620194493582 __f1 на обучающей выборке 0.9824086603518268\n",
      "Max_depth: 23 ___f1 метрика 0.5531197301854974 __AUC ROC: 0.8470502911145186 __f1 на обучающей выборке 0.9824086603518268\n",
      "Max_depth: 24 ___f1 метрика 0.5469798657718121 __AUC ROC: 0.8496991295096059 __f1 на обучающей выборке 0.9833107803337844\n",
      "Max_depth: 25 ___f1 метрика 0.5430016863406408 __AUC ROC: 0.8466306002499737 __f1 на обучающей выборке 0.9828674481514879\n",
      "Max_depth: 26 ___f1 метрика 0.5430016863406408 __AUC ROC: 0.8466306002499737 __f1 на обучающей выборке 0.9828674481514879\n",
      "Max_depth: 27 ___f1 метрика 0.5430016863406408 __AUC ROC: 0.8466306002499737 __f1 на обучающей выборке 0.9828674481514879\n",
      "Max_depth: 28 ___f1 метрика 0.5430016863406408 __AUC ROC: 0.8466306002499737 __f1 на обучающей выборке 0.9828674481514879\n",
      "Max_depth: 29 ___f1 метрика 0.5430016863406408 __AUC ROC: 0.8466306002499737 __f1 на обучающей выборке 0.9828674481514879\n",
      "\n",
      "F1 наилучшей модели на валидационной выборке: 0.6321112515802781\n",
      "Максимальная глубина: 9\n"
     ]
    }
   ],
   "source": [
    "best_model = None\n",
    "best_result = 0\n",
    "max_depth = 0\n",
    "for depth in range(1, 30):\n",
    "    model = RandomForestClassifier(n_estimators=20, max_depth=depth, random_state=12345, class_weight='balanced')\n",
    "    model.fit(features_train, target_train)\n",
    "    result = f1_score(target_valid, model.predict(features_valid))\n",
    "    result_train = f1_score(target_train, model.predict(features_train))\n",
    "    probabilities_valid = model.predict_proba(features_valid)\n",
    "    probabilities_one_valid = probabilities_valid[:, 1]\n",
    "    auc_roc = roc_auc_score(target_valid, probabilities_one_valid)\n",
    "    print('Max_depth:', depth, '___f1 метрика',result, '__AUC ROC:', auc_roc, '__f1 на обучающей выборке', result_train)\n",
    "    if result > best_result:\n",
    "        best_model = model \n",
    "        best_result = result \n",
    "        max_depth = depth\n",
    "print()\n",
    "print(\"F1 наилучшей модели на валидационной выборке:\", best_result)\n",
    "print(\"Максимальная глубина:\", max_depth)"
   ]
  },
  {
   "cell_type": "markdown",
   "metadata": {},
   "source": [
    "Выявили лучшее значение глубины, теперь меняем число деревьев. Показания метрики уже превышают требуемое значение 0,59."
   ]
  },
  {
   "cell_type": "code",
   "execution_count": 31,
   "metadata": {},
   "outputs": [
    {
     "name": "stdout",
     "output_type": "stream",
     "text": [
      "Число деревьев: 10 f1 метрика 0.6497584541062802 __AUC ROC: 0.8689340404265387 __f1 на обучающей выборке 0.7413723101908243\n",
      "Число деревьев: 20 f1 метрика 0.6321112515802781 __AUC ROC: 0.8715994455662789 __f1 на обучающей выборке 0.7618651124063279\n",
      "Число деревьев: 30 f1 метрика 0.6382978723404255 __AUC ROC: 0.8720182160561207 __f1 на обучающей выборке 0.7693588676103248\n",
      "Число деревьев: 40 f1 метрика 0.6423173803526449 __AUC ROC: 0.8700191622013154 __f1 на обучающей выборке 0.7745952677459526\n",
      "Число деревьев: 50 f1 метрика 0.6349999999999999 __AUC ROC: 0.8699179209839909 __f1 на обучающей выборке 0.7810158201498751\n",
      "Число деревьев: 60 f1 метрика 0.6348808030112923 __AUC ROC: 0.869233162204997 __f1 на обучающей выборке 0.7791231732776617\n",
      "Число деревьев: 70 f1 метрика 0.6294416243654822 __AUC ROC: 0.8697264830457776 __f1 на обучающей выборке 0.779491454772822\n",
      "Число деревьев: 80 f1 метрика 0.6306532663316582 __AUC ROC: 0.8690269982715363 __f1 на обучающей выборке 0.7776387150604922\n",
      "Число деревьев: 90 f1 метрика 0.6340852130325815 __AUC ROC: 0.8694393261384574 __f1 на обучающей выборке 0.7706345914558274\n",
      "Число деревьев: 100 f1 метрика 0.6332916145181477 __AUC ROC: 0.8695147968640992 __f1 на обучающей выборке 0.7748647523928424\n",
      "Число деревьев: 110 f1 метрика 0.6347607052896725 __AUC ROC: 0.8698056352702312 __f1 на обучающей выборке 0.777731616119651\n",
      "Число деревьев: 120 f1 метрика 0.635678391959799 __AUC ROC: 0.8698553355041904 __f1 на обучающей выборке 0.7758333333333333\n",
      "Число деревьев: 130 f1 метрика 0.6381909547738694 __AUC ROC: 0.8703873120824951 __f1 на обучающей выборке 0.7741666666666666\n",
      "Число деревьев: 140 f1 метрика 0.642409033877039 __AUC ROC: 0.8706118835100146 __f1 на обучающей выборке 0.7752715121136174\n",
      "Число деревьев: 150 f1 метрика 0.6449184441656212 __AUC ROC: 0.8705842722689261 __f1 на обучающей выборке 0.7746772178259058\n",
      "Число деревьев: 160 f1 метрика 0.6449184441656212 __AUC ROC: 0.8706634244933796 __f1 на обучающей выборке 0.7746772178259058\n",
      "Число деревьев: 170 f1 метрика 0.6389937106918239 __AUC ROC: 0.870731532221398 __f1 на обучающей выборке 0.7786577740725302\n",
      "Число деревьев: 180 f1 метрика 0.6407035175879396 __AUC ROC: 0.8702639818722998 __f1 на обучающей выборке 0.7776387150604922\n",
      "Число деревьев: 190 f1 метрика 0.6408010012515645 __AUC ROC: 0.8706229280064501 __f1 на обучающей выборке 0.7797173732335828\n",
      "\n",
      "F1 наилучшей модели на валидационной выборке: 0.6497584541062802\n",
      "Число деревьев 10 Глубина: 9\n"
     ]
    }
   ],
   "source": [
    "best_model = None\n",
    "best_result = 0\n",
    "n_estimators = 0\n",
    "for n_est in range(10, 200, 10):\n",
    "    model = RandomForestClassifier(n_estimators=n_est, max_depth=9, random_state=12345, class_weight='balanced')\n",
    "    model.fit(features_train, target_train)\n",
    "    result = f1_score(target_valid, model.predict(features_valid))\n",
    "    result_train = f1_score(target_train, model.predict(features_train))\n",
    "    probabilities_valid = model.predict_proba(features_valid)\n",
    "    probabilities_one_valid = probabilities_valid[:, 1]\n",
    "    auc_roc = roc_auc_score(target_valid, probabilities_one_valid)\n",
    "    print('Число деревьев:', n_est, 'f1 метрика', result, '__AUC ROC:', auc_roc,'__f1 на обучающей выборке', result_train)\n",
    "    if result > best_result:\n",
    "        best_model = model \n",
    "        best_result = result \n",
    "        n_estimators=n_est\n",
    "print()\n",
    "print(\"F1 наилучшей модели на валидационной выборке:\", best_result)\n",
    "print(\"Число деревьев\", n_estimators, 'Глубина:', max_depth)"
   ]
  },
  {
   "cell_type": "code",
   "execution_count": 32,
   "metadata": {},
   "outputs": [
    {
     "name": "stdout",
     "output_type": "stream",
     "text": [
      "Число деревьев: 5 __f1 метрика 0.6192170818505337 __AUC ROC: 0.8532158812495743 ___f1 на обучающей выборке 0.7114779874213837\n",
      "Число деревьев: 6 __f1 метрика 0.6254458977407847 __AUC ROC: 0.8564325908363812 ___f1 на обучающей выборке 0.7162270183852918\n",
      "Число деревьев: 7 __f1 метрика 0.6275449101796408 __AUC ROC: 0.860793326178954 ___f1 на обучающей выборке 0.7218225419664269\n",
      "Число деревьев: 8 __f1 метрика 0.636144578313253 __AUC ROC: 0.8633390826073111 ___f1 на обучающей выборке 0.7347436940602114\n",
      "Число деревьев: 9 __f1 метрика 0.6340269277845777 __AUC ROC: 0.866828223106191 ___f1 на обучающей выборке 0.7427639624949042\n",
      "Число деревьев: 10 __f1 метрика 0.6497584541062802 __AUC ROC: 0.8689340404265387 ___f1 на обучающей выборке 0.7413723101908243\n",
      "Число деревьев: 11 __f1 метрика 0.639225181598063 __AUC ROC: 0.8700467734424039 ___f1 на обучающей выборке 0.7426470588235293\n",
      "Число деревьев: 12 __f1 метрика 0.6410891089108911 __AUC ROC: 0.8709745111429765 ___f1 на обучающей выборке 0.7468982630272952\n",
      "Число деревьев: 13 __f1 метрика 0.6430317848410758 __AUC ROC: 0.8713702722652445 ___f1 на обучающей выборке 0.7542337876910367\n",
      "Число деревьев: 14 __f1 метрика 0.6446078431372548 __AUC ROC: 0.8727591176919947 ___f1 на обучающей выборке 0.752679307502061\n",
      "Число деревьев: 15 __f1 метрика 0.6362515413070283 __AUC ROC: 0.872013614182606 ___f1 на обучающей выборке 0.7552795031055901\n",
      "Число деревьев: 16 __f1 метрика 0.6370370370370371 __AUC ROC: 0.8722381856101256 ___f1 на обучающей выборке 0.7587354409317804\n",
      "Число деревьев: 17 __f1 метрика 0.6293532338308457 __AUC ROC: 0.8711595064582693 ___f1 на обучающей выборке 0.7587646076794657\n",
      "Число деревьев: 18 __f1 метрика 0.6398996235884566 __AUC ROC: 0.8728842886515958 ___f1 на обучающей выборке 0.7591973244147155\n",
      "Число деревьев: 19 __f1 метрика 0.6313131313131313 __AUC ROC: 0.8709901575129266 ___f1 на обучающей выборке 0.7672377768491432\n",
      "\n",
      "F1 наилучшей модели на валидационной выборке: 0.6497584541062802\n",
      "Число деревьев 10 Глубина: 9\n"
     ]
    }
   ],
   "source": [
    "best_model = None\n",
    "best_result = 0\n",
    "n_estimators = 0\n",
    "for n_est in range(5, 20):\n",
    "    model = RandomForestClassifier(n_estimators=n_est, max_depth=9, random_state=12345, class_weight='balanced')\n",
    "    model.fit(features_train, target_train)\n",
    "    result = f1_score(target_valid, model.predict(features_valid))\n",
    "    result_train = f1_score(target_train, model.predict(features_train))\n",
    "    probabilities_valid = model.predict_proba(features_valid)\n",
    "    probabilities_one_valid = probabilities_valid[:, 1]\n",
    "    auc_roc = roc_auc_score(target_valid, probabilities_one_valid)\n",
    "    print('Число деревьев:', n_est, '__f1 метрика',result, '__AUC ROC:', auc_roc, '___f1 на обучающей выборке', result_train, )\n",
    "    \n",
    "    if result > best_result:\n",
    "        best_model = model \n",
    "        best_result = result \n",
    "        n_estimators=n_est\n",
    "print()\n",
    "print(\"F1 наилучшей модели на валидационной выборке:\", best_result)\n",
    "print(\"Число деревьев\", n_estimators, 'Глубина:', max_depth)"
   ]
  },
  {
   "cell_type": "code",
   "execution_count": 33,
   "metadata": {},
   "outputs": [
    {
     "name": "stdout",
     "output_type": "stream",
     "text": [
      "[[1259  182]\n",
      " [ 108  269]]\n"
     ]
    }
   ],
   "source": [
    "model = best_model\n",
    "model.fit(features_train, target_train)\n",
    "print(confusion_matrix(target_valid, model.predict(features_valid)))"
   ]
  },
  {
   "cell_type": "markdown",
   "metadata": {},
   "source": [
    "С учетом дисбаланса значение метрики f1 значительно увеличилось и стало выше требуемого значения 0,59:\n",
    "* F1 наилучшей модели на валидационной выборке: 0.6497584541062802\n",
    "* Число деревьев 10 Глубина: 9\n",
    "\n",
    "При этом AUC-ROC метрика равна 0.8689340404265387, это лучше, чем у случайной модели."
   ]
  },
  {
   "cell_type": "markdown",
   "metadata": {},
   "source": [
    "### Борьба с дисбалансом другим способом"
   ]
  },
  {
   "cell_type": "markdown",
   "metadata": {},
   "source": [
    "Попробуем убрать дисбаланс техникой upsampling. "
   ]
  },
  {
   "cell_type": "markdown",
   "metadata": {},
   "source": [
    "Для этого создадим функцию, которая увеличит количество 1 в целевом признаке, чтобы избавиться от дисбаланса."
   ]
  },
  {
   "cell_type": "code",
   "execution_count": 34,
   "metadata": {},
   "outputs": [],
   "source": [
    "def upsample(features, target, repeat):\n",
    "    \"\"\"Функция копирует несколько раз (repeat) положительные объекты,\n",
    "    создает новую обучающую выборку и перемешивает данные\"\"\"\n",
    "    \n",
    "    features_zeros = features[target == 0]\n",
    "    features_ones = features[target == 1]\n",
    "    target_zeros = target[target == 0]\n",
    "    target_ones = target[target == 1]\n",
    "\n",
    "    features_upsampled = pd.concat([features_zeros] + [features_ones] * repeat)\n",
    "    target_upsampled = pd.concat([target_zeros] + [target_ones] * repeat)\n",
    "    \n",
    "    features_upsampled, target_upsampled = shuffle(\n",
    "        features_upsampled, target_upsampled, random_state=12345)\n",
    "    \n",
    "    return features_upsampled, target_upsampled\n",
    "\n",
    "features_upsampled, target_upsampled = upsample(features_train, target_train, 4)\n"
   ]
  },
  {
   "cell_type": "code",
   "execution_count": 35,
   "metadata": {},
   "outputs": [
    {
     "data": {
      "text/plain": [
       "0.509963768115942"
      ]
     },
     "execution_count": 35,
     "metadata": {},
     "output_type": "execute_result"
    }
   ],
   "source": [
    "#Теперь 1 и 0 поровну\n",
    "target_upsampled.mean()"
   ]
  },
  {
   "cell_type": "markdown",
   "metadata": {},
   "source": [
    "**Дерево решений**"
   ]
  },
  {
   "cell_type": "code",
   "execution_count": 36,
   "metadata": {},
   "outputs": [
    {
     "name": "stdout",
     "output_type": "stream",
     "text": [
      "Max_depth: 1 ___f1 метрика 0.5065856129685917 __AUC ROC: 0.7066517320531535 __f1 обучающей модели: 0.48602002071108047\n",
      "Max_depth: 2 ___f1 метрика 0.5297619047619048 __AUC ROC: 0.7580721463322148 __f1 обучающей модели: 0.5129064699966477\n",
      "Max_depth: 3 ___f1 метрика 0.548936170212766 __AUC ROC: 0.7949267105624042 __f1 обучающей модели: 0.5387962291515591\n",
      "Max_depth: 4 ___f1 метрика 0.5461187214611872 __AUC ROC: 0.8178983427733099 __f1 обучающей модели: 0.5344827586206896\n",
      "Max_depth: 5 ___f1 метрика 0.5735449735449736 __AUC ROC: 0.8396523192522141 __f1 обучающей модели: 0.5921100253347811\n",
      "Max_depth: 6 ___f1 метрика 0.5630885122410546 __AUC ROC: 0.8321227338073877 __f1 обучающей модели: 0.5920000000000001\n",
      "Max_depth: 7 ___f1 метрика 0.5413533834586466 __AUC ROC: 0.8105454692714498 __f1 обучающей модели: 0.6076585059635907\n",
      "Max_depth: 8 ___f1 метрика 0.5581395348837209 __AUC ROC: 0.7901149916153866 __f1 обучающей модели: 0.6506189821182944\n",
      "Max_depth: 9 ___f1 метрика 0.5159165751920965 __AUC ROC: 0.7664024577686068 __f1 обучающей модели: 0.7\n",
      "Max_depth: 10 ___f1 метрика 0.5059978189749182 __AUC ROC: 0.7295110785502994 __f1 обучающей модели: 0.7259887005649717\n",
      "Max_depth: 11 ___f1 метрика 0.5152542372881356 __AUC ROC: 0.716273329197783 __f1 обучающей модели: 0.7711461003295494\n",
      "Max_depth: 12 ___f1 метрика 0.5018181818181819 __AUC ROC: 0.6932142613900971 __f1 обучающей модели: 0.8386841062227507\n",
      "Max_depth: 13 ___f1 метрика 0.4802955665024631 __AUC ROC: 0.6726024699175528 __f1 обучающей модели: 0.8703331995182657\n",
      "Max_depth: 14 ___f1 метрика 0.48143405889884766 __AUC ROC: 0.6746457017580998 __f1 обучающей модели: 0.9038067949242734\n",
      "Max_depth: 15 ___f1 метрика 0.4704336399474376 __AUC ROC: 0.6636877205447882 __f1 обучающей модели: 0.9400337837837838\n",
      "Max_depth: 16 ___f1 метрика 0.474034620505992 __AUC ROC: 0.6640153739390381 __f1 обучающей модели: 0.9588336192109778\n",
      "Max_depth: 17 ___f1 метрика 0.45066666666666666 __AUC ROC: 0.6549975425995431 __f1 обучающей модели: 0.9756309834638816\n",
      "Max_depth: 18 ___f1 метрика 0.461118690313779 __AUC ROC: 0.6603127065090739 __f1 обучающей модели: 0.9851138353765324\n",
      "Max_depth: 19 ___f1 метрика 0.46278755074424893 __AUC ROC: 0.6612376830855379 __f1 обучающей модели: 0.9920704845814978\n",
      "Max_depth: 20 ___f1 метрика 0.4693042291950887 __AUC ROC: 0.66423442311834 __f1 обучающей модели: 0.9969012837538733\n",
      "Max_depth: 21 ___f1 метрика 0.4515235457063712 __AUC ROC: 0.6528622732887013 __f1 обучающей модели: 0.9995561473590767\n",
      "Max_depth: 22 ___f1 метрика 0.46195652173913043 __AUC ROC: 0.6598847322722027 __f1 обучающей модели: 1.0\n",
      "Max_depth: 23 ___f1 метрика 0.46195652173913043 __AUC ROC: 0.6598847322722027 __f1 обучающей модели: 1.0\n",
      "Max_depth: 24 ___f1 метрика 0.46195652173913043 __AUC ROC: 0.6598847322722027 __f1 обучающей модели: 1.0\n",
      "\n",
      "F1 наилучшей модели на валидационной выборке: 0.5735449735449736\n",
      "Максимальная глубина: 5\n"
     ]
    }
   ],
   "source": [
    "best_model = None\n",
    "best_result = 0\n",
    "max_depth = 0\n",
    "for depth in range (1, 25):\n",
    "    model =  DecisionTreeClassifier(random_state=12345, max_depth=depth)\n",
    "    model.fit(features_upsampled, target_upsampled)\n",
    "    result = f1_score(target_valid, model.predict(features_valid))\n",
    "    result_train = f1_score(target_train, model.predict(features_train))\n",
    "    probabilities_valid = model.predict_proba(features_valid)\n",
    "    probabilities_one_valid = probabilities_valid[:, 1]\n",
    "    auc_roc = roc_auc_score(target_valid, probabilities_one_valid)\n",
    "    print('Max_depth:', depth, '___f1 метрика', result,  '__AUC ROC:', auc_roc,'__f1 обучающей модели:', result_train)\n",
    "    if result > best_result:\n",
    "        best_model = model \n",
    "        best_result = result \n",
    "        max_depth = depth\n",
    "print()\n",
    "print(\"F1 наилучшей модели на валидационной выборке:\", best_result)\n",
    "print(\"Максимальная глубина:\", max_depth)"
   ]
  },
  {
   "cell_type": "markdown",
   "metadata": {},
   "source": [
    "Результаты такие же, как при использовании аргумента class_weight='balanced'"
   ]
  },
  {
   "cell_type": "markdown",
   "metadata": {},
   "source": [
    "**Логистическая регрессия**"
   ]
  },
  {
   "cell_type": "code",
   "execution_count": 37,
   "metadata": {},
   "outputs": [
    {
     "name": "stdout",
     "output_type": "stream",
     "text": [
      "0.47457627118644063\n"
     ]
    }
   ],
   "source": [
    "model = LogisticRegression(random_state=12345, solver='liblinear') \n",
    "model.fit(features_upsampled, target_upsampled) \n",
    "print(f1_score(target_valid, model.predict(features_valid)))"
   ]
  },
  {
   "cell_type": "markdown",
   "metadata": {},
   "source": [
    "Здесь результат хуже, чем при использовании аргумента class_weight='balanced'. Попробуем изменение порога."
   ]
  },
  {
   "cell_type": "code",
   "execution_count": 38,
   "metadata": {},
   "outputs": [
    {
     "name": "stdout",
     "output_type": "stream",
     "text": [
      "Порог = 0.00 | f1 метрика = 0.344\n",
      "Порог = 0.02 | f1 метрика = 0.344\n",
      "Порог = 0.04 | f1 метрика = 0.343\n",
      "Порог = 0.06 | f1 метрика = 0.347\n",
      "Порог = 0.08 | f1 метрика = 0.353\n",
      "Порог = 0.10 | f1 метрика = 0.363\n",
      "Порог = 0.12 | f1 метрика = 0.373\n",
      "Порог = 0.14 | f1 метрика = 0.393\n",
      "Порог = 0.16 | f1 метрика = 0.404\n",
      "Порог = 0.18 | f1 метрика = 0.422\n",
      "Порог = 0.20 | f1 метрика = 0.436\n",
      "Порог = 0.22 | f1 метрика = 0.438\n",
      "Порог = 0.24 | f1 метрика = 0.436\n",
      "Порог = 0.26 | f1 метрика = 0.421\n",
      "Порог = 0.28 | f1 метрика = 0.403\n",
      "Порог = 0.30 | f1 метрика = 0.384\n",
      "Порог = 0.32 | f1 метрика = 0.354\n",
      "Порог = 0.34 | f1 метрика = 0.312\n",
      "Порог = 0.36 | f1 метрика = 0.272\n",
      "Порог = 0.38 | f1 метрика = 0.240\n",
      "Порог = 0.40 | f1 метрика = 0.217\n",
      "Порог = 0.42 | f1 метрика = 0.191\n",
      "Порог = 0.44 | f1 метрика = 0.151\n",
      "Порог = 0.46 | f1 метрика = 0.141\n",
      "Порог = 0.48 | f1 метрика = 0.100\n",
      "Порог = 0.50 | f1 метрика = 0.072\n",
      "Порог = 0.52 | f1 метрика = 0.059\n",
      "Порог = 0.54 | f1 метрика = 0.050\n",
      "Порог = 0.56 | f1 метрика = 0.015\n",
      "Порог = 0.58 | f1 метрика = 0.010\n",
      "Порог = 0.60 | f1 метрика = 0.005\n",
      "Порог = 0.62 | f1 метрика = 0.005\n",
      "Порог = 0.64 | f1 метрика = 0.005\n",
      "Порог = 0.66 | f1 метрика = 0.000\n",
      "Порог = 0.68 | f1 метрика = 0.000\n"
     ]
    }
   ],
   "source": [
    "model = LogisticRegression(random_state=12345, solver='liblinear')\n",
    "model.fit(features_train, target_train)\n",
    "probabilities_valid = model.predict_proba(features_valid)\n",
    "probabilities_one_valid = probabilities_valid[:, 1]\n",
    "\n",
    "for threshold in np.arange(0, 0.7, 0.02):\n",
    "    predicted_valid = probabilities_one_valid > threshold \n",
    "    f1 = f1_score(target_valid, predicted_valid)\n",
    "    \n",
    "\n",
    "    print(\"Порог = {:.2f} | f1 метрика = {:.3f}\".format(\n",
    "        threshold, f1))"
   ]
  },
  {
   "cell_type": "markdown",
   "metadata": {},
   "source": [
    "Наилучший результат: Порог = 0.22 | f1 метрика = 0.438 - меньше требуемого."
   ]
  },
  {
   "cell_type": "markdown",
   "metadata": {},
   "source": [
    "Теперь попробуем со сбалансированными данными."
   ]
  },
  {
   "cell_type": "code",
   "execution_count": 39,
   "metadata": {},
   "outputs": [
    {
     "name": "stdout",
     "output_type": "stream",
     "text": [
      "Порог = 0.00 | f1 метрика = 0.344\n",
      "Порог = 0.02 | f1 метрика = 0.344\n",
      "Порог = 0.04 | f1 метрика = 0.344\n",
      "Порог = 0.06 | f1 метрика = 0.344\n",
      "Порог = 0.08 | f1 метрика = 0.344\n",
      "Порог = 0.10 | f1 метрика = 0.344\n",
      "Порог = 0.12 | f1 метрика = 0.344\n",
      "Порог = 0.14 | f1 метрика = 0.343\n",
      "Порог = 0.16 | f1 метрика = 0.344\n",
      "Порог = 0.18 | f1 метрика = 0.346\n",
      "Порог = 0.20 | f1 метрика = 0.348\n",
      "Порог = 0.22 | f1 метрика = 0.350\n",
      "Порог = 0.24 | f1 метрика = 0.353\n",
      "Порог = 0.26 | f1 метрика = 0.358\n",
      "Порог = 0.28 | f1 метрика = 0.363\n",
      "Порог = 0.30 | f1 метрика = 0.368\n",
      "Порог = 0.32 | f1 метрика = 0.375\n",
      "Порог = 0.34 | f1 метрика = 0.383\n",
      "Порог = 0.36 | f1 метрика = 0.390\n",
      "Порог = 0.38 | f1 метрика = 0.402\n",
      "Порог = 0.40 | f1 метрика = 0.418\n",
      "Порог = 0.42 | f1 метрика = 0.429\n",
      "Порог = 0.44 | f1 метрика = 0.440\n",
      "Порог = 0.46 | f1 метрика = 0.455\n",
      "Порог = 0.48 | f1 метрика = 0.463\n",
      "Порог = 0.50 | f1 метрика = 0.475\n",
      "Порог = 0.52 | f1 метрика = 0.480\n",
      "Порог = 0.54 | f1 метрика = 0.479\n",
      "Порог = 0.56 | f1 метрика = 0.480\n",
      "Порог = 0.58 | f1 метрика = 0.471\n",
      "Порог = 0.60 | f1 метрика = 0.453\n",
      "Порог = 0.62 | f1 метрика = 0.433\n",
      "Порог = 0.64 | f1 метрика = 0.401\n",
      "Порог = 0.66 | f1 метрика = 0.365\n",
      "Порог = 0.68 | f1 метрика = 0.329\n"
     ]
    }
   ],
   "source": [
    "model = LogisticRegression(random_state=12345, solver='liblinear')\n",
    "model.fit(features_upsampled, target_upsampled)\n",
    "probabilities_valid = model.predict_proba(features_valid)\n",
    "probabilities_one_valid = probabilities_valid[:, 1]\n",
    "\n",
    "for threshold in np.arange(0, 0.7, 0.02):\n",
    "    predicted_valid = probabilities_one_valid > threshold \n",
    "    f1 = f1_score(target_valid, predicted_valid)\n",
    "    \n",
    "\n",
    "    print(\"Порог = {:.2f} | f1 метрика = {:.3f}\".format(\n",
    "        threshold, f1))"
   ]
  },
  {
   "cell_type": "markdown",
   "metadata": {},
   "source": [
    "Наилучший результат : Порог = 0.52 | f1 метрика = 0.480 - меньше требуемого. \n",
    "Здесь мы можем наблюдать, что наилучший результат метрики достигается  при пороге близком по значению к target.mean()."
   ]
  },
  {
   "cell_type": "markdown",
   "metadata": {},
   "source": [
    "**Случайный лес**"
   ]
  },
  {
   "cell_type": "code",
   "execution_count": 40,
   "metadata": {},
   "outputs": [
    {
     "name": "stdout",
     "output_type": "stream",
     "text": [
      "Max_depth: 1 ___f1 метрика 0.5399811853245532 __AUC ROC: 0.8052938112164224 __f1 на обучающей выборке 0.5255709231264072\n",
      "Max_depth: 2 ___f1 метрика 0.5513307984790875 __AUC ROC: 0.8222029352590027 __f1 на обучающей выборке 0.529639175257732\n",
      "Max_depth: 3 ___f1 метрика 0.5605214152700186 __AUC ROC: 0.8414626962929147 __f1 на обучающей выборке 0.539602398232881\n",
      "Max_depth: 4 ___f1 метрика 0.5969543147208121 __AUC ROC: 0.8505532372339428 __f1 на обучающей выборке 0.5873400207540643\n",
      "Max_depth: 5 ___f1 метрика 0.6059957173447538 __AUC ROC: 0.8600662301636242 __f1 на обучающей выборке 0.6126709863210943\n",
      "Max_depth: 6 ___f1 метрика 0.6012793176972281 __AUC ROC: 0.8625760919785663 __f1 на обучающей выборке 0.6449038810301051\n",
      "Max_depth: 7 ___f1 метрика 0.6162162162162163 __AUC ROC: 0.861591291046411 __f1 на обучающей выборке 0.6613080014614542\n",
      "Max_depth: 8 ___f1 метрика 0.6165577342047931 __AUC ROC: 0.8660946844679406 __f1 на обучающей выборке 0.707635009310987\n",
      "Max_depth: 9 ___f1 метрика 0.6066666666666667 __AUC ROC: 0.8600110076814472 __f1 на обучающей выборке 0.7644787644787645\n",
      "Max_depth: 10 ___f1 метрика 0.6044864226682408 __AUC ROC: 0.853977031128913 __f1 на обучающей выборке 0.8305621536025336\n",
      "Max_depth: 11 ___f1 метрика 0.6067146282973621 __AUC ROC: 0.8540469796063374 __f1 на обучающей выборке 0.8682610458046209\n",
      "Max_depth: 12 ___f1 метрика 0.6142131979695432 __AUC ROC: 0.8532269257460098 __f1 на обучающей выборке 0.929140461215933\n",
      "Max_depth: 13 ___f1 метрика 0.6020408163265307 __AUC ROC: 0.8536530592334751 __f1 на обучающей выборке 0.959349593495935\n",
      "Max_depth: 14 ___f1 метрика 0.5983827493261455 __AUC ROC: 0.8489471833772966 __f1 на обучающей выборке 0.9774109470026066\n",
      "Max_depth: 15 ___f1 метрика 0.6090534979423868 __AUC ROC: 0.8471644175776842 __f1 на обучающей выборке 0.9859894921190894\n",
      "Max_depth: 16 ___f1 метрика 0.6072992700729927 __AUC ROC: 0.8480120826791003 __f1 на обучающей выборке 0.9925077126487439\n",
      "Max_depth: 17 ___f1 метрика 0.594059405940594 __AUC ROC: 0.8467833824506634 __f1 на обучающей выборке 0.9960194604157453\n",
      "Max_depth: 18 ___f1 метрика 0.5909752547307132 __AUC ROC: 0.840266209179081 __f1 на обучающей выборке 0.9982269503546098\n",
      "Max_depth: 19 ___f1 метрика 0.5997001499250375 __AUC ROC: 0.8447916915934816 __f1 на обучающей выборке 0.998669623059867\n",
      "Max_depth: 20 ___f1 метрика 0.5919282511210762 __AUC ROC: 0.8468883051667994 __f1 на обучающей выборке 0.9991126885536824\n",
      "Max_depth: 21 ___f1 метрика 0.6079295154185023 __AUC ROC: 0.8514772934357036 __f1 на обучающей выборке 0.998669623059867\n",
      "Max_depth: 22 ___f1 метрика 0.5891238670694864 __AUC ROC: 0.8441400663037936 __f1 на обучающей выборке 0.9991126885536824\n",
      "Max_depth: 23 ___f1 метрика 0.5945945945945946 __AUC ROC: 0.8435731154867769 __f1 на обучающей выборке 0.9991126885536824\n",
      "Max_depth: 24 ___f1 метрика 0.6 __AUC ROC: 0.8436126915990038 __f1 на обучающей выборке 0.9991126885536824\n",
      "Max_depth: 25 ___f1 метрика 0.5900151285930408 __AUC ROC: 0.8443038930009186 __f1 на обучающей выборке 0.9991126885536824\n",
      "Max_depth: 26 ___f1 метрика 0.5900151285930408 __AUC ROC: 0.8443038930009186 __f1 на обучающей выборке 0.9991126885536824\n",
      "Max_depth: 27 ___f1 метрика 0.5900151285930408 __AUC ROC: 0.8443038930009186 __f1 на обучающей выборке 0.9991126885536824\n",
      "Max_depth: 28 ___f1 метрика 0.5900151285930408 __AUC ROC: 0.8443038930009186 __f1 на обучающей выборке 0.9991126885536824\n",
      "Max_depth: 29 ___f1 метрика 0.5900151285930408 __AUC ROC: 0.8443038930009186 __f1 на обучающей выборке 0.9991126885536824\n",
      "\n",
      "F1 наилучшей модели на валидационной выборке: 0.6165577342047931\n",
      "Максимальная глубина: 8\n"
     ]
    }
   ],
   "source": [
    "best_model = None\n",
    "best_result = 0\n",
    "max_depth = 0\n",
    "for depth in range(1, 30):\n",
    "    model = RandomForestClassifier(n_estimators=20, max_depth=depth, random_state=12345)\n",
    "    model.fit(features_upsampled, target_upsampled)\n",
    "    result = f1_score(target_valid, model.predict(features_valid))\n",
    "    result_train = f1_score(target_train, model.predict(features_train))\n",
    "    probabilities_valid = model.predict_proba(features_valid)\n",
    "    probabilities_one_valid = probabilities_valid[:, 1]\n",
    "    auc_roc = roc_auc_score(target_valid, probabilities_one_valid)\n",
    "    print('Max_depth:', depth, '___f1 метрика',result, '__AUC ROC:', auc_roc, '__f1 на обучающей выборке', result_train)\n",
    "    if result > best_result:\n",
    "        best_model = model \n",
    "        best_result = result \n",
    "        max_depth = depth\n",
    "print()\n",
    "print(\"F1 наилучшей модели на валидационной выборке:\", best_result)\n",
    "print(\"Максимальная глубина:\", max_depth)"
   ]
  },
  {
   "cell_type": "code",
   "execution_count": 41,
   "metadata": {},
   "outputs": [
    {
     "name": "stdout",
     "output_type": "stream",
     "text": [
      "Число деревьев: 10 f1 метрика 0.6000000000000001 __AUC ROC: 0.8540598648521786 __f1 на обучающей выборке 0.7113095238095238\n",
      "Число деревьев: 20 f1 метрика 0.6165577342047931 __AUC ROC: 0.8660946844679406 __f1 на обучающей выборке 0.707635009310987\n",
      "Число деревьев: 30 f1 метрика 0.6236323851203501 __AUC ROC: 0.8675396727515705 __f1 на обучающей выборке 0.7118133935289692\n",
      "Число деревьев: 40 f1 метрика 0.6266375545851528 __AUC ROC: 0.8684250732158076 __f1 на обучающей выборке 0.7135867519759127\n",
      "Число деревьев: 50 f1 метрика 0.6157205240174672 __AUC ROC: 0.86809189757334 __f1 на обучающей выборке 0.7100635989524878\n",
      "Число деревьев: 60 f1 метрика 0.6236323851203501 __AUC ROC: 0.8681747312966055 __f1 на обучающей выборке 0.7136960600375234\n",
      "Число деревьев: 70 f1 метрика 0.6278814489571899 __AUC ROC: 0.8683238319984833 __f1 на обучающей выборке 0.7156789197299324\n",
      "Число деревьев: 80 f1 метрика 0.6256860592755215 __AUC ROC: 0.8697191200481541 __f1 на обучающей выборке 0.7154654654654654\n",
      "Число деревьев: 90 f1 метрика 0.6300768386388583 __AUC ROC: 0.8698590170030022 __f1 на обучающей выборке 0.7166979362101313\n",
      "Число деревьев: 100 f1 метрика 0.6256860592755215 __AUC ROC: 0.870153536907946 __f1 на обучающей выборке 0.7135904155746912\n",
      "Число деревьев: 110 f1 метрика 0.6265060240963856 __AUC ROC: 0.8707517804648628 __f1 на обучающей выборке 0.7117757009345795\n",
      "Число деревьев: 120 f1 метрика 0.6252723311546841 __AUC ROC: 0.8703320896003183 __f1 на обучающей выборке 0.7088607594936709\n",
      "Число деревьев: 130 f1 метрика 0.6222707423580786 __AUC ROC: 0.8699989139578503 __f1 на обучающей выборке 0.7116747482282731\n",
      "Число деревьев: 140 f1 метрика 0.6244541484716158 __AUC ROC: 0.8697835462773604 __f1 на обучающей выборке 0.7109783420463032\n",
      "Число деревьев: 150 f1 метрика 0.624315443592552 __AUC ROC: 0.8698516540053787 __f1 на обучающей выборке 0.7087378640776699\n",
      "Число деревьев: 160 f1 метрика 0.6234906695938529 __AUC ROC: 0.8696896680576596 __f1 на обучающей выборке 0.710928757926147\n",
      "Число деревьев: 170 f1 метрика 0.6249999999999999 __AUC ROC: 0.8689828202857948 __f1 на обучающей выборке 0.7105459985041138\n",
      "Число деревьев: 180 f1 метрика 0.624315443592552 __AUC ROC: 0.8691521692311373 __f1 на обучающей выборке 0.7084733109369167\n",
      "Число деревьев: 190 f1 метрика 0.6229508196721311 __AUC ROC: 0.8693509701669745 __f1 на обучающей выборке 0.7084265473527218\n",
      "\n",
      "F1 наилучшей модели на валидационной выборке: 0.6300768386388583\n",
      "Число деревьев 90 Глубина: 8\n"
     ]
    }
   ],
   "source": [
    "best_model = None\n",
    "best_result = 0\n",
    "n_estimators = 0\n",
    "for n_est in range(10, 200, 10):\n",
    "    model = RandomForestClassifier(n_estimators=n_est, max_depth=8, random_state=12345)\n",
    "    model.fit(features_upsampled, target_upsampled)\n",
    "    result = f1_score(target_valid, model.predict(features_valid))\n",
    "    result_train = f1_score(target_train, model.predict(features_train))\n",
    "    probabilities_valid = model.predict_proba(features_valid)\n",
    "    probabilities_one_valid = probabilities_valid[:, 1]\n",
    "    auc_roc = roc_auc_score(target_valid, probabilities_one_valid)\n",
    "    print('Число деревьев:', n_est, 'f1 метрика', result, '__AUC ROC:', auc_roc,'__f1 на обучающей выборке', result_train)\n",
    "    if result > best_result:\n",
    "        best_model = model \n",
    "        best_result = result \n",
    "        n_estimators=n_est\n",
    "print()\n",
    "print(\"F1 наилучшей модели на валидационной выборке:\", best_result)\n",
    "print(\"Число деревьев\", n_estimators, 'Глубина:', max_depth)"
   ]
  },
  {
   "cell_type": "code",
   "execution_count": 42,
   "metadata": {},
   "outputs": [
    {
     "name": "stdout",
     "output_type": "stream",
     "text": [
      "Число деревьев: 85 __f1 метрика 0.6274509803921567 __AUC ROC: 0.8695240006111288 ___f1 на обучающей выборке 0.7167414050822122\n",
      "Число деревьев: 86 __f1 метрика 0.6244541484716158 __AUC ROC: 0.8696749420624125 ___f1 на обучающей выборке 0.7159387831280328\n",
      "Число деревьев: 87 __f1 метрика 0.6271929824561403 __AUC ROC: 0.8699105579863675 ___f1 на обучающей выборке 0.7164736645498693\n",
      "Число деревьев: 88 __f1 метрика 0.6271929824561403 __AUC ROC: 0.8700338881965626 ___f1 на обучающей выборке 0.7167976056864946\n",
      "Число деревьев: 89 __f1 метрика 0.6300768386388583 __AUC ROC: 0.870098314425769 ___f1 на обучающей выборке 0.7161048689138577\n",
      "Число деревьев: 90 __f1 метрика 0.6300768386388583 __AUC ROC: 0.8698590170030022 ___f1 на обучающей выборке 0.7166979362101313\n",
      "Число деревьев: 91 __f1 метрика 0.6299559471365638 __AUC ROC: 0.8699123987357732 ___f1 на обучающей выборке 0.7148203592814372\n",
      "Число деревьев: 92 __f1 метрика 0.6300768386388583 __AUC ROC: 0.8699565767215149 ___f1 на обучающей выборке 0.7164291072768192\n",
      "Число деревьев: 93 __f1 метрика 0.6292629262926294 __AUC ROC: 0.869846131757161 ___f1 на обучающей выборке 0.7158920539730135\n",
      "Число деревьев: 94 __f1 метрика 0.6306504961411246 __AUC ROC: 0.8699786657143856 ___f1 на обучающей выборке 0.7149287321830458\n",
      "\n",
      "F1 наилучшей модели на валидационной выборке: 0.6306504961411246\n",
      "Число деревьев 94 Глубина: 8\n"
     ]
    }
   ],
   "source": [
    "best_model = None\n",
    "best_result = 0\n",
    "n_estimators = 0\n",
    "for n_est in range(85, 95):\n",
    "    model = RandomForestClassifier(n_estimators=n_est, max_depth=8, random_state=12345)\n",
    "    model.fit(features_upsampled, target_upsampled)\n",
    "    result = f1_score(target_valid, model.predict(features_valid))\n",
    "    result_train = f1_score(target_train, model.predict(features_train))\n",
    "    probabilities_valid = model.predict_proba(features_valid)\n",
    "    probabilities_one_valid = probabilities_valid[:, 1]\n",
    "    auc_roc = roc_auc_score(target_valid, probabilities_one_valid)\n",
    "    print('Число деревьев:', n_est, '__f1 метрика',result, '__AUC ROC:', auc_roc, '___f1 на обучающей выборке', result_train, )\n",
    "    \n",
    "    if result > best_result:\n",
    "        best_model = model \n",
    "        best_result = result \n",
    "        n_estimators=n_est\n",
    "print()\n",
    "print(\"F1 наилучшей модели на валидационной выборке:\", best_result)\n",
    "print(\"Число деревьев\", n_estimators, 'Глубина:', max_depth)"
   ]
  },
  {
   "cell_type": "markdown",
   "metadata": {},
   "source": [
    "Значение f1 получилось 0.6306504961411246, это значение превышает требуемый показатель, но с при использовании аргумента class_weight='balanced'  результат был выше. \n",
    "Поэтому оставляем лучшей предыдущую модель.\n",
    "* F1 наилучшей модели на валидационной выборке: 0.6497584541062802\n",
    "* Число деревьев 10 Глубина: 9"
   ]
  },
  {
   "cell_type": "markdown",
   "metadata": {},
   "source": [
    "## Тестирование модели"
   ]
  },
  {
   "cell_type": "markdown",
   "metadata": {},
   "source": [
    "Тестируем лучшую модель на тестовой выборке."
   ]
  },
  {
   "cell_type": "code",
   "execution_count": 43,
   "metadata": {},
   "outputs": [
    {
     "name": "stdout",
     "output_type": "stream",
     "text": [
      "0.5936675461741425\n"
     ]
    }
   ],
   "source": [
    "model =  RandomForestClassifier(n_estimators=10, max_depth=9, random_state=12345, class_weight='balanced')\n",
    "model.fit(features_train, target_train)\n",
    "print(f1_score(target_test, model.predict(features_test)))"
   ]
  },
  {
   "cell_type": "markdown",
   "metadata": {},
   "source": [
    "Значение метрики f1 на тестовой выборке превысило требуемое значение 0.59."
   ]
  },
  {
   "cell_type": "markdown",
   "metadata": {},
   "source": [
    "## Вывод"
   ]
  },
  {
   "cell_type": "markdown",
   "metadata": {},
   "source": [
    "Нам было нужно  спрогнозировать, уйдёт клиент из банка в ближайшее время или нет. \n",
    "\n",
    "Для этого мы построили модели классификации и выбрали модель с наилучшими показателями метрики f1. \n",
    "Этой моделью оказался случайный лес с 10 деревьями и глубиной 9 и аргументом `class_weight='balanced'`. \n",
    "\n",
    "Испытание на тестовой выборке показало значение метрики 0.5936675461741425, что выше требуемого 0.59."
   ]
  }
 ],
 "metadata": {
  "kernelspec": {
   "display_name": "Python 3 (ipykernel)",
   "language": "python",
   "name": "python3"
  },
  "language_info": {
   "codemirror_mode": {
    "name": "ipython",
    "version": 3
   },
   "file_extension": ".py",
   "mimetype": "text/x-python",
   "name": "python",
   "nbconvert_exporter": "python",
   "pygments_lexer": "ipython3",
   "version": "3.9.7"
  },
  "toc": {
   "base_numbering": 1,
   "nav_menu": {},
   "number_sections": true,
   "sideBar": true,
   "skip_h1_title": true,
   "title_cell": "Содержание",
   "title_sidebar": "Contents",
   "toc_cell": true,
   "toc_position": {
    "height": "calc(100% - 180px)",
    "left": "10px",
    "top": "150px",
    "width": "384px"
   },
   "toc_section_display": true,
   "toc_window_display": true
  }
 },
 "nbformat": 4,
 "nbformat_minor": 2
}
