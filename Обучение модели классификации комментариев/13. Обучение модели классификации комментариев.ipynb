{
 "cells": [
  {
   "cell_type": "markdown",
   "metadata": {},
   "source": [
    "# Обучение модели классификации комментариев"
   ]
  },
  {
   "cell_type": "markdown",
   "metadata": {
    "toc": true
   },
   "source": [
    "<h1>Содержание<span class=\"tocSkip\"></span></h1>\n",
    "<div class=\"toc\"><ul class=\"toc-item\"><li><span><a href=\"#Подготовка\" data-toc-modified-id=\"Подготовка-1\"><span class=\"toc-item-num\">1&nbsp;&nbsp;</span>Подготовка</a></span></li><li><span><a href=\"#Обучение\" data-toc-modified-id=\"Обучение-2\"><span class=\"toc-item-num\">2&nbsp;&nbsp;</span>Обучение</a></span><ul class=\"toc-item\"><li><span><a href=\"#Логистическая-регрессия\" data-toc-modified-id=\"Логистическая-регрессия-2.1\"><span class=\"toc-item-num\">2.1&nbsp;&nbsp;</span>Логистическая регрессия</a></span></li><li><span><a href=\"#Борьба-с-дисбалансом-классов\" data-toc-modified-id=\"Борьба-с-дисбалансом-классов-2.2\"><span class=\"toc-item-num\">2.2&nbsp;&nbsp;</span>Борьба с дисбалансом классов</a></span><ul class=\"toc-item\"><li><span><a href=\"#Downsampling\" data-toc-modified-id=\"Downsampling-2.2.1\"><span class=\"toc-item-num\">2.2.1&nbsp;&nbsp;</span>Downsampling</a></span></li><li><span><a href=\"#Upsampling\" data-toc-modified-id=\"Upsampling-2.2.2\"><span class=\"toc-item-num\">2.2.2&nbsp;&nbsp;</span>Upsampling</a></span></li></ul></li><li><span><a href=\"#Подбор-гиперпараметров-различных-моделей\" data-toc-modified-id=\"Подбор-гиперпараметров-различных-моделей-2.3\"><span class=\"toc-item-num\">2.3&nbsp;&nbsp;</span>Подбор гиперпараметров различных моделей</a></span></li></ul></li><li><span><a href=\"#Выводы\" data-toc-modified-id=\"Выводы-3\"><span class=\"toc-item-num\">3&nbsp;&nbsp;</span>Выводы</a></span></li></ul></div>"
   ]
  },
  {
   "cell_type": "markdown",
   "metadata": {},
   "source": [
    "# Проект для «Викишоп»"
   ]
  },
  {
   "cell_type": "markdown",
   "metadata": {},
   "source": [
    "**Описание проекта**\n",
    "\n",
    "Интернет-магазин «Викишоп» запускает новый сервис. Теперь пользователи могут редактировать и дополнять описания товаров, как в вики-сообществах. То есть клиенты предлагают свои правки и комментируют изменения других. Магазину нужен инструмент, который будет искать токсичные комментарии и отправлять их на модерацию. \n",
    "\n",
    "Требуется обучить модель классифицировать комментарии на позитивные и негативные. В распоряжении имеется набор данных с разметкой о токсичности правок.\n",
    "\n",
    "Требование к метрике качества модели *F1* не меньше 0.75. \n",
    "\n",
    "**План по выполнению проекта**\n",
    "\n",
    "1. Загрузить и подготовить данные.\n",
    "2. Обучить разные модели. \n",
    "3. Сделать выводы.\n",
    "\n",
    "**Описание данных**\n",
    "\n",
    "Данные находятся в файле `toxic_comments.csv`. Столбец *text* в нём содержит текст комментария, а *toxic* — целевой признак."
   ]
  },
  {
   "cell_type": "markdown",
   "metadata": {},
   "source": [
    "## Подготовка"
   ]
  },
  {
   "cell_type": "code",
   "execution_count": 49,
   "metadata": {},
   "outputs": [],
   "source": [
    "import pandas as pd\n",
    "import numpy as np\n",
    "import matplotlib.pyplot as plt\n",
    "import seaborn as sns\n",
    "\n",
    "import spacy\n",
    "import nltk\n",
    "import re\n",
    "from nltk.corpus import stopwords as nltk_stopwords\n",
    "from sklearn.feature_extraction.text import TfidfVectorizer \n",
    "from sklearn.model_selection import train_test_split\n",
    "\n",
    "from sklearn.linear_model import LogisticRegression\n",
    "import lightgbm as lgb\n",
    "from sklearn.tree import DecisionTreeClassifier\n",
    "from sklearn.ensemble import RandomForestClassifier\n",
    "from catboost import CatBoost\n",
    "\n",
    "from sklearn.utils import shuffle\n",
    "from sklearn.metrics import f1_score\n",
    "from sklearn.preprocessing import StandardScaler \n",
    "from sklearn.model_selection import cross_val_score, GridSearchCV"
   ]
  },
  {
   "cell_type": "code",
   "execution_count": 4,
   "metadata": {},
   "outputs": [],
   "source": [
    "try:\n",
    "    data = pd.read_csv('/datasets/toxic_comments.csv')\n",
    "except FileNotFoundError: \n",
    "    data = pd.read_csv('datasets/toxic_comments.csv')"
   ]
  },
  {
   "cell_type": "code",
   "execution_count": 5,
   "metadata": {},
   "outputs": [
    {
     "data": {
      "text/html": [
       "<div>\n",
       "<style scoped>\n",
       "    .dataframe tbody tr th:only-of-type {\n",
       "        vertical-align: middle;\n",
       "    }\n",
       "\n",
       "    .dataframe tbody tr th {\n",
       "        vertical-align: top;\n",
       "    }\n",
       "\n",
       "    .dataframe thead th {\n",
       "        text-align: right;\n",
       "    }\n",
       "</style>\n",
       "<table border=\"1\" class=\"dataframe\">\n",
       "  <thead>\n",
       "    <tr style=\"text-align: right;\">\n",
       "      <th></th>\n",
       "      <th>text</th>\n",
       "      <th>toxic</th>\n",
       "    </tr>\n",
       "  </thead>\n",
       "  <tbody>\n",
       "    <tr>\n",
       "      <th>0</th>\n",
       "      <td>Explanation\\nWhy the edits made under my usern...</td>\n",
       "      <td>0</td>\n",
       "    </tr>\n",
       "    <tr>\n",
       "      <th>1</th>\n",
       "      <td>D'aww! He matches this background colour I'm s...</td>\n",
       "      <td>0</td>\n",
       "    </tr>\n",
       "    <tr>\n",
       "      <th>2</th>\n",
       "      <td>Hey man, I'm really not trying to edit war. It...</td>\n",
       "      <td>0</td>\n",
       "    </tr>\n",
       "    <tr>\n",
       "      <th>3</th>\n",
       "      <td>\"\\nMore\\nI can't make any real suggestions on ...</td>\n",
       "      <td>0</td>\n",
       "    </tr>\n",
       "    <tr>\n",
       "      <th>4</th>\n",
       "      <td>You, sir, are my hero. Any chance you remember...</td>\n",
       "      <td>0</td>\n",
       "    </tr>\n",
       "    <tr>\n",
       "      <th>...</th>\n",
       "      <td>...</td>\n",
       "      <td>...</td>\n",
       "    </tr>\n",
       "    <tr>\n",
       "      <th>159566</th>\n",
       "      <td>\":::::And for the second time of asking, when ...</td>\n",
       "      <td>0</td>\n",
       "    </tr>\n",
       "    <tr>\n",
       "      <th>159567</th>\n",
       "      <td>You should be ashamed of yourself \\n\\nThat is ...</td>\n",
       "      <td>0</td>\n",
       "    </tr>\n",
       "    <tr>\n",
       "      <th>159568</th>\n",
       "      <td>Spitzer \\n\\nUmm, theres no actual article for ...</td>\n",
       "      <td>0</td>\n",
       "    </tr>\n",
       "    <tr>\n",
       "      <th>159569</th>\n",
       "      <td>And it looks like it was actually you who put ...</td>\n",
       "      <td>0</td>\n",
       "    </tr>\n",
       "    <tr>\n",
       "      <th>159570</th>\n",
       "      <td>\"\\nAnd ... I really don't think you understand...</td>\n",
       "      <td>0</td>\n",
       "    </tr>\n",
       "  </tbody>\n",
       "</table>\n",
       "<p>159571 rows × 2 columns</p>\n",
       "</div>"
      ],
      "text/plain": [
       "                                                     text  toxic\n",
       "0       Explanation\\nWhy the edits made under my usern...      0\n",
       "1       D'aww! He matches this background colour I'm s...      0\n",
       "2       Hey man, I'm really not trying to edit war. It...      0\n",
       "3       \"\\nMore\\nI can't make any real suggestions on ...      0\n",
       "4       You, sir, are my hero. Any chance you remember...      0\n",
       "...                                                   ...    ...\n",
       "159566  \":::::And for the second time of asking, when ...      0\n",
       "159567  You should be ashamed of yourself \\n\\nThat is ...      0\n",
       "159568  Spitzer \\n\\nUmm, theres no actual article for ...      0\n",
       "159569  And it looks like it was actually you who put ...      0\n",
       "159570  \"\\nAnd ... I really don't think you understand...      0\n",
       "\n",
       "[159571 rows x 2 columns]"
      ]
     },
     "execution_count": 5,
     "metadata": {},
     "output_type": "execute_result"
    }
   ],
   "source": [
    "data"
   ]
  },
  {
   "cell_type": "code",
   "execution_count": 6,
   "metadata": {},
   "outputs": [
    {
     "name": "stdout",
     "output_type": "stream",
     "text": [
      "<class 'pandas.core.frame.DataFrame'>\n",
      "RangeIndex: 159571 entries, 0 to 159570\n",
      "Data columns (total 2 columns):\n",
      " #   Column  Non-Null Count   Dtype \n",
      "---  ------  --------------   ----- \n",
      " 0   text    159571 non-null  object\n",
      " 1   toxic   159571 non-null  int64 \n",
      "dtypes: int64(1), object(1)\n",
      "memory usage: 2.4+ MB\n"
     ]
    }
   ],
   "source": [
    "data.info()"
   ]
  },
  {
   "cell_type": "code",
   "execution_count": 7,
   "metadata": {},
   "outputs": [
    {
     "data": {
      "text/plain": [
       "0.10167887648758234"
      ]
     },
     "execution_count": 7,
     "metadata": {},
     "output_type": "execute_result"
    }
   ],
   "source": [
    "data.toxic.mean()"
   ]
  },
  {
   "cell_type": "code",
   "execution_count": 8,
   "metadata": {},
   "outputs": [
    {
     "data": {
      "image/png": "[encoded data removed]",
      "text/plain": [
       "<Figure size 360x360 with 1 Axes>"
      ]
     },
     "metadata": {
      "needs_background": "light"
     },
     "output_type": "display_data"
    }
   ],
   "source": [
    "plt.figure(figsize=(5, 5))\n",
    "sns.countplot(y=\"toxic\", data=data)\n",
    "plt.xlabel('Комментарии', fontsize=15)\n",
    "plt.ylabel('Токсичность правок', fontsize=15)\n",
    "plt.title('Распределение целевого признака', fontsize=20);"
   ]
  },
  {
   "cell_type": "code",
   "execution_count": 9,
   "metadata": {},
   "outputs": [
    {
     "name": "stdout",
     "output_type": "stream",
     "text": [
      "Исходный текст: Explanation\n",
      "Why the edits made under my username Hardcore Metallica Fan were reverted? They weren't vandalisms, just closure on some GAs after I voted at New York Dolls FAC. And please don't remove the template from the talk page since I'm retired now.89.205.38.27\n",
      "Лемматизированный текст: Explanation \n",
      " why the edit make under my username Hardcore Metallica Fan be revert ? they be not vandalism , just closure on some gas after I vote at New York Dolls FAC . and please do not remove the template from the talk page since I be retire now.89.205.38.27\n"
     ]
    }
   ],
   "source": [
    "#Проверим как работает лемматизация с помощью spacy.\n",
    "corpus = data['text'].values\n",
    "nlp = spacy.load(\"en_core_web_sm\")\n",
    "doc = nlp(corpus[0])\n",
    "lem = ' '.join([token.lemma_ for token in doc])\n",
    "\n",
    "\n",
    "print(\"Исходный текст:\", corpus[0])\n",
    "print(\"Лемматизированный текст:\", lem)"
   ]
  },
  {
   "cell_type": "code",
   "execution_count": 10,
   "metadata": {},
   "outputs": [],
   "source": [
    "#Создаем функцию для лемматизации и применяем ко всему тексту.\n",
    "def lemmatize(text):\n",
    "    \"\"\"Функция лемматизирует текст\"\"\"\n",
    "    doc = nlp(text)\n",
    "    return ' '.join([token.lemma_ for token in doc])"
   ]
  },
  {
   "cell_type": "code",
   "execution_count": 11,
   "metadata": {},
   "outputs": [],
   "source": [
    "data['lem_text'] = data.text.apply(lemmatize)"
   ]
  },
  {
   "cell_type": "code",
   "execution_count": 12,
   "metadata": {},
   "outputs": [
    {
     "data": {
      "text/html": [
       "<div>\n",
       "<style scoped>\n",
       "    .dataframe tbody tr th:only-of-type {\n",
       "        vertical-align: middle;\n",
       "    }\n",
       "\n",
       "    .dataframe tbody tr th {\n",
       "        vertical-align: top;\n",
       "    }\n",
       "\n",
       "    .dataframe thead th {\n",
       "        text-align: right;\n",
       "    }\n",
       "</style>\n",
       "<table border=\"1\" class=\"dataframe\">\n",
       "  <thead>\n",
       "    <tr style=\"text-align: right;\">\n",
       "      <th></th>\n",
       "      <th>text</th>\n",
       "      <th>toxic</th>\n",
       "      <th>lem_text</th>\n",
       "    </tr>\n",
       "  </thead>\n",
       "  <tbody>\n",
       "    <tr>\n",
       "      <th>0</th>\n",
       "      <td>Explanation\\nWhy the edits made under my usern...</td>\n",
       "      <td>0</td>\n",
       "      <td>Explanation \\n why the edit make under my user...</td>\n",
       "    </tr>\n",
       "    <tr>\n",
       "      <th>1</th>\n",
       "      <td>D'aww! He matches this background colour I'm s...</td>\n",
       "      <td>0</td>\n",
       "      <td>D'aww ! he match this background colour I be s...</td>\n",
       "    </tr>\n",
       "    <tr>\n",
       "      <th>2</th>\n",
       "      <td>Hey man, I'm really not trying to edit war. It...</td>\n",
       "      <td>0</td>\n",
       "      <td>hey man , I be really not try to edit war . it...</td>\n",
       "    </tr>\n",
       "    <tr>\n",
       "      <th>3</th>\n",
       "      <td>\"\\nMore\\nI can't make any real suggestions on ...</td>\n",
       "      <td>0</td>\n",
       "      <td>\" \\n More \\n I can not make any real suggestio...</td>\n",
       "    </tr>\n",
       "    <tr>\n",
       "      <th>4</th>\n",
       "      <td>You, sir, are my hero. Any chance you remember...</td>\n",
       "      <td>0</td>\n",
       "      <td>you , sir , be my hero . any chance you rememb...</td>\n",
       "    </tr>\n",
       "    <tr>\n",
       "      <th>...</th>\n",
       "      <td>...</td>\n",
       "      <td>...</td>\n",
       "      <td>...</td>\n",
       "    </tr>\n",
       "    <tr>\n",
       "      <th>159566</th>\n",
       "      <td>\":::::And for the second time of asking, when ...</td>\n",
       "      <td>0</td>\n",
       "      <td>\" : : : : : and for the second time of asking ...</td>\n",
       "    </tr>\n",
       "    <tr>\n",
       "      <th>159567</th>\n",
       "      <td>You should be ashamed of yourself \\n\\nThat is ...</td>\n",
       "      <td>0</td>\n",
       "      <td>you should be ashamed of yourself \\n\\n that be...</td>\n",
       "    </tr>\n",
       "    <tr>\n",
       "      <th>159568</th>\n",
       "      <td>Spitzer \\n\\nUmm, theres no actual article for ...</td>\n",
       "      <td>0</td>\n",
       "      <td>spitzer \\n\\n Umm , there s no actual article f...</td>\n",
       "    </tr>\n",
       "    <tr>\n",
       "      <th>159569</th>\n",
       "      <td>And it looks like it was actually you who put ...</td>\n",
       "      <td>0</td>\n",
       "      <td>and it look like it be actually you who put on...</td>\n",
       "    </tr>\n",
       "    <tr>\n",
       "      <th>159570</th>\n",
       "      <td>\"\\nAnd ... I really don't think you understand...</td>\n",
       "      <td>0</td>\n",
       "      <td>\" \\n and ... I really do not think you underst...</td>\n",
       "    </tr>\n",
       "  </tbody>\n",
       "</table>\n",
       "<p>159571 rows × 3 columns</p>\n",
       "</div>"
      ],
      "text/plain": [
       "                                                     text  toxic  \\\n",
       "0       Explanation\\nWhy the edits made under my usern...      0   \n",
       "1       D'aww! He matches this background colour I'm s...      0   \n",
       "2       Hey man, I'm really not trying to edit war. It...      0   \n",
       "3       \"\\nMore\\nI can't make any real suggestions on ...      0   \n",
       "4       You, sir, are my hero. Any chance you remember...      0   \n",
       "...                                                   ...    ...   \n",
       "159566  \":::::And for the second time of asking, when ...      0   \n",
       "159567  You should be ashamed of yourself \\n\\nThat is ...      0   \n",
       "159568  Spitzer \\n\\nUmm, theres no actual article for ...      0   \n",
       "159569  And it looks like it was actually you who put ...      0   \n",
       "159570  \"\\nAnd ... I really don't think you understand...      0   \n",
       "\n",
       "                                                 lem_text  \n",
       "0       Explanation \\n why the edit make under my user...  \n",
       "1       D'aww ! he match this background colour I be s...  \n",
       "2       hey man , I be really not try to edit war . it...  \n",
       "3       \" \\n More \\n I can not make any real suggestio...  \n",
       "4       you , sir , be my hero . any chance you rememb...  \n",
       "...                                                   ...  \n",
       "159566  \" : : : : : and for the second time of asking ...  \n",
       "159567  you should be ashamed of yourself \\n\\n that be...  \n",
       "159568  spitzer \\n\\n Umm , there s no actual article f...  \n",
       "159569  and it look like it be actually you who put on...  \n",
       "159570  \" \\n and ... I really do not think you underst...  \n",
       "\n",
       "[159571 rows x 3 columns]"
      ]
     },
     "execution_count": 12,
     "metadata": {},
     "output_type": "execute_result"
    }
   ],
   "source": [
    "data"
   ]
  },
  {
   "cell_type": "code",
   "execution_count": 13,
   "metadata": {},
   "outputs": [],
   "source": [
    "#Удаляем лишние символы.\n",
    "def clear_text(text):\n",
    "    \"\"\"Функция очищает текст от лишних символов\"\"\"\n",
    "    resub = re.sub(r'[^a-zA-Z]', ' ', text)\n",
    "    return ' '.join(resub.split())"
   ]
  },
  {
   "cell_type": "code",
   "execution_count": 14,
   "metadata": {},
   "outputs": [],
   "source": [
    "data['lem_text'] = data.lem_text.apply(clear_text)"
   ]
  },
  {
   "cell_type": "code",
   "execution_count": 15,
   "metadata": {},
   "outputs": [
    {
     "data": {
      "text/html": [
       "<div>\n",
       "<style scoped>\n",
       "    .dataframe tbody tr th:only-of-type {\n",
       "        vertical-align: middle;\n",
       "    }\n",
       "\n",
       "    .dataframe tbody tr th {\n",
       "        vertical-align: top;\n",
       "    }\n",
       "\n",
       "    .dataframe thead th {\n",
       "        text-align: right;\n",
       "    }\n",
       "</style>\n",
       "<table border=\"1\" class=\"dataframe\">\n",
       "  <thead>\n",
       "    <tr style=\"text-align: right;\">\n",
       "      <th></th>\n",
       "      <th>text</th>\n",
       "      <th>toxic</th>\n",
       "      <th>lem_text</th>\n",
       "    </tr>\n",
       "  </thead>\n",
       "  <tbody>\n",
       "    <tr>\n",
       "      <th>0</th>\n",
       "      <td>Explanation\\nWhy the edits made under my usern...</td>\n",
       "      <td>0</td>\n",
       "      <td>Explanation why the edit make under my usernam...</td>\n",
       "    </tr>\n",
       "    <tr>\n",
       "      <th>1</th>\n",
       "      <td>D'aww! He matches this background colour I'm s...</td>\n",
       "      <td>0</td>\n",
       "      <td>D aww he match this background colour I be see...</td>\n",
       "    </tr>\n",
       "    <tr>\n",
       "      <th>2</th>\n",
       "      <td>Hey man, I'm really not trying to edit war. It...</td>\n",
       "      <td>0</td>\n",
       "      <td>hey man I be really not try to edit war it be ...</td>\n",
       "    </tr>\n",
       "    <tr>\n",
       "      <th>3</th>\n",
       "      <td>\"\\nMore\\nI can't make any real suggestions on ...</td>\n",
       "      <td>0</td>\n",
       "      <td>More I can not make any real suggestion on imp...</td>\n",
       "    </tr>\n",
       "    <tr>\n",
       "      <th>4</th>\n",
       "      <td>You, sir, are my hero. Any chance you remember...</td>\n",
       "      <td>0</td>\n",
       "      <td>you sir be my hero any chance you remember wha...</td>\n",
       "    </tr>\n",
       "    <tr>\n",
       "      <th>...</th>\n",
       "      <td>...</td>\n",
       "      <td>...</td>\n",
       "      <td>...</td>\n",
       "    </tr>\n",
       "    <tr>\n",
       "      <th>159566</th>\n",
       "      <td>\":::::And for the second time of asking, when ...</td>\n",
       "      <td>0</td>\n",
       "      <td>and for the second time of asking when your vi...</td>\n",
       "    </tr>\n",
       "    <tr>\n",
       "      <th>159567</th>\n",
       "      <td>You should be ashamed of yourself \\n\\nThat is ...</td>\n",
       "      <td>0</td>\n",
       "      <td>you should be ashamed of yourself that be a ho...</td>\n",
       "    </tr>\n",
       "    <tr>\n",
       "      <th>159568</th>\n",
       "      <td>Spitzer \\n\\nUmm, theres no actual article for ...</td>\n",
       "      <td>0</td>\n",
       "      <td>spitzer Umm there s no actual article for pros...</td>\n",
       "    </tr>\n",
       "    <tr>\n",
       "      <th>159569</th>\n",
       "      <td>And it looks like it was actually you who put ...</td>\n",
       "      <td>0</td>\n",
       "      <td>and it look like it be actually you who put on...</td>\n",
       "    </tr>\n",
       "    <tr>\n",
       "      <th>159570</th>\n",
       "      <td>\"\\nAnd ... I really don't think you understand...</td>\n",
       "      <td>0</td>\n",
       "      <td>and I really do not think you understand I com...</td>\n",
       "    </tr>\n",
       "  </tbody>\n",
       "</table>\n",
       "<p>159571 rows × 3 columns</p>\n",
       "</div>"
      ],
      "text/plain": [
       "                                                     text  toxic  \\\n",
       "0       Explanation\\nWhy the edits made under my usern...      0   \n",
       "1       D'aww! He matches this background colour I'm s...      0   \n",
       "2       Hey man, I'm really not trying to edit war. It...      0   \n",
       "3       \"\\nMore\\nI can't make any real suggestions on ...      0   \n",
       "4       You, sir, are my hero. Any chance you remember...      0   \n",
       "...                                                   ...    ...   \n",
       "159566  \":::::And for the second time of asking, when ...      0   \n",
       "159567  You should be ashamed of yourself \\n\\nThat is ...      0   \n",
       "159568  Spitzer \\n\\nUmm, theres no actual article for ...      0   \n",
       "159569  And it looks like it was actually you who put ...      0   \n",
       "159570  \"\\nAnd ... I really don't think you understand...      0   \n",
       "\n",
       "                                                 lem_text  \n",
       "0       Explanation why the edit make under my usernam...  \n",
       "1       D aww he match this background colour I be see...  \n",
       "2       hey man I be really not try to edit war it be ...  \n",
       "3       More I can not make any real suggestion on imp...  \n",
       "4       you sir be my hero any chance you remember wha...  \n",
       "...                                                   ...  \n",
       "159566  and for the second time of asking when your vi...  \n",
       "159567  you should be ashamed of yourself that be a ho...  \n",
       "159568  spitzer Umm there s no actual article for pros...  \n",
       "159569  and it look like it be actually you who put on...  \n",
       "159570  and I really do not think you understand I com...  \n",
       "\n",
       "[159571 rows x 3 columns]"
      ]
     },
     "execution_count": 15,
     "metadata": {},
     "output_type": "execute_result"
    }
   ],
   "source": [
    "data"
   ]
  },
  {
   "cell_type": "markdown",
   "metadata": {},
   "source": [
    "Текст лемматизирован, лишние символы удалены. Разделим данные на выборки."
   ]
  },
  {
   "cell_type": "markdown",
   "metadata": {},
   "source": [
    "## Обучение"
   ]
  },
  {
   "cell_type": "code",
   "execution_count": 37,
   "metadata": {},
   "outputs": [],
   "source": [
    "features = data.lem_text\n",
    "target = data.toxic"
   ]
  },
  {
   "cell_type": "code",
   "execution_count": 38,
   "metadata": {},
   "outputs": [
    {
     "name": "stdout",
     "output_type": "stream",
     "text": [
      "Размеры обучающей выборки: (95742,) (95742,)\n",
      "Размеры валидационной выборки: (31914,) (31914,)\n",
      "Размеры тестовой выборки: (31915,) (31915,)\n"
     ]
    }
   ],
   "source": [
    "features_train, features_, target_train, target_ = train_test_split(\n",
    "    features, target, test_size=0.4, random_state=12345)\n",
    "features_valid, features_test, target_valid, target_test = train_test_split(\n",
    "    features_, target_, test_size=0.5, random_state=12345)\n",
    "print('Размеры обучающей выборки:', features_train.shape, target_train.shape)\n",
    "print('Размеры валидационной выборки:', features_valid.shape, target_valid.shape)\n",
    "print('Размеры тестовой выборки:', features_test.shape, target_test.shape)"
   ]
  },
  {
   "cell_type": "markdown",
   "metadata": {},
   "source": [
    "Вычислим TF-IDF для корпусов текстов."
   ]
  },
  {
   "cell_type": "code",
   "execution_count": 39,
   "metadata": {},
   "outputs": [
    {
     "name": "stderr",
     "output_type": "stream",
     "text": [
      "[nltk_data] Downloading package stopwords to /home/jovyan/nltk_data...\n",
      "[nltk_data]   Package stopwords is already up-to-date!\n"
     ]
    }
   ],
   "source": [
    "nltk.download('stopwords')\n",
    "stopwords = set(nltk_stopwords.words('english'))\n",
    "count_tf_idf = TfidfVectorizer(stop_words=stopwords) "
   ]
  },
  {
   "cell_type": "code",
   "execution_count": 40,
   "metadata": {},
   "outputs": [],
   "source": [
    "corpus_train = features_train.values\n",
    "corpus_valid = features_valid.values\n",
    "corpus_test = features_test.values\n",
    "\n",
    "tf_idf_train = count_tf_idf.fit_transform(corpus_train) \n",
    "tf_idf_valid = count_tf_idf.transform(corpus_valid)\n",
    "tf_idf_test = count_tf_idf.transform(corpus_test) "
   ]
  },
  {
   "cell_type": "markdown",
   "metadata": {},
   "source": [
    "Теперь тестируем различные модели и подбираем параметры."
   ]
  },
  {
   "cell_type": "markdown",
   "metadata": {},
   "source": [
    "### Логистическая регрессия"
   ]
  },
  {
   "cell_type": "code",
   "execution_count": 41,
   "metadata": {},
   "outputs": [
    {
     "data": {
      "text/html": [
       "<div>\n",
       "<style scoped>\n",
       "    .dataframe tbody tr th:only-of-type {\n",
       "        vertical-align: middle;\n",
       "    }\n",
       "\n",
       "    .dataframe tbody tr th {\n",
       "        vertical-align: top;\n",
       "    }\n",
       "\n",
       "    .dataframe thead th {\n",
       "        text-align: right;\n",
       "    }\n",
       "</style>\n",
       "<table border=\"1\" class=\"dataframe\">\n",
       "  <thead>\n",
       "    <tr style=\"text-align: right;\">\n",
       "      <th></th>\n",
       "      <th>Balance</th>\n",
       "      <th>F1</th>\n",
       "    </tr>\n",
       "  </thead>\n",
       "  <tbody>\n",
       "  </tbody>\n",
       "</table>\n",
       "</div>"
      ],
      "text/plain": [
       "Empty DataFrame\n",
       "Columns: [Balance, F1]\n",
       "Index: []"
      ]
     },
     "execution_count": 41,
     "metadata": {},
     "output_type": "execute_result"
    }
   ],
   "source": [
    "result_df = pd.DataFrame(columns=['Balance', 'F1'])\n",
    "result_df"
   ]
  },
  {
   "cell_type": "code",
   "execution_count": 42,
   "metadata": {},
   "outputs": [],
   "source": [
    "def result_write(model_name, balance, f1):\n",
    "    \"\"\"Функция записывает результаты предсказания в таблицу\"\"\"\n",
    "    result_df.loc[model_name,'Balance'] = balance\n",
    "    result_df.loc[model_name,'F1'] = round(f1, 3)\n",
    "    return result_df"
   ]
  },
  {
   "cell_type": "code",
   "execution_count": 56,
   "metadata": {},
   "outputs": [
    {
     "name": "stdout",
     "output_type": "stream",
     "text": [
      "F1 метрика для логистической регрессии: 0.7349509168364512\n"
     ]
    },
    {
     "name": "stderr",
     "output_type": "stream",
     "text": [
      "/opt/conda/lib/python3.9/site-packages/sklearn/linear_model/_logistic.py:763: ConvergenceWarning: lbfgs failed to converge (status=1):\n",
      "STOP: TOTAL NO. of ITERATIONS REACHED LIMIT.\n",
      "\n",
      "Increase the number of iterations (max_iter) or scale the data as shown in:\n",
      "    https://scikit-learn.org/stable/modules/preprocessing.html\n",
      "Please also refer to the documentation for alternative solver options:\n",
      "    https://scikit-learn.org/stable/modules/linear_model.html#logistic-regression\n",
      "  n_iter_i = _check_optimize_result(\n"
     ]
    }
   ],
   "source": [
    "model = LogisticRegression(random_state=12345) \n",
    "model.fit(tf_idf_train, target_train)\n",
    "f1_metrics = f1_score(target_valid,  model.predict(tf_idf_valid))\n",
    "print('F1 метрика для логистической регрессии:', f1_metrics)"
   ]
  },
  {
   "cell_type": "code",
   "execution_count": 57,
   "metadata": {},
   "outputs": [
    {
     "data": {
      "text/html": [
       "<div>\n",
       "<style scoped>\n",
       "    .dataframe tbody tr th:only-of-type {\n",
       "        vertical-align: middle;\n",
       "    }\n",
       "\n",
       "    .dataframe tbody tr th {\n",
       "        vertical-align: top;\n",
       "    }\n",
       "\n",
       "    .dataframe thead th {\n",
       "        text-align: right;\n",
       "    }\n",
       "</style>\n",
       "<table border=\"1\" class=\"dataframe\">\n",
       "  <thead>\n",
       "    <tr style=\"text-align: right;\">\n",
       "      <th></th>\n",
       "      <th>Balance</th>\n",
       "      <th>F1</th>\n",
       "    </tr>\n",
       "  </thead>\n",
       "  <tbody>\n",
       "    <tr>\n",
       "      <th>LogisticRegression</th>\n",
       "      <td>no</td>\n",
       "      <td>0.735</td>\n",
       "    </tr>\n",
       "    <tr>\n",
       "      <th>LogisticRegression_2</th>\n",
       "      <td>class_weight='balanced'</td>\n",
       "      <td>0.752</td>\n",
       "    </tr>\n",
       "  </tbody>\n",
       "</table>\n",
       "</div>"
      ],
      "text/plain": [
       "                                      Balance     F1\n",
       "LogisticRegression                         no  0.735\n",
       "LogisticRegression_2  class_weight='balanced'  0.752"
      ]
     },
     "execution_count": 57,
     "metadata": {},
     "output_type": "execute_result"
    }
   ],
   "source": [
    "result_write('LogisticRegression', 'no', f1_metrics)"
   ]
  },
  {
   "cell_type": "code",
   "execution_count": 58,
   "metadata": {},
   "outputs": [
    {
     "name": "stdout",
     "output_type": "stream",
     "text": [
      "F1 метрика для логистической регрессии, классы сбалансированы: 0.7515595334960672\n"
     ]
    }
   ],
   "source": [
    "model = LogisticRegression(random_state=12345, class_weight='balanced') \n",
    "model.fit(tf_idf_train, target_train) \n",
    "f1_metrics = f1_score(target_valid, model.predict(tf_idf_valid))\n",
    "print('F1 метрика для логистической регрессии, классы сбалансированы:', f1_metrics)"
   ]
  },
  {
   "cell_type": "code",
   "execution_count": 59,
   "metadata": {},
   "outputs": [
    {
     "data": {
      "text/html": [
       "<div>\n",
       "<style scoped>\n",
       "    .dataframe tbody tr th:only-of-type {\n",
       "        vertical-align: middle;\n",
       "    }\n",
       "\n",
       "    .dataframe tbody tr th {\n",
       "        vertical-align: top;\n",
       "    }\n",
       "\n",
       "    .dataframe thead th {\n",
       "        text-align: right;\n",
       "    }\n",
       "</style>\n",
       "<table border=\"1\" class=\"dataframe\">\n",
       "  <thead>\n",
       "    <tr style=\"text-align: right;\">\n",
       "      <th></th>\n",
       "      <th>Balance</th>\n",
       "      <th>F1</th>\n",
       "    </tr>\n",
       "  </thead>\n",
       "  <tbody>\n",
       "    <tr>\n",
       "      <th>LogisticRegression</th>\n",
       "      <td>no</td>\n",
       "      <td>0.735</td>\n",
       "    </tr>\n",
       "    <tr>\n",
       "      <th>LogisticRegression_2</th>\n",
       "      <td>class_weight='balanced'</td>\n",
       "      <td>0.752</td>\n",
       "    </tr>\n",
       "  </tbody>\n",
       "</table>\n",
       "</div>"
      ],
      "text/plain": [
       "                                      Balance     F1\n",
       "LogisticRegression                         no  0.735\n",
       "LogisticRegression_2  class_weight='balanced'  0.752"
      ]
     },
     "execution_count": 59,
     "metadata": {},
     "output_type": "execute_result"
    }
   ],
   "source": [
    "result_write('LogisticRegression_2', \"class_weight='balanced'\", f1_metrics)"
   ]
  },
  {
   "cell_type": "markdown",
   "metadata": {},
   "source": [
    "### Борьба с дисбалансом классов"
   ]
  },
  {
   "cell_type": "markdown",
   "metadata": {},
   "source": [
    "#### Downsampling"
   ]
  },
  {
   "cell_type": "markdown",
   "metadata": {},
   "source": [
    "Попробуем изменить баланс в классификации уменьшением выборки."
   ]
  },
  {
   "cell_type": "code",
   "execution_count": 78,
   "metadata": {},
   "outputs": [],
   "source": [
    "def downsample(features, target, fraction):\n",
    "    features_zeros = features[target == 0]\n",
    "    features_ones = features[target == 1]\n",
    "    target_zeros = target[target == 0]\n",
    "    target_ones = target[target == 1]\n",
    "\n",
    "    features_downsampled = pd.concat(\n",
    "        [features_zeros.sample(frac=fraction, random_state=12345)] + [features_ones])\n",
    "    target_downsampled = pd.concat(\n",
    "        [target_zeros.sample(frac=fraction, random_state=12345)] + [target_ones])\n",
    "    \n",
    "    features_downsampled, target_downsampled = shuffle(\n",
    "        features_downsampled, target_downsampled, random_state=12345)\n",
    "    \n",
    "    return features_downsampled, target_downsampled\n",
    "\n",
    "features_downsampled, target_downsampled = downsample(features_train, target_train, 0.1)"
   ]
  },
  {
   "cell_type": "code",
   "execution_count": 79,
   "metadata": {},
   "outputs": [
    {
     "data": {
      "text/plain": [
       "(18352,)"
      ]
     },
     "execution_count": 79,
     "metadata": {},
     "output_type": "execute_result"
    }
   ],
   "source": [
    "features_downsampled.shape"
   ]
  },
  {
   "cell_type": "code",
   "execution_count": 80,
   "metadata": {},
   "outputs": [
    {
     "data": {
      "text/plain": [
       "0.5314407149084568"
      ]
     },
     "execution_count": 80,
     "metadata": {},
     "output_type": "execute_result"
    }
   ],
   "source": [
    "target_downsampled.mean()"
   ]
  },
  {
   "cell_type": "code",
   "execution_count": 81,
   "metadata": {},
   "outputs": [
    {
     "data": {
      "text/plain": [
       "(95742,)"
      ]
     },
     "execution_count": 81,
     "metadata": {},
     "output_type": "execute_result"
    }
   ],
   "source": [
    "features_train.shape"
   ]
  },
  {
   "cell_type": "code",
   "execution_count": 82,
   "metadata": {},
   "outputs": [
    {
     "data": {
      "text/plain": [
       "0.10186751895719746"
      ]
     },
     "execution_count": 82,
     "metadata": {},
     "output_type": "execute_result"
    }
   ],
   "source": [
    "target_train.mean()"
   ]
  },
  {
   "cell_type": "code",
   "execution_count": 83,
   "metadata": {},
   "outputs": [],
   "source": [
    "corpus_train_ds = features_downsampled.values\n",
    "corpus_valid = features_valid.values\n",
    "corpus_test = features_test.values\n",
    "\n",
    "tf_idf_train_ds = count_tf_idf.fit_transform(corpus_train_ds) \n",
    "tf_idf_valid = count_tf_idf.transform(corpus_valid)\n",
    "tf_idf_test = count_tf_idf.transform(corpus_test) "
   ]
  },
  {
   "cell_type": "code",
   "execution_count": 68,
   "metadata": {
    "scrolled": true
   },
   "outputs": [
    {
     "name": "stdout",
     "output_type": "stream",
     "text": [
      "  (0, 112631)\t0.08354008466832895\n",
      "  (0, 21497)\t0.1395724589546736\n",
      "  (0, 101593)\t0.0935565819275253\n",
      "  (0, 32269)\t0.28221354765672635\n",
      "  (0, 80548)\t0.22444929777856293\n",
      "  (0, 80976)\t0.29804470330891963\n",
      "  (0, 78041)\t0.3166727867023809\n",
      "  (0, 18815)\t0.171725404579725\n",
      "  (0, 33545)\t0.6843392261106394\n",
      "  (0, 114784)\t0.2573641692410328\n",
      "  (0, 69510)\t0.23922386546282393\n",
      "  (0, 43637)\t0.15613875810468197\n",
      "  (1, 42550)\t0.06669899520952031\n",
      "  (1, 78675)\t0.057551822180650275\n",
      "  (1, 20813)\t0.0978714254679161\n",
      "  (1, 85197)\t0.09127655315214488\n",
      "  (1, 113781)\t0.0753798093549765\n",
      "  (1, 45039)\t0.0835954424236027\n",
      "  (1, 85159)\t0.04841277409679576\n",
      "  (1, 25458)\t0.08814492868878097\n",
      "  (1, 113249)\t0.05629100527573239\n",
      "  (1, 63459)\t0.06980651728319252\n",
      "  (1, 7980)\t0.074042892320821\n",
      "  (1, 79184)\t0.06982603486130498\n",
      "  (1, 34313)\t0.060515788534195994\n",
      "  :\t:\n",
      "  (95741, 113751)\t0.24901662826627669\n",
      "  (95741, 71460)\t0.1000047878250906\n",
      "  (95741, 37601)\t0.1285617783644122\n",
      "  (95741, 24886)\t0.11801715106314573\n",
      "  (95741, 111503)\t0.16089888006206102\n",
      "  (95741, 111506)\t0.13243662066482928\n",
      "  (95741, 9336)\t0.1010719879562138\n",
      "  (95741, 27741)\t0.09793242013724665\n",
      "  (95741, 1333)\t0.10770111497170534\n",
      "  (95741, 113471)\t0.11287719586497448\n",
      "  (95741, 110333)\t0.2363662484411956\n",
      "  (95741, 20040)\t0.0791080691431325\n",
      "  (95741, 53204)\t0.26622039228217126\n",
      "  (95741, 61166)\t0.12611958495864653\n",
      "  (95741, 33306)\t0.10110330134561865\n",
      "  (95741, 19110)\t0.11131559268203335\n",
      "  (95741, 27751)\t0.1672102131773741\n",
      "  (95741, 108049)\t0.07527592423801553\n",
      "  (95741, 40643)\t0.07861142778267878\n",
      "  (95741, 81806)\t0.26036594467630403\n",
      "  (95741, 100067)\t0.056035465245223966\n",
      "  (95741, 6313)\t0.20313142344556098\n",
      "  (95741, 22922)\t0.21606806988261767\n",
      "  (95741, 25499)\t0.07773352859246319\n",
      "  (95741, 25526)\t0.4544656015110974\n"
     ]
    }
   ],
   "source": [
    "print(tf_idf_train)"
   ]
  },
  {
   "cell_type": "code",
   "execution_count": 70,
   "metadata": {},
   "outputs": [
    {
     "data": {
      "text/plain": [
       "17152     Happy New Year EuroCarGT class plainlink EuroC...\n",
       "59065     speedy deletion of Mahur Malie and Masahet a t...\n",
       "29        a barnstar for you the Real Life Barnstar let ...\n",
       "31000                  the article s self appoint caretaker\n",
       "90595     review to add paste here for now http theearly...\n",
       "                                ...                        \n",
       "109993    Gam keep your CRAP off my Talk page your KKK s...\n",
       "85412                             I correct what you listed\n",
       "133249    hmm yes as I say I also watch the Emily Ruete ...\n",
       "130333                          kinda like miachael jackson\n",
       "77285     criterion for deletion I be just wonder what b...\n",
       "Name: lem_text, Length: 95742, dtype: object"
      ]
     },
     "execution_count": 70,
     "metadata": {},
     "output_type": "execute_result"
    }
   ],
   "source": [
    "features_train"
   ]
  },
  {
   "cell_type": "code",
   "execution_count": 89,
   "metadata": {},
   "outputs": [
    {
     "name": "stdout",
     "output_type": "stream",
     "text": [
      "F1 метрика для логистической регрессии: 0.6632917353425947\n"
     ]
    }
   ],
   "source": [
    "model_ = LogisticRegression(random_state=12345) \n",
    "model.fit(tf_idf_train_ds, target_downsampled) \n",
    "f1_metrics = f1_score(target_valid, model.predict(tf_idf_valid))\n",
    "print('F1 метрика для логистической регрессии:', f1_metrics)"
   ]
  },
  {
   "cell_type": "code",
   "execution_count": 97,
   "metadata": {},
   "outputs": [
    {
     "data": {
      "text/html": [
       "<div>\n",
       "<style scoped>\n",
       "    .dataframe tbody tr th:only-of-type {\n",
       "        vertical-align: middle;\n",
       "    }\n",
       "\n",
       "    .dataframe tbody tr th {\n",
       "        vertical-align: top;\n",
       "    }\n",
       "\n",
       "    .dataframe thead th {\n",
       "        text-align: right;\n",
       "    }\n",
       "</style>\n",
       "<table border=\"1\" class=\"dataframe\">\n",
       "  <thead>\n",
       "    <tr style=\"text-align: right;\">\n",
       "      <th></th>\n",
       "      <th>Balance</th>\n",
       "      <th>F1</th>\n",
       "    </tr>\n",
       "  </thead>\n",
       "  <tbody>\n",
       "    <tr>\n",
       "      <th>LogisticRegression</th>\n",
       "      <td>no</td>\n",
       "      <td>0.735</td>\n",
       "    </tr>\n",
       "    <tr>\n",
       "      <th>LogisticRegression_2</th>\n",
       "      <td>class_weight='balanced'</td>\n",
       "      <td>0.752</td>\n",
       "    </tr>\n",
       "    <tr>\n",
       "      <th>LogisticRegression_3</th>\n",
       "      <td>downsampling</td>\n",
       "      <td>0.663</td>\n",
       "    </tr>\n",
       "  </tbody>\n",
       "</table>\n",
       "</div>"
      ],
      "text/plain": [
       "                                      Balance     F1\n",
       "LogisticRegression                         no  0.735\n",
       "LogisticRegression_2  class_weight='balanced'  0.752\n",
       "LogisticRegression_3             downsampling  0.663"
      ]
     },
     "execution_count": 97,
     "metadata": {},
     "output_type": "execute_result"
    }
   ],
   "source": [
    "result_write('LogisticRegression_3', \"downsampling\", f1_metrics)"
   ]
  },
  {
   "cell_type": "markdown",
   "metadata": {},
   "source": [
    "Случайный лес"
   ]
  },
  {
   "cell_type": "code",
   "execution_count": 98,
   "metadata": {},
   "outputs": [
    {
     "name": "stdout",
     "output_type": "stream",
     "text": [
      "\n",
      "F1 наилучшей модели на валидационной выборке: 0.29170247302587604\n",
      "Максимальная глубина: 14\n",
      "Число деревьев: 300\n"
     ]
    }
   ],
   "source": [
    "best_result = 0\n",
    "max_depth = 0\n",
    "max_n_est = 0\n",
    "for depth in range(10, 15):\n",
    "    for n_est in range(50, 301, 50):\n",
    "        model = RandomForestClassifier(max_depth=depth, n_estimators=n_est,  random_state=12345)\n",
    "        model.fit(tf_idf_train_ds, target_downsampled)\n",
    "        result = f1_score(target_valid, model.predict(tf_idf_valid))\n",
    "        if result > best_result:\n",
    "            best_result = result \n",
    "            max_depth = depth\n",
    "            max_n_est = n_est\n",
    "            \n",
    "            \n",
    "print()\n",
    "print(\"F1 наилучшей модели на валидационной выборке:\", best_result)\n",
    "print(\"Максимальная глубина:\", max_depth)\n",
    "print(\"Число деревьев:\", max_n_est) "
   ]
  },
  {
   "cell_type": "code",
   "execution_count": 99,
   "metadata": {},
   "outputs": [
    {
     "data": {
      "text/html": [
       "<div>\n",
       "<style scoped>\n",
       "    .dataframe tbody tr th:only-of-type {\n",
       "        vertical-align: middle;\n",
       "    }\n",
       "\n",
       "    .dataframe tbody tr th {\n",
       "        vertical-align: top;\n",
       "    }\n",
       "\n",
       "    .dataframe thead th {\n",
       "        text-align: right;\n",
       "    }\n",
       "</style>\n",
       "<table border=\"1\" class=\"dataframe\">\n",
       "  <thead>\n",
       "    <tr style=\"text-align: right;\">\n",
       "      <th></th>\n",
       "      <th>Balance</th>\n",
       "      <th>F1</th>\n",
       "    </tr>\n",
       "  </thead>\n",
       "  <tbody>\n",
       "    <tr>\n",
       "      <th>LogisticRegression</th>\n",
       "      <td>no</td>\n",
       "      <td>0.735</td>\n",
       "    </tr>\n",
       "    <tr>\n",
       "      <th>LogisticRegression_2</th>\n",
       "      <td>class_weight='balanced'</td>\n",
       "      <td>0.752</td>\n",
       "    </tr>\n",
       "    <tr>\n",
       "      <th>LogisticRegression_3</th>\n",
       "      <td>downsampling</td>\n",
       "      <td>0.663</td>\n",
       "    </tr>\n",
       "    <tr>\n",
       "      <th>Random_Forest</th>\n",
       "      <td>downsampling</td>\n",
       "      <td>0.292</td>\n",
       "    </tr>\n",
       "  </tbody>\n",
       "</table>\n",
       "</div>"
      ],
      "text/plain": [
       "                                      Balance     F1\n",
       "LogisticRegression                         no  0.735\n",
       "LogisticRegression_2  class_weight='balanced'  0.752\n",
       "LogisticRegression_3             downsampling  0.663\n",
       "Random_Forest                    downsampling  0.292"
      ]
     },
     "execution_count": 99,
     "metadata": {},
     "output_type": "execute_result"
    }
   ],
   "source": [
    "result_write('Random_Forest', \"downsampling\", best_result)"
   ]
  },
  {
   "cell_type": "markdown",
   "metadata": {},
   "source": [
    "Метрики стали хуже, попробуем увеличить обучающую выборку."
   ]
  },
  {
   "cell_type": "markdown",
   "metadata": {},
   "source": [
    "#### Upsampling"
   ]
  },
  {
   "cell_type": "code",
   "execution_count": 100,
   "metadata": {},
   "outputs": [],
   "source": [
    "def upsample(features, target, repeat):\n",
    "    features_zeros = features[target == 0]\n",
    "    features_ones = features[target == 1]\n",
    "    target_zeros = target[target == 0]\n",
    "    target_ones = target[target == 1]\n",
    "\n",
    "    features_upsampled = pd.concat([features_zeros] + [features_ones] * repeat)\n",
    "    target_upsampled = pd.concat([target_zeros] + [target_ones] * repeat)\n",
    "    \n",
    "    features_upsampled, target_upsampled = shuffle(\n",
    "        features_upsampled, target_upsampled, random_state=12345)\n",
    "    \n",
    "    return features_upsampled, target_upsampled\n",
    "\n",
    "features_upsampled, target_upsampled = upsample(features_train, target_train, 10)"
   ]
  },
  {
   "cell_type": "code",
   "execution_count": 101,
   "metadata": {},
   "outputs": [
    {
     "data": {
      "text/plain": [
       "0.5314436107433018"
      ]
     },
     "execution_count": 101,
     "metadata": {},
     "output_type": "execute_result"
    }
   ],
   "source": [
    "target_upsampled.mean()"
   ]
  },
  {
   "cell_type": "code",
   "execution_count": 102,
   "metadata": {},
   "outputs": [
    {
     "data": {
      "text/plain": [
       "(183519,)"
      ]
     },
     "execution_count": 102,
     "metadata": {},
     "output_type": "execute_result"
    }
   ],
   "source": [
    "features_upsampled.shape"
   ]
  },
  {
   "cell_type": "code",
   "execution_count": 104,
   "metadata": {},
   "outputs": [],
   "source": [
    "corpus_train_us= features_upsampled.values\n",
    "corpus_valid = features_valid.values\n",
    "corpus_test = features_test.values\n",
    "\n",
    "tf_idf_train_us = count_tf_idf.fit_transform(corpus_train_us) \n",
    "tf_idf_valid = count_tf_idf.transform(corpus_valid)\n",
    "tf_idf_test = count_tf_idf.transform(corpus_test) "
   ]
  },
  {
   "cell_type": "code",
   "execution_count": 105,
   "metadata": {},
   "outputs": [
    {
     "name": "stdout",
     "output_type": "stream",
     "text": [
      "F1 метрика для логистической регрессии: 0.7441609288510868\n"
     ]
    },
    {
     "name": "stderr",
     "output_type": "stream",
     "text": [
      "/opt/conda/lib/python3.9/site-packages/sklearn/linear_model/_logistic.py:763: ConvergenceWarning: lbfgs failed to converge (status=1):\n",
      "STOP: TOTAL NO. of ITERATIONS REACHED LIMIT.\n",
      "\n",
      "Increase the number of iterations (max_iter) or scale the data as shown in:\n",
      "    https://scikit-learn.org/stable/modules/preprocessing.html\n",
      "Please also refer to the documentation for alternative solver options:\n",
      "    https://scikit-learn.org/stable/modules/linear_model.html#logistic-regression\n",
      "  n_iter_i = _check_optimize_result(\n"
     ]
    }
   ],
   "source": [
    "model = LogisticRegression(random_state=12345) \n",
    "model.fit(tf_idf_train_us, target_upsampled)\n",
    "f1_metrics =  f1_score(target_valid, model.predict(tf_idf_valid))\n",
    "print('F1 метрика для логистической регрессии:', f1_metrics)"
   ]
  },
  {
   "cell_type": "code",
   "execution_count": 106,
   "metadata": {},
   "outputs": [
    {
     "data": {
      "text/html": [
       "<div>\n",
       "<style scoped>\n",
       "    .dataframe tbody tr th:only-of-type {\n",
       "        vertical-align: middle;\n",
       "    }\n",
       "\n",
       "    .dataframe tbody tr th {\n",
       "        vertical-align: top;\n",
       "    }\n",
       "\n",
       "    .dataframe thead th {\n",
       "        text-align: right;\n",
       "    }\n",
       "</style>\n",
       "<table border=\"1\" class=\"dataframe\">\n",
       "  <thead>\n",
       "    <tr style=\"text-align: right;\">\n",
       "      <th></th>\n",
       "      <th>Balance</th>\n",
       "      <th>F1</th>\n",
       "    </tr>\n",
       "  </thead>\n",
       "  <tbody>\n",
       "    <tr>\n",
       "      <th>LogisticRegression</th>\n",
       "      <td>no</td>\n",
       "      <td>0.735</td>\n",
       "    </tr>\n",
       "    <tr>\n",
       "      <th>LogisticRegression_2</th>\n",
       "      <td>class_weight='balanced'</td>\n",
       "      <td>0.752</td>\n",
       "    </tr>\n",
       "    <tr>\n",
       "      <th>LogisticRegression_3</th>\n",
       "      <td>downsampling</td>\n",
       "      <td>0.663</td>\n",
       "    </tr>\n",
       "    <tr>\n",
       "      <th>Random_Forest</th>\n",
       "      <td>downsampling</td>\n",
       "      <td>0.292</td>\n",
       "    </tr>\n",
       "    <tr>\n",
       "      <th>LogisticRegression_4</th>\n",
       "      <td>upsampling</td>\n",
       "      <td>0.744</td>\n",
       "    </tr>\n",
       "  </tbody>\n",
       "</table>\n",
       "</div>"
      ],
      "text/plain": [
       "                                      Balance     F1\n",
       "LogisticRegression                         no  0.735\n",
       "LogisticRegression_2  class_weight='balanced'  0.752\n",
       "LogisticRegression_3             downsampling  0.663\n",
       "Random_Forest                    downsampling  0.292\n",
       "LogisticRegression_4               upsampling  0.744"
      ]
     },
     "execution_count": 106,
     "metadata": {},
     "output_type": "execute_result"
    }
   ],
   "source": [
    "result_write('LogisticRegression_4', \"upsampling\", f1_metrics)"
   ]
  },
  {
   "cell_type": "markdown",
   "metadata": {},
   "source": [
    "Случаный лес."
   ]
  },
  {
   "cell_type": "code",
   "execution_count": 110,
   "metadata": {},
   "outputs": [
    {
     "name": "stdout",
     "output_type": "stream",
     "text": [
      "\n",
      "F1 наилучшей модели на валидационной выборке: 0.26943141466836174\n",
      "Максимальная глубина: 14\n",
      "Число деревьев: 300\n"
     ]
    }
   ],
   "source": [
    "best_result = 0\n",
    "max_depth = 0\n",
    "max_n_est = 0\n",
    "for depth in range(10, 15):\n",
    "    for n_est in range(50, 301, 50):\n",
    "        model = RandomForestClassifier(max_depth=depth, n_estimators=n_est,  random_state=12345)\n",
    "        model.fit(tf_idf_train_us, target_upsampled)\n",
    "        result = f1_score(target_valid, model.predict(tf_idf_valid))\n",
    "        if result > best_result:\n",
    "            best_result = result \n",
    "            max_depth = depth\n",
    "            max_n_est = n_est\n",
    "            \n",
    "            \n",
    "print()\n",
    "print(\"F1 наилучшей модели на валидационной выборке:\", best_result)\n",
    "print(\"Максимальная глубина:\", max_depth)\n",
    "print(\"Число деревьев:\", max_n_est) "
   ]
  },
  {
   "cell_type": "code",
   "execution_count": 113,
   "metadata": {},
   "outputs": [
    {
     "data": {
      "text/html": [
       "<div>\n",
       "<style scoped>\n",
       "    .dataframe tbody tr th:only-of-type {\n",
       "        vertical-align: middle;\n",
       "    }\n",
       "\n",
       "    .dataframe tbody tr th {\n",
       "        vertical-align: top;\n",
       "    }\n",
       "\n",
       "    .dataframe thead th {\n",
       "        text-align: right;\n",
       "    }\n",
       "</style>\n",
       "<table border=\"1\" class=\"dataframe\">\n",
       "  <thead>\n",
       "    <tr style=\"text-align: right;\">\n",
       "      <th></th>\n",
       "      <th>Balance</th>\n",
       "      <th>F1</th>\n",
       "    </tr>\n",
       "  </thead>\n",
       "  <tbody>\n",
       "    <tr>\n",
       "      <th>LogisticRegression</th>\n",
       "      <td>no</td>\n",
       "      <td>0.735</td>\n",
       "    </tr>\n",
       "    <tr>\n",
       "      <th>LogisticRegression_2</th>\n",
       "      <td>class_weight='balanced'</td>\n",
       "      <td>0.752</td>\n",
       "    </tr>\n",
       "    <tr>\n",
       "      <th>LogisticRegression_3</th>\n",
       "      <td>downsampling</td>\n",
       "      <td>0.663</td>\n",
       "    </tr>\n",
       "    <tr>\n",
       "      <th>Random_Forest</th>\n",
       "      <td>downsampling</td>\n",
       "      <td>0.292</td>\n",
       "    </tr>\n",
       "    <tr>\n",
       "      <th>LogisticRegression_4</th>\n",
       "      <td>upsampling</td>\n",
       "      <td>0.744</td>\n",
       "    </tr>\n",
       "    <tr>\n",
       "      <th>Random_Forest_2</th>\n",
       "      <td>upsampling</td>\n",
       "      <td>0.269</td>\n",
       "    </tr>\n",
       "  </tbody>\n",
       "</table>\n",
       "</div>"
      ],
      "text/plain": [
       "                                      Balance     F1\n",
       "LogisticRegression                         no  0.735\n",
       "LogisticRegression_2  class_weight='balanced'  0.752\n",
       "LogisticRegression_3             downsampling  0.663\n",
       "Random_Forest                    downsampling  0.292\n",
       "LogisticRegression_4               upsampling  0.744\n",
       "Random_Forest_2                    upsampling  0.269"
      ]
     },
     "execution_count": 113,
     "metadata": {},
     "output_type": "execute_result"
    }
   ],
   "source": [
    "result_write('Random_Forest_2', \"upsampling\", best_result)"
   ]
  },
  {
   "cell_type": "markdown",
   "metadata": {},
   "source": [
    "Результат значительно не улучшился, вернем выборку к исходному размеру, попробуем другие модели."
   ]
  },
  {
   "cell_type": "markdown",
   "metadata": {},
   "source": [
    "### Подбор гиперпараметров различных моделей"
   ]
  },
  {
   "cell_type": "code",
   "execution_count": 114,
   "metadata": {},
   "outputs": [],
   "source": [
    "corpus_train = features_train.values\n",
    "corpus_valid = features_valid.values\n",
    "corpus_test = features_test.values\n",
    "\n",
    "tf_idf_train = count_tf_idf.fit_transform(corpus_train) \n",
    "tf_idf_valid = count_tf_idf.transform(corpus_valid)\n",
    "tf_idf_test = count_tf_idf.transform(corpus_test) "
   ]
  },
  {
   "cell_type": "code",
   "execution_count": 115,
   "metadata": {},
   "outputs": [
    {
     "name": "stdout",
     "output_type": "stream",
     "text": [
      "F1 метрика для логистической регрессии, классы сбалансированы: 0.7458533975387909\n"
     ]
    },
    {
     "name": "stderr",
     "output_type": "stream",
     "text": [
      "/opt/conda/lib/python3.9/site-packages/sklearn/linear_model/_sag.py:328: ConvergenceWarning: The max_iter was reached which means the coef_ did not converge\n",
      "  warnings.warn(\"The max_iter was reached which means \"\n"
     ]
    }
   ],
   "source": [
    "model = LogisticRegression(penalty='elasticnet', solver='saga', l1_ratio=0.5,\n",
    "                                random_state=12345, class_weight='balanced') \n",
    "model.fit(tf_idf_train, target_train) \n",
    "f1_metrics =  f1_score(target_valid, model.predict(tf_idf_valid))\n",
    "print('F1 метрика для логистической регрессии:', f1_metrics)"
   ]
  },
  {
   "cell_type": "code",
   "execution_count": 116,
   "metadata": {},
   "outputs": [
    {
     "name": "stdout",
     "output_type": "stream",
     "text": [
      "F1 метрика для логистической регрессии: 0.7458533975387909\n"
     ]
    }
   ],
   "source": [
    "model_lr = LogisticRegression(penalty='l2', solver='newton-cg', class_weight='balanced',\n",
    "                                random_state=12345) \n",
    "model_lr.fit(tf_idf_train, target_train) \n",
    "f1_metrics =  f1_score(target_valid, model.predict(tf_idf_valid))\n",
    "print('F1 метрика для логистической регрессии:', f1_metrics)"
   ]
  },
  {
   "cell_type": "code",
   "execution_count": 117,
   "metadata": {},
   "outputs": [
    {
     "name": "stdout",
     "output_type": "stream",
     "text": [
      "F1 метрика для логистической регрессии: 0.7458533975387909\n"
     ]
    }
   ],
   "source": [
    "model_lr = LogisticRegression(solver='liblinear', class_weight='balanced',\n",
    "                                random_state=12345) \n",
    "model_lr.fit(tf_idf_train, target_train) \n",
    "f1_metrics =  f1_score(target_valid, model.predict(tf_idf_valid))\n",
    "print('F1 метрика для логистической регрессии:', f1_metrics)"
   ]
  },
  {
   "cell_type": "code",
   "execution_count": 118,
   "metadata": {},
   "outputs": [
    {
     "name": "stdout",
     "output_type": "stream",
     "text": [
      "\n",
      "F1 наилучшей модели на валидационной выборке: 0.6561234329797492\n",
      "Максимальная глубина: 18\n"
     ]
    }
   ],
   "source": [
    "# Дерево решений\n",
    "best_result = 0\n",
    "max_depth = 0\n",
    "for depth in range (1, 20):\n",
    "    model =  DecisionTreeClassifier(random_state=12345, max_depth=depth)\n",
    "    model.fit(tf_idf_train, target_train)\n",
    "    result = f1_score(target_valid, model.predict(tf_idf_valid))\n",
    "    if result > best_result:\n",
    "        best_result = result \n",
    "        max_depth = depth\n",
    "print()\n",
    "print(\"F1 наилучшей модели на валидационной выборке:\", best_result)\n",
    "print(\"Максимальная глубина:\", max_depth)"
   ]
  },
  {
   "cell_type": "code",
   "execution_count": 119,
   "metadata": {},
   "outputs": [
    {
     "data": {
      "text/html": [
       "<div>\n",
       "<style scoped>\n",
       "    .dataframe tbody tr th:only-of-type {\n",
       "        vertical-align: middle;\n",
       "    }\n",
       "\n",
       "    .dataframe tbody tr th {\n",
       "        vertical-align: top;\n",
       "    }\n",
       "\n",
       "    .dataframe thead th {\n",
       "        text-align: right;\n",
       "    }\n",
       "</style>\n",
       "<table border=\"1\" class=\"dataframe\">\n",
       "  <thead>\n",
       "    <tr style=\"text-align: right;\">\n",
       "      <th></th>\n",
       "      <th>Balance</th>\n",
       "      <th>F1</th>\n",
       "    </tr>\n",
       "  </thead>\n",
       "  <tbody>\n",
       "    <tr>\n",
       "      <th>LogisticRegression</th>\n",
       "      <td>no</td>\n",
       "      <td>0.735</td>\n",
       "    </tr>\n",
       "    <tr>\n",
       "      <th>LogisticRegression_2</th>\n",
       "      <td>class_weight='balanced'</td>\n",
       "      <td>0.752</td>\n",
       "    </tr>\n",
       "    <tr>\n",
       "      <th>LogisticRegression_3</th>\n",
       "      <td>downsampling</td>\n",
       "      <td>0.663</td>\n",
       "    </tr>\n",
       "    <tr>\n",
       "      <th>Random_Forest</th>\n",
       "      <td>downsampling</td>\n",
       "      <td>0.292</td>\n",
       "    </tr>\n",
       "    <tr>\n",
       "      <th>LogisticRegression_4</th>\n",
       "      <td>upsampling</td>\n",
       "      <td>0.744</td>\n",
       "    </tr>\n",
       "    <tr>\n",
       "      <th>Random_Forest_2</th>\n",
       "      <td>upsampling</td>\n",
       "      <td>0.269</td>\n",
       "    </tr>\n",
       "    <tr>\n",
       "      <th>Decision_Tree</th>\n",
       "      <td>no</td>\n",
       "      <td>0.656</td>\n",
       "    </tr>\n",
       "  </tbody>\n",
       "</table>\n",
       "</div>"
      ],
      "text/plain": [
       "                                      Balance     F1\n",
       "LogisticRegression                         no  0.735\n",
       "LogisticRegression_2  class_weight='balanced'  0.752\n",
       "LogisticRegression_3             downsampling  0.663\n",
       "Random_Forest                    downsampling  0.292\n",
       "LogisticRegression_4               upsampling  0.744\n",
       "Random_Forest_2                    upsampling  0.269\n",
       "Decision_Tree                              no  0.656"
      ]
     },
     "execution_count": 119,
     "metadata": {},
     "output_type": "execute_result"
    }
   ],
   "source": [
    "result_write('Decision_Tree', \"no\", best_result)"
   ]
  },
  {
   "cell_type": "code",
   "execution_count": 120,
   "metadata": {},
   "outputs": [
    {
     "name": "stdout",
     "output_type": "stream",
     "text": [
      "\n",
      "F1 наилучшей модели на валидационной выборке: 0.6357711803041275\n",
      "Максимальная глубина: 19\n"
     ]
    }
   ],
   "source": [
    "# Дерево решений с учетом дисбаланса\n",
    "best_result = 0\n",
    "max_depth = 0\n",
    "for depth in range (1, 20):\n",
    "    model =  DecisionTreeClassifier(random_state=12345, max_depth=depth, class_weight='balanced')\n",
    "    model.fit(tf_idf_train, target_train)\n",
    "    result = f1_score(target_valid, model.predict(tf_idf_valid))\n",
    "    if result > best_result:\n",
    "        best_result = result \n",
    "        max_depth = depth\n",
    "print()\n",
    "print(\"F1 наилучшей модели на валидационной выборке:\", best_result)\n",
    "print(\"Максимальная глубина:\", max_depth)"
   ]
  },
  {
   "cell_type": "code",
   "execution_count": 121,
   "metadata": {},
   "outputs": [
    {
     "data": {
      "text/html": [
       "<div>\n",
       "<style scoped>\n",
       "    .dataframe tbody tr th:only-of-type {\n",
       "        vertical-align: middle;\n",
       "    }\n",
       "\n",
       "    .dataframe tbody tr th {\n",
       "        vertical-align: top;\n",
       "    }\n",
       "\n",
       "    .dataframe thead th {\n",
       "        text-align: right;\n",
       "    }\n",
       "</style>\n",
       "<table border=\"1\" class=\"dataframe\">\n",
       "  <thead>\n",
       "    <tr style=\"text-align: right;\">\n",
       "      <th></th>\n",
       "      <th>Balance</th>\n",
       "      <th>F1</th>\n",
       "    </tr>\n",
       "  </thead>\n",
       "  <tbody>\n",
       "    <tr>\n",
       "      <th>LogisticRegression</th>\n",
       "      <td>no</td>\n",
       "      <td>0.735</td>\n",
       "    </tr>\n",
       "    <tr>\n",
       "      <th>LogisticRegression_2</th>\n",
       "      <td>class_weight='balanced'</td>\n",
       "      <td>0.752</td>\n",
       "    </tr>\n",
       "    <tr>\n",
       "      <th>LogisticRegression_3</th>\n",
       "      <td>downsampling</td>\n",
       "      <td>0.663</td>\n",
       "    </tr>\n",
       "    <tr>\n",
       "      <th>Random_Forest</th>\n",
       "      <td>downsampling</td>\n",
       "      <td>0.292</td>\n",
       "    </tr>\n",
       "    <tr>\n",
       "      <th>LogisticRegression_4</th>\n",
       "      <td>upsampling</td>\n",
       "      <td>0.744</td>\n",
       "    </tr>\n",
       "    <tr>\n",
       "      <th>Random_Forest_2</th>\n",
       "      <td>upsampling</td>\n",
       "      <td>0.269</td>\n",
       "    </tr>\n",
       "    <tr>\n",
       "      <th>Decision_Tree</th>\n",
       "      <td>no</td>\n",
       "      <td>0.656</td>\n",
       "    </tr>\n",
       "    <tr>\n",
       "      <th>Decision_Tree_2</th>\n",
       "      <td>class_weight='balanced'</td>\n",
       "      <td>0.636</td>\n",
       "    </tr>\n",
       "  </tbody>\n",
       "</table>\n",
       "</div>"
      ],
      "text/plain": [
       "                                      Balance     F1\n",
       "LogisticRegression                         no  0.735\n",
       "LogisticRegression_2  class_weight='balanced'  0.752\n",
       "LogisticRegression_3             downsampling  0.663\n",
       "Random_Forest                    downsampling  0.292\n",
       "LogisticRegression_4               upsampling  0.744\n",
       "Random_Forest_2                    upsampling  0.269\n",
       "Decision_Tree                              no  0.656\n",
       "Decision_Tree_2       class_weight='balanced'  0.636"
      ]
     },
     "execution_count": 121,
     "metadata": {},
     "output_type": "execute_result"
    }
   ],
   "source": [
    "result_write('Decision_Tree_2', \"class_weight='balanced'\", best_result)"
   ]
  },
  {
   "cell_type": "code",
   "execution_count": 122,
   "metadata": {},
   "outputs": [
    {
     "name": "stdout",
     "output_type": "stream",
     "text": [
      "\n",
      "F1 наилучшей модели, Случайный лес: 0.3887363604364661\n",
      "Максимальная глубина: 14\n",
      "Число деревьев: 250\n"
     ]
    }
   ],
   "source": [
    "#Случайный лес\n",
    "best_result = 0\n",
    "max_depth = 0\n",
    "max_n_est = 0\n",
    "for depth in range(10, 15):\n",
    "    for n_est in range(50, 301, 50):\n",
    "        model = RandomForestClassifier(max_depth=depth, n_estimators=n_est,  \n",
    "                                       random_state=12345, class_weight='balanced')\n",
    "        model.fit(tf_idf_train, target_train)\n",
    "        result = f1_score(target_valid, model.predict(tf_idf_valid))\n",
    "        if result > best_result:\n",
    "            best_result = result \n",
    "            max_depth = depth\n",
    "            max_n_est = n_est\n",
    "            \n",
    "            \n",
    "print()\n",
    "print(\"F1 наилучшей модели, Случайный лес:\", best_result)\n",
    "print(\"Максимальная глубина:\", max_depth)\n",
    "print(\"Число деревьев:\", max_n_est) "
   ]
  },
  {
   "cell_type": "code",
   "execution_count": 124,
   "metadata": {},
   "outputs": [
    {
     "data": {
      "text/html": [
       "<div>\n",
       "<style scoped>\n",
       "    .dataframe tbody tr th:only-of-type {\n",
       "        vertical-align: middle;\n",
       "    }\n",
       "\n",
       "    .dataframe tbody tr th {\n",
       "        vertical-align: top;\n",
       "    }\n",
       "\n",
       "    .dataframe thead th {\n",
       "        text-align: right;\n",
       "    }\n",
       "</style>\n",
       "<table border=\"1\" class=\"dataframe\">\n",
       "  <thead>\n",
       "    <tr style=\"text-align: right;\">\n",
       "      <th></th>\n",
       "      <th>Balance</th>\n",
       "      <th>F1</th>\n",
       "    </tr>\n",
       "  </thead>\n",
       "  <tbody>\n",
       "    <tr>\n",
       "      <th>LogisticRegression</th>\n",
       "      <td>no</td>\n",
       "      <td>0.735</td>\n",
       "    </tr>\n",
       "    <tr>\n",
       "      <th>LogisticRegression_2</th>\n",
       "      <td>class_weight='balanced'</td>\n",
       "      <td>0.752</td>\n",
       "    </tr>\n",
       "    <tr>\n",
       "      <th>LogisticRegression_3</th>\n",
       "      <td>downsampling</td>\n",
       "      <td>0.663</td>\n",
       "    </tr>\n",
       "    <tr>\n",
       "      <th>Random_Forest</th>\n",
       "      <td>downsampling</td>\n",
       "      <td>0.292</td>\n",
       "    </tr>\n",
       "    <tr>\n",
       "      <th>LogisticRegression_4</th>\n",
       "      <td>upsampling</td>\n",
       "      <td>0.744</td>\n",
       "    </tr>\n",
       "    <tr>\n",
       "      <th>Random_Forest_2</th>\n",
       "      <td>upsampling</td>\n",
       "      <td>0.269</td>\n",
       "    </tr>\n",
       "    <tr>\n",
       "      <th>Decision_Tree</th>\n",
       "      <td>no</td>\n",
       "      <td>0.656</td>\n",
       "    </tr>\n",
       "    <tr>\n",
       "      <th>Decision_Tree_2</th>\n",
       "      <td>class_weight='balanced'</td>\n",
       "      <td>0.636</td>\n",
       "    </tr>\n",
       "    <tr>\n",
       "      <th>Random_forest_3</th>\n",
       "      <td>class_weight='balanced'</td>\n",
       "      <td>0.389</td>\n",
       "    </tr>\n",
       "  </tbody>\n",
       "</table>\n",
       "</div>"
      ],
      "text/plain": [
       "                                      Balance     F1\n",
       "LogisticRegression                         no  0.735\n",
       "LogisticRegression_2  class_weight='balanced'  0.752\n",
       "LogisticRegression_3             downsampling  0.663\n",
       "Random_Forest                    downsampling  0.292\n",
       "LogisticRegression_4               upsampling  0.744\n",
       "Random_Forest_2                    upsampling  0.269\n",
       "Decision_Tree                              no  0.656\n",
       "Decision_Tree_2       class_weight='balanced'  0.636\n",
       "Random_forest_3       class_weight='balanced'  0.389"
      ]
     },
     "execution_count": 124,
     "metadata": {},
     "output_type": "execute_result"
    }
   ],
   "source": [
    "result_write('Random_forest_3', \"class_weight='balanced'\", best_result)"
   ]
  },
  {
   "cell_type": "code",
   "execution_count": 123,
   "metadata": {
    "scrolled": true
   },
   "outputs": [
    {
     "name": "stdout",
     "output_type": "stream",
     "text": [
      "F1 = 0.7710719781159171\n"
     ]
    }
   ],
   "source": [
    "#LightGBM\n",
    "model = lgb.LGBMClassifier(num_leaves=31,learning_rate=0.2, n_estimators=170)\n",
    "model.fit(tf_idf_train, target_train)\n",
    "F1 = f1_score(target_valid, model.predict(tf_idf_valid))\n",
    "print(\"F1 =\", F1)"
   ]
  },
  {
   "cell_type": "code",
   "execution_count": 126,
   "metadata": {},
   "outputs": [
    {
     "data": {
      "text/html": [
       "<div>\n",
       "<style scoped>\n",
       "    .dataframe tbody tr th:only-of-type {\n",
       "        vertical-align: middle;\n",
       "    }\n",
       "\n",
       "    .dataframe tbody tr th {\n",
       "        vertical-align: top;\n",
       "    }\n",
       "\n",
       "    .dataframe thead th {\n",
       "        text-align: right;\n",
       "    }\n",
       "</style>\n",
       "<table border=\"1\" class=\"dataframe\">\n",
       "  <thead>\n",
       "    <tr style=\"text-align: right;\">\n",
       "      <th></th>\n",
       "      <th>Balance</th>\n",
       "      <th>F1</th>\n",
       "    </tr>\n",
       "  </thead>\n",
       "  <tbody>\n",
       "    <tr>\n",
       "      <th>LogisticRegression</th>\n",
       "      <td>no</td>\n",
       "      <td>0.735</td>\n",
       "    </tr>\n",
       "    <tr>\n",
       "      <th>LogisticRegression_2</th>\n",
       "      <td>class_weight='balanced'</td>\n",
       "      <td>0.752</td>\n",
       "    </tr>\n",
       "    <tr>\n",
       "      <th>LogisticRegression_3</th>\n",
       "      <td>downsampling</td>\n",
       "      <td>0.663</td>\n",
       "    </tr>\n",
       "    <tr>\n",
       "      <th>Random_Forest</th>\n",
       "      <td>downsampling</td>\n",
       "      <td>0.292</td>\n",
       "    </tr>\n",
       "    <tr>\n",
       "      <th>LogisticRegression_4</th>\n",
       "      <td>upsampling</td>\n",
       "      <td>0.744</td>\n",
       "    </tr>\n",
       "    <tr>\n",
       "      <th>Random_Forest_2</th>\n",
       "      <td>upsampling</td>\n",
       "      <td>0.269</td>\n",
       "    </tr>\n",
       "    <tr>\n",
       "      <th>Decision_Tree</th>\n",
       "      <td>no</td>\n",
       "      <td>0.656</td>\n",
       "    </tr>\n",
       "    <tr>\n",
       "      <th>Decision_Tree_2</th>\n",
       "      <td>class_weight='balanced'</td>\n",
       "      <td>0.636</td>\n",
       "    </tr>\n",
       "    <tr>\n",
       "      <th>Random_forest_3</th>\n",
       "      <td>class_weight='balanced'</td>\n",
       "      <td>0.389</td>\n",
       "    </tr>\n",
       "    <tr>\n",
       "      <th>LightGBM</th>\n",
       "      <td>no</td>\n",
       "      <td>0.771</td>\n",
       "    </tr>\n",
       "  </tbody>\n",
       "</table>\n",
       "</div>"
      ],
      "text/plain": [
       "                                      Balance     F1\n",
       "LogisticRegression                         no  0.735\n",
       "LogisticRegression_2  class_weight='balanced'  0.752\n",
       "LogisticRegression_3             downsampling  0.663\n",
       "Random_Forest                    downsampling  0.292\n",
       "LogisticRegression_4               upsampling  0.744\n",
       "Random_Forest_2                    upsampling  0.269\n",
       "Decision_Tree                              no  0.656\n",
       "Decision_Tree_2       class_weight='balanced'  0.636\n",
       "Random_forest_3       class_weight='balanced'  0.389\n",
       "LightGBM                                   no  0.771"
      ]
     },
     "execution_count": 126,
     "metadata": {},
     "output_type": "execute_result"
    }
   ],
   "source": [
    "result_write('LightGBM', \"no\",F1)"
   ]
  },
  {
   "cell_type": "markdown",
   "metadata": {},
   "source": [
    "По результатам подбора наилучшие результаты показала модель LGBM,  f1 = 0,77 на валидационной выборке. Проверяем ее на тестовой выборке."
   ]
  },
  {
   "cell_type": "code",
   "execution_count": 127,
   "metadata": {},
   "outputs": [
    {
     "name": "stdout",
     "output_type": "stream",
     "text": [
      "F1 = 0.7759791122715405\n"
     ]
    }
   ],
   "source": [
    "model = lgb.LGBMClassifier(num_leaves=31,learning_rate=0.2, n_estimators=170)\n",
    "model.fit(tf_idf_train, target_train)\n",
    "F1 = f1_score(target_test, model.predict(tf_idf_test))\n",
    "print(\"F1 =\", F1)"
   ]
  },
  {
   "cell_type": "markdown",
   "metadata": {},
   "source": [
    "## Выводы"
   ]
  },
  {
   "cell_type": "markdown",
   "metadata": {},
   "source": [
    "Мы обучили модель классифицировать комментарии на позитивные и негативные. Наилучшие результаты показала модель LGBM. Значение метрики качества F1 на тестовой выборке 0,77, что превышает требуемые 0,75."
   ]
  },
  {
   "cell_type": "code",
   "execution_count": 128,
   "metadata": {},
   "outputs": [
    {
     "data": {
      "text/html": [
       "<div>\n",
       "<style scoped>\n",
       "    .dataframe tbody tr th:only-of-type {\n",
       "        vertical-align: middle;\n",
       "    }\n",
       "\n",
       "    .dataframe tbody tr th {\n",
       "        vertical-align: top;\n",
       "    }\n",
       "\n",
       "    .dataframe thead th {\n",
       "        text-align: right;\n",
       "    }\n",
       "</style>\n",
       "<table border=\"1\" class=\"dataframe\">\n",
       "  <thead>\n",
       "    <tr style=\"text-align: right;\">\n",
       "      <th></th>\n",
       "      <th>Balance</th>\n",
       "      <th>F1</th>\n",
       "    </tr>\n",
       "  </thead>\n",
       "  <tbody>\n",
       "    <tr>\n",
       "      <th>LogisticRegression</th>\n",
       "      <td>no</td>\n",
       "      <td>0.735</td>\n",
       "    </tr>\n",
       "    <tr>\n",
       "      <th>LogisticRegression_2</th>\n",
       "      <td>class_weight='balanced'</td>\n",
       "      <td>0.752</td>\n",
       "    </tr>\n",
       "    <tr>\n",
       "      <th>LogisticRegression_3</th>\n",
       "      <td>downsampling</td>\n",
       "      <td>0.663</td>\n",
       "    </tr>\n",
       "    <tr>\n",
       "      <th>Random_Forest</th>\n",
       "      <td>downsampling</td>\n",
       "      <td>0.292</td>\n",
       "    </tr>\n",
       "    <tr>\n",
       "      <th>LogisticRegression_4</th>\n",
       "      <td>upsampling</td>\n",
       "      <td>0.744</td>\n",
       "    </tr>\n",
       "    <tr>\n",
       "      <th>Random_Forest_2</th>\n",
       "      <td>upsampling</td>\n",
       "      <td>0.269</td>\n",
       "    </tr>\n",
       "    <tr>\n",
       "      <th>Decision_Tree</th>\n",
       "      <td>no</td>\n",
       "      <td>0.656</td>\n",
       "    </tr>\n",
       "    <tr>\n",
       "      <th>Decision_Tree_2</th>\n",
       "      <td>class_weight='balanced'</td>\n",
       "      <td>0.636</td>\n",
       "    </tr>\n",
       "    <tr>\n",
       "      <th>Random_forest_3</th>\n",
       "      <td>class_weight='balanced'</td>\n",
       "      <td>0.389</td>\n",
       "    </tr>\n",
       "    <tr>\n",
       "      <th>LightGBM</th>\n",
       "      <td>no</td>\n",
       "      <td>0.771</td>\n",
       "    </tr>\n",
       "    <tr>\n",
       "      <th>LightGBM тестовая выборка</th>\n",
       "      <td>no</td>\n",
       "      <td>0.776</td>\n",
       "    </tr>\n",
       "  </tbody>\n",
       "</table>\n",
       "</div>"
      ],
      "text/plain": [
       "                                           Balance     F1\n",
       "LogisticRegression                              no  0.735\n",
       "LogisticRegression_2       class_weight='balanced'  0.752\n",
       "LogisticRegression_3                  downsampling  0.663\n",
       "Random_Forest                         downsampling  0.292\n",
       "LogisticRegression_4                    upsampling  0.744\n",
       "Random_Forest_2                         upsampling  0.269\n",
       "Decision_Tree                                   no  0.656\n",
       "Decision_Tree_2            class_weight='balanced'  0.636\n",
       "Random_forest_3            class_weight='balanced'  0.389\n",
       "LightGBM                                        no  0.771\n",
       "LightGBM тестовая выборка                       no  0.776"
      ]
     },
     "execution_count": 128,
     "metadata": {},
     "output_type": "execute_result"
    }
   ],
   "source": [
    "result_write('LightGBM тестовая выборка', \"no\", F1)"
   ]
  }
 ],
 "metadata": {
  "ExecuteTimeLog": [
   {
    "duration": 80147,
    "start_time": "2022-07-23T11:20:21.467Z"
   },
   {
    "duration": 3146,
    "start_time": "2022-07-23T11:21:41.616Z"
   },
   {
    "duration": 20,
    "start_time": "2022-07-23T11:21:44.765Z"
   },
   {
    "duration": 57,
    "start_time": "2022-07-23T11:21:44.787Z"
   },
   {
    "duration": 26,
    "start_time": "2022-07-23T11:21:44.846Z"
   },
   {
    "duration": 216,
    "start_time": "2022-07-23T11:21:44.874Z"
   },
   {
    "duration": 754,
    "start_time": "2022-07-23T11:22:45.112Z"
   },
   {
    "duration": 7,
    "start_time": "2022-07-23T11:22:58.921Z"
   },
   {
    "duration": 4,
    "start_time": "2022-07-23T11:23:32.357Z"
   },
   {
    "duration": 2984386,
    "start_time": "2022-07-23T11:23:41.558Z"
   },
   {
    "duration": 22,
    "start_time": "2022-07-23T12:13:25.946Z"
   },
   {
    "duration": 15,
    "start_time": "2022-07-23T12:13:25.971Z"
   },
   {
    "duration": 5790,
    "start_time": "2022-07-23T12:13:25.990Z"
   },
   {
    "duration": 17,
    "start_time": "2022-07-23T12:13:31.783Z"
   },
   {
    "duration": 25,
    "start_time": "2022-07-23T12:13:31.803Z"
   },
   {
    "duration": 109,
    "start_time": "2022-07-23T12:13:32.079Z"
   },
   {
    "duration": 425,
    "start_time": "2022-07-23T12:13:32.191Z"
   },
   {
    "duration": 9350,
    "start_time": "2022-07-23T12:13:32.618Z"
   },
   {
    "duration": 9068,
    "start_time": "2022-07-23T12:20:21.044Z"
   },
   {
    "duration": 578,
    "start_time": "2022-07-23T12:20:30.116Z"
   },
   {
    "duration": 0,
    "start_time": "2022-07-23T12:20:30.698Z"
   },
   {
    "duration": 52182,
    "start_time": "2022-07-23T12:20:43.072Z"
   },
   {
    "duration": 0,
    "start_time": "2022-07-23T12:21:35.256Z"
   },
   {
    "duration": 0,
    "start_time": "2022-07-23T12:21:35.258Z"
   },
   {
    "duration": 56331,
    "start_time": "2022-07-23T12:22:12.645Z"
   },
   {
    "duration": 9309,
    "start_time": "2022-07-23T12:23:42.966Z"
   },
   {
    "duration": 53360,
    "start_time": "2022-07-23T12:23:52.277Z"
   },
   {
    "duration": 0,
    "start_time": "2022-07-23T12:24:45.702Z"
   },
   {
    "duration": 32,
    "start_time": "2022-07-23T12:25:04.198Z"
   },
   {
    "duration": 32638,
    "start_time": "2022-07-23T12:25:13.308Z"
   },
   {
    "duration": 613,
    "start_time": "2022-07-23T12:29:53.095Z"
   },
   {
    "duration": 8925,
    "start_time": "2022-07-23T12:30:13.843Z"
   },
   {
    "duration": 5387,
    "start_time": "2022-07-23T12:30:22.771Z"
   },
   {
    "duration": 53751,
    "start_time": "2022-07-23T12:30:30.977Z"
   },
   {
    "duration": 32701,
    "start_time": "2022-07-23T12:31:24.742Z"
   },
   {
    "duration": 94252,
    "start_time": "2022-07-23T12:31:58.893Z"
   },
   {
    "duration": 115980,
    "start_time": "2022-07-23T12:34:12.344Z"
   },
   {
    "duration": 42,
    "start_time": "2022-07-23T12:37:42.359Z"
   },
   {
    "duration": 6,
    "start_time": "2022-07-23T12:37:57.644Z"
   },
   {
    "duration": 9,
    "start_time": "2022-07-23T12:38:33.986Z"
   },
   {
    "duration": 5915,
    "start_time": "2022-07-23T12:39:34.505Z"
   },
   {
    "duration": 42,
    "start_time": "2022-07-23T12:40:01.478Z"
   },
   {
    "duration": 38,
    "start_time": "2022-07-23T12:40:42.897Z"
   },
   {
    "duration": 4914,
    "start_time": "2022-07-23T12:40:44.849Z"
   },
   {
    "duration": 29,
    "start_time": "2022-07-23T12:40:49.765Z"
   },
   {
    "duration": 20045,
    "start_time": "2022-07-23T12:41:23.379Z"
   },
   {
    "duration": 20418,
    "start_time": "2022-07-23T12:42:24.159Z"
   },
   {
    "duration": 6,
    "start_time": "2022-07-23T12:43:09.064Z"
   },
   {
    "duration": 108,
    "start_time": "2022-07-23T12:43:10.528Z"
   },
   {
    "duration": 8,
    "start_time": "2022-07-23T12:43:13.796Z"
   },
   {
    "duration": 12123,
    "start_time": "2022-07-23T12:43:24.163Z"
   },
   {
    "duration": 56321,
    "start_time": "2022-07-23T12:43:41.212Z"
   },
   {
    "duration": 32702,
    "start_time": "2022-07-23T12:44:37.551Z"
   },
   {
    "duration": 46,
    "start_time": "2022-07-23T12:49:11.631Z"
   },
   {
    "duration": 7,
    "start_time": "2022-07-23T12:49:12.736Z"
   },
   {
    "duration": 5022,
    "start_time": "2022-07-23T12:50:13.800Z"
   },
   {
    "duration": 41,
    "start_time": "2022-07-23T12:50:26.793Z"
   },
   {
    "duration": 4971,
    "start_time": "2022-07-23T12:52:12.911Z"
   },
   {
    "duration": 849,
    "start_time": "2022-07-23T12:52:30.864Z"
   },
   {
    "duration": 14444,
    "start_time": "2022-07-23T12:52:34.509Z"
   },
   {
    "duration": 0,
    "start_time": "2022-07-23T12:52:48.957Z"
   },
   {
    "duration": 9855,
    "start_time": "2022-07-23T12:53:43.093Z"
   },
   {
    "duration": 48,
    "start_time": "2022-07-23T12:56:58.773Z"
   },
   {
    "duration": 6,
    "start_time": "2022-07-23T12:56:59.493Z"
   },
   {
    "duration": 8,
    "start_time": "2022-07-23T12:57:00.451Z"
   },
   {
    "duration": 1130,
    "start_time": "2022-07-23T12:57:02.333Z"
   },
   {
    "duration": 12683,
    "start_time": "2022-07-23T12:57:03.465Z"
   },
   {
    "duration": 3726,
    "start_time": "2022-07-23T12:58:03.172Z"
   },
   {
    "duration": 14828,
    "start_time": "2022-07-23T12:58:06.900Z"
   },
   {
    "duration": 19033,
    "start_time": "2022-07-23T12:58:27.104Z"
   },
   {
    "duration": 63,
    "start_time": "2022-07-23T12:59:55.914Z"
   },
   {
    "duration": 8,
    "start_time": "2022-07-23T13:00:15.153Z"
   },
   {
    "duration": 11738,
    "start_time": "2022-07-23T13:01:14.148Z"
   },
   {
    "duration": 26,
    "start_time": "2022-07-23T13:01:45.429Z"
   },
   {
    "duration": 11663,
    "start_time": "2022-07-23T13:02:01.796Z"
   },
   {
    "duration": 59785,
    "start_time": "2022-07-23T13:02:13.463Z"
   },
   {
    "duration": 46391,
    "start_time": "2022-07-23T13:03:49.441Z"
   },
   {
    "duration": 8005,
    "start_time": "2022-07-23T13:06:48.442Z"
   },
   {
    "duration": 94650,
    "start_time": "2022-07-23T13:06:59.151Z"
   },
   {
    "duration": 113302,
    "start_time": "2022-07-23T13:08:33.803Z"
   },
   {
    "duration": 41,
    "start_time": "2022-07-23T13:11:27.897Z"
   },
   {
    "duration": 34,
    "start_time": "2022-07-23T13:11:59.854Z"
   },
   {
    "duration": 60,
    "start_time": "2022-07-23T13:13:40.326Z"
   },
   {
    "duration": 314674,
    "start_time": "2022-07-23T13:13:57.542Z"
   },
   {
    "duration": 19660,
    "start_time": "2022-07-23T13:20:44.640Z"
   },
   {
    "duration": 23001,
    "start_time": "2022-07-23T13:22:28.026Z"
   },
   {
    "duration": 12550,
    "start_time": "2022-07-23T13:22:53.701Z"
   },
   {
    "duration": 65,
    "start_time": "2022-07-23T13:29:40.241Z"
   },
   {
    "duration": 248509,
    "start_time": "2022-07-23T13:29:47.197Z"
   },
   {
    "duration": 243127,
    "start_time": "2022-07-23T13:42:22.134Z"
   },
   {
    "duration": 234649,
    "start_time": "2022-07-23T13:53:52.043Z"
   },
   {
    "duration": 2035,
    "start_time": "2022-07-23T13:59:00.016Z"
   },
   {
    "duration": 8772,
    "start_time": "2022-07-23T14:00:49.401Z"
   },
   {
    "duration": 2043,
    "start_time": "2022-07-23T14:02:29.466Z"
   },
   {
    "duration": 6887,
    "start_time": "2022-07-23T14:02:45.498Z"
   },
   {
    "duration": 2888,
    "start_time": "2022-07-23T14:03:33.810Z"
   },
   {
    "duration": 3440,
    "start_time": "2022-07-23T14:03:49.902Z"
   },
   {
    "duration": 14231,
    "start_time": "2022-07-23T14:03:59.511Z"
   },
   {
    "duration": 236468,
    "start_time": "2022-07-23T14:05:21.513Z"
   },
   {
    "duration": 5,
    "start_time": "2022-07-23T14:09:17.984Z"
   },
   {
    "duration": 9,
    "start_time": "2022-07-23T14:09:17.991Z"
   },
   {
    "duration": 37,
    "start_time": "2022-07-23T14:09:18.003Z"
   },
   {
    "duration": 4,
    "start_time": "2022-07-23T14:15:01.312Z"
   },
   {
    "duration": 214945,
    "start_time": "2022-07-23T14:18:24.612Z"
   },
   {
    "duration": 5,
    "start_time": "2022-07-23T14:23:34.410Z"
   },
   {
    "duration": 62,
    "start_time": "2022-07-23T14:23:35.110Z"
   },
   {
    "duration": 145,
    "start_time": "2022-07-23T14:23:39.158Z"
   },
   {
    "duration": 8562,
    "start_time": "2022-07-23T14:23:40.108Z"
   },
   {
    "duration": 51515,
    "start_time": "2022-07-23T14:23:58.711Z"
   },
   {
    "duration": 24118,
    "start_time": "2022-07-23T14:24:50.234Z"
   },
   {
    "duration": 0,
    "start_time": "2022-07-23T14:25:14.354Z"
   },
   {
    "duration": 1,
    "start_time": "2022-07-23T14:25:14.355Z"
   },
   {
    "duration": 0,
    "start_time": "2022-07-23T14:25:14.357Z"
   },
   {
    "duration": 0,
    "start_time": "2022-07-23T14:25:14.358Z"
   },
   {
    "duration": 0,
    "start_time": "2022-07-23T14:25:14.359Z"
   },
   {
    "duration": 0,
    "start_time": "2022-07-23T14:25:14.361Z"
   },
   {
    "duration": 0,
    "start_time": "2022-07-23T14:25:14.363Z"
   },
   {
    "duration": 227088,
    "start_time": "2022-07-23T14:25:28.341Z"
   },
   {
    "duration": 30594,
    "start_time": "2022-07-23T14:29:15.431Z"
   },
   {
    "duration": 304775,
    "start_time": "2022-07-23T14:29:46.031Z"
   },
   {
    "duration": 21323,
    "start_time": "2022-07-23T14:34:50.808Z"
   },
   {
    "duration": 12437,
    "start_time": "2022-07-23T14:35:12.134Z"
   },
   {
    "duration": 91734,
    "start_time": "2022-07-23T14:35:24.574Z"
   },
   {
    "duration": 111286,
    "start_time": "2022-07-23T14:36:56.311Z"
   },
   {
    "duration": 231010,
    "start_time": "2022-07-23T14:38:47.599Z"
   },
   {
    "duration": 3982,
    "start_time": "2022-07-23T14:47:39.114Z"
   },
   {
    "duration": 3927,
    "start_time": "2022-07-23T14:48:04.513Z"
   },
   {
    "duration": 75732,
    "start_time": "2022-07-23T14:48:49.039Z"
   },
   {
    "duration": 11804,
    "start_time": "2022-07-23T14:51:06.940Z"
   },
   {
    "duration": 407552,
    "start_time": "2022-07-23T14:51:58.816Z"
   },
   {
    "duration": 8738,
    "start_time": "2022-07-23T14:59:30.962Z"
   },
   {
    "duration": 283586,
    "start_time": "2022-07-23T14:59:53.543Z"
   },
   {
    "duration": 25184,
    "start_time": "2022-07-23T15:18:45.175Z"
   },
   {
    "duration": 734785,
    "start_time": "2022-07-23T15:20:00.707Z"
   },
   {
    "duration": 55,
    "start_time": "2022-07-25T10:43:26.437Z"
   },
   {
    "duration": 6,
    "start_time": "2022-07-25T10:43:32.426Z"
   },
   {
    "duration": 74074,
    "start_time": "2022-07-25T10:43:39.257Z"
   },
   {
    "duration": 2304,
    "start_time": "2022-07-25T10:44:53.333Z"
   },
   {
    "duration": 15,
    "start_time": "2022-07-25T10:44:55.639Z"
   },
   {
    "duration": 33,
    "start_time": "2022-07-25T10:44:55.656Z"
   },
   {
    "duration": 5,
    "start_time": "2022-07-25T10:44:55.690Z"
   },
   {
    "duration": 131,
    "start_time": "2022-07-25T10:44:55.696Z"
   },
   {
    "duration": 646,
    "start_time": "2022-07-25T10:44:55.829Z"
   },
   {
    "duration": 3,
    "start_time": "2022-07-25T10:44:56.477Z"
   },
   {
    "duration": 2350884,
    "start_time": "2022-07-25T10:44:56.481Z"
   },
   {
    "duration": 15,
    "start_time": "2022-07-25T11:24:07.367Z"
   },
   {
    "duration": 16,
    "start_time": "2022-07-25T11:24:07.384Z"
   },
   {
    "duration": 4219,
    "start_time": "2022-07-25T11:24:07.401Z"
   },
   {
    "duration": 12,
    "start_time": "2022-07-25T11:24:11.622Z"
   },
   {
    "duration": 3,
    "start_time": "2022-07-25T11:24:59.053Z"
   },
   {
    "duration": 47,
    "start_time": "2022-07-25T11:25:00.855Z"
   },
   {
    "duration": 370,
    "start_time": "2022-07-25T11:25:09.517Z"
   },
   {
    "duration": 6675,
    "start_time": "2022-07-25T11:25:19.392Z"
   },
   {
    "duration": 3,
    "start_time": "2022-07-25T12:08:36.917Z"
   },
   {
    "duration": 9,
    "start_time": "2022-07-25T12:13:25.110Z"
   },
   {
    "duration": 3,
    "start_time": "2022-07-25T12:14:39.519Z"
   },
   {
    "duration": 310,
    "start_time": "2022-07-25T12:15:44.141Z"
   },
   {
    "duration": 44326,
    "start_time": "2022-07-25T12:15:46.660Z"
   },
   {
    "duration": 7,
    "start_time": "2022-07-25T12:16:30.988Z"
   },
   {
    "duration": 28000,
    "start_time": "2022-07-25T12:17:31.280Z"
   },
   {
    "duration": 0,
    "start_time": "2022-07-25T12:17:59.282Z"
   },
   {
    "duration": 45438,
    "start_time": "2022-07-25T12:19:36.446Z"
   },
   {
    "duration": 44905,
    "start_time": "2022-07-25T12:20:45.561Z"
   },
   {
    "duration": 0,
    "start_time": "2022-07-25T12:21:30.468Z"
   },
   {
    "duration": 0,
    "start_time": "2022-07-25T12:21:30.470Z"
   },
   {
    "duration": 0,
    "start_time": "2022-07-25T12:21:30.471Z"
   },
   {
    "duration": 0,
    "start_time": "2022-07-25T12:21:30.472Z"
   },
   {
    "duration": 43481,
    "start_time": "2022-07-25T12:22:59.707Z"
   },
   {
    "duration": 19,
    "start_time": "2022-07-25T12:24:24.005Z"
   },
   {
    "duration": 23,
    "start_time": "2022-07-25T12:24:29.042Z"
   },
   {
    "duration": 6816,
    "start_time": "2022-07-25T12:25:14.282Z"
   },
   {
    "duration": 8,
    "start_time": "2022-07-25T12:25:24.744Z"
   },
   {
    "duration": 4,
    "start_time": "2022-07-25T12:25:25.741Z"
   },
   {
    "duration": 42828,
    "start_time": "2022-07-25T12:25:26.556Z"
   },
   {
    "duration": 42522,
    "start_time": "2022-07-25T12:27:33.748Z"
   },
   {
    "duration": 3,
    "start_time": "2022-07-25T12:30:28.692Z"
   },
   {
    "duration": 47,
    "start_time": "2022-07-25T12:30:29.574Z"
   },
   {
    "duration": 130,
    "start_time": "2022-07-25T12:30:32.084Z"
   },
   {
    "duration": 6509,
    "start_time": "2022-07-25T12:30:33.900Z"
   },
   {
    "duration": 9,
    "start_time": "2022-07-25T12:30:40.411Z"
   },
   {
    "duration": 55,
    "start_time": "2022-07-25T12:30:40.422Z"
   },
   {
    "duration": 45992,
    "start_time": "2022-07-25T12:30:40.480Z"
   },
   {
    "duration": 43833,
    "start_time": "2022-07-25T12:31:38.045Z"
   },
   {
    "duration": 45861,
    "start_time": "2022-07-25T12:33:24.204Z"
   },
   {
    "duration": 4,
    "start_time": "2022-07-25T12:34:59.633Z"
   },
   {
    "duration": 3,
    "start_time": "2022-07-25T12:35:29.325Z"
   },
   {
    "duration": 44220,
    "start_time": "2022-07-25T12:35:35.352Z"
   },
   {
    "duration": 4,
    "start_time": "2022-07-25T12:36:31.064Z"
   },
   {
    "duration": 42353,
    "start_time": "2022-07-25T12:36:44.423Z"
   },
   {
    "duration": 9,
    "start_time": "2022-07-25T12:37:30.671Z"
   },
   {
    "duration": 25819,
    "start_time": "2022-07-25T12:37:31.645Z"
   },
   {
    "duration": 7,
    "start_time": "2022-07-25T12:37:57.466Z"
   },
   {
    "duration": 7,
    "start_time": "2022-07-25T12:38:16.192Z"
   },
   {
    "duration": 9,
    "start_time": "2022-07-25T12:38:39.295Z"
   },
   {
    "duration": 48314,
    "start_time": "2022-07-25T12:38:57.959Z"
   },
   {
    "duration": 7,
    "start_time": "2022-07-25T12:39:46.275Z"
   },
   {
    "duration": 28183,
    "start_time": "2022-07-25T12:39:46.284Z"
   },
   {
    "duration": 8,
    "start_time": "2022-07-25T12:40:14.469Z"
   },
   {
    "duration": 40,
    "start_time": "2022-07-25T12:40:46.796Z"
   },
   {
    "duration": 5,
    "start_time": "2022-07-25T12:44:30.143Z"
   },
   {
    "duration": 6,
    "start_time": "2022-07-25T12:44:47.148Z"
   },
   {
    "duration": 4,
    "start_time": "2022-07-25T12:45:02.344Z"
   },
   {
    "duration": 18,
    "start_time": "2022-07-25T12:45:09.797Z"
   },
   {
    "duration": 4,
    "start_time": "2022-07-25T12:45:20.946Z"
   },
   {
    "duration": 20,
    "start_time": "2022-07-25T12:53:54.598Z"
   },
   {
    "duration": 4,
    "start_time": "2022-07-25T12:54:00.471Z"
   },
   {
    "duration": 24,
    "start_time": "2022-07-25T12:55:10.881Z"
   },
   {
    "duration": 17,
    "start_time": "2022-07-25T12:55:57.149Z"
   },
   {
    "duration": 7,
    "start_time": "2022-07-25T12:56:02.195Z"
   },
   {
    "duration": 29,
    "start_time": "2022-07-25T12:57:30.749Z"
   },
   {
    "duration": 4,
    "start_time": "2022-07-25T12:57:35.866Z"
   },
   {
    "duration": 5,
    "start_time": "2022-07-25T12:57:36.573Z"
   },
   {
    "duration": 5,
    "start_time": "2022-07-25T12:57:37.251Z"
   },
   {
    "duration": 5,
    "start_time": "2022-07-25T12:57:37.800Z"
   },
   {
    "duration": 3223,
    "start_time": "2022-07-25T12:57:41.200Z"
   },
   {
    "duration": 43,
    "start_time": "2022-07-25T12:59:46.215Z"
   },
   {
    "duration": 27,
    "start_time": "2022-07-25T13:02:04.757Z"
   },
   {
    "duration": 4,
    "start_time": "2022-07-25T13:02:09.076Z"
   },
   {
    "duration": 5,
    "start_time": "2022-07-25T13:02:09.576Z"
   },
   {
    "duration": 4,
    "start_time": "2022-07-25T13:02:10.009Z"
   },
   {
    "duration": 5,
    "start_time": "2022-07-25T13:02:10.565Z"
   },
   {
    "duration": 3156,
    "start_time": "2022-07-25T13:02:11.605Z"
   },
   {
    "duration": 11400,
    "start_time": "2022-07-25T13:04:14.968Z"
   },
   {
    "duration": 8,
    "start_time": "2022-07-25T13:04:26.370Z"
   },
   {
    "duration": 7510,
    "start_time": "2022-07-25T13:04:54.462Z"
   },
   {
    "duration": 8,
    "start_time": "2022-07-25T13:05:27.515Z"
   },
   {
    "duration": 8235,
    "start_time": "2022-07-25T13:06:07.342Z"
   },
   {
    "duration": 12155,
    "start_time": "2022-07-25T13:06:27.609Z"
   },
   {
    "duration": 7,
    "start_time": "2022-07-25T13:06:41.136Z"
   },
   {
    "duration": 14338,
    "start_time": "2022-07-25T13:06:48.949Z"
   },
   {
    "duration": 10,
    "start_time": "2022-07-25T13:07:32.029Z"
   },
   {
    "duration": 30,
    "start_time": "2022-07-25T13:08:29.421Z"
   },
   {
    "duration": 24,
    "start_time": "2022-07-25T13:09:28.896Z"
   },
   {
    "duration": 5,
    "start_time": "2022-07-25T13:09:54.089Z"
   },
   {
    "duration": 9,
    "start_time": "2022-07-25T13:09:59.419Z"
   },
   {
    "duration": 9,
    "start_time": "2022-07-25T13:10:10.119Z"
   },
   {
    "duration": 59755,
    "start_time": "2022-07-25T13:10:59.559Z"
   },
   {
    "duration": 12,
    "start_time": "2022-07-25T13:11:59.316Z"
   },
   {
    "duration": 52,
    "start_time": "2022-07-25T13:12:14.003Z"
   },
   {
    "duration": 5,
    "start_time": "2022-07-25T13:12:14.546Z"
   },
   {
    "duration": 5,
    "start_time": "2022-07-25T13:12:15.340Z"
   },
   {
    "duration": 20,
    "start_time": "2022-07-25T13:13:02.365Z"
   },
   {
    "duration": 9490,
    "start_time": "2022-07-25T13:13:05.832Z"
   },
   {
    "duration": 53575,
    "start_time": "2022-07-25T13:13:28.393Z"
   },
   {
    "duration": 8,
    "start_time": "2022-07-25T13:14:36.814Z"
   },
   {
    "duration": 41826,
    "start_time": "2022-07-25T13:14:40.146Z"
   },
   {
    "duration": 41764,
    "start_time": "2022-07-25T13:19:29.401Z"
   },
   {
    "duration": 9,
    "start_time": "2022-07-25T13:20:42.343Z"
   },
   {
    "duration": 318936,
    "start_time": "2022-07-25T13:20:56.897Z"
   },
   {
    "duration": 17,
    "start_time": "2022-07-25T13:26:46.056Z"
   },
   {
    "duration": 4,
    "start_time": "2022-07-25T13:27:29.505Z"
   },
   {
    "duration": 8,
    "start_time": "2022-07-25T13:27:41.245Z"
   },
   {
    "duration": 6798,
    "start_time": "2022-07-25T13:27:52.614Z"
   },
   {
    "duration": 275195,
    "start_time": "2022-07-25T13:28:44.354Z"
   },
   {
    "duration": 22871,
    "start_time": "2022-07-25T13:33:19.551Z"
   },
   {
    "duration": 12273,
    "start_time": "2022-07-25T13:33:42.423Z"
   },
   {
    "duration": 72680,
    "start_time": "2022-07-25T13:33:54.699Z"
   },
   {
    "duration": 9,
    "start_time": "2022-07-25T13:37:04.701Z"
   },
   {
    "duration": 87682,
    "start_time": "2022-07-25T13:37:25.846Z"
   },
   {
    "duration": 8,
    "start_time": "2022-07-25T13:38:53.530Z"
   },
   {
    "duration": 201012,
    "start_time": "2022-07-25T13:38:53.539Z"
   },
   {
    "duration": 128754,
    "start_time": "2022-07-25T13:42:14.554Z"
   },
   {
    "duration": 9,
    "start_time": "2022-07-25T13:48:22.787Z"
   },
   {
    "duration": 8,
    "start_time": "2022-07-25T13:48:52.324Z"
   },
   {
    "duration": 8,
    "start_time": "2022-07-25T13:49:02.469Z"
   },
   {
    "duration": 132449,
    "start_time": "2022-07-25T13:49:17.240Z"
   },
   {
    "duration": 8,
    "start_time": "2022-07-25T13:51:53.228Z"
   }
  ],
  "kernelspec": {
   "display_name": "Python 3 (ipykernel)",
   "language": "python",
   "name": "python3"
  },
  "language_info": {
   "codemirror_mode": {
    "name": "ipython",
    "version": 3
   },
   "file_extension": ".py",
   "mimetype": "text/x-python",
   "name": "python",
   "nbconvert_exporter": "python",
   "pygments_lexer": "ipython3",
   "version": "3.9.7"
  },
  "toc": {
   "base_numbering": 1,
   "nav_menu": {},
   "number_sections": true,
   "sideBar": true,
   "skip_h1_title": true,
   "title_cell": "Содержание",
   "title_sidebar": "Contents",
   "toc_cell": true,
   "toc_position": {
    "height": "calc(100% - 180px)",
    "left": "10px",
    "top": "150px",
    "width": "169.375px"
   },
   "toc_section_display": true,
   "toc_window_display": true
  }
 },
 "nbformat": 4,
 "nbformat_minor": 2
}
