{
 "cells": [
  {
   "cell_type": "markdown",
   "id": "256d8d74",
   "metadata": {},
   "source": [
    "# Классификация клиентов телеком компании"
   ]
  },
  {
   "cell_type": "markdown",
   "id": "9b748d74",
   "metadata": {
    "toc": true
   },
   "source": [
    "<h1>Содержание<span class=\"tocSkip\"></span></h1>\n",
    "<div class=\"toc\"><ul class=\"toc-item\"><li><span><a href=\"#Описание-проекта\" data-toc-modified-id=\"Описание-проекта-1\"><span class=\"toc-item-num\">1&nbsp;&nbsp;</span>Описание проекта</a></span></li><li><span><a href=\"#Обзор-данных\" data-toc-modified-id=\"Обзор-данных-2\"><span class=\"toc-item-num\">2&nbsp;&nbsp;</span>Обзор данных</a></span></li><li><span><a href=\"#Деление-данных-на-выборки\" data-toc-modified-id=\"Деление-данных-на-выборки-3\"><span class=\"toc-item-num\">3&nbsp;&nbsp;</span>Деление данных на выборки</a></span></li><li><span><a href=\"#Тестируем-алгоритм-классификации-дерево-решений.\" data-toc-modified-id=\"Тестируем-алгоритм-классификации-дерево-решений.-4\"><span class=\"toc-item-num\">4&nbsp;&nbsp;</span>Тестируем алгоритм классификации дерево решений.</a></span></li><li><span><a href=\"#Тестируем-алгоритм-классификации--случайный-лес.\" data-toc-modified-id=\"Тестируем-алгоритм-классификации--случайный-лес.-5\"><span class=\"toc-item-num\">5&nbsp;&nbsp;</span>Тестируем алгоритм классификации  случайный лес.</a></span></li><li><span><a href=\"#Тестируем-алгоритм-логистическая-регрессия.\" data-toc-modified-id=\"Тестируем-алгоритм-логистическая-регрессия.-6\"><span class=\"toc-item-num\">6&nbsp;&nbsp;</span>Тестируем алгоритм логистическая регрессия.</a></span></li><li><span><a href=\"#Проверяем-качество-модели-на-тестовой-выборке\" data-toc-modified-id=\"Проверяем-качество-модели-на-тестовой-выборке-7\"><span class=\"toc-item-num\">7&nbsp;&nbsp;</span>Проверяем качество модели на тестовой выборке</a></span></li><li><span><a href=\"#Проверка-на-адекватность-модели.\" data-toc-modified-id=\"Проверка-на-адекватность-модели.-8\"><span class=\"toc-item-num\">8&nbsp;&nbsp;</span>Проверка на адекватность модели.</a></span></li><li><span><a href=\"#Вывод\" data-toc-modified-id=\"Вывод-9\"><span class=\"toc-item-num\">9&nbsp;&nbsp;</span>Вывод</a></span></li></ul></div>"
   ]
  },
  {
   "cell_type": "markdown",
   "id": "f8e3a931",
   "metadata": {},
   "source": [
    "## Описание проекта"
   ]
  },
  {
   "cell_type": "markdown",
   "id": "9c9123db",
   "metadata": {},
   "source": [
    "Оператор мобильной связи хочет построить систему, способную проанализировать поведение клиентов и предложить пользователям новый тариф: «Смарт» или «Ультра».\n",
    "\n",
    "Поставлена задача построить модель с максимально большим значением accuracy для задачи классификации, которая выберет подходящий тариф. \n",
    "\n",
    "В распоряжении данные о поведении клиентов, которые уже перешли на эти тарифы."
   ]
  },
  {
   "cell_type": "markdown",
   "id": "26572b34",
   "metadata": {},
   "source": [
    "## Обзор данных"
   ]
  },
  {
   "cell_type": "code",
   "execution_count": 51,
   "id": "72ac7a0a",
   "metadata": {},
   "outputs": [],
   "source": [
    "import pandas as pd\n",
    "from matplotlib import pyplot as plt \n",
    "\n",
    "from sklearn.tree import DecisionTreeClassifier\n",
    "from sklearn.ensemble import RandomForestClassifier\n",
    "from sklearn.linear_model import LogisticRegression \n",
    "\n",
    "from sklearn.metrics import accuracy_score\n",
    "from sklearn.model_selection import train_test_split\n",
    "from sklearn.dummy import DummyClassifier"
   ]
  },
  {
   "cell_type": "code",
   "execution_count": 27,
   "id": "2fca6f5f",
   "metadata": {},
   "outputs": [],
   "source": [
    "try: \n",
    "    df = pd.read_csv('/datasets/users_behavior.csv')\n",
    "except: \n",
    "    df = pd.read_csv('datasets/users_behavior.csv')"
   ]
  },
  {
   "cell_type": "code",
   "execution_count": 28,
   "id": "46c8233b",
   "metadata": {},
   "outputs": [
    {
     "data": {
      "text/html": [
       "<div>\n",
       "<style scoped>\n",
       "    .dataframe tbody tr th:only-of-type {\n",
       "        vertical-align: middle;\n",
       "    }\n",
       "\n",
       "    .dataframe tbody tr th {\n",
       "        vertical-align: top;\n",
       "    }\n",
       "\n",
       "    .dataframe thead th {\n",
       "        text-align: right;\n",
       "    }\n",
       "</style>\n",
       "<table border=\"1\" class=\"dataframe\">\n",
       "  <thead>\n",
       "    <tr style=\"text-align: right;\">\n",
       "      <th></th>\n",
       "      <th>calls</th>\n",
       "      <th>minutes</th>\n",
       "      <th>messages</th>\n",
       "      <th>mb_used</th>\n",
       "      <th>is_ultra</th>\n",
       "    </tr>\n",
       "  </thead>\n",
       "  <tbody>\n",
       "    <tr>\n",
       "      <th>0</th>\n",
       "      <td>40.0</td>\n",
       "      <td>311.90</td>\n",
       "      <td>83.0</td>\n",
       "      <td>19915.42</td>\n",
       "      <td>0</td>\n",
       "    </tr>\n",
       "    <tr>\n",
       "      <th>1</th>\n",
       "      <td>85.0</td>\n",
       "      <td>516.75</td>\n",
       "      <td>56.0</td>\n",
       "      <td>22696.96</td>\n",
       "      <td>0</td>\n",
       "    </tr>\n",
       "    <tr>\n",
       "      <th>2</th>\n",
       "      <td>77.0</td>\n",
       "      <td>467.66</td>\n",
       "      <td>86.0</td>\n",
       "      <td>21060.45</td>\n",
       "      <td>0</td>\n",
       "    </tr>\n",
       "    <tr>\n",
       "      <th>3</th>\n",
       "      <td>106.0</td>\n",
       "      <td>745.53</td>\n",
       "      <td>81.0</td>\n",
       "      <td>8437.39</td>\n",
       "      <td>1</td>\n",
       "    </tr>\n",
       "    <tr>\n",
       "      <th>4</th>\n",
       "      <td>66.0</td>\n",
       "      <td>418.74</td>\n",
       "      <td>1.0</td>\n",
       "      <td>14502.75</td>\n",
       "      <td>0</td>\n",
       "    </tr>\n",
       "    <tr>\n",
       "      <th>...</th>\n",
       "      <td>...</td>\n",
       "      <td>...</td>\n",
       "      <td>...</td>\n",
       "      <td>...</td>\n",
       "      <td>...</td>\n",
       "    </tr>\n",
       "    <tr>\n",
       "      <th>3209</th>\n",
       "      <td>122.0</td>\n",
       "      <td>910.98</td>\n",
       "      <td>20.0</td>\n",
       "      <td>35124.90</td>\n",
       "      <td>1</td>\n",
       "    </tr>\n",
       "    <tr>\n",
       "      <th>3210</th>\n",
       "      <td>25.0</td>\n",
       "      <td>190.36</td>\n",
       "      <td>0.0</td>\n",
       "      <td>3275.61</td>\n",
       "      <td>0</td>\n",
       "    </tr>\n",
       "    <tr>\n",
       "      <th>3211</th>\n",
       "      <td>97.0</td>\n",
       "      <td>634.44</td>\n",
       "      <td>70.0</td>\n",
       "      <td>13974.06</td>\n",
       "      <td>0</td>\n",
       "    </tr>\n",
       "    <tr>\n",
       "      <th>3212</th>\n",
       "      <td>64.0</td>\n",
       "      <td>462.32</td>\n",
       "      <td>90.0</td>\n",
       "      <td>31239.78</td>\n",
       "      <td>0</td>\n",
       "    </tr>\n",
       "    <tr>\n",
       "      <th>3213</th>\n",
       "      <td>80.0</td>\n",
       "      <td>566.09</td>\n",
       "      <td>6.0</td>\n",
       "      <td>29480.52</td>\n",
       "      <td>1</td>\n",
       "    </tr>\n",
       "  </tbody>\n",
       "</table>\n",
       "<p>3214 rows × 5 columns</p>\n",
       "</div>"
      ],
      "text/plain": [
       "      calls  minutes  messages   mb_used  is_ultra\n",
       "0      40.0   311.90      83.0  19915.42         0\n",
       "1      85.0   516.75      56.0  22696.96         0\n",
       "2      77.0   467.66      86.0  21060.45         0\n",
       "3     106.0   745.53      81.0   8437.39         1\n",
       "4      66.0   418.74       1.0  14502.75         0\n",
       "...     ...      ...       ...       ...       ...\n",
       "3209  122.0   910.98      20.0  35124.90         1\n",
       "3210   25.0   190.36       0.0   3275.61         0\n",
       "3211   97.0   634.44      70.0  13974.06         0\n",
       "3212   64.0   462.32      90.0  31239.78         0\n",
       "3213   80.0   566.09       6.0  29480.52         1\n",
       "\n",
       "[3214 rows x 5 columns]"
      ]
     },
     "execution_count": 28,
     "metadata": {},
     "output_type": "execute_result"
    }
   ],
   "source": [
    "df"
   ]
  },
  {
   "cell_type": "markdown",
   "id": "ce0a421c",
   "metadata": {},
   "source": [
    "\n",
    "**Описание данных**\n",
    "\n",
    "Каждый объект в наборе данных — это информация о поведении одного пользователя за месяц. \n",
    "\n",
    "Известно:\n",
    "\n",
    "`сalls` — количество звонков,\n",
    "\n",
    "`minutes` — суммарная длительность звонков в минутах,\n",
    "\n",
    "`messages` — количество sms-сообщений,\n",
    "\n",
    "`mb_used` — израсходованный интернет-трафик в Мб,\n",
    "\n",
    "`is_ultra` — каким тарифом пользовался в течение месяца («Ультра» — 1, «Смарт» — 0).\n"
   ]
  },
  {
   "cell_type": "code",
   "execution_count": 29,
   "id": "391fe50d",
   "metadata": {},
   "outputs": [
    {
     "name": "stdout",
     "output_type": "stream",
     "text": [
      "<class 'pandas.core.frame.DataFrame'>\n",
      "RangeIndex: 3214 entries, 0 to 3213\n",
      "Data columns (total 5 columns):\n",
      " #   Column    Non-Null Count  Dtype  \n",
      "---  ------    --------------  -----  \n",
      " 0   calls     3214 non-null   float64\n",
      " 1   minutes   3214 non-null   float64\n",
      " 2   messages  3214 non-null   float64\n",
      " 3   mb_used   3214 non-null   float64\n",
      " 4   is_ultra  3214 non-null   int64  \n",
      "dtypes: float64(4), int64(1)\n",
      "memory usage: 125.7 KB\n"
     ]
    }
   ],
   "source": [
    "df.info()"
   ]
  },
  {
   "cell_type": "code",
   "execution_count": 30,
   "id": "aef2397c",
   "metadata": {},
   "outputs": [
    {
     "data": {
      "text/plain": [
       "0.30647168637212197"
      ]
     },
     "execution_count": 30,
     "metadata": {},
     "output_type": "execute_result"
    }
   ],
   "source": [
    "df.is_ultra.mean()"
   ]
  },
  {
   "cell_type": "markdown",
   "id": "d352a287",
   "metadata": {},
   "source": [
    "Целевой признак - каким трифом пользуется клиент. Соотношение данных в целевом признаке примерно 30/70 Ультра/Смарт. Для наиболее корректного обучения модели желательно соотношение 50/50, поэтому, вероятно, модели будут давать не наилучший возможный результат.\n",
    "\n",
    "Т.к. у целевого признака всего 2 значения: 1 и 0, то будем тестировать модели классификации."
   ]
  },
  {
   "cell_type": "markdown",
   "id": "22f14a49",
   "metadata": {},
   "source": [
    "Данные готовы к работе."
   ]
  },
  {
   "cell_type": "markdown",
   "id": "97ef6ec5",
   "metadata": {},
   "source": [
    "## Деление данных на выборки"
   ]
  },
  {
   "cell_type": "markdown",
   "id": "a3f8cc43",
   "metadata": {},
   "source": [
    "Создаем переменные для признака и целевого признака."
   ]
  },
  {
   "cell_type": "code",
   "execution_count": 31,
   "id": "dde249bf",
   "metadata": {},
   "outputs": [],
   "source": [
    "features = df.drop('is_ultra', axis=1)\n",
    "target = df.is_ultra"
   ]
  },
  {
   "cell_type": "markdown",
   "id": "8b4f2bed",
   "metadata": {},
   "source": [
    "Выделим 60% данных для обучающей выборки, остальное раздилим поровну для валидационной и тестовой выборок."
   ]
  },
  {
   "cell_type": "code",
   "execution_count": 32,
   "id": "f9c6b677",
   "metadata": {},
   "outputs": [],
   "source": [
    "features_train, features_rest, target_train, target_rest = train_test_split(\n",
    "    features, target, test_size=0.4, random_state=12345)"
   ]
  },
  {
   "cell_type": "code",
   "execution_count": 33,
   "id": "11d049ec",
   "metadata": {},
   "outputs": [],
   "source": [
    "features_valid, features_test, target_valid, target_test = train_test_split(\n",
    "    features_rest, target_rest, test_size=0.5, random_state=12345)"
   ]
  },
  {
   "cell_type": "code",
   "execution_count": 34,
   "id": "1e454447",
   "metadata": {},
   "outputs": [
    {
     "name": "stdout",
     "output_type": "stream",
     "text": [
      "Размеры обучающей выборки: (1928, 4) (1928,)\n",
      "Размеры валидационной выборки: (643, 4) (643,)\n",
      "Размеры тестовой выборки: (643, 4) (643,)\n"
     ]
    }
   ],
   "source": [
    "print('Размеры обучающей выборки:', features_train.shape, target_train.shape)\n",
    "print('Размеры валидационной выборки:', features_valid.shape, target_valid.shape)\n",
    "print('Размеры тестовой выборки:', features_test.shape, target_test.shape)"
   ]
  },
  {
   "cell_type": "markdown",
   "id": "54210659",
   "metadata": {},
   "source": [
    "## Тестируем алгоритм классификации дерево решений."
   ]
  },
  {
   "cell_type": "markdown",
   "id": "f8baf6d9",
   "metadata": {},
   "source": [
    "Тестируем дерево решений. \n",
    "\n",
    "Для этого используем цикл, в котором будем менять гиперпараметр `max_depth`, чтобы выбрать модель с наилучшим результатом.\n",
    "Наилучший результат для нас - максимальное значение `accuracy`."
   ]
  },
  {
   "cell_type": "code",
   "execution_count": 42,
   "id": "b96ad543",
   "metadata": {},
   "outputs": [
    {
     "name": "stdout",
     "output_type": "stream",
     "text": [
      "Максимальная глубина: 1 Accuracy: 0.7577800829875518\n",
      "Максимальная глубина: 2 Accuracy: 0.7878630705394191\n",
      "Максимальная глубина: 3 Accuracy: 0.8075726141078838\n",
      "Максимальная глубина: 4 Accuracy: 0.8106846473029046\n",
      "Максимальная глубина: 5 Accuracy: 0.8200207468879668\n",
      "Максимальная глубина: 6 Accuracy: 0.8376556016597511\n",
      "Максимальная глубина: 7 Accuracy: 0.8558091286307054\n",
      "Максимальная глубина: 8 Accuracy: 0.8625518672199171\n",
      "Максимальная глубина: 9 Accuracy: 0.8812240663900415\n",
      "Максимальная глубина: 10 Accuracy: 0.8890041493775933\n",
      "\n",
      "Accuracy наилучшей модели на обучающей выборке: 0.8890041493775933\n",
      "Максимальная глубина: 10\n"
     ]
    }
   ],
   "source": [
    "# Дерево решений на обучающей выборке\n",
    "best_model_tree = None\n",
    "best_result = 0\n",
    "depth = 0\n",
    "acc_train_tree = []\n",
    "for i in range (1,11):\n",
    "    model =  DecisionTreeClassifier(random_state=12345, max_depth=i)\n",
    "    model.fit(features_train, target_train)\n",
    "    predictions = model.predict(features_train)\n",
    "    result = accuracy_score(target_train, predictions)\n",
    "    acc_train_tree.append(result)\n",
    "    print('Максимальная глубина:', i, 'Accuracy:', result)\n",
    "    if result > best_result:\n",
    "        best_model_tree = model \n",
    "        best_result = result \n",
    "        depth = i\n",
    "print()\n",
    "print(\"Accuracy наилучшей модели на обучающей выборке:\", best_result)\n",
    "print(\"Максимальная глубина:\", depth)"
   ]
  },
  {
   "cell_type": "code",
   "execution_count": 43,
   "id": "b73b40ee",
   "metadata": {},
   "outputs": [
    {
     "name": "stdout",
     "output_type": "stream",
     "text": [
      "Максимальная глубина: 1 Accuracy: 0.7542768273716952\n",
      "Максимальная глубина: 2 Accuracy: 0.7822706065318819\n",
      "Максимальная глубина: 3 Accuracy: 0.7853810264385692\n",
      "Максимальная глубина: 4 Accuracy: 0.7791601866251944\n",
      "Максимальная глубина: 5 Accuracy: 0.7791601866251944\n",
      "Максимальная глубина: 6 Accuracy: 0.7838258164852255\n",
      "Максимальная глубина: 7 Accuracy: 0.7822706065318819\n",
      "Максимальная глубина: 8 Accuracy: 0.7791601866251944\n",
      "Максимальная глубина: 9 Accuracy: 0.7822706065318819\n",
      "Максимальная глубина: 10 Accuracy: 0.7744945567651633\n",
      "\n",
      "Accuracy наилучшей модели на валидационной выборке: 0.7853810264385692\n",
      "Максимальная глубина: 3\n"
     ]
    }
   ],
   "source": [
    "# Дерево решений на валидационной выборке\n",
    "best_model_tree = None\n",
    "best_result = 0\n",
    "depth = 0\n",
    "acc_valid_tree = []\n",
    "for i in range (1,11):\n",
    "    model =  DecisionTreeClassifier(random_state=12345, max_depth=i)\n",
    "    model.fit(features_train, target_train)\n",
    "    predictions = model.predict(features_valid)\n",
    "    result = accuracy_score(target_valid, predictions)\n",
    "    acc_valid_tree.append(result)\n",
    "    print('Максимальная глубина:', i, 'Accuracy:', result)\n",
    "    if result > best_result:\n",
    "        best_model_tree = model \n",
    "        best_result = result \n",
    "        depth = i\n",
    "print()\n",
    "print(\"Accuracy наилучшей модели на валидационной выборке:\", best_result)\n",
    "print(\"Максимальная глубина:\", depth)"
   ]
  },
  {
   "cell_type": "code",
   "execution_count": 60,
   "id": "5f7e35d9",
   "metadata": {},
   "outputs": [
    {
     "data": {
      "image/png": "[encoded data removed]",
      "text/plain": [
       "<Figure size 432x288 with 1 Axes>"
      ]
     },
     "metadata": {
      "needs_background": "light"
     },
     "output_type": "display_data"
    }
   ],
   "source": [
    "depth = list(range(1,11))\n",
    "plt.plot(depth, acc_train_tree, label='train')   \n",
    "plt.plot(depth, acc_valid_tree, label='valid')\n",
    "plt.legend()\n",
    "plt.title(\"Дерево решений. Зависимость Acсuracy от гиперпараметров\")   \n",
    "plt.ylabel('Accuracy')   \n",
    "plt.xlabel('Max depth');   "
   ]
  },
  {
   "cell_type": "markdown",
   "id": "de7f5d7f",
   "metadata": {},
   "source": [
    "С ростом сложности моделей на обучающем наборе точность растет, а на валидационном - сначала растет, затем снижается из-за переобучения."
   ]
  },
  {
   "cell_type": "markdown",
   "id": "7a596942",
   "metadata": {},
   "source": [
    "## Тестируем алгоритм классификации  случайный лес."
   ]
  },
  {
   "cell_type": "markdown",
   "id": "902683cb",
   "metadata": {},
   "source": [
    "Тестируем случайный лес.\n",
    "\n",
    "Здесь тоже используем цикл для перебора гиперпараметра `n_estimators` - количество оценщиков. \n",
    "По результатам цикла сохраним модель с наилучшим показателем `accuracy`."
   ]
  },
  {
   "cell_type": "code",
   "execution_count": 65,
   "id": "3cd264a7",
   "metadata": {},
   "outputs": [
    {
     "name": "stdout",
     "output_type": "stream",
     "text": [
      "Число деревьев: 1 Accuracy: 0.9035269709543569\n",
      "Число деревьев: 2 Accuracy: 0.9097510373443983\n",
      "Число деревьев: 3 Accuracy: 0.9507261410788381\n",
      "Число деревьев: 4 Accuracy: 0.946058091286307\n",
      "Число деревьев: 5 Accuracy: 0.9678423236514523\n",
      "Число деревьев: 6 Accuracy: 0.9693983402489627\n",
      "Число деревьев: 7 Accuracy: 0.9787344398340249\n",
      "Число деревьев: 8 Accuracy: 0.9771784232365145\n",
      "Число деревьев: 9 Accuracy: 0.983402489626556\n",
      "Число деревьев: 10 Accuracy: 0.9823651452282157\n",
      "Число деревьев: 11 Accuracy: 0.9854771784232366\n",
      "Число деревьев: 12 Accuracy: 0.983402489626556\n",
      "Число деревьев: 13 Accuracy: 0.9870331950207469\n",
      "Число деревьев: 14 Accuracy: 0.9844398340248963\n",
      "Число деревьев: 15 Accuracy: 0.9896265560165975\n",
      "Число деревьев: 16 Accuracy: 0.9865145228215768\n",
      "Число деревьев: 17 Accuracy: 0.9906639004149378\n",
      "Число деревьев: 18 Accuracy: 0.9875518672199171\n",
      "Число деревьев: 19 Accuracy: 0.9911825726141079\n",
      "Число деревьев: 20 Accuracy: 0.9891078838174274\n",
      "Число деревьев: 21 Accuracy: 0.9922199170124482\n",
      "Число деревьев: 22 Accuracy: 0.991701244813278\n",
      "Число деревьев: 23 Accuracy: 0.9937759336099585\n",
      "Число деревьев: 24 Accuracy: 0.9948132780082988\n",
      "Число деревьев: 25 Accuracy: 0.995850622406639\n",
      "Число деревьев: 26 Accuracy: 0.995850622406639\n",
      "Число деревьев: 27 Accuracy: 0.9963692946058091\n",
      "Число деревьев: 28 Accuracy: 0.9963692946058091\n",
      "Число деревьев: 29 Accuracy: 0.9974066390041494\n",
      "\n",
      "Accuracy наилучшей модели на обучающей выборке: 0.9974066390041494\n",
      "Число деревьев: 29\n"
     ]
    }
   ],
   "source": [
    "# Случайный лес на обучающей выборке\n",
    "best_model_forest = None\n",
    "best_result = 0\n",
    "n_est = 0\n",
    "acc_train_forest = []\n",
    "for est in range(1, 30):\n",
    "    model = RandomForestClassifier(random_state=12345, n_estimators=est) \n",
    "    model.fit(features_train, target_train) \n",
    "    result = model.score(features_train, target_train) \n",
    "    acc_train_forest.append(result)\n",
    "    print('Число деревьев:', est, 'Accuracy:', result)\n",
    "    if result > best_result:\n",
    "        best_model_forest = model \n",
    "        best_result = result \n",
    "        n_est = est\n",
    "print()\n",
    "print(\"Accuracy наилучшей модели на обучающей выборке:\", best_result)\n",
    "print(\"Число деревьев:\", n_est)"
   ]
  },
  {
   "cell_type": "code",
   "execution_count": 66,
   "id": "c3459023",
   "metadata": {},
   "outputs": [
    {
     "name": "stdout",
     "output_type": "stream",
     "text": [
      "Число деревьев: 1 Accuracy: 0.7107309486780715\n",
      "Число деревьев: 2 Accuracy: 0.7636080870917574\n",
      "Число деревьев: 3 Accuracy: 0.7387247278382582\n",
      "Число деревьев: 4 Accuracy: 0.7713841368584758\n",
      "Число деревьев: 5 Accuracy: 0.749611197511664\n",
      "Число деревьев: 6 Accuracy: 0.7807153965785381\n",
      "Число деревьев: 7 Accuracy: 0.7682737169517885\n",
      "Число деревьев: 8 Accuracy: 0.7822706065318819\n",
      "Число деревьев: 9 Accuracy: 0.7729393468118196\n",
      "Число деревьев: 10 Accuracy: 0.7853810264385692\n",
      "Число деревьев: 11 Accuracy: 0.7838258164852255\n",
      "Число деревьев: 12 Accuracy: 0.7869362363919129\n",
      "Число деревьев: 13 Accuracy: 0.7822706065318819\n",
      "Число деревьев: 14 Accuracy: 0.7838258164852255\n",
      "Число деревьев: 15 Accuracy: 0.7838258164852255\n",
      "Число деревьев: 16 Accuracy: 0.7869362363919129\n",
      "Число деревьев: 17 Accuracy: 0.7869362363919129\n",
      "Число деревьев: 18 Accuracy: 0.7931570762052877\n",
      "Число деревьев: 19 Accuracy: 0.7884914463452566\n",
      "Число деревьев: 20 Accuracy: 0.7869362363919129\n",
      "Число деревьев: 21 Accuracy: 0.7931570762052877\n",
      "Число деревьев: 22 Accuracy: 0.7884914463452566\n",
      "Число деревьев: 23 Accuracy: 0.7947122861586314\n",
      "Число деревьев: 24 Accuracy: 0.7900466562986003\n",
      "Число деревьев: 25 Accuracy: 0.7838258164852255\n",
      "Число деревьев: 26 Accuracy: 0.7853810264385692\n",
      "Число деревьев: 27 Accuracy: 0.7853810264385692\n",
      "Число деревьев: 28 Accuracy: 0.7838258164852255\n",
      "Число деревьев: 29 Accuracy: 0.7791601866251944\n",
      "\n",
      "Accuracy наилучшей модели на валидационной выборке: 0.7947122861586314\n",
      "Число деревьев: 23\n"
     ]
    }
   ],
   "source": [
    "# Случайный лес на валидационной выборке\n",
    "best_model_forest = None\n",
    "best_result = 0\n",
    "n_est = 0\n",
    "acc_valid_forest = [] \n",
    "for est in range(1, 30):\n",
    "    model = RandomForestClassifier(random_state=12345, n_estimators=est) \n",
    "    model.fit(features_train, target_train) \n",
    "    result = model.score(features_valid, target_valid) \n",
    "    acc_valid_forest.append(result)\n",
    "    print('Число деревьев:', est, 'Accuracy:', result)\n",
    "    if result > best_result:\n",
    "        best_model_forest = model \n",
    "        best_result = result \n",
    "        n_est = est\n",
    "print()\n",
    "print(\"Accuracy наилучшей модели на валидационной выборке:\", best_result)\n",
    "print(\"Число деревьев:\", n_est)"
   ]
  },
  {
   "cell_type": "code",
   "execution_count": 67,
   "id": "7f5c92d9",
   "metadata": {},
   "outputs": [
    {
     "data": {
      "image/png": "[encoded data removed]",
      "text/plain": [
       "<Figure size 432x288 with 1 Axes>"
      ]
     },
     "metadata": {
      "needs_background": "light"
     },
     "output_type": "display_data"
    }
   ],
   "source": [
    "est = list(range(1, 30))\n",
    "plt.plot(est, acc_train_forest, label='train')   \n",
    "plt.plot(est, acc_valid_forest, label='valid')\n",
    "plt.legend()\n",
    "plt.title(\"Случайный лес. Зависимость Acсuracy от гиперпараметров\")   \n",
    "plt.ylabel('Accuracy')   \n",
    "plt.xlabel('Число деревьев');   "
   ]
  },
  {
   "cell_type": "markdown",
   "id": "89a16b8b",
   "metadata": {},
   "source": [
    "В случайном лесе так же с ростом числа деревьев точность на обучающей выборке растет, а на валидацинной - сначала растет, затем снижается из-за переобучения."
   ]
  },
  {
   "cell_type": "markdown",
   "id": "9918a740",
   "metadata": {},
   "source": [
    "## Тестируем алгоритм логистическая регрессия."
   ]
  },
  {
   "cell_type": "markdown",
   "id": "9c5d1c3c",
   "metadata": {},
   "source": [
    "Протестируем логистическую регрессию. Здесь из гиперпараметров только фиксация псевдослучайности, так что перебирать в цикле ничего не будем."
   ]
  },
  {
   "cell_type": "code",
   "execution_count": 39,
   "id": "d4f931be",
   "metadata": {},
   "outputs": [
    {
     "name": "stdout",
     "output_type": "stream",
     "text": [
      "Accuracy в логистической регрессии: 0.7107309486780715\n"
     ]
    }
   ],
   "source": [
    "model_logreg = LogisticRegression(random_state=12345) \n",
    "model_logreg.fit(features_train, target_train) \n",
    "predictions = model.predict(features_valid) \n",
    "accuracy = model_logreg.score(features_valid, target_valid) \n",
    "print('Accuracy в логистической регрессии:', accuracy)"
   ]
  },
  {
   "cell_type": "markdown",
   "id": "9506b39e",
   "metadata": {},
   "source": [
    "Наилучшее значение accuracy показал случайный лес с 23 деревьями - **0.795**. На втором месте дерево решений с глубиной 3 - **0.785**."
   ]
  },
  {
   "cell_type": "markdown",
   "id": "d7b53e04",
   "metadata": {},
   "source": [
    "## Проверяем качество модели на тестовой выборке"
   ]
  },
  {
   "cell_type": "code",
   "execution_count": 40,
   "id": "ac55c5b9",
   "metadata": {},
   "outputs": [
    {
     "name": "stdout",
     "output_type": "stream",
     "text": [
      "0.7807153965785381\n"
     ]
    }
   ],
   "source": [
    "# Проверяем на лучшей модели случайного леса тестовую выборку.\n",
    "result = best_model_forest.score(features_test, target_test)\n",
    "print(result)"
   ]
  },
  {
   "cell_type": "markdown",
   "id": "57b99b6d",
   "metadata": {},
   "source": [
    "Результат выше, чем требуемый 0.75."
   ]
  },
  {
   "cell_type": "markdown",
   "id": "577f5a80",
   "metadata": {},
   "source": [
    "## Проверка на адекватность модели."
   ]
  },
  {
   "cell_type": "markdown",
   "id": "532629d1",
   "metadata": {},
   "source": [
    "Для проверки модели на адекватность нужно проверить, лучше ли она, чем просто случайные значения. Для такой оценки используют фиктивный классификатор DummyClassifier. "
   ]
  },
  {
   "cell_type": "code",
   "execution_count": 41,
   "id": "b7b4a02b",
   "metadata": {},
   "outputs": [
    {
     "name": "stdout",
     "output_type": "stream",
     "text": [
      "Accuracy Dummy-модели на тестовой выборке: 0.6842923794712286\n"
     ]
    }
   ],
   "source": [
    "dummy_clf = DummyClassifier(strategy=\"most_frequent\", random_state=12345)\n",
    "dummy_clf.fit(features_train, target_train)\n",
    "print('Accuracy Dummy-модели на тестовой выборке:', dummy_clf.score(features_test, target_test))"
   ]
  },
  {
   "cell_type": "markdown",
   "id": "8bb23c1d",
   "metadata": {},
   "source": [
    "Значения accuracy у Dummy-модели ниже, чем у полученных ранее моделей, значит модель можно считать адекватной."
   ]
  },
  {
   "cell_type": "markdown",
   "id": "cdb5bd19",
   "metadata": {},
   "source": [
    "## Вывод"
   ]
  },
  {
   "cell_type": "markdown",
   "id": "f4067a7d",
   "metadata": {},
   "source": [
    "Мы построили модели для классификации, которые помогли бы оператору \"Мегалайн\", пронализировав поведение клиентов, подобрать им подходящий тариф: \"Ультра\" или \"Смарт\". \n",
    "\n",
    "Наилучшее значение `accuracy` на валидационной выборке **0,795** показала модель случайный лес с количеством деревьев 23.\n",
    "На тестовой выборке результат оказался 0,78, что выше требуемого 0, 75. Проверка модели с помощью фиктивного классификатора показала, что она адекватна. "
   ]
  }
 ],
 "metadata": {
  "ExecuteTimeLog": [
   {
    "duration": 1586,
    "start_time": "2022-04-16T18:35:43.756Z"
   },
   {
    "duration": 18,
    "start_time": "2022-04-16T18:35:45.344Z"
   },
   {
    "duration": 39,
    "start_time": "2022-04-16T18:35:45.365Z"
   },
   {
    "duration": 33,
    "start_time": "2022-04-16T18:35:45.406Z"
   },
   {
    "duration": 11,
    "start_time": "2022-04-16T18:35:45.441Z"
   },
   {
    "duration": 8,
    "start_time": "2022-04-16T18:35:45.454Z"
   },
   {
    "duration": 10,
    "start_time": "2022-04-16T18:35:45.465Z"
   },
   {
    "duration": 8,
    "start_time": "2022-04-16T18:35:45.477Z"
   },
   {
    "duration": 45,
    "start_time": "2022-04-16T18:35:45.524Z"
   },
   {
    "duration": 691,
    "start_time": "2022-04-16T18:35:45.573Z"
   },
   {
    "duration": 75,
    "start_time": "2022-04-16T18:35:46.267Z"
   },
   {
    "duration": 15,
    "start_time": "2022-04-16T18:35:46.344Z"
   },
   {
    "duration": 10,
    "start_time": "2022-04-16T18:35:46.362Z"
   },
   {
    "duration": 11,
    "start_time": "2022-04-16T18:35:46.375Z"
   },
   {
    "duration": 20,
    "start_time": "2022-04-16T20:31:05.603Z"
   }
  ],
  "kernelspec": {
   "display_name": "Python 3 (ipykernel)",
   "language": "python",
   "name": "python3"
  },
  "language_info": {
   "codemirror_mode": {
    "name": "ipython",
    "version": 3
   },
   "file_extension": ".py",
   "mimetype": "text/x-python",
   "name": "python",
   "nbconvert_exporter": "python",
   "pygments_lexer": "ipython3",
   "version": "3.9.7"
  },
  "toc": {
   "base_numbering": 1,
   "nav_menu": {},
   "number_sections": true,
   "sideBar": true,
   "skip_h1_title": true,
   "title_cell": "Содержание",
   "title_sidebar": "Contents",
   "toc_cell": true,
   "toc_position": {
    "height": "calc(100% - 180px)",
    "left": "10px",
    "top": "150px",
    "width": "384px"
   },
   "toc_section_display": true,
   "toc_window_display": true
  }
 },
 "nbformat": 4,
 "nbformat_minor": 5
}
